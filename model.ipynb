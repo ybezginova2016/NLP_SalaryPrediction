{
 "cells": [
  {
   "cell_type": "markdown",
   "source": [
    "# NLP: Salary predictions based on the job description\n",
    "\n",
    "### Project Goal\n",
    "To predict the salary level based on the vacancy description.\n",
    "\n",
    "### Variables Description\n",
    "* ```name``` - название вакансии\n",
    "* ```experience``` - опыт работы, требуемый от соискателя [категориальный]\n",
    "* ```schedule``` - расписание [категориальный]\n",
    "* ```employment``` - вид занятости [категориальный]\n",
    "* ```description``` - непосредственно описание вакансии\n",
    "* ```key_skills``` - ключевые навыки в формате python-списка (много пропусков)\n",
    "* ```salary``` - целевая переменная (зарплата)\n",
    "\n",
    "### Data\n",
    "Link to the dataset is [here](https://drive.google.com/drive/folders/1u-9QPp7107NYN729nisHSnQ9guT8-5kT?usp=sharing).\n",
    "- vacancies_train.csv - the training set\n",
    "- vacancies_test.csv - the test set\n",
    "- sample_submission.csv - a sample submission file in the correct format"
   ],
   "metadata": {
    "collapsed": false
   }
  },
  {
   "cell_type": "code",
   "execution_count": 178,
   "metadata": {
    "collapsed": true
   },
   "outputs": [
    {
     "name": "stderr",
     "output_type": "stream",
     "text": [
      "[nltk_data] Downloading package stopwords to\n",
      "[nltk_data]     C:\\Users\\HOME\\AppData\\Roaming\\nltk_data...\n",
      "[nltk_data]   Package stopwords is already up-to-date!\n",
      "[nltk_data] Downloading package punkt to\n",
      "[nltk_data]     C:\\Users\\HOME\\AppData\\Roaming\\nltk_data...\n",
      "[nltk_data]   Package punkt is already up-to-date!\n",
      "[nltk_data] Downloading package wordnet to\n",
      "[nltk_data]     C:\\Users\\HOME\\AppData\\Roaming\\nltk_data...\n",
      "[nltk_data]   Package wordnet is already up-to-date!\n",
      "[nltk_data] Downloading package omw-1.4 to\n",
      "[nltk_data]     C:\\Users\\HOME\\AppData\\Roaming\\nltk_data...\n",
      "[nltk_data]   Package omw-1.4 is already up-to-date!\n"
     ]
    }
   ],
   "source": [
    "import re\n",
    "\n",
    "import matplotlib.pyplot as plt\n",
    "import nltk\n",
    "import pandas as pd\n",
    "\n",
    "nltk.download('stopwords')\n",
    "nltk.download('punkt')\n",
    "nltk.download('wordnet')\n",
    "nltk.download('omw-1.4')\n",
    "\n",
    "from nltk.tokenize import word_tokenize\n",
    "from nltk.corpus import stopwords\n",
    "from pymorphy2 import MorphAnalyzer\n",
    "from tqdm import tqdm\n",
    "from sklearn.metrics import mean_squared_error\n",
    "from tensorflow.keras.callbacks import EarlyStopping\n",
    "from catboost import CatBoostRegressor\n",
    "from sklearn.preprocessing import StandardScaler\n",
    "from sklearn.feature_extraction.text import TfidfVectorizer\n",
    "from sklearn.model_selection import GridSearchCV\n",
    "from keras.models import Sequential\n",
    "from keras.layers import Dropout\n",
    "import numpy as np\n",
    "from keras.layers import Dense\n",
    "from sklearn.metrics import r2_score\n",
    "\n",
    "tqdm.pandas()\n",
    "from sklearn.model_selection import train_test_split\n",
    "from sklearn.feature_extraction.text import CountVectorizer\n",
    "from gensim.models import word2vec\n",
    "\n",
    "plt.rcParams[\"figure.figsize\"] = [12, 8]\n",
    "\n",
    "import warnings\n",
    "\n",
    "import seaborn as sns\n",
    "sns.set_style('whitegrid')\n",
    "warnings.filterwarnings('ignore')\n",
    "warnings.simplefilter(\"ignore\", category=RuntimeWarning)\n",
    "pd.options.mode.chained_assignment = None"
   ]
  },
  {
   "cell_type": "markdown",
   "source": [
    "## Data Load\n"
   ],
   "metadata": {
    "collapsed": false
   }
  },
  {
   "cell_type": "code",
   "execution_count": 158,
   "outputs": [
    {
     "data": {
      "text/plain": "                                                name          experience  \\\n0                                Водитель-экспедитор       От 3 до 6 лет   \n1                Кладовщик-комплектовщик/оператор 1С  От 1 года до 3 лет   \n2  Продавец магазина \"Магнит\" (Кировский р-он, В....           Нет опыта   \n3                   Администратор магазина (ТЦ Spar)  От 1 года до 3 лет   \n4                          Мойщик посуды (кулинария)           Нет опыта   \n5                             Менеджер-администратор  От 1 года до 3 лет   \n6                                      Комплектовщик           Нет опыта   \n7                                 Медицинская сестра           Нет опыта   \n\n         schedule           employment  \\\n0     Полный день     Полная занятость   \n1     Полный день     Полная занятость   \n2  Сменный график     Полная занятость   \n3     Полный день     Полная занятость   \n4  Сменный график     Полная занятость   \n5     Полный день     Полная занятость   \n6     Полный день     Полная занятость   \n7   Гибкий график  Частичная занятость   \n\n                                         description  \\\n0  Водитель-экспедитор категории В,С (а\\м ГАЗЕЛЬ ...   \n1  Обязанности:   Списывание материалов в произво...   \n2  В крупнейшую Федеральную сеть магазинов \"Магни...   \n3  Крупная федеральная сеть магазинов мужской и ж...   \n4  Обязанности:  Уборка производственных площадей...   \n5  Международная сеть Школ скорочтения и развития...   \n6  Мы прямой работодатель - компания «Форум-Авто»...   \n7  Работа на территории работодателя: р-н Кущевск...   \n\n                                          key_skills   salary  \n0                                                 []  42500.0  \n1  ['знание пк', 'работа в 1С', 'Работа в команде...  50000.0  \n2                                                 []  31500.0  \n3                                                 []  36700.0  \n4  ['Пользователь ПК', 'Грамотная речь', 'Работа ...  37000.0  \n5  ['Навыки межличностного общения', 'Грамотная р...  50000.0  \n6  ['1С: Склад', 'Работа с оргтехникой', 'Приемка...  53500.0  \n7  ['Медицинская документация', 'Лечебная деятель...  12130.0  ",
      "text/html": "<div>\n<style scoped>\n    .dataframe tbody tr th:only-of-type {\n        vertical-align: middle;\n    }\n\n    .dataframe tbody tr th {\n        vertical-align: top;\n    }\n\n    .dataframe thead th {\n        text-align: right;\n    }\n</style>\n<table border=\"1\" class=\"dataframe\">\n  <thead>\n    <tr style=\"text-align: right;\">\n      <th></th>\n      <th>name</th>\n      <th>experience</th>\n      <th>schedule</th>\n      <th>employment</th>\n      <th>description</th>\n      <th>key_skills</th>\n      <th>salary</th>\n    </tr>\n  </thead>\n  <tbody>\n    <tr>\n      <th>0</th>\n      <td>Водитель-экспедитор</td>\n      <td>От 3 до 6 лет</td>\n      <td>Полный день</td>\n      <td>Полная занятость</td>\n      <td>Водитель-экспедитор категории В,С (а\\м ГАЗЕЛЬ ...</td>\n      <td>[]</td>\n      <td>42500.0</td>\n    </tr>\n    <tr>\n      <th>1</th>\n      <td>Кладовщик-комплектовщик/оператор 1С</td>\n      <td>От 1 года до 3 лет</td>\n      <td>Полный день</td>\n      <td>Полная занятость</td>\n      <td>Обязанности:   Списывание материалов в произво...</td>\n      <td>['знание пк', 'работа в 1С', 'Работа в команде...</td>\n      <td>50000.0</td>\n    </tr>\n    <tr>\n      <th>2</th>\n      <td>Продавец магазина \"Магнит\" (Кировский р-он, В....</td>\n      <td>Нет опыта</td>\n      <td>Сменный график</td>\n      <td>Полная занятость</td>\n      <td>В крупнейшую Федеральную сеть магазинов \"Магни...</td>\n      <td>[]</td>\n      <td>31500.0</td>\n    </tr>\n    <tr>\n      <th>3</th>\n      <td>Администратор магазина (ТЦ Spar)</td>\n      <td>От 1 года до 3 лет</td>\n      <td>Полный день</td>\n      <td>Полная занятость</td>\n      <td>Крупная федеральная сеть магазинов мужской и ж...</td>\n      <td>[]</td>\n      <td>36700.0</td>\n    </tr>\n    <tr>\n      <th>4</th>\n      <td>Мойщик посуды (кулинария)</td>\n      <td>Нет опыта</td>\n      <td>Сменный график</td>\n      <td>Полная занятость</td>\n      <td>Обязанности:  Уборка производственных площадей...</td>\n      <td>['Пользователь ПК', 'Грамотная речь', 'Работа ...</td>\n      <td>37000.0</td>\n    </tr>\n    <tr>\n      <th>5</th>\n      <td>Менеджер-администратор</td>\n      <td>От 1 года до 3 лет</td>\n      <td>Полный день</td>\n      <td>Полная занятость</td>\n      <td>Международная сеть Школ скорочтения и развития...</td>\n      <td>['Навыки межличностного общения', 'Грамотная р...</td>\n      <td>50000.0</td>\n    </tr>\n    <tr>\n      <th>6</th>\n      <td>Комплектовщик</td>\n      <td>Нет опыта</td>\n      <td>Полный день</td>\n      <td>Полная занятость</td>\n      <td>Мы прямой работодатель - компания «Форум-Авто»...</td>\n      <td>['1С: Склад', 'Работа с оргтехникой', 'Приемка...</td>\n      <td>53500.0</td>\n    </tr>\n    <tr>\n      <th>7</th>\n      <td>Медицинская сестра</td>\n      <td>Нет опыта</td>\n      <td>Гибкий график</td>\n      <td>Частичная занятость</td>\n      <td>Работа на территории работодателя: р-н Кущевск...</td>\n      <td>['Медицинская документация', 'Лечебная деятель...</td>\n      <td>12130.0</td>\n    </tr>\n  </tbody>\n</table>\n</div>"
     },
     "execution_count": 158,
     "metadata": {},
     "output_type": "execute_result"
    }
   ],
   "source": [
    "df_train = pd.read_csv(\"C:\\\\Users\\\\HOME\\\\PycharmProjects\\\\NLP_SalaryPrediction\\\\vacancies_train.csv\")\n",
    "df_train.head(8)"
   ],
   "metadata": {
    "collapsed": false
   }
  },
  {
   "cell_type": "code",
   "execution_count": 159,
   "outputs": [
    {
     "data": {
      "text/plain": "                              name          experience        schedule  \\\nid                                                                       \n0                Главный бухгалтер         Более 6 лет     Полный день   \n1      Ассистент врача-стоматолога  От 1 года до 3 лет  Сменный график   \n2             Менеджер по продажам  От 1 года до 3 лет     Полный день   \n3                         Менеджер  От 1 года до 3 лет     Полный день   \n4            Администратор хостела           Нет опыта  Сменный график   \n5          Полицейский (г. Москва)           Нет опыта     Полный день   \n6   Менеджер по работе с клиентами  От 1 года до 3 лет   Гибкий график   \n7                    Администратор           Нет опыта     Полный день   \n8             Кредитный специалист           Нет опыта     Полный день   \n9                Уборщик помещений           Нет опыта     Полный день   \n\n          employment                                        description  \\\nid                                                                        \n0   Полная занятость  Обязанности:Осуществление организации бухгалте...   \n1   Полная занятость  Обязанности:  Ассистировать врачу стоматологу,...   \n2   Полная занятость  Если ты:    хочешь построить карьеру в банковс...   \n3   Полная занятость    Динамично развивающаяся на протяжении 17 лет...   \n4   Полная занятость  ВОЗМОЖНА РАБОТА С ПРОЖИВАНИЕМ Обязанности:  Пр...   \n5   Полная занятость  Обязанности:- обеспечение правопорядка при мас...   \n6   Полная занятость  Обязанности:  Консультирование клиентов в студ...   \n7   Полная занятость  Приглашаем администратора в стоматологическую ...   \n8   Полная занятость  Обязанности: - консультирование клиентов по фи...   \n9   Полная занятость  Обязанности:  Уборка подъездов многоквартирных...   \n\n                                           key_skills  \nid                                                     \n0   ['1С: Предприятие 8', '1C: Предприятие', 'Рабо...  \n1   ['Пользователь ПК', 'Работа в команде', 'Умени...  \n2                                                  []  \n3   ['Оценка потребностей клиентов', 'оформление д...  \n4                                                  []  \n5                                                  []  \n6   ['Заключение договоров', 'Навыки продаж', 'Кон...  \n7   ['Пользователь ПК', 'Работа с кассой', 'Грамот...  \n8   ['Грамотная речь', '1С: Предприятие 8', 'Консу...  \n9                       ['Умение работать в команде']  ",
      "text/html": "<div>\n<style scoped>\n    .dataframe tbody tr th:only-of-type {\n        vertical-align: middle;\n    }\n\n    .dataframe tbody tr th {\n        vertical-align: top;\n    }\n\n    .dataframe thead th {\n        text-align: right;\n    }\n</style>\n<table border=\"1\" class=\"dataframe\">\n  <thead>\n    <tr style=\"text-align: right;\">\n      <th></th>\n      <th>name</th>\n      <th>experience</th>\n      <th>schedule</th>\n      <th>employment</th>\n      <th>description</th>\n      <th>key_skills</th>\n    </tr>\n    <tr>\n      <th>id</th>\n      <th></th>\n      <th></th>\n      <th></th>\n      <th></th>\n      <th></th>\n      <th></th>\n    </tr>\n  </thead>\n  <tbody>\n    <tr>\n      <th>0</th>\n      <td>Главный бухгалтер</td>\n      <td>Более 6 лет</td>\n      <td>Полный день</td>\n      <td>Полная занятость</td>\n      <td>Обязанности:Осуществление организации бухгалте...</td>\n      <td>['1С: Предприятие 8', '1C: Предприятие', 'Рабо...</td>\n    </tr>\n    <tr>\n      <th>1</th>\n      <td>Ассистент врача-стоматолога</td>\n      <td>От 1 года до 3 лет</td>\n      <td>Сменный график</td>\n      <td>Полная занятость</td>\n      <td>Обязанности:  Ассистировать врачу стоматологу,...</td>\n      <td>['Пользователь ПК', 'Работа в команде', 'Умени...</td>\n    </tr>\n    <tr>\n      <th>2</th>\n      <td>Менеджер по продажам</td>\n      <td>От 1 года до 3 лет</td>\n      <td>Полный день</td>\n      <td>Полная занятость</td>\n      <td>Если ты:    хочешь построить карьеру в банковс...</td>\n      <td>[]</td>\n    </tr>\n    <tr>\n      <th>3</th>\n      <td>Менеджер</td>\n      <td>От 1 года до 3 лет</td>\n      <td>Полный день</td>\n      <td>Полная занятость</td>\n      <td>Динамично развивающаяся на протяжении 17 лет...</td>\n      <td>['Оценка потребностей клиентов', 'оформление д...</td>\n    </tr>\n    <tr>\n      <th>4</th>\n      <td>Администратор хостела</td>\n      <td>Нет опыта</td>\n      <td>Сменный график</td>\n      <td>Полная занятость</td>\n      <td>ВОЗМОЖНА РАБОТА С ПРОЖИВАНИЕМ Обязанности:  Пр...</td>\n      <td>[]</td>\n    </tr>\n    <tr>\n      <th>5</th>\n      <td>Полицейский (г. Москва)</td>\n      <td>Нет опыта</td>\n      <td>Полный день</td>\n      <td>Полная занятость</td>\n      <td>Обязанности:- обеспечение правопорядка при мас...</td>\n      <td>[]</td>\n    </tr>\n    <tr>\n      <th>6</th>\n      <td>Менеджер по работе с клиентами</td>\n      <td>От 1 года до 3 лет</td>\n      <td>Гибкий график</td>\n      <td>Полная занятость</td>\n      <td>Обязанности:  Консультирование клиентов в студ...</td>\n      <td>['Заключение договоров', 'Навыки продаж', 'Кон...</td>\n    </tr>\n    <tr>\n      <th>7</th>\n      <td>Администратор</td>\n      <td>Нет опыта</td>\n      <td>Полный день</td>\n      <td>Полная занятость</td>\n      <td>Приглашаем администратора в стоматологическую ...</td>\n      <td>['Пользователь ПК', 'Работа с кассой', 'Грамот...</td>\n    </tr>\n    <tr>\n      <th>8</th>\n      <td>Кредитный специалист</td>\n      <td>Нет опыта</td>\n      <td>Полный день</td>\n      <td>Полная занятость</td>\n      <td>Обязанности: - консультирование клиентов по фи...</td>\n      <td>['Грамотная речь', '1С: Предприятие 8', 'Консу...</td>\n    </tr>\n    <tr>\n      <th>9</th>\n      <td>Уборщик помещений</td>\n      <td>Нет опыта</td>\n      <td>Полный день</td>\n      <td>Полная занятость</td>\n      <td>Обязанности:  Уборка подъездов многоквартирных...</td>\n      <td>['Умение работать в команде']</td>\n    </tr>\n  </tbody>\n</table>\n</div>"
     },
     "execution_count": 159,
     "metadata": {},
     "output_type": "execute_result"
    }
   ],
   "source": [
    "df_test = pd.read_csv(\"C:\\\\Users\\\\HOME\\\\PycharmProjects\\\\NLP_SalaryPrediction\\\\vacancies_test.csv\", index_col=0)\n",
    "df_test.head(10)"
   ],
   "metadata": {
    "collapsed": false
   }
  },
  {
   "cell_type": "markdown",
   "source": [
    "## Preprocessing"
   ],
   "metadata": {
    "collapsed": false
   }
  },
  {
   "cell_type": "code",
   "execution_count": 160,
   "outputs": [],
   "source": [
    "# option 1 to clean the text\n",
    "stop_words = set(stopwords.words('russian'))\n",
    "m = MorphAnalyzer()\n",
    "\n",
    "def words_only(text, regex=re.compile(\"[а-яa-zёЁ]+\")):\n",
    "    try:\n",
    "        return regex.findall(text.lower())\n",
    "    except:\n",
    "        return []\n",
    "\n",
    "# @lru_cache(maxsize=128)\n",
    "def lemmatize_word(token, pymorphy=m):\n",
    "    return pymorphy.parse(token)[0].normal_form\n",
    "\n",
    "def lemmatize_text(text):\n",
    "    return [lemmatize_word(w) for w in text]\n",
    "\n",
    "def remove_stopwords(lemmas, stopwords = stop_words):\n",
    "    return [w for w in lemmas if not w in stopwords and len(w) > 3]\n",
    "\n",
    "def to_tokens_lemmas(text):\n",
    "    tokens = words_only(text)\n",
    "    lemmas = lemmatize_text(tokens)\n",
    "    return ' '.join(remove_stopwords(lemmas))"
   ],
   "metadata": {
    "collapsed": false
   }
  },
  {
   "cell_type": "code",
   "execution_count": 161,
   "outputs": [],
   "source": [
    "# option 2 to clean the text\n",
    "stop_words = set(stopwords.words('russian'))\n",
    "m = MorphAnalyzer()\n",
    "\n",
    "# функция для очистки описаний\n",
    "def clean_text(text):\n",
    "    text = re.sub(r'http\\S+', '', text)  # избавляемся от ссылок\n",
    "    text = re.sub('[^а-яёА-ЯЁ]', ' ', text)  # оставляем только кириллицу\n",
    "    text = word_tokenize(text.lower())  # приводим к нижнему регистру и токенизируем по словам\n",
    "    # приводим токены к нормальной форме, удаляем стоп-слова и короткие токены\n",
    "    text = [m.normal_forms(token)[0] for token in text\n",
    "            if token not in stop_words and len(token) > 2]\n",
    "    text = \" \".join(text)  # возвращаем строку\n",
    "    return text"
   ],
   "metadata": {
    "collapsed": false
   }
  },
  {
   "cell_type": "code",
   "execution_count": 162,
   "outputs": [
    {
     "data": {
      "text/plain": "Index(['name', 'experience', 'schedule', 'employment', 'description',\n       'key_skills', 'salary'],\n      dtype='object')"
     },
     "execution_count": 162,
     "metadata": {},
     "output_type": "execute_result"
    }
   ],
   "source": [
    "df_train.columns"
   ],
   "metadata": {
    "collapsed": false
   }
  },
  {
   "cell_type": "code",
   "execution_count": 163,
   "outputs": [],
   "source": [
    "df_train_new = pd.DataFrame()\n",
    "df_train_new['text'] = df_train.name \\\n",
    "                       + ' ' + df_train.description.apply(str) \\\n",
    "                       + ' ' + df_train.schedule.apply(str) \\\n",
    "                       + ' ' + df_train.employment.apply(str) \\\n",
    "                       + ' ' + df_train.experience.apply(str) \\\n",
    "                       + ' ' + df_train.key_skills.apply(str)\n",
    "\n",
    "df_test_new = pd.DataFrame()\n",
    "df_test_new['text'] = df_test.name.apply(str) \\\n",
    "                       + ' ' + df_test.description.apply(str) \\\n",
    "                       + ' ' + df_test.schedule.apply(str) \\\n",
    "                       + ' ' + df_test.employment.apply(str) \\\n",
    "                       + ' ' + df_test.experience.apply(str) \\\n",
    "                       + ' ' + df_test.key_skills.apply(str)"
   ],
   "metadata": {
    "collapsed": false
   }
  },
  {
   "cell_type": "code",
   "execution_count": 164,
   "outputs": [
    {
     "name": "stdout",
     "output_type": "stream",
     "text": [
      "CPU times: total: 3min 10s\n",
      "Wall time: 3min 49s\n"
     ]
    },
    {
     "data": {
      "text/plain": "                                                text  \\\n0  Водитель-экспедитор Водитель-экспедитор катего...   \n1  Кладовщик-комплектовщик/оператор 1С Обязанност...   \n2  Продавец магазина \"Магнит\" (Кировский р-он, В....   \n3  Администратор магазина (ТЦ Spar) Крупная федер...   \n4  Мойщик посуды (кулинария) Обязанности:  Уборка...   \n\n                                               clean  \n0  водитель экспедитор водитель экспедитор катего...  \n1  кладовщик комплектовщик оператор обязанность с...  \n2  продавец магазин магнит кировский уса крупный ...  \n3  администратор магазин крупный федеральный сеть...  \n4  мойщик посуда кулинария обязанность уборка про...  ",
      "text/html": "<div>\n<style scoped>\n    .dataframe tbody tr th:only-of-type {\n        vertical-align: middle;\n    }\n\n    .dataframe tbody tr th {\n        vertical-align: top;\n    }\n\n    .dataframe thead th {\n        text-align: right;\n    }\n</style>\n<table border=\"1\" class=\"dataframe\">\n  <thead>\n    <tr style=\"text-align: right;\">\n      <th></th>\n      <th>text</th>\n      <th>clean</th>\n    </tr>\n  </thead>\n  <tbody>\n    <tr>\n      <th>0</th>\n      <td>Водитель-экспедитор Водитель-экспедитор катего...</td>\n      <td>водитель экспедитор водитель экспедитор катего...</td>\n    </tr>\n    <tr>\n      <th>1</th>\n      <td>Кладовщик-комплектовщик/оператор 1С Обязанност...</td>\n      <td>кладовщик комплектовщик оператор обязанность с...</td>\n    </tr>\n    <tr>\n      <th>2</th>\n      <td>Продавец магазина \"Магнит\" (Кировский р-он, В....</td>\n      <td>продавец магазин магнит кировский уса крупный ...</td>\n    </tr>\n    <tr>\n      <th>3</th>\n      <td>Администратор магазина (ТЦ Spar) Крупная федер...</td>\n      <td>администратор магазин крупный федеральный сеть...</td>\n    </tr>\n    <tr>\n      <th>4</th>\n      <td>Мойщик посуды (кулинария) Обязанности:  Уборка...</td>\n      <td>мойщик посуда кулинария обязанность уборка про...</td>\n    </tr>\n  </tbody>\n</table>\n</div>"
     },
     "execution_count": 164,
     "metadata": {},
     "output_type": "execute_result"
    }
   ],
   "source": [
    "%%time\n",
    "df_train_new['clean'] = df_train_new['text'].apply(clean_text)\n",
    "df_train_new.head(5)"
   ],
   "metadata": {
    "collapsed": false
   }
  },
  {
   "cell_type": "code",
   "execution_count": 165,
   "outputs": [
    {
     "name": "stdout",
     "output_type": "stream",
     "text": [
      "CPU times: total: 1min 7s\n",
      "Wall time: 1min 18s\n"
     ]
    },
    {
     "data": {
      "text/plain": "                                                 text  \\\nid                                                      \n0   Главный бухгалтер Обязанности:Осуществление ор...   \n1   Ассистент врача-стоматолога Обязанности:  Асси...   \n2   Менеджер по продажам Если ты:    хочешь постро...   \n3   Менеджер   Динамично развивающаяся на протяжен...   \n4   Администратор хостела ВОЗМОЖНА РАБОТА С ПРОЖИВ...   \n\n                                                clean  \nid                                                     \n0   главный бухгалтер обязанность осуществление ор...  \n1   ассистент врач стоматолог обязанность ассистир...  \n2   менеджер продажа хотеть построить карьера банк...  \n3   менеджер динамично развивающийся протяжение го...  \n4   администратор хостел возможный работа проживан...  ",
      "text/html": "<div>\n<style scoped>\n    .dataframe tbody tr th:only-of-type {\n        vertical-align: middle;\n    }\n\n    .dataframe tbody tr th {\n        vertical-align: top;\n    }\n\n    .dataframe thead th {\n        text-align: right;\n    }\n</style>\n<table border=\"1\" class=\"dataframe\">\n  <thead>\n    <tr style=\"text-align: right;\">\n      <th></th>\n      <th>text</th>\n      <th>clean</th>\n    </tr>\n    <tr>\n      <th>id</th>\n      <th></th>\n      <th></th>\n    </tr>\n  </thead>\n  <tbody>\n    <tr>\n      <th>0</th>\n      <td>Главный бухгалтер Обязанности:Осуществление ор...</td>\n      <td>главный бухгалтер обязанность осуществление ор...</td>\n    </tr>\n    <tr>\n      <th>1</th>\n      <td>Ассистент врача-стоматолога Обязанности:  Асси...</td>\n      <td>ассистент врач стоматолог обязанность ассистир...</td>\n    </tr>\n    <tr>\n      <th>2</th>\n      <td>Менеджер по продажам Если ты:    хочешь постро...</td>\n      <td>менеджер продажа хотеть построить карьера банк...</td>\n    </tr>\n    <tr>\n      <th>3</th>\n      <td>Менеджер   Динамично развивающаяся на протяжен...</td>\n      <td>менеджер динамично развивающийся протяжение го...</td>\n    </tr>\n    <tr>\n      <th>4</th>\n      <td>Администратор хостела ВОЗМОЖНА РАБОТА С ПРОЖИВ...</td>\n      <td>администратор хостел возможный работа проживан...</td>\n    </tr>\n  </tbody>\n</table>\n</div>"
     },
     "execution_count": 165,
     "metadata": {},
     "output_type": "execute_result"
    }
   ],
   "source": [
    "%%time\n",
    "df_test_new['clean'] = df_test_new['text'].apply(clean_text)\n",
    "df_test_new.head(5)"
   ],
   "metadata": {
    "collapsed": false
   }
  },
  {
   "cell_type": "code",
   "execution_count": 166,
   "outputs": [],
   "source": [
    "train_clean = df_train_new[['clean']]\n",
    "test_clean = df_test_new[['clean']]"
   ],
   "metadata": {
    "collapsed": false
   }
  },
  {
   "cell_type": "code",
   "execution_count": 169,
   "outputs": [],
   "source": [
    "train_final = pd.concat([train_clean.clean, df_train.salary], axis=1)\n",
    "train_final.head(5)\n",
    "\n",
    "test_final = test_clean.copy()\n",
    "test_final.to_csv('actual_test_data.csv')"
   ],
   "metadata": {
    "collapsed": false
   }
  },
  {
   "cell_type": "code",
   "execution_count": 170,
   "outputs": [],
   "source": [
    "train_final['clean'] = train_final['clean'].values.astype('U')\n",
    "test_final['clean'] = test_final['clean'].values.astype('U')\n",
    "\n",
    "train_final['clean'] = train_final['clean'].values.astype('U')"
   ],
   "metadata": {
    "collapsed": false
   }
  },
  {
   "cell_type": "markdown",
   "source": [
    "## EDA"
   ],
   "metadata": {
    "collapsed": false
   }
  },
  {
   "cell_type": "code",
   "execution_count": 171,
   "outputs": [
    {
     "data": {
      "text/plain": "<Figure size 1200x800 with 1 Axes>",
      "image/png": "[encoded data removed]"
     },
     "metadata": {},
     "output_type": "display_data"
    }
   ],
   "source": [
    "sns.histplot(np.log10(df_train.salary + 1), bins=100);"
   ],
   "metadata": {
    "collapsed": false
   }
  },
  {
   "cell_type": "code",
   "execution_count": 14,
   "outputs": [
    {
     "data": {
      "text/plain": "<Figure size 1200x800 with 1 Axes>",
      "image/png": "[encoded data removed]"
     },
     "metadata": {},
     "output_type": "display_data"
    }
   ],
   "source": [
    "sns.histplot(df_train.salary, bins=100);"
   ],
   "metadata": {
    "collapsed": false
   }
  },
  {
   "cell_type": "code",
   "execution_count": 15,
   "outputs": [
    {
     "data": {
      "text/plain": "Менеджер по продажам                                          208\nПродавец-консультант                                          180\nМенеджер по работе с клиентами                                111\nКладовщик                                                     111\nБухгалтер                                                     108\n                                                             ... \nУпаковщица/Упаковщик                                            1\nПомощник официанта,ранер                                        1\nМенеджер по продаже оборудования для общепита и торговли        1\nЭлектросварщик на полуавтомат (морской регистр, НАКС НГДО)      1\nСпециалист-эксперт отдела правового обеспечения                 1\nName: name, Length: 9915, dtype: int64"
     },
     "execution_count": 15,
     "metadata": {},
     "output_type": "execute_result"
    }
   ],
   "source": [
    "df_train.name.value_counts()"
   ],
   "metadata": {
    "collapsed": false
   }
  },
  {
   "cell_type": "code",
   "execution_count": 16,
   "outputs": [
    {
     "data": {
      "text/plain": "Менеджер по продажам                                                70\nПродавец-консультант                                                65\nКладовщик                                                           51\nМенеджер по работе с клиентами                                      36\nМедицинская сестра                                                  34\n                                                                    ..\nDisposal (диспозл)-менеджер по привлечению объектов недвижимости     1\nТоваровед-Продавец                                                   1\nСлесарь-ремонтник (5 разряд)                                         1\nПовар (Камчатский край, Артель)                                      1\nТорговый представитель (Колпино, Тосно, Кировск)                     1\nName: name, Length: 3716, dtype: int64"
     },
     "execution_count": 16,
     "metadata": {},
     "output_type": "execute_result"
    }
   ],
   "source": [
    "df_test.name.value_counts()"
   ],
   "metadata": {
    "collapsed": false
   }
  },
  {
   "cell_type": "code",
   "execution_count": 17,
   "outputs": [
    {
     "data": {
      "text/plain": "<Figure size 1200x800 with 1 Axes>",
      "image/png": "[encoded data removed]"
     },
     "metadata": {},
     "output_type": "display_data"
    }
   ],
   "source": [
    "sns.histplot(df_train.experience);"
   ],
   "metadata": {
    "collapsed": false
   }
  },
  {
   "cell_type": "code",
   "execution_count": 18,
   "outputs": [
    {
     "data": {
      "text/plain": "<Figure size 1200x800 with 1 Axes>",
      "image/png": "[encoded data removed]"
     },
     "metadata": {},
     "output_type": "display_data"
    }
   ],
   "source": [
    "sns.histplot(df_test.experience);"
   ],
   "metadata": {
    "collapsed": false
   }
  },
  {
   "cell_type": "code",
   "execution_count": 19,
   "outputs": [
    {
     "data": {
      "text/plain": "<Figure size 1200x800 with 1 Axes>",
      "image/png": "[encoded data removed]"
     },
     "metadata": {},
     "output_type": "display_data"
    }
   ],
   "source": [
    "sns.histplot(df_train.schedule);"
   ],
   "metadata": {
    "collapsed": false
   }
  },
  {
   "cell_type": "code",
   "execution_count": 20,
   "outputs": [
    {
     "data": {
      "text/plain": "<Figure size 1200x800 with 1 Axes>",
      "image/png": "[encoded data removed]"
     },
     "metadata": {},
     "output_type": "display_data"
    }
   ],
   "source": [
    "sns.histplot(df_test.schedule);"
   ],
   "metadata": {
    "collapsed": false
   }
  },
  {
   "cell_type": "markdown",
   "source": [
    "## Модели"
   ],
   "metadata": {
    "collapsed": false
   }
  },
  {
   "cell_type": "code",
   "execution_count": 110,
   "outputs": [
    {
     "data": {
      "text/plain": "<5543x29597 sparse matrix of type '<class 'numpy.int64'>'\n\twith 482183 stored elements in Compressed Sparse Row format>"
     },
     "execution_count": 110,
     "metadata": {},
     "output_type": "execute_result"
    }
   ],
   "source": [
    "vec = CountVectorizer(ngram_range=(1, 1), token_pattern=r'\\b\\w+\\b')\n",
    "\n",
    "bow_train = vec.fit_transform(train_final['clean'])\n",
    "bow_train\n",
    "\n",
    "bow_test = vec.transform(test_final['clean'])\n",
    "bow_test"
   ],
   "metadata": {
    "collapsed": false
   }
  },
  {
   "cell_type": "code",
   "execution_count": 111,
   "outputs": [
    {
     "data": {
      "text/plain": "[('водитель', 3465),\n ('экспедитор', 28895),\n ('категория', 9066),\n ('газель', 4337),\n ('тент', 25110),\n ('цельнометаллический', 27912),\n ('газ', 4332),\n ('фургон', 27510),\n ('обязанность', 15115),\n ('развоз', 20424)]"
     },
     "execution_count": 111,
     "metadata": {},
     "output_type": "execute_result"
    }
   ],
   "source": [
    "list(vec.vocabulary_.items())[:10]"
   ],
   "metadata": {
    "collapsed": false
   }
  },
  {
   "cell_type": "markdown",
   "source": [
    "### 1) CatBoost Regressor with BoW"
   ],
   "metadata": {
    "collapsed": false
   }
  },
  {
   "cell_type": "code",
   "execution_count": 112,
   "outputs": [],
   "source": [
    "from sklearn.preprocessing import MaxAbsScaler\n",
    "\n",
    "# Split the data into training and testing sets\n",
    "X_train, X_test, y_train, y_test = train_test_split(bow_train, train_final['salary'].values, test_size=0.2, random_state=5)\n",
    "\n",
    "# Calculate the minimum and maximum values\n",
    "scaler = MaxAbsScaler().fit(bow_train)\n",
    "\n",
    "# Scale the training data\n",
    "X_train_scaled = scaler.fit_transform(X_train)\n",
    "\n",
    "# Scale the test data and evaluate the performance on the scaled data\n",
    "X_test_scaled = scaler.transform(X_test)"
   ],
   "metadata": {
    "collapsed": false
   }
  },
  {
   "cell_type": "code",
   "execution_count": 114,
   "outputs": [
    {
     "name": "stdout",
     "output_type": "stream",
     "text": [
      "0:\tlearn: 34212.9574284\ttotal: 45ms\tremaining: 45s\n",
      "999:\tlearn: 19900.1615929\ttotal: 27s\tremaining: 0us\n",
      "0:\tlearn: 34214.4458962\ttotal: 35.8ms\tremaining: 35.8s\n",
      "999:\tlearn: 19802.9237027\ttotal: 29.9s\tremaining: 0us\n",
      "0:\tlearn: 33548.0136671\ttotal: 46.1ms\tremaining: 46.1s\n",
      "999:\tlearn: 19400.6583433\ttotal: 27.4s\tremaining: 0us\n",
      "0:\tlearn: 34909.4529640\ttotal: 29ms\tremaining: 29s\n",
      "999:\tlearn: 20172.5328214\ttotal: 28.9s\tremaining: 0us\n",
      "0:\tlearn: 34553.5933550\ttotal: 30.2ms\tremaining: 30.2s\n",
      "999:\tlearn: 19890.8155856\ttotal: 31.5s\tremaining: 0us\n",
      "0:\tlearn: 31585.7680574\ttotal: 27.8ms\tremaining: 27.8s\n",
      "999:\tlearn: 9580.6095189\ttotal: 35.6s\tremaining: 0us\n",
      "0:\tlearn: 31777.3546395\ttotal: 42ms\tremaining: 42s\n",
      "999:\tlearn: 9539.3133654\ttotal: 31.3s\tremaining: 0us\n",
      "0:\tlearn: 31031.7290423\ttotal: 35.1ms\tremaining: 35.1s\n",
      "999:\tlearn: 9140.1606452\ttotal: 28.2s\tremaining: 0us\n",
      "0:\tlearn: 32592.4676483\ttotal: 31.1ms\tremaining: 31.1s\n",
      "999:\tlearn: 9713.7913060\ttotal: 30.9s\tremaining: 0us\n",
      "0:\tlearn: 31950.5373701\ttotal: 33ms\tremaining: 33s\n",
      "999:\tlearn: 9421.4191810\ttotal: 28.8s\tremaining: 0us\n",
      "0:\tlearn: 33998.6997908\ttotal: 116ms\tremaining: 1m 55s\n",
      "999:\tlearn: 14158.1125862\ttotal: 1m 25s\tremaining: 0us\n",
      "0:\tlearn: 34039.9971201\ttotal: 88.7ms\tremaining: 1m 28s\n",
      "999:\tlearn: 13958.9725361\ttotal: 1m 24s\tremaining: 0us\n",
      "0:\tlearn: 33387.8800371\ttotal: 83.5ms\tremaining: 1m 23s\n",
      "999:\tlearn: 13619.7117614\ttotal: 1m 24s\tremaining: 0us\n",
      "0:\tlearn: 34668.2995409\ttotal: 78.7ms\tremaining: 1m 18s\n",
      "999:\tlearn: 14230.4929218\ttotal: 1m 22s\tremaining: 0us\n",
      "0:\tlearn: 34429.7766271\ttotal: 106ms\tremaining: 1m 46s\n",
      "999:\tlearn: 13967.0240308\ttotal: 1m 25s\tremaining: 0us\n",
      "0:\tlearn: 30195.9860990\ttotal: 84.9ms\tremaining: 1m 24s\n",
      "999:\tlearn: 3341.2407618\ttotal: 1m 24s\tremaining: 0us\n",
      "0:\tlearn: 30705.5318222\ttotal: 91.7ms\tremaining: 1m 31s\n",
      "999:\tlearn: 3387.9119443\ttotal: 1m 26s\tremaining: 0us\n",
      "0:\tlearn: 29962.7990115\ttotal: 84.2ms\tremaining: 1m 24s\n",
      "999:\tlearn: 3062.8828245\ttotal: 1m 22s\tremaining: 0us\n",
      "0:\tlearn: 31088.1532087\ttotal: 87.7ms\tremaining: 1m 27s\n",
      "999:\tlearn: 3290.0562866\ttotal: 1m 26s\tremaining: 0us\n",
      "0:\tlearn: 31131.9841758\ttotal: 93ms\tremaining: 1m 32s\n",
      "999:\tlearn: 3259.4872528\ttotal: 1m 21s\tremaining: 0us\n",
      "0:\tlearn: 34001.6861940\ttotal: 105ms\tremaining: 1m 44s\n",
      "999:\tlearn: 14845.7887002\ttotal: 1m 49s\tremaining: 0us\n",
      "CPU times: total: 21min 14s\n",
      "Wall time: 21min 12s\n"
     ]
    },
    {
     "data": {
      "text/plain": "GridSearchCV(cv=5,\n             estimator=<catboost.core.CatBoostRegressor object at 0x000001FEE9E59670>,\n             param_grid={'depth': [3, 7], 'learning_rate': [0.1, 1]})",
      "text/html": "<style>#sk-container-id-1 {color: black;background-color: white;}#sk-container-id-1 pre{padding: 0;}#sk-container-id-1 div.sk-toggleable {background-color: white;}#sk-container-id-1 label.sk-toggleable__label {cursor: pointer;display: block;width: 100%;margin-bottom: 0;padding: 0.3em;box-sizing: border-box;text-align: center;}#sk-container-id-1 label.sk-toggleable__label-arrow:before {content: \"▸\";float: left;margin-right: 0.25em;color: #696969;}#sk-container-id-1 label.sk-toggleable__label-arrow:hover:before {color: black;}#sk-container-id-1 div.sk-estimator:hover label.sk-toggleable__label-arrow:before {color: black;}#sk-container-id-1 div.sk-toggleable__content {max-height: 0;max-width: 0;overflow: hidden;text-align: left;background-color: #f0f8ff;}#sk-container-id-1 div.sk-toggleable__content pre {margin: 0.2em;color: black;border-radius: 0.25em;background-color: #f0f8ff;}#sk-container-id-1 input.sk-toggleable__control:checked~div.sk-toggleable__content {max-height: 200px;max-width: 100%;overflow: auto;}#sk-container-id-1 input.sk-toggleable__control:checked~label.sk-toggleable__label-arrow:before {content: \"▾\";}#sk-container-id-1 div.sk-estimator input.sk-toggleable__control:checked~label.sk-toggleable__label {background-color: #d4ebff;}#sk-container-id-1 div.sk-label input.sk-toggleable__control:checked~label.sk-toggleable__label {background-color: #d4ebff;}#sk-container-id-1 input.sk-hidden--visually {border: 0;clip: rect(1px 1px 1px 1px);clip: rect(1px, 1px, 1px, 1px);height: 1px;margin: -1px;overflow: hidden;padding: 0;position: absolute;width: 1px;}#sk-container-id-1 div.sk-estimator {font-family: monospace;background-color: #f0f8ff;border: 1px dotted black;border-radius: 0.25em;box-sizing: border-box;margin-bottom: 0.5em;}#sk-container-id-1 div.sk-estimator:hover {background-color: #d4ebff;}#sk-container-id-1 div.sk-parallel-item::after {content: \"\";width: 100%;border-bottom: 1px solid gray;flex-grow: 1;}#sk-container-id-1 div.sk-label:hover label.sk-toggleable__label {background-color: #d4ebff;}#sk-container-id-1 div.sk-serial::before {content: \"\";position: absolute;border-left: 1px solid gray;box-sizing: border-box;top: 0;bottom: 0;left: 50%;z-index: 0;}#sk-container-id-1 div.sk-serial {display: flex;flex-direction: column;align-items: center;background-color: white;padding-right: 0.2em;padding-left: 0.2em;position: relative;}#sk-container-id-1 div.sk-item {position: relative;z-index: 1;}#sk-container-id-1 div.sk-parallel {display: flex;align-items: stretch;justify-content: center;background-color: white;position: relative;}#sk-container-id-1 div.sk-item::before, #sk-container-id-1 div.sk-parallel-item::before {content: \"\";position: absolute;border-left: 1px solid gray;box-sizing: border-box;top: 0;bottom: 0;left: 50%;z-index: -1;}#sk-container-id-1 div.sk-parallel-item {display: flex;flex-direction: column;z-index: 1;position: relative;background-color: white;}#sk-container-id-1 div.sk-parallel-item:first-child::after {align-self: flex-end;width: 50%;}#sk-container-id-1 div.sk-parallel-item:last-child::after {align-self: flex-start;width: 50%;}#sk-container-id-1 div.sk-parallel-item:only-child::after {width: 0;}#sk-container-id-1 div.sk-dashed-wrapped {border: 1px dashed gray;margin: 0 0.4em 0.5em 0.4em;box-sizing: border-box;padding-bottom: 0.4em;background-color: white;}#sk-container-id-1 div.sk-label label {font-family: monospace;font-weight: bold;display: inline-block;line-height: 1.2em;}#sk-container-id-1 div.sk-label-container {text-align: center;}#sk-container-id-1 div.sk-container {/* jupyter's `normalize.less` sets `[hidden] { display: none; }` but bootstrap.min.css set `[hidden] { display: none !important; }` so we also need the `!important` here to be able to override the default hidden behavior on the sphinx rendered scikit-learn.org. See: https://github.com/scikit-learn/scikit-learn/issues/21755 */display: inline-block !important;position: relative;}#sk-container-id-1 div.sk-text-repr-fallback {display: none;}</style><div id=\"sk-container-id-1\" class=\"sk-top-container\"><div class=\"sk-text-repr-fallback\"><pre>GridSearchCV(cv=5,\n             estimator=&lt;catboost.core.CatBoostRegressor object at 0x000001FEE9E59670&gt;,\n             param_grid={&#x27;depth&#x27;: [3, 7], &#x27;learning_rate&#x27;: [0.1, 1]})</pre><b>In a Jupyter environment, please rerun this cell to show the HTML representation or trust the notebook. <br />On GitHub, the HTML representation is unable to render, please try loading this page with nbviewer.org.</b></div><div class=\"sk-container\" hidden><div class=\"sk-item sk-dashed-wrapped\"><div class=\"sk-label-container\"><div class=\"sk-label sk-toggleable\"><input class=\"sk-toggleable__control sk-hidden--visually\" id=\"sk-estimator-id-1\" type=\"checkbox\" ><label for=\"sk-estimator-id-1\" class=\"sk-toggleable__label sk-toggleable__label-arrow\">GridSearchCV</label><div class=\"sk-toggleable__content\"><pre>GridSearchCV(cv=5,\n             estimator=&lt;catboost.core.CatBoostRegressor object at 0x000001FEE9E59670&gt;,\n             param_grid={&#x27;depth&#x27;: [3, 7], &#x27;learning_rate&#x27;: [0.1, 1]})</pre></div></div></div><div class=\"sk-parallel\"><div class=\"sk-parallel-item\"><div class=\"sk-item\"><div class=\"sk-label-container\"><div class=\"sk-label sk-toggleable\"><input class=\"sk-toggleable__control sk-hidden--visually\" id=\"sk-estimator-id-2\" type=\"checkbox\" ><label for=\"sk-estimator-id-2\" class=\"sk-toggleable__label sk-toggleable__label-arrow\">estimator: CatBoostRegressor</label><div class=\"sk-toggleable__content\"><pre>&lt;catboost.core.CatBoostRegressor object at 0x000001FEE9E59670&gt;</pre></div></div></div><div class=\"sk-serial\"><div class=\"sk-item\"><div class=\"sk-estimator sk-toggleable\"><input class=\"sk-toggleable__control sk-hidden--visually\" id=\"sk-estimator-id-3\" type=\"checkbox\" ><label for=\"sk-estimator-id-3\" class=\"sk-toggleable__label sk-toggleable__label-arrow\">CatBoostRegressor</label><div class=\"sk-toggleable__content\"><pre>&lt;catboost.core.CatBoostRegressor object at 0x000001FEE9E59670&gt;</pre></div></div></div></div></div></div></div></div></div></div>"
     },
     "execution_count": 114,
     "metadata": {},
     "output_type": "execute_result"
    }
   ],
   "source": [
    "%%time\n",
    "# Define the hyperparameter grid to search over\n",
    "param_grid = {\n",
    "    'depth': [3, 7],\n",
    "    'learning_rate': [0.1, 1],\n",
    "    # 'l2_leaf_reg': [1, 3, 5]\n",
    "}\n",
    "\n",
    "# Perform grid search over the hyperparameters\n",
    "catboost = CatBoostRegressor(loss_function='RMSE', verbose=1000)\n",
    "grid_search = GridSearchCV(catboost, param_grid=param_grid, cv=5)\n",
    "grid_search.fit(X_train_scaled, y_train)"
   ],
   "metadata": {
    "collapsed": false
   }
  },
  {
   "cell_type": "code",
   "execution_count": 115,
   "outputs": [
    {
     "data": {
      "text/plain": "{'depth': 7, 'learning_rate': 0.1}"
     },
     "execution_count": 115,
     "metadata": {},
     "output_type": "execute_result"
    }
   ],
   "source": [
    " # наилучшие гиперпараметры, подобранные поиском по сетке\n",
    "grid_search.best_params_"
   ],
   "metadata": {
    "collapsed": false
   }
  },
  {
   "cell_type": "code",
   "execution_count": 116,
   "outputs": [
    {
     "name": "stdout",
     "output_type": "stream",
     "text": [
      "0:\tlearn: 34001.6861940\ttotal: 99.1ms\tremaining: 1m 38s\n",
      "500:\tlearn: 18381.9048702\ttotal: 57.8s\tremaining: 57.6s\n",
      "999:\tlearn: 14845.7887002\ttotal: 2m 8s\tremaining: 0us\n",
      "CPU times: total: 3min 11s\n",
      "Wall time: 2min 9s\n"
     ]
    },
    {
     "data": {
      "text/plain": "<catboost.core.CatBoostRegressor at 0x1fed37f5700>"
     },
     "execution_count": 116,
     "metadata": {},
     "output_type": "execute_result"
    }
   ],
   "source": [
    "%%time\n",
    "final_cat = CatBoostRegressor(depth=grid_search.best_params_['depth'],\n",
    "        # l2_leaf_reg=grid_search.best_params_['l2_leaf_reg'],\n",
    "        learning_rate=grid_search.best_params_['learning_rate'],\n",
    "        loss_function='RMSE',\n",
    "        verbose=500)\n",
    "\n",
    "final_cat.fit(X_train_scaled, y_train)"
   ],
   "metadata": {
    "collapsed": false
   }
  },
  {
   "cell_type": "code",
   "execution_count": 117,
   "outputs": [
    {
     "name": "stdout",
     "output_type": "stream",
     "text": [
      "Best Hyperparameters CatBoost Regressor:  {'learning_rate': 0.1, 'depth': 7, 'loss_function': 'RMSE', 'verbose': 500}\n",
      "MSE CatBoost Regressor:  553434396.6542748\n",
      "\n",
      "R2 Score:  0.4579099153382924\n"
     ]
    }
   ],
   "source": [
    "best_params = final_cat.get_params()\n",
    "print(\"Best Hyperparameters CatBoost Regressor: \", best_params)\n",
    "\n",
    "y_pred_mse = final_cat.predict(X_test_scaled)\n",
    "mse = mean_squared_error(y_test, y_pred_mse)\n",
    "print(\"MSE CatBoost Regressor: \", mse)\n",
    "\n",
    "print()\n",
    "y_pred_r2 = final_cat.predict(X_test_scaled)\n",
    "r2 = r2_score(y_test, y_pred_r2)\n",
    "print(\"R2 Score: \", r2)"
   ],
   "metadata": {
    "collapsed": false
   }
  },
  {
   "cell_type": "markdown",
   "source": [
    "### 2) CatBoostRegressor with w2v, TF-IDF"
   ],
   "metadata": {
    "collapsed": false
   }
  },
  {
   "cell_type": "code",
   "execution_count": 254,
   "outputs": [],
   "source": [
    "vec = TfidfVectorizer(ngram_range=(1, 2)) # строим BoW для слов\n",
    "tfidf = vec.fit_transform(train_final['clean'])\n",
    "\n",
    "# Split the data into training and testing sets\n",
    "X_train, X_test, y_train, y_test = train_test_split(tfidf,\n",
    "                                                    train_final['salary'].values,\n",
    "                                                    test_size=0.2, random_state=5)\n",
    "\n",
    "# Scale the training data\n",
    "scaler = StandardScaler(with_mean=False).fit(X_train)\n",
    "X_train_scaled = scaler.transform(X_train)\n",
    "\n",
    "# Scale the test data\n",
    "X_test_scaled = scaler.transform(X_test)"
   ],
   "metadata": {
    "collapsed": false
   }
  },
  {
   "cell_type": "code",
   "execution_count": 255,
   "outputs": [
    {
     "name": "stdout",
     "output_type": "stream",
     "text": [
      "0:\tlearn: 34269.1485205\ttotal: 404ms\tremaining: 6m 43s\n",
      "500:\tlearn: 20516.1406894\ttotal: 3m 14s\tremaining: 3m 13s\n",
      "999:\tlearn: 17321.3018840\ttotal: 6m 24s\tremaining: 0us\n",
      "0:\tlearn: 34160.8648149\ttotal: 494ms\tremaining: 8m 13s\n",
      "500:\tlearn: 20639.6343479\ttotal: 3m 16s\tremaining: 3m 16s\n",
      "999:\tlearn: 17436.8495448\ttotal: 6m 35s\tremaining: 0us\n",
      "0:\tlearn: 33518.3546695\ttotal: 398ms\tremaining: 6m 37s\n",
      "500:\tlearn: 20008.7054800\ttotal: 3m 17s\tremaining: 3m 16s\n",
      "999:\tlearn: 17033.7915220\ttotal: 6m 33s\tremaining: 0us\n",
      "0:\tlearn: 34873.4733005\ttotal: 406ms\tremaining: 6m 45s\n",
      "500:\tlearn: 20671.7191824\ttotal: 3m 22s\tremaining: 3m 21s\n",
      "999:\tlearn: 17515.3671096\ttotal: 6m 48s\tremaining: 0us\n",
      "0:\tlearn: 34559.3536562\ttotal: 531ms\tremaining: 8m 50s\n",
      "500:\tlearn: 20440.9532327\ttotal: 3m 52s\tremaining: 3m 51s\n",
      "999:\tlearn: 17251.9921843\ttotal: 7m 33s\tremaining: 0us\n",
      "0:\tlearn: 31875.8498165\ttotal: 413ms\tremaining: 6m 52s\n",
      "500:\tlearn: 9696.9065532\ttotal: 3m 28s\tremaining: 3m 27s\n",
      "999:\tlearn: 5460.7508051\ttotal: 7m 7s\tremaining: 0us\n",
      "0:\tlearn: 31492.6523635\ttotal: 561ms\tremaining: 9m 20s\n",
      "500:\tlearn: 9698.5919439\ttotal: 3m 45s\tremaining: 3m 45s\n",
      "999:\tlearn: 5585.1015131\ttotal: 7m 14s\tremaining: 0us\n",
      "0:\tlearn: 30865.5525068\ttotal: 525ms\tremaining: 8m 44s\n",
      "500:\tlearn: 9374.2338377\ttotal: 3m 29s\tremaining: 3m 28s\n",
      "999:\tlearn: 5315.5381332\ttotal: 6m 55s\tremaining: 0us\n",
      "0:\tlearn: 32375.0482877\ttotal: 525ms\tremaining: 8m 44s\n",
      "500:\tlearn: 9775.0593688\ttotal: 3m 28s\tremaining: 3m 27s\n",
      "999:\tlearn: 5608.3610120\ttotal: 6m 50s\tremaining: 0us\n",
      "0:\tlearn: 31979.7261659\ttotal: 527ms\tremaining: 8m 46s\n",
      "500:\tlearn: 9699.3899377\ttotal: 3m 20s\tremaining: 3m 19s\n",
      "999:\tlearn: 5547.1559419\ttotal: 6m 38s\tremaining: 0us\n",
      "0:\tlearn: 33986.0485681\ttotal: 2.15s\tremaining: 35m 49s\n",
      "500:\tlearn: 15757.6135985\ttotal: 13m 9s\tremaining: 13m 5s\n",
      "999:\tlearn: 11705.2258883\ttotal: 26m 16s\tremaining: 0us\n",
      "0:\tlearn: 33940.0818209\ttotal: 1.76s\tremaining: 29m 23s\n",
      "500:\tlearn: 15863.9535336\ttotal: 13m 9s\tremaining: 13m 6s\n",
      "999:\tlearn: 11783.8239023\ttotal: 26m 25s\tremaining: 0us\n",
      "0:\tlearn: 33250.9227900\ttotal: 1.61s\tremaining: 26m 45s\n",
      "500:\tlearn: 15462.8887847\ttotal: 13m 6s\tremaining: 13m 3s\n",
      "999:\tlearn: 11567.3173744\ttotal: 26m 11s\tremaining: 0us\n",
      "0:\tlearn: 34676.2516647\ttotal: 1.61s\tremaining: 26m 51s\n",
      "500:\tlearn: 15826.8636196\ttotal: 13m 28s\tremaining: 13m 25s\n",
      "999:\tlearn: 11801.1945963\ttotal: 26m 48s\tremaining: 0us\n",
      "0:\tlearn: 34295.0415594\ttotal: 1.7s\tremaining: 28m 19s\n",
      "500:\tlearn: 15545.8891846\ttotal: 13m 22s\tremaining: 13m 19s\n",
      "999:\tlearn: 11585.6019084\ttotal: 26m 40s\tremaining: 0us\n",
      "0:\tlearn: 30116.5346325\ttotal: 1.58s\tremaining: 26m 23s\n",
      "500:\tlearn: 3687.7552675\ttotal: 12m 56s\tremaining: 12m 53s\n",
      "999:\tlearn: 1444.0811618\ttotal: 25m 50s\tremaining: 0us\n",
      "0:\tlearn: 30142.4843060\ttotal: 1.58s\tremaining: 26m 20s\n",
      "500:\tlearn: 3683.3069335\ttotal: 13m 1s\tremaining: 12m 58s\n",
      "999:\tlearn: 1442.4011782\ttotal: 26m\tremaining: 0us\n",
      "0:\tlearn: 29142.3320534\ttotal: 1.57s\tremaining: 26m 10s\n",
      "500:\tlearn: 3597.0688100\ttotal: 12m 58s\tremaining: 12m 55s\n",
      "999:\tlearn: 1156.1072841\ttotal: 25m 54s\tremaining: 0us\n",
      "0:\tlearn: 31124.4005957\ttotal: 1.6s\tremaining: 26m 36s\n",
      "500:\tlearn: 3817.5516560\ttotal: 13m 1s\tremaining: 12m 57s\n",
      "999:\tlearn: 1487.1521914\ttotal: 26m 3s\tremaining: 0us\n",
      "0:\tlearn: 30302.8025809\ttotal: 1.6s\tremaining: 26m 38s\n",
      "500:\tlearn: 3680.2487916\ttotal: 13m 3s\tremaining: 13m\n",
      "999:\tlearn: 1435.1578750\ttotal: 26m 4s\tremaining: 0us\n",
      "0:\tlearn: 33969.7118293\ttotal: 1.95s\tremaining: 32m 23s\n",
      "500:\tlearn: 16494.7422064\ttotal: 16m 44s\tremaining: 16m 40s\n",
      "999:\tlearn: 12685.2035738\ttotal: 33m 23s\tremaining: 0us\n",
      "CPU times: total: 1d 8h 46min 41s\n",
      "Wall time: 6h 8min 57s\n"
     ]
    },
    {
     "data": {
      "text/plain": "GridSearchCV(cv=5,\n             estimator=<catboost.core.CatBoostRegressor object at 0x000001EE96DA5100>,\n             param_grid={'depth': [3, 7], 'learning_rate': [0.1, 1]})",
      "text/html": "<style>#sk-container-id-2 {color: black;background-color: white;}#sk-container-id-2 pre{padding: 0;}#sk-container-id-2 div.sk-toggleable {background-color: white;}#sk-container-id-2 label.sk-toggleable__label {cursor: pointer;display: block;width: 100%;margin-bottom: 0;padding: 0.3em;box-sizing: border-box;text-align: center;}#sk-container-id-2 label.sk-toggleable__label-arrow:before {content: \"▸\";float: left;margin-right: 0.25em;color: #696969;}#sk-container-id-2 label.sk-toggleable__label-arrow:hover:before {color: black;}#sk-container-id-2 div.sk-estimator:hover label.sk-toggleable__label-arrow:before {color: black;}#sk-container-id-2 div.sk-toggleable__content {max-height: 0;max-width: 0;overflow: hidden;text-align: left;background-color: #f0f8ff;}#sk-container-id-2 div.sk-toggleable__content pre {margin: 0.2em;color: black;border-radius: 0.25em;background-color: #f0f8ff;}#sk-container-id-2 input.sk-toggleable__control:checked~div.sk-toggleable__content {max-height: 200px;max-width: 100%;overflow: auto;}#sk-container-id-2 input.sk-toggleable__control:checked~label.sk-toggleable__label-arrow:before {content: \"▾\";}#sk-container-id-2 div.sk-estimator input.sk-toggleable__control:checked~label.sk-toggleable__label {background-color: #d4ebff;}#sk-container-id-2 div.sk-label input.sk-toggleable__control:checked~label.sk-toggleable__label {background-color: #d4ebff;}#sk-container-id-2 input.sk-hidden--visually {border: 0;clip: rect(1px 1px 1px 1px);clip: rect(1px, 1px, 1px, 1px);height: 1px;margin: -1px;overflow: hidden;padding: 0;position: absolute;width: 1px;}#sk-container-id-2 div.sk-estimator {font-family: monospace;background-color: #f0f8ff;border: 1px dotted black;border-radius: 0.25em;box-sizing: border-box;margin-bottom: 0.5em;}#sk-container-id-2 div.sk-estimator:hover {background-color: #d4ebff;}#sk-container-id-2 div.sk-parallel-item::after {content: \"\";width: 100%;border-bottom: 1px solid gray;flex-grow: 1;}#sk-container-id-2 div.sk-label:hover label.sk-toggleable__label {background-color: #d4ebff;}#sk-container-id-2 div.sk-serial::before {content: \"\";position: absolute;border-left: 1px solid gray;box-sizing: border-box;top: 0;bottom: 0;left: 50%;z-index: 0;}#sk-container-id-2 div.sk-serial {display: flex;flex-direction: column;align-items: center;background-color: white;padding-right: 0.2em;padding-left: 0.2em;position: relative;}#sk-container-id-2 div.sk-item {position: relative;z-index: 1;}#sk-container-id-2 div.sk-parallel {display: flex;align-items: stretch;justify-content: center;background-color: white;position: relative;}#sk-container-id-2 div.sk-item::before, #sk-container-id-2 div.sk-parallel-item::before {content: \"\";position: absolute;border-left: 1px solid gray;box-sizing: border-box;top: 0;bottom: 0;left: 50%;z-index: -1;}#sk-container-id-2 div.sk-parallel-item {display: flex;flex-direction: column;z-index: 1;position: relative;background-color: white;}#sk-container-id-2 div.sk-parallel-item:first-child::after {align-self: flex-end;width: 50%;}#sk-container-id-2 div.sk-parallel-item:last-child::after {align-self: flex-start;width: 50%;}#sk-container-id-2 div.sk-parallel-item:only-child::after {width: 0;}#sk-container-id-2 div.sk-dashed-wrapped {border: 1px dashed gray;margin: 0 0.4em 0.5em 0.4em;box-sizing: border-box;padding-bottom: 0.4em;background-color: white;}#sk-container-id-2 div.sk-label label {font-family: monospace;font-weight: bold;display: inline-block;line-height: 1.2em;}#sk-container-id-2 div.sk-label-container {text-align: center;}#sk-container-id-2 div.sk-container {/* jupyter's `normalize.less` sets `[hidden] { display: none; }` but bootstrap.min.css set `[hidden] { display: none !important; }` so we also need the `!important` here to be able to override the default hidden behavior on the sphinx rendered scikit-learn.org. See: https://github.com/scikit-learn/scikit-learn/issues/21755 */display: inline-block !important;position: relative;}#sk-container-id-2 div.sk-text-repr-fallback {display: none;}</style><div id=\"sk-container-id-2\" class=\"sk-top-container\"><div class=\"sk-text-repr-fallback\"><pre>GridSearchCV(cv=5,\n             estimator=&lt;catboost.core.CatBoostRegressor object at 0x000001EE96DA5100&gt;,\n             param_grid={&#x27;depth&#x27;: [3, 7], &#x27;learning_rate&#x27;: [0.1, 1]})</pre><b>In a Jupyter environment, please rerun this cell to show the HTML representation or trust the notebook. <br />On GitHub, the HTML representation is unable to render, please try loading this page with nbviewer.org.</b></div><div class=\"sk-container\" hidden><div class=\"sk-item sk-dashed-wrapped\"><div class=\"sk-label-container\"><div class=\"sk-label sk-toggleable\"><input class=\"sk-toggleable__control sk-hidden--visually\" id=\"sk-estimator-id-4\" type=\"checkbox\" ><label for=\"sk-estimator-id-4\" class=\"sk-toggleable__label sk-toggleable__label-arrow\">GridSearchCV</label><div class=\"sk-toggleable__content\"><pre>GridSearchCV(cv=5,\n             estimator=&lt;catboost.core.CatBoostRegressor object at 0x000001EE96DA5100&gt;,\n             param_grid={&#x27;depth&#x27;: [3, 7], &#x27;learning_rate&#x27;: [0.1, 1]})</pre></div></div></div><div class=\"sk-parallel\"><div class=\"sk-parallel-item\"><div class=\"sk-item\"><div class=\"sk-label-container\"><div class=\"sk-label sk-toggleable\"><input class=\"sk-toggleable__control sk-hidden--visually\" id=\"sk-estimator-id-5\" type=\"checkbox\" ><label for=\"sk-estimator-id-5\" class=\"sk-toggleable__label sk-toggleable__label-arrow\">estimator: CatBoostRegressor</label><div class=\"sk-toggleable__content\"><pre>&lt;catboost.core.CatBoostRegressor object at 0x000001EE96DA5100&gt;</pre></div></div></div><div class=\"sk-serial\"><div class=\"sk-item\"><div class=\"sk-estimator sk-toggleable\"><input class=\"sk-toggleable__control sk-hidden--visually\" id=\"sk-estimator-id-6\" type=\"checkbox\" ><label for=\"sk-estimator-id-6\" class=\"sk-toggleable__label sk-toggleable__label-arrow\">CatBoostRegressor</label><div class=\"sk-toggleable__content\"><pre>&lt;catboost.core.CatBoostRegressor object at 0x000001EE96DA5100&gt;</pre></div></div></div></div></div></div></div></div></div></div>"
     },
     "execution_count": 255,
     "metadata": {},
     "output_type": "execute_result"
    }
   ],
   "source": [
    "%%time\n",
    "# Define the hyperparameter grid to search over\n",
    "param_grid = {\n",
    "    'depth': [3, 7],\n",
    "    'learning_rate': [0.1, 1],\n",
    "    # 'l2_leaf_reg': [1, 3, 5]\n",
    "}\n",
    "\n",
    "# Perform grid search over the hyperparameters\n",
    "catboost_2 = CatBoostRegressor(loss_function='RMSE', verbose=500)\n",
    "grid_search_2 = GridSearchCV(catboost_2, param_grid=param_grid, cv=5)\n",
    "grid_search_2.fit(X_train_scaled, y_train)"
   ],
   "metadata": {
    "collapsed": false
   }
  },
  {
   "cell_type": "code",
   "execution_count": 256,
   "outputs": [
    {
     "name": "stdout",
     "output_type": "stream",
     "text": [
      "0:\tlearn: 33969.7118293\ttotal: 2.13s\tremaining: 35m 29s\n",
      "500:\tlearn: 16494.7422064\ttotal: 17m 1s\tremaining: 16m 57s\n",
      "999:\tlearn: 12685.2035738\ttotal: 34m 15s\tremaining: 0us\n",
      "CPU times: total: 3h 20min 30s\n",
      "Wall time: 34min 27s\n"
     ]
    },
    {
     "data": {
      "text/plain": "<catboost.core.CatBoostRegressor at 0x1ee7c313670>"
     },
     "execution_count": 256,
     "metadata": {},
     "output_type": "execute_result"
    }
   ],
   "source": [
    "%%time\n",
    "final_cat_2 = CatBoostRegressor(depth=grid_search_2.best_params_['depth'],\n",
    "        # l2_leaf_reg=grid_search.best_params_['l2_leaf_reg'],\n",
    "        learning_rate=grid_search_2.best_params_['learning_rate'],\n",
    "        loss_function='RMSE',\n",
    "        verbose=500)\n",
    "\n",
    "final_cat_2.fit(X_train_scaled, y_train)"
   ],
   "metadata": {
    "collapsed": false
   }
  },
  {
   "cell_type": "code",
   "execution_count": 257,
   "outputs": [
    {
     "name": "stdout",
     "output_type": "stream",
     "text": [
      "Best Hyperparameters CatBoost Regressor:  {'learning_rate': 0.1, 'depth': 7, 'loss_function': 'RMSE', 'verbose': 500}\n",
      "MSE CatBoost Regressor:  538868241.9371725\n",
      "\n",
      "R2 Score:  0.47217749265463727\n"
     ]
    }
   ],
   "source": [
    "best_params_2 = final_cat_2.get_params()\n",
    "print(\"Best Hyperparameters CatBoost Regressor: \", best_params)\n",
    "\n",
    "y_pred_mse_2 = final_cat_2.predict(X_test_scaled)\n",
    "mse = mean_squared_error(y_test, y_pred_mse_2)\n",
    "print(\"MSE CatBoost Regressor: \", mse)\n",
    "\n",
    "print()\n",
    "y_pred_r2 = final_cat_2.predict(X_test_scaled)\n",
    "r2 = r2_score(y_test, y_pred_r2)\n",
    "print(\"R2 Score: \", r2)"
   ],
   "metadata": {
    "collapsed": false
   }
  },
  {
   "cell_type": "markdown",
   "source": [
    "### 3) Basic Neural Network with w2v"
   ],
   "metadata": {
    "collapsed": false
   }
  },
  {
   "cell_type": "code",
   "execution_count": 172,
   "outputs": [
    {
     "name": "stdout",
     "output_type": "stream",
     "text": [
      "(13303, 200)\n",
      "(13303,)\n",
      "(3326, 200)\n",
      "(3326,)\n"
     ]
    }
   ],
   "source": [
    "train_final['clean'] = train_final['clean'].apply(lambda x: 'NA' if not isinstance(x, str) or len(x) == 0 else x)\n",
    "# Tokenize the text\n",
    "tokenized_text = [text.split() for text in train_final['clean']]\n",
    "\n",
    "# Train the Word2Vec model # BoW\n",
    "w2v = word2vec.Word2Vec(tokenized_text, workers=4, vector_size=200, min_count=5,\n",
    "                        window=5, sample=1e-3)\n",
    "\n",
    "# Define the function to get the tweet embedding\n",
    "def get_tweet_embedding(lemmas, model=w2v.wv, embedding_size=200):\n",
    "    res = np.zeros(embedding_size)\n",
    "    cnt = 0\n",
    "    for word in lemmas.split():\n",
    "        if word in model:\n",
    "            res += np.array(model[word])\n",
    "            cnt += 1\n",
    "    if cnt:\n",
    "        res = res / cnt\n",
    "    return res\n",
    "\n",
    "# Apply the function to get the tweet embeddings\n",
    "train_final['w2v_embedding'] = train_final['clean'].apply(get_tweet_embedding)\n",
    "test_final['w2v_embedding'] = test_final['clean'].apply(get_tweet_embedding)\n",
    "\n",
    "# Split the data into training and testing sets\n",
    "X_train, X_test, y_train, y_test = train_test_split(train_final['w2v_embedding'],\n",
    "                                                    train_final['salary'],\n",
    "                                                    test_size=0.2,\n",
    "                                                    random_state=5)\n",
    "X_train = np.array([np.array(val) for val in X_train])\n",
    "X_test = np.array([np.array(val) for val in X_test])\n",
    "\n",
    "# y_train = np.array([np.array(val) for val in y_train])\n",
    "# y_test = np.array([np.array(val) for val in y_test])\n",
    "\n",
    "# Check the shapes of the arrays\n",
    "print(X_train.shape)\n",
    "print(y_train.shape)\n",
    "\n",
    "print(X_test.shape)\n",
    "print(y_test.shape)"
   ],
   "metadata": {
    "collapsed": false
   }
  },
  {
   "cell_type": "code",
   "execution_count": 174,
   "outputs": [],
   "source": [
    "test_final['w2v_embedding'].to_csv('actual_test_data.csv')"
   ],
   "metadata": {
    "collapsed": false
   }
  },
  {
   "cell_type": "code",
   "execution_count": 60,
   "outputs": [
    {
     "data": {
      "text/plain": "[('гарант', 0.6117780208587646),\n ('преимущество', 0.531769871711731),\n ('спс', 0.5062592029571533),\n ('препроцессор', 0.4878495931625366),\n ('приветствоваться', 0.4876454770565033),\n ('огромный', 0.483335018157959),\n ('хотя', 0.4720667600631714),\n ('выше', 0.4662870466709137),\n ('ооп', 0.46482980251312256),\n ('контур', 0.4641130268573761)]"
     },
     "execution_count": 60,
     "metadata": {},
     "output_type": "execute_result"
    }
   ],
   "source": [
    "w2v.wv.most_similar(positive=['плюс'], topn=10)"
   ],
   "metadata": {
    "collapsed": false
   }
  },
  {
   "cell_type": "code",
   "execution_count": 79,
   "outputs": [
    {
     "name": "stdout",
     "output_type": "stream",
     "text": [
      "Epoch 1/100\n",
      "416/416 [==============================] - 1s 2ms/step - loss: 3660863744.0000 - val_loss: 2421640448.0000\n",
      "Epoch 2/100\n",
      "416/416 [==============================] - 1s 2ms/step - loss: 1760125696.0000 - val_loss: 1169564416.0000\n",
      "Epoch 3/100\n",
      "416/416 [==============================] - 1s 1ms/step - loss: 1314231296.0000 - val_loss: 1042298560.0000\n",
      "Epoch 4/100\n",
      "416/416 [==============================] - 1s 1ms/step - loss: 1191397888.0000 - val_loss: 946023360.0000\n",
      "Epoch 5/100\n",
      "416/416 [==============================] - 1s 1ms/step - loss: 1099420032.0000 - val_loss: 874959104.0000\n",
      "Epoch 6/100\n",
      "416/416 [==============================] - 1s 1ms/step - loss: 1033871744.0000 - val_loss: 825374336.0000\n",
      "Epoch 7/100\n",
      "416/416 [==============================] - 1s 1ms/step - loss: 990936256.0000 - val_loss: 798138816.0000\n",
      "Epoch 8/100\n",
      "416/416 [==============================] - 1s 1ms/step - loss: 965362752.0000 - val_loss: 779159744.0000\n",
      "Epoch 9/100\n",
      "416/416 [==============================] - 0s 1ms/step - loss: 949446464.0000 - val_loss: 769952064.0000\n",
      "Epoch 10/100\n",
      "416/416 [==============================] - 0s 1ms/step - loss: 939094656.0000 - val_loss: 760760896.0000\n",
      "Epoch 11/100\n",
      "416/416 [==============================] - 0s 1ms/step - loss: 930651584.0000 - val_loss: 755029056.0000\n",
      "Epoch 12/100\n",
      "416/416 [==============================] - 1s 1ms/step - loss: 923361920.0000 - val_loss: 749966144.0000\n",
      "Epoch 13/100\n",
      "416/416 [==============================] - 1s 1ms/step - loss: 917549056.0000 - val_loss: 744910464.0000\n",
      "Epoch 14/100\n",
      "416/416 [==============================] - 1s 1ms/step - loss: 912959872.0000 - val_loss: 744656448.0000\n",
      "Epoch 15/100\n",
      "416/416 [==============================] - 0s 1ms/step - loss: 907908096.0000 - val_loss: 739616256.0000\n",
      "Epoch 16/100\n",
      "416/416 [==============================] - 0s 1ms/step - loss: 903890432.0000 - val_loss: 741045632.0000\n",
      "Epoch 17/100\n",
      "416/416 [==============================] - 0s 1ms/step - loss: 899839936.0000 - val_loss: 733317504.0000\n",
      "Epoch 18/100\n",
      "416/416 [==============================] - 1s 1ms/step - loss: 895987136.0000 - val_loss: 730090240.0000\n",
      "Epoch 19/100\n",
      "416/416 [==============================] - 1s 2ms/step - loss: 892353408.0000 - val_loss: 728698368.0000\n",
      "Epoch 20/100\n",
      "416/416 [==============================] - 1s 1ms/step - loss: 889085632.0000 - val_loss: 724417664.0000\n",
      "Epoch 21/100\n",
      "416/416 [==============================] - 0s 1ms/step - loss: 885908416.0000 - val_loss: 724930368.0000\n",
      "Epoch 22/100\n",
      "416/416 [==============================] - 1s 1ms/step - loss: 882842880.0000 - val_loss: 723042304.0000\n",
      "Epoch 23/100\n",
      "416/416 [==============================] - 1s 1ms/step - loss: 880041152.0000 - val_loss: 718922816.0000\n",
      "Epoch 24/100\n",
      "416/416 [==============================] - 1s 1ms/step - loss: 877365056.0000 - val_loss: 717378624.0000\n",
      "Epoch 25/100\n",
      "416/416 [==============================] - 0s 1ms/step - loss: 874609984.0000 - val_loss: 714895360.0000\n",
      "Epoch 26/100\n",
      "416/416 [==============================] - 0s 1ms/step - loss: 872145728.0000 - val_loss: 714122112.0000\n",
      "Epoch 27/100\n",
      "416/416 [==============================] - 0s 1ms/step - loss: 869411072.0000 - val_loss: 711083200.0000\n",
      "Epoch 28/100\n",
      "416/416 [==============================] - 0s 1ms/step - loss: 867745408.0000 - val_loss: 709057536.0000\n",
      "Epoch 29/100\n",
      "416/416 [==============================] - 0s 1ms/step - loss: 865256832.0000 - val_loss: 707353280.0000\n",
      "Epoch 30/100\n",
      "416/416 [==============================] - 1s 1ms/step - loss: 862660416.0000 - val_loss: 707648896.0000\n",
      "Epoch 31/100\n",
      "416/416 [==============================] - 1s 1ms/step - loss: 860817152.0000 - val_loss: 705252416.0000\n",
      "Epoch 32/100\n",
      "416/416 [==============================] - 0s 1ms/step - loss: 858977984.0000 - val_loss: 702127808.0000\n",
      "Epoch 33/100\n",
      "416/416 [==============================] - 0s 1ms/step - loss: 857319936.0000 - val_loss: 701871488.0000\n",
      "Epoch 34/100\n",
      "416/416 [==============================] - 0s 1ms/step - loss: 855730304.0000 - val_loss: 701275840.0000\n",
      "Epoch 35/100\n",
      "416/416 [==============================] - 0s 1ms/step - loss: 853571840.0000 - val_loss: 699920704.0000\n",
      "Epoch 36/100\n",
      "416/416 [==============================] - 0s 1ms/step - loss: 852012416.0000 - val_loss: 700012352.0000\n",
      "Epoch 37/100\n",
      "416/416 [==============================] - 0s 1ms/step - loss: 850244480.0000 - val_loss: 701922240.0000\n",
      "Epoch 38/100\n",
      "416/416 [==============================] - 0s 1ms/step - loss: 848884352.0000 - val_loss: 698862720.0000\n",
      "Epoch 39/100\n",
      "416/416 [==============================] - 0s 1ms/step - loss: 847237120.0000 - val_loss: 696749248.0000\n",
      "Epoch 40/100\n",
      "416/416 [==============================] - 0s 1ms/step - loss: 846136128.0000 - val_loss: 696897920.0000\n",
      "Epoch 41/100\n",
      "416/416 [==============================] - 0s 1ms/step - loss: 844069696.0000 - val_loss: 692626624.0000\n",
      "Epoch 42/100\n",
      "416/416 [==============================] - 1s 1ms/step - loss: 843095168.0000 - val_loss: 692787264.0000\n",
      "Epoch 43/100\n",
      "416/416 [==============================] - 1s 1ms/step - loss: 841533504.0000 - val_loss: 692984576.0000\n",
      "Epoch 44/100\n",
      "416/416 [==============================] - 1s 1ms/step - loss: 840057024.0000 - val_loss: 689806720.0000\n",
      "Epoch 45/100\n",
      "416/416 [==============================] - 0s 1ms/step - loss: 839374272.0000 - val_loss: 688660928.0000\n",
      "Epoch 46/100\n",
      "416/416 [==============================] - 0s 1ms/step - loss: 837890240.0000 - val_loss: 691876736.0000\n",
      "Epoch 47/100\n",
      "416/416 [==============================] - 0s 1ms/step - loss: 836585856.0000 - val_loss: 688586624.0000\n",
      "Epoch 48/100\n",
      "416/416 [==============================] - 0s 1ms/step - loss: 835397824.0000 - val_loss: 686237568.0000\n",
      "Epoch 49/100\n",
      "416/416 [==============================] - 0s 1ms/step - loss: 834542848.0000 - val_loss: 685948480.0000\n",
      "Epoch 50/100\n",
      "416/416 [==============================] - 0s 1ms/step - loss: 833035392.0000 - val_loss: 688014080.0000\n",
      "Epoch 51/100\n",
      "416/416 [==============================] - 0s 1ms/step - loss: 831997568.0000 - val_loss: 686476608.0000\n",
      "Epoch 52/100\n",
      "416/416 [==============================] - 0s 1ms/step - loss: 831050048.0000 - val_loss: 684299328.0000\n",
      "Epoch 53/100\n",
      "416/416 [==============================] - 0s 1ms/step - loss: 829787456.0000 - val_loss: 681926208.0000\n",
      "Epoch 54/100\n",
      "416/416 [==============================] - 0s 1ms/step - loss: 829087616.0000 - val_loss: 682691776.0000\n",
      "Epoch 55/100\n",
      "416/416 [==============================] - 0s 1ms/step - loss: 827706304.0000 - val_loss: 683752448.0000\n",
      "Epoch 56/100\n",
      "416/416 [==============================] - 0s 1ms/step - loss: 827186624.0000 - val_loss: 682603776.0000\n",
      "Epoch 57/100\n",
      "416/416 [==============================] - 0s 1ms/step - loss: 825957056.0000 - val_loss: 682177792.0000\n",
      "Epoch 58/100\n",
      "416/416 [==============================] - 0s 1ms/step - loss: 824451968.0000 - val_loss: 678321984.0000\n",
      "Epoch 59/100\n",
      "416/416 [==============================] - 0s 1ms/step - loss: 824188480.0000 - val_loss: 681159872.0000\n",
      "Epoch 60/100\n",
      "416/416 [==============================] - 1s 1ms/step - loss: 823386752.0000 - val_loss: 679991872.0000\n",
      "Epoch 61/100\n",
      "416/416 [==============================] - 0s 1ms/step - loss: 822558720.0000 - val_loss: 678122880.0000\n",
      "Epoch 62/100\n",
      "416/416 [==============================] - 1s 1ms/step - loss: 821536960.0000 - val_loss: 679122624.0000\n",
      "Epoch 63/100\n",
      "416/416 [==============================] - 1s 2ms/step - loss: 820752640.0000 - val_loss: 677045888.0000\n",
      "Epoch 64/100\n",
      "416/416 [==============================] - 1s 1ms/step - loss: 819716288.0000 - val_loss: 677979328.0000\n",
      "Epoch 65/100\n",
      "416/416 [==============================] - 0s 1ms/step - loss: 819045696.0000 - val_loss: 677372032.0000\n",
      "Epoch 66/100\n",
      "416/416 [==============================] - 0s 1ms/step - loss: 818246528.0000 - val_loss: 676800704.0000\n",
      "Epoch 67/100\n",
      "416/416 [==============================] - 0s 1ms/step - loss: 817286208.0000 - val_loss: 674292672.0000\n",
      "Epoch 68/100\n",
      "416/416 [==============================] - 0s 1ms/step - loss: 817222976.0000 - val_loss: 675334592.0000\n",
      "Epoch 69/100\n",
      "416/416 [==============================] - 0s 1ms/step - loss: 815806208.0000 - val_loss: 673191232.0000\n",
      "Epoch 70/100\n",
      "416/416 [==============================] - 1s 1ms/step - loss: 815148160.0000 - val_loss: 676684288.0000\n",
      "Epoch 71/100\n",
      "416/416 [==============================] - 0s 1ms/step - loss: 814375424.0000 - val_loss: 671850496.0000\n",
      "Epoch 72/100\n",
      "416/416 [==============================] - 0s 1ms/step - loss: 814034304.0000 - val_loss: 672723392.0000\n",
      "Epoch 73/100\n",
      "416/416 [==============================] - 0s 1ms/step - loss: 813158400.0000 - val_loss: 671172480.0000\n",
      "Epoch 74/100\n",
      "416/416 [==============================] - 1s 1ms/step - loss: 812460672.0000 - val_loss: 673430784.0000\n",
      "Epoch 75/100\n",
      "416/416 [==============================] - 0s 1ms/step - loss: 811718912.0000 - val_loss: 672120896.0000\n",
      "Epoch 76/100\n",
      "416/416 [==============================] - 0s 1ms/step - loss: 811252160.0000 - val_loss: 674134528.0000\n",
      "Epoch 77/100\n",
      "416/416 [==============================] - 0s 1ms/step - loss: 810532160.0000 - val_loss: 670729152.0000\n",
      "Epoch 78/100\n",
      "416/416 [==============================] - 1s 1ms/step - loss: 809756224.0000 - val_loss: 668793792.0000\n",
      "Epoch 79/100\n",
      "416/416 [==============================] - 0s 1ms/step - loss: 809119168.0000 - val_loss: 669118848.0000\n",
      "Epoch 80/100\n",
      "416/416 [==============================] - 0s 1ms/step - loss: 808424320.0000 - val_loss: 671449600.0000\n",
      "Epoch 81/100\n",
      "416/416 [==============================] - 0s 1ms/step - loss: 807882496.0000 - val_loss: 670444608.0000\n",
      "Epoch 82/100\n",
      "416/416 [==============================] - 0s 1ms/step - loss: 807421312.0000 - val_loss: 668070528.0000\n",
      "Epoch 83/100\n",
      "416/416 [==============================] - 0s 1ms/step - loss: 806695936.0000 - val_loss: 666338624.0000\n",
      "Epoch 84/100\n",
      "416/416 [==============================] - 0s 1ms/step - loss: 806286400.0000 - val_loss: 668604800.0000\n",
      "Epoch 85/100\n",
      "416/416 [==============================] - 0s 1ms/step - loss: 805461120.0000 - val_loss: 666945984.0000\n",
      "Epoch 86/100\n",
      "416/416 [==============================] - 0s 1ms/step - loss: 804974592.0000 - val_loss: 666216384.0000\n",
      "Epoch 87/100\n",
      "416/416 [==============================] - 0s 1ms/step - loss: 804318144.0000 - val_loss: 663538624.0000\n",
      "Epoch 88/100\n",
      "416/416 [==============================] - 0s 1ms/step - loss: 803956032.0000 - val_loss: 664800640.0000\n",
      "Epoch 89/100\n",
      "416/416 [==============================] - 1s 2ms/step - loss: 803474432.0000 - val_loss: 666226688.0000\n",
      "Epoch 90/100\n",
      "416/416 [==============================] - 1s 1ms/step - loss: 802758208.0000 - val_loss: 664822592.0000\n",
      "Epoch 91/100\n",
      "416/416 [==============================] - 0s 1ms/step - loss: 801971136.0000 - val_loss: 667350272.0000\n",
      "Epoch 92/100\n",
      "416/416 [==============================] - 0s 1ms/step - loss: 801607360.0000 - val_loss: 666185920.0000\n",
      "Epoch 92: early stopping\n"
     ]
    }
   ],
   "source": [
    "# Initialize the model\n",
    "model = Sequential()\n",
    "\n",
    "# Add the first hidden layer\n",
    "model.add(Dense(units=64, activation='relu', input_shape=X_train[0].shape))\n",
    "\n",
    "# Add the second hidden layer\n",
    "model.add(Dense(units=32, activation='relu'))\n",
    "\n",
    "# Add the output layer\n",
    "model.add(Dense(units=1))\n",
    "\n",
    "# Compile the model\n",
    "model.compile(optimizer='adam', loss='mean_squared_error')\n",
    "\n",
    "# Initialize the EarlyStopping callback\n",
    "early_stop = EarlyStopping(monitor='val_loss', patience=5, verbose=50)\n",
    "\n",
    "# Train the model with the EarlyStopping callback\n",
    "history = model.fit(X_train, y_train, epochs=100, batch_size=32,\n",
    "                    validation_data=(X_test, y_test),\n",
    "                    callbacks=[early_stop])"
   ],
   "metadata": {
    "collapsed": false
   }
  },
  {
   "cell_type": "code",
   "execution_count": 69,
   "outputs": [
    {
     "name": "stdout",
     "output_type": "stream",
     "text": [
      "104/104 [==============================] - 0s 795us/step - loss: 698357056.0000\n",
      "Test MSE: 698357056.0\n"
     ]
    }
   ],
   "source": [
    "# Evaluate the model on the test data\n",
    "test_loss = model.evaluate(X_test, y_test)\n",
    "\n",
    "# Print the MSE score\n",
    "print('Test MSE:', test_loss)"
   ],
   "metadata": {
    "collapsed": false
   }
  },
  {
   "cell_type": "markdown",
   "source": [
    "### 4) CNN"
   ],
   "metadata": {
    "collapsed": false
   }
  },
  {
   "cell_type": "code",
   "execution_count": 86,
   "outputs": [
    {
     "name": "stdout",
     "output_type": "stream",
     "text": [
      "Epoch 1/100\n",
      "416/416 [==============================] - 4s 8ms/step - loss: 2188526592.0000 - val_loss: 1040789760.0000\n",
      "Epoch 2/100\n",
      "416/416 [==============================] - 3s 8ms/step - loss: 1343708544.0000 - val_loss: 1031800384.0000\n",
      "Epoch 3/100\n",
      "416/416 [==============================] - 4s 9ms/step - loss: 1326618368.0000 - val_loss: 1022469760.0000\n",
      "Epoch 4/100\n",
      "416/416 [==============================] - 4s 10ms/step - loss: 1308593664.0000 - val_loss: 1004392768.0000\n",
      "Epoch 5/100\n",
      "416/416 [==============================] - 3s 8ms/step - loss: 1304562688.0000 - val_loss: 993053696.0000\n",
      "Epoch 6/100\n",
      "416/416 [==============================] - 3s 8ms/step - loss: 1290273792.0000 - val_loss: 970129280.0000\n",
      "Epoch 7/100\n",
      "416/416 [==============================] - 3s 8ms/step - loss: 1241264000.0000 - val_loss: 945539776.0000\n",
      "Epoch 8/100\n",
      "416/416 [==============================] - 3s 8ms/step - loss: 1229308032.0000 - val_loss: 911159232.0000\n",
      "Epoch 9/100\n",
      "416/416 [==============================] - 3s 8ms/step - loss: 1166617088.0000 - val_loss: 856407424.0000\n",
      "Epoch 10/100\n",
      "416/416 [==============================] - 3s 8ms/step - loss: 1109002880.0000 - val_loss: 816694400.0000\n",
      "Epoch 11/100\n",
      "416/416 [==============================] - 3s 8ms/step - loss: 1099240576.0000 - val_loss: 797982400.0000\n",
      "Epoch 12/100\n",
      "416/416 [==============================] - 3s 8ms/step - loss: 1072230464.0000 - val_loss: 773065600.0000\n",
      "Epoch 13/100\n",
      "416/416 [==============================] - 3s 8ms/step - loss: 1062097344.0000 - val_loss: 766613824.0000\n",
      "Epoch 14/100\n",
      "416/416 [==============================] - 3s 8ms/step - loss: 1047269312.0000 - val_loss: 757236416.0000\n",
      "Epoch 15/100\n",
      "416/416 [==============================] - 3s 8ms/step - loss: 1041736832.0000 - val_loss: 753664896.0000\n",
      "Epoch 16/100\n",
      "416/416 [==============================] - 3s 8ms/step - loss: 1048402176.0000 - val_loss: 751576448.0000\n",
      "Epoch 17/100\n",
      "416/416 [==============================] - 3s 8ms/step - loss: 1033505600.0000 - val_loss: 755123200.0000\n",
      "Epoch 18/100\n",
      "416/416 [==============================] - 3s 8ms/step - loss: 1031939136.0000 - val_loss: 765336896.0000\n",
      "Epoch 19/100\n",
      "416/416 [==============================] - 3s 8ms/step - loss: 1026462976.0000 - val_loss: 743773952.0000\n",
      "Epoch 20/100\n",
      "416/416 [==============================] - 3s 8ms/step - loss: 1020630208.0000 - val_loss: 737413888.0000\n",
      "Epoch 21/100\n",
      "416/416 [==============================] - 3s 8ms/step - loss: 1008732288.0000 - val_loss: 752970944.0000\n",
      "Epoch 22/100\n",
      "416/416 [==============================] - 3s 8ms/step - loss: 1020877312.0000 - val_loss: 729289664.0000\n",
      "Epoch 23/100\n",
      "416/416 [==============================] - 4s 9ms/step - loss: 1012953728.0000 - val_loss: 741453568.0000\n",
      "Epoch 24/100\n",
      "416/416 [==============================] - 3s 8ms/step - loss: 1008419392.0000 - val_loss: 738230848.0000\n",
      "Epoch 25/100\n",
      "416/416 [==============================] - 3s 8ms/step - loss: 982565952.0000 - val_loss: 758757888.0000\n",
      "Epoch 26/100\n",
      "416/416 [==============================] - 3s 8ms/step - loss: 990610880.0000 - val_loss: 733677760.0000\n",
      "Epoch 27/100\n",
      "416/416 [==============================] - 3s 8ms/step - loss: 1000692864.0000 - val_loss: 732310592.0000\n",
      "Epoch 27: early stopping\n"
     ]
    }
   ],
   "source": [
    "from keras.layers import Conv1D, MaxPooling1D, Flatten\n",
    "\n",
    "# Reshape X_train and X_test to have a third dimension of 1\n",
    "X_train_cnn = np.reshape(X_train, (X_train.shape[0], X_train.shape[1], 1))\n",
    "X_test_cnn = np.reshape(X_test, (X_test.shape[0], X_test.shape[1], 1))\n",
    "\n",
    "# Initialize the model\n",
    "model_cnn = Sequential()\n",
    "\n",
    "# Add the first convolutional layer with 64 filters and a kernel size of 3\n",
    "model_cnn.add(Conv1D(filters=64, kernel_size=3, activation='relu', input_shape=(X_train.shape[1], 1)))\n",
    "\n",
    "# Add a max pooling layer with a pool size of 2\n",
    "model_cnn.add(MaxPooling1D(pool_size=2))\n",
    "\n",
    "# Add a dropout layer with a rate of 0.5 to prevent overfitting\n",
    "model_cnn.add(Dropout(rate=0.5))\n",
    "\n",
    "# Flatten the output from the convolutional layer\n",
    "model_cnn.add(Flatten())\n",
    "\n",
    "# Add the first hidden layer with 64 units and 'relu' activation\n",
    "model_cnn.add(Dense(units=64, activation='relu'))\n",
    "\n",
    "# Add a dropout layer with a rate of 0.5 to prevent overfitting\n",
    "model_cnn.add(Dropout(rate=0.5))\n",
    "\n",
    "# Add the second hidden layer with 32 units and 'relu' activation\n",
    "model_cnn.add(Dense(units=32, activation='relu'))\n",
    "\n",
    "# Add the output layer with one unit\n",
    "model_cnn.add(Dense(units=1))\n",
    "\n",
    "# Compile the model\n",
    "model_cnn.compile(optimizer='adam', loss='mean_squared_error')\n",
    "\n",
    "# Initialize the EarlyStopping callback\n",
    "early_stop = EarlyStopping(monitor='val_loss', patience=5, verbose=50)\n",
    "\n",
    "# Train the model with the EarlyStopping callback\n",
    "history_cnn = model_cnn.fit(X_train_cnn, y_train, epochs=100, batch_size=32,\n",
    "                            validation_data=(X_test_cnn, y_test),\n",
    "                            callbacks=[early_stop])"
   ],
   "metadata": {
    "collapsed": false
   }
  },
  {
   "cell_type": "markdown",
   "source": [
    "The R2 score is a metric that measures the proportion of variance in the dependent variable (y) that is predictable from the independent variable(s) (X). The R2 score ranges from 0 to 1, with 1 indicating a perfect fit and 0 indicating no linear relationship between the variables.\n",
    "\n",
    "In this case, a R2 score of 0.35 for the basic NN model means that 35% of the variance in the dependent variable (salary) can be explained by the independent variables (word embeddings). A R2 score of 0.28 for the CNN model means that 28% of the variance in the dependent variable can be explained by the independent variables.\n",
    "\n",
    "In general, a higher R2 score indicates a better fit between the independent and dependent variables. However, it is important to note that R2 score is not the only metric that should be considered when evaluating a model. Other metrics such as mean squared error, mean absolute error, and root mean squared error can provide additional insights into the performance of the model."
   ],
   "metadata": {
    "collapsed": false
   }
  },
  {
   "cell_type": "markdown",
   "source": [
    "### *Conclusion:* The best model is neural network."
   ],
   "metadata": {
    "collapsed": false
   }
  },
  {
   "cell_type": "code",
   "execution_count": 177,
   "outputs": [],
   "source": [
    "# save the model to disk\n",
    "model.save('final_model.h5')"
   ],
   "metadata": {
    "collapsed": false
   }
  }
 ],
 "metadata": {
  "kernelspec": {
   "display_name": "Python 3",
   "language": "python",
   "name": "python3"
  },
  "language_info": {
   "codemirror_mode": {
    "name": "ipython",
    "version": 2
   },
   "file_extension": ".py",
   "mimetype": "text/x-python",
   "name": "python",
   "nbconvert_exporter": "python",
   "pygments_lexer": "ipython2",
   "version": "2.7.6"
  }
 },
 "nbformat": 4,
 "nbformat_minor": 0
}
