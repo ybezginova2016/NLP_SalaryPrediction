{
 "nbformat": 4,
 "nbformat_minor": 0,
 "metadata": {
  "colab": {
   "provenance": [],
   "toc_visible": true
  },
  "kernelspec": {
   "name": "python3",
   "display_name": "Python 3"
  },
  "language_info": {
   "name": "python"
  }
 },
 "cells": [
  {
   "cell_type": "markdown",
   "source": [
    "# NLP: Salary predictions based on the job description, skills, years of experience, type of exmployment and schedule\n",
    "* For the text-based features, it's a good idea to preprocess them and convert them into numerical representations. You can combine all the text columns into one, perform text cleaning and preprocessing such as lowercasing, removing stop words, and lemmatizing. Then you can tokenize the preprocessed text and apply TF-IDF to obtain a sparse matrix representation of the text. This representation can then be used as input to your model.\n",
    "\n",
    "* For the numerical features such as experience and employment, you can use them directly in your model. You can consider normalizing these features if needed.\n",
    "\n",
    "* As for the model, we can consider using a regression model since your target feature is a numerical value (salary). Some popular regression models include Linear Regression, Random Forest Regression, Support Vector Regression (SVR), and Gradient Boosting Regression. You can try out a few of these models and compare their performance to determine which one works best for your problem.\n",
    "\n",
    "* In terms of combining different types of features, you can concatenate the numerical and text-based features and use them as input to your model. Some models, such as neural networks, can handle different types of features automatically, while others may require more preprocessing."
   ],
   "metadata": {
    "collapsed": false
   }
  },
  {
   "cell_type": "code",
   "execution_count": 1,
   "metadata": {
    "id": "HWtkAZ83jdMS",
    "colab": {
     "base_uri": "https://localhost:8080/"
    },
    "outputId": "878dbe85-bba9-4ee2-d9c4-9796f98912a6"
   },
   "outputs": [
    {
     "name": "stderr",
     "output_type": "stream",
     "text": [
      "[nltk_data] Downloading package stopwords to\n",
      "[nltk_data]     C:\\Users\\HOME\\AppData\\Roaming\\nltk_data...\n",
      "[nltk_data]   Package stopwords is already up-to-date!\n",
      "[nltk_data] Downloading package punkt to\n",
      "[nltk_data]     C:\\Users\\HOME\\AppData\\Roaming\\nltk_data...\n",
      "[nltk_data]   Package punkt is already up-to-date!\n",
      "[nltk_data] Downloading package wordnet to\n",
      "[nltk_data]     C:\\Users\\HOME\\AppData\\Roaming\\nltk_data...\n",
      "[nltk_data]   Package wordnet is already up-to-date!\n",
      "[nltk_data] Downloading package omw-1.4 to\n",
      "[nltk_data]     C:\\Users\\HOME\\AppData\\Roaming\\nltk_data...\n",
      "[nltk_data]   Package omw-1.4 is already up-to-date!\n"
     ]
    }
   ],
   "source": [
    "import re\n",
    "\n",
    "import matplotlib.pyplot as plt\n",
    "import nltk\n",
    "import numpy as np\n",
    "import pandas as pd\n",
    "import seaborn as sns\n",
    "\n",
    "nltk.download('stopwords')\n",
    "nltk.download('punkt')\n",
    "nltk.download('wordnet')\n",
    "nltk.download('omw-1.4')\n",
    "\n",
    "from nltk.tokenize import word_tokenize\n",
    "from nltk.corpus import stopwords\n",
    "from pymorphy2 import MorphAnalyzer\n",
    "from tqdm import tqdm\n",
    "from sklearn.linear_model import LinearRegression\n",
    "from sklearn.metrics import mean_squared_error\n",
    "from scipy.sparse import csr_matrix\n",
    "from sklearn.pipeline import Pipeline\n",
    "from sklearn.model_selection import GridSearchCV\n",
    "from sklearn.ensemble import RandomForestRegressor\n",
    "from tensorflow.keras.models import Sequential\n",
    "from tensorflow.keras.layers import Dense\n",
    "from tensorflow.keras.callbacks import EarlyStopping\n",
    "from sklearn.ensemble import GradientBoostingRegressor\n",
    "from catboost import CatBoostRegressor\n",
    "from tensorflow.keras.optimizers import Adam\n",
    "from sklearn.preprocessing import MinMaxScaler\n",
    "from sklearn.preprocessing import StandardScaler\n",
    "from sklearn.preprocessing import OneHotEncoder\n",
    "from sklearn.compose import ColumnTransformer\n",
    "from sklearn.preprocessing import Normalizer\n",
    "import numpy as np\n",
    "import keras\n",
    "from keras.layers import Input, Embedding, Conv1D, MaxPooling1D, Flatten, Dense\n",
    "from keras.models import Model\n",
    "from sklearn.metrics import r2_score\n",
    "\n",
    "tqdm.pandas()\n",
    "from sklearn.model_selection import train_test_split\n",
    "from collections import Counter\n",
    "from pymystem3 import Mystem\n",
    "from sklearn.feature_extraction.text import CountVectorizer\n",
    "from gensim.models import Word2Vec\n",
    "from tqdm import tqdm\n",
    "\n",
    "plt.rcParams[\"figure.figsize\"] = [12, 8]\n",
    "\n",
    "import warnings\n",
    "\n",
    "import seaborn as sns\n",
    "sns.set_style('whitegrid')\n",
    "warnings.filterwarnings('ignore')\n",
    "warnings.simplefilter(\"ignore\", category=RuntimeWarning)\n",
    "pd.options.mode.chained_assignment = None"
   ]
  },
  {
   "cell_type": "code",
   "execution_count": 269,
   "outputs": [
    {
     "name": "stdout",
     "output_type": "stream",
     "text": [
      "Collecting fasttext\n",
      "  Using cached fasttext-0.9.2.tar.gz (68 kB)\n",
      "  Preparing metadata (setup.py): started\n",
      "  Preparing metadata (setup.py): finished with status 'done'\n",
      "Requirement already satisfied: pybind11>=2.2 in c:\\users\\home\\appdata\\local\\programs\\python\\python39\\lib\\site-packages (from fasttext) (2.10.3)\n",
      "Requirement already satisfied: setuptools>=0.7.0 in c:\\users\\home\\appdata\\local\\programs\\python\\python39\\lib\\site-packages (from fasttext) (67.3.2)\n",
      "Requirement already satisfied: numpy in c:\\users\\home\\appdata\\local\\programs\\python\\python39\\lib\\site-packages (from fasttext) (1.24.2)\n",
      "Building wheels for collected packages: fasttext\n",
      "  Building wheel for fasttext (setup.py): started\n",
      "  Building wheel for fasttext (setup.py): finished with status 'error'\n",
      "  Running setup.py clean for fasttext\n",
      "Failed to build fasttext\n",
      "Installing collected packages: fasttext\n",
      "  Running setup.py install for fasttext: started\n",
      "  Running setup.py install for fasttext: finished with status 'error'\n",
      "Note: you may need to restart the kernel to use updated packages.\n"
     ]
    },
    {
     "name": "stderr",
     "output_type": "stream",
     "text": [
      "  error: subprocess-exited-with-error\n",
      "  \n",
      "  python setup.py bdist_wheel did not run successfully.\n",
      "  exit code: 1\n",
      "  \n",
      "  [20 lines of output]\n",
      "  C:\\Users\\HOME\\AppData\\Local\\Programs\\Python\\Python39\\lib\\site-packages\\setuptools\\dist.py:788: UserWarning: Usage of dash-separated 'description-file' will not be supported in future versions. Please use the underscore name 'description_file' instead\n",
      "    warnings.warn(\n",
      "  running bdist_wheel\n",
      "  running build\n",
      "  running build_py\n",
      "  creating build\n",
      "  creating build\\lib.win-amd64-cpython-39\n",
      "  creating build\\lib.win-amd64-cpython-39\\fasttext\n",
      "  copying python\\fasttext_module\\fasttext\\FastText.py -> build\\lib.win-amd64-cpython-39\\fasttext\n",
      "  copying python\\fasttext_module\\fasttext\\__init__.py -> build\\lib.win-amd64-cpython-39\\fasttext\n",
      "  creating build\\lib.win-amd64-cpython-39\\fasttext\\util\n",
      "  copying python\\fasttext_module\\fasttext\\util\\util.py -> build\\lib.win-amd64-cpython-39\\fasttext\\util\n",
      "  copying python\\fasttext_module\\fasttext\\util\\__init__.py -> build\\lib.win-amd64-cpython-39\\fasttext\\util\n",
      "  creating build\\lib.win-amd64-cpython-39\\fasttext\\tests\n",
      "  copying python\\fasttext_module\\fasttext\\tests\\test_configurations.py -> build\\lib.win-amd64-cpython-39\\fasttext\\tests\n",
      "  copying python\\fasttext_module\\fasttext\\tests\\test_script.py -> build\\lib.win-amd64-cpython-39\\fasttext\\tests\n",
      "  copying python\\fasttext_module\\fasttext\\tests\\__init__.py -> build\\lib.win-amd64-cpython-39\\fasttext\\tests\n",
      "  running build_ext\n",
      "  building 'fasttext_pybind' extension\n",
      "  error: Microsoft Visual C++ 14.0 or greater is required. Get it with \"Microsoft C++ Build Tools\": https://visualstudio.microsoft.com/visual-cpp-build-tools/\n",
      "  [end of output]\n",
      "  \n",
      "  note: This error originates from a subprocess, and is likely not a problem with pip.\n",
      "  ERROR: Failed building wheel for fasttext\n",
      "  error: subprocess-exited-with-error\n",
      "  \n",
      "  Running setup.py install for fasttext did not run successfully.\n",
      "  exit code: 1\n",
      "  \n",
      "  [22 lines of output]\n",
      "  C:\\Users\\HOME\\AppData\\Local\\Programs\\Python\\Python39\\lib\\site-packages\\setuptools\\dist.py:788: UserWarning: Usage of dash-separated 'description-file' will not be supported in future versions. Please use the underscore name 'description_file' instead\n",
      "    warnings.warn(\n",
      "  running install\n",
      "  C:\\Users\\HOME\\AppData\\Local\\Programs\\Python\\Python39\\lib\\site-packages\\setuptools\\command\\install.py:34: SetuptoolsDeprecationWarning: setup.py install is deprecated. Use build and pip and other standards-based tools.\n",
      "    warnings.warn(\n",
      "  running build\n",
      "  running build_py\n",
      "  creating build\n",
      "  creating build\\lib.win-amd64-cpython-39\n",
      "  creating build\\lib.win-amd64-cpython-39\\fasttext\n",
      "  copying python\\fasttext_module\\fasttext\\FastText.py -> build\\lib.win-amd64-cpython-39\\fasttext\n",
      "  copying python\\fasttext_module\\fasttext\\__init__.py -> build\\lib.win-amd64-cpython-39\\fasttext\n",
      "  creating build\\lib.win-amd64-cpython-39\\fasttext\\util\n",
      "  copying python\\fasttext_module\\fasttext\\util\\util.py -> build\\lib.win-amd64-cpython-39\\fasttext\\util\n",
      "  copying python\\fasttext_module\\fasttext\\util\\__init__.py -> build\\lib.win-amd64-cpython-39\\fasttext\\util\n",
      "  creating build\\lib.win-amd64-cpython-39\\fasttext\\tests\n",
      "  copying python\\fasttext_module\\fasttext\\tests\\test_configurations.py -> build\\lib.win-amd64-cpython-39\\fasttext\\tests\n",
      "  copying python\\fasttext_module\\fasttext\\tests\\test_script.py -> build\\lib.win-amd64-cpython-39\\fasttext\\tests\n",
      "  copying python\\fasttext_module\\fasttext\\tests\\__init__.py -> build\\lib.win-amd64-cpython-39\\fasttext\\tests\n",
      "  running build_ext\n",
      "  building 'fasttext_pybind' extension\n",
      "  error: Microsoft Visual C++ 14.0 or greater is required. Get it with \"Microsoft C++ Build Tools\": https://visualstudio.microsoft.com/visual-cpp-build-tools/\n",
      "  [end of output]\n",
      "  \n",
      "  note: This error originates from a subprocess, and is likely not a problem with pip.\n",
      "error: legacy-install-failure\n",
      "\n",
      "Encountered error while trying to install package.\n",
      "\n",
      "fasttext\n",
      "\n",
      "note: This is an issue with the package mentioned above, not pip.\n",
      "hint: See above for output from the failure.\n"
     ]
    }
   ],
   "source": [
    "# pip install fasttext"
   ],
   "metadata": {
    "collapsed": false
   }
  },
  {
   "cell_type": "markdown",
   "source": [
    "# Загрузка данных"
   ],
   "metadata": {
    "id": "e7PBFts_gf8I"
   }
  },
  {
   "cell_type": "code",
   "source": [
    "df = pd.read_csv(\"C:\\\\Users\\\\HOME\\\\PycharmProjects\\\\NLP_SalaryPrediction\\\\vacancies_train.csv\")\n",
    "df.head(8)"
   ],
   "metadata": {
    "colab": {
     "base_uri": "https://localhost:8080/",
     "height": 424
    },
    "id": "r7Ky1hvnTqgD",
    "outputId": "a7eb32e2-f1b1-43ab-dd88-ec045f71875f"
   },
   "execution_count": 72,
   "outputs": [
    {
     "data": {
      "text/plain": "                                                name          experience  \\\n0                                Водитель-экспедитор       От 3 до 6 лет   \n1                Кладовщик-комплектовщик/оператор 1С  От 1 года до 3 лет   \n2  Продавец магазина \"Магнит\" (Кировский р-он, В....           Нет опыта   \n3                   Администратор магазина (ТЦ Spar)  От 1 года до 3 лет   \n4                          Мойщик посуды (кулинария)           Нет опыта   \n5                             Менеджер-администратор  От 1 года до 3 лет   \n6                                      Комплектовщик           Нет опыта   \n7                                 Медицинская сестра           Нет опыта   \n\n         schedule           employment  \\\n0     Полный день     Полная занятость   \n1     Полный день     Полная занятость   \n2  Сменный график     Полная занятость   \n3     Полный день     Полная занятость   \n4  Сменный график     Полная занятость   \n5     Полный день     Полная занятость   \n6     Полный день     Полная занятость   \n7   Гибкий график  Частичная занятость   \n\n                                         description  \\\n0  Водитель-экспедитор категории В,С (а\\м ГАЗЕЛЬ ...   \n1  Обязанности:   Списывание материалов в произво...   \n2  В крупнейшую Федеральную сеть магазинов \"Магни...   \n3  Крупная федеральная сеть магазинов мужской и ж...   \n4  Обязанности:  Уборка производственных площадей...   \n5  Международная сеть Школ скорочтения и развития...   \n6  Мы прямой работодатель - компания «Форум-Авто»...   \n7  Работа на территории работодателя: р-н Кущевск...   \n\n                                          key_skills   salary  \n0                                                 []  42500.0  \n1  ['знание пк', 'работа в 1С', 'Работа в команде...  50000.0  \n2                                                 []  31500.0  \n3                                                 []  36700.0  \n4  ['Пользователь ПК', 'Грамотная речь', 'Работа ...  37000.0  \n5  ['Навыки межличностного общения', 'Грамотная р...  50000.0  \n6  ['1С: Склад', 'Работа с оргтехникой', 'Приемка...  53500.0  \n7  ['Медицинская документация', 'Лечебная деятель...  12130.0  ",
      "text/html": "<div>\n<style scoped>\n    .dataframe tbody tr th:only-of-type {\n        vertical-align: middle;\n    }\n\n    .dataframe tbody tr th {\n        vertical-align: top;\n    }\n\n    .dataframe thead th {\n        text-align: right;\n    }\n</style>\n<table border=\"1\" class=\"dataframe\">\n  <thead>\n    <tr style=\"text-align: right;\">\n      <th></th>\n      <th>name</th>\n      <th>experience</th>\n      <th>schedule</th>\n      <th>employment</th>\n      <th>description</th>\n      <th>key_skills</th>\n      <th>salary</th>\n    </tr>\n  </thead>\n  <tbody>\n    <tr>\n      <th>0</th>\n      <td>Водитель-экспедитор</td>\n      <td>От 3 до 6 лет</td>\n      <td>Полный день</td>\n      <td>Полная занятость</td>\n      <td>Водитель-экспедитор категории В,С (а\\м ГАЗЕЛЬ ...</td>\n      <td>[]</td>\n      <td>42500.0</td>\n    </tr>\n    <tr>\n      <th>1</th>\n      <td>Кладовщик-комплектовщик/оператор 1С</td>\n      <td>От 1 года до 3 лет</td>\n      <td>Полный день</td>\n      <td>Полная занятость</td>\n      <td>Обязанности:   Списывание материалов в произво...</td>\n      <td>['знание пк', 'работа в 1С', 'Работа в команде...</td>\n      <td>50000.0</td>\n    </tr>\n    <tr>\n      <th>2</th>\n      <td>Продавец магазина \"Магнит\" (Кировский р-он, В....</td>\n      <td>Нет опыта</td>\n      <td>Сменный график</td>\n      <td>Полная занятость</td>\n      <td>В крупнейшую Федеральную сеть магазинов \"Магни...</td>\n      <td>[]</td>\n      <td>31500.0</td>\n    </tr>\n    <tr>\n      <th>3</th>\n      <td>Администратор магазина (ТЦ Spar)</td>\n      <td>От 1 года до 3 лет</td>\n      <td>Полный день</td>\n      <td>Полная занятость</td>\n      <td>Крупная федеральная сеть магазинов мужской и ж...</td>\n      <td>[]</td>\n      <td>36700.0</td>\n    </tr>\n    <tr>\n      <th>4</th>\n      <td>Мойщик посуды (кулинария)</td>\n      <td>Нет опыта</td>\n      <td>Сменный график</td>\n      <td>Полная занятость</td>\n      <td>Обязанности:  Уборка производственных площадей...</td>\n      <td>['Пользователь ПК', 'Грамотная речь', 'Работа ...</td>\n      <td>37000.0</td>\n    </tr>\n    <tr>\n      <th>5</th>\n      <td>Менеджер-администратор</td>\n      <td>От 1 года до 3 лет</td>\n      <td>Полный день</td>\n      <td>Полная занятость</td>\n      <td>Международная сеть Школ скорочтения и развития...</td>\n      <td>['Навыки межличностного общения', 'Грамотная р...</td>\n      <td>50000.0</td>\n    </tr>\n    <tr>\n      <th>6</th>\n      <td>Комплектовщик</td>\n      <td>Нет опыта</td>\n      <td>Полный день</td>\n      <td>Полная занятость</td>\n      <td>Мы прямой работодатель - компания «Форум-Авто»...</td>\n      <td>['1С: Склад', 'Работа с оргтехникой', 'Приемка...</td>\n      <td>53500.0</td>\n    </tr>\n    <tr>\n      <th>7</th>\n      <td>Медицинская сестра</td>\n      <td>Нет опыта</td>\n      <td>Гибкий график</td>\n      <td>Частичная занятость</td>\n      <td>Работа на территории работодателя: р-н Кущевск...</td>\n      <td>['Медицинская документация', 'Лечебная деятель...</td>\n      <td>12130.0</td>\n    </tr>\n  </tbody>\n</table>\n</div>"
     },
     "execution_count": 72,
     "metadata": {},
     "output_type": "execute_result"
    }
   ]
  },
  {
   "cell_type": "code",
   "source": [
    "df_test = pd.read_csv(\"C:\\\\Users\\\\HOME\\\\PycharmProjects\\\\NLP_SalaryPrediction\\\\vacancies_test.csv\", index_col=0)\n",
    "df_test.head(10)"
   ],
   "metadata": {
    "colab": {
     "base_uri": "https://localhost:8080/",
     "height": 424
    },
    "id": "LF4Hoif8gC-p",
    "outputId": "ccadef4e-31c7-4f16-c1ed-bb85e03f6e64"
   },
   "execution_count": 73,
   "outputs": [
    {
     "data": {
      "text/plain": "                              name          experience        schedule  \\\nid                                                                       \n0                Главный бухгалтер         Более 6 лет     Полный день   \n1      Ассистент врача-стоматолога  От 1 года до 3 лет  Сменный график   \n2             Менеджер по продажам  От 1 года до 3 лет     Полный день   \n3                         Менеджер  От 1 года до 3 лет     Полный день   \n4            Администратор хостела           Нет опыта  Сменный график   \n5          Полицейский (г. Москва)           Нет опыта     Полный день   \n6   Менеджер по работе с клиентами  От 1 года до 3 лет   Гибкий график   \n7                    Администратор           Нет опыта     Полный день   \n8             Кредитный специалист           Нет опыта     Полный день   \n9                Уборщик помещений           Нет опыта     Полный день   \n\n          employment                                        description  \\\nid                                                                        \n0   Полная занятость  Обязанности:Осуществление организации бухгалте...   \n1   Полная занятость  Обязанности:  Ассистировать врачу стоматологу,...   \n2   Полная занятость  Если ты:    хочешь построить карьеру в банковс...   \n3   Полная занятость    Динамично развивающаяся на протяжении 17 лет...   \n4   Полная занятость  ВОЗМОЖНА РАБОТА С ПРОЖИВАНИЕМ Обязанности:  Пр...   \n5   Полная занятость  Обязанности:- обеспечение правопорядка при мас...   \n6   Полная занятость  Обязанности:  Консультирование клиентов в студ...   \n7   Полная занятость  Приглашаем администратора в стоматологическую ...   \n8   Полная занятость  Обязанности: - консультирование клиентов по фи...   \n9   Полная занятость  Обязанности:  Уборка подъездов многоквартирных...   \n\n                                           key_skills  \nid                                                     \n0   ['1С: Предприятие 8', '1C: Предприятие', 'Рабо...  \n1   ['Пользователь ПК', 'Работа в команде', 'Умени...  \n2                                                  []  \n3   ['Оценка потребностей клиентов', 'оформление д...  \n4                                                  []  \n5                                                  []  \n6   ['Заключение договоров', 'Навыки продаж', 'Кон...  \n7   ['Пользователь ПК', 'Работа с кассой', 'Грамот...  \n8   ['Грамотная речь', '1С: Предприятие 8', 'Консу...  \n9                       ['Умение работать в команде']  ",
      "text/html": "<div>\n<style scoped>\n    .dataframe tbody tr th:only-of-type {\n        vertical-align: middle;\n    }\n\n    .dataframe tbody tr th {\n        vertical-align: top;\n    }\n\n    .dataframe thead th {\n        text-align: right;\n    }\n</style>\n<table border=\"1\" class=\"dataframe\">\n  <thead>\n    <tr style=\"text-align: right;\">\n      <th></th>\n      <th>name</th>\n      <th>experience</th>\n      <th>schedule</th>\n      <th>employment</th>\n      <th>description</th>\n      <th>key_skills</th>\n    </tr>\n    <tr>\n      <th>id</th>\n      <th></th>\n      <th></th>\n      <th></th>\n      <th></th>\n      <th></th>\n      <th></th>\n    </tr>\n  </thead>\n  <tbody>\n    <tr>\n      <th>0</th>\n      <td>Главный бухгалтер</td>\n      <td>Более 6 лет</td>\n      <td>Полный день</td>\n      <td>Полная занятость</td>\n      <td>Обязанности:Осуществление организации бухгалте...</td>\n      <td>['1С: Предприятие 8', '1C: Предприятие', 'Рабо...</td>\n    </tr>\n    <tr>\n      <th>1</th>\n      <td>Ассистент врача-стоматолога</td>\n      <td>От 1 года до 3 лет</td>\n      <td>Сменный график</td>\n      <td>Полная занятость</td>\n      <td>Обязанности:  Ассистировать врачу стоматологу,...</td>\n      <td>['Пользователь ПК', 'Работа в команде', 'Умени...</td>\n    </tr>\n    <tr>\n      <th>2</th>\n      <td>Менеджер по продажам</td>\n      <td>От 1 года до 3 лет</td>\n      <td>Полный день</td>\n      <td>Полная занятость</td>\n      <td>Если ты:    хочешь построить карьеру в банковс...</td>\n      <td>[]</td>\n    </tr>\n    <tr>\n      <th>3</th>\n      <td>Менеджер</td>\n      <td>От 1 года до 3 лет</td>\n      <td>Полный день</td>\n      <td>Полная занятость</td>\n      <td>Динамично развивающаяся на протяжении 17 лет...</td>\n      <td>['Оценка потребностей клиентов', 'оформление д...</td>\n    </tr>\n    <tr>\n      <th>4</th>\n      <td>Администратор хостела</td>\n      <td>Нет опыта</td>\n      <td>Сменный график</td>\n      <td>Полная занятость</td>\n      <td>ВОЗМОЖНА РАБОТА С ПРОЖИВАНИЕМ Обязанности:  Пр...</td>\n      <td>[]</td>\n    </tr>\n    <tr>\n      <th>5</th>\n      <td>Полицейский (г. Москва)</td>\n      <td>Нет опыта</td>\n      <td>Полный день</td>\n      <td>Полная занятость</td>\n      <td>Обязанности:- обеспечение правопорядка при мас...</td>\n      <td>[]</td>\n    </tr>\n    <tr>\n      <th>6</th>\n      <td>Менеджер по работе с клиентами</td>\n      <td>От 1 года до 3 лет</td>\n      <td>Гибкий график</td>\n      <td>Полная занятость</td>\n      <td>Обязанности:  Консультирование клиентов в студ...</td>\n      <td>['Заключение договоров', 'Навыки продаж', 'Кон...</td>\n    </tr>\n    <tr>\n      <th>7</th>\n      <td>Администратор</td>\n      <td>Нет опыта</td>\n      <td>Полный день</td>\n      <td>Полная занятость</td>\n      <td>Приглашаем администратора в стоматологическую ...</td>\n      <td>['Пользователь ПК', 'Работа с кассой', 'Грамот...</td>\n    </tr>\n    <tr>\n      <th>8</th>\n      <td>Кредитный специалист</td>\n      <td>Нет опыта</td>\n      <td>Полный день</td>\n      <td>Полная занятость</td>\n      <td>Обязанности: - консультирование клиентов по фи...</td>\n      <td>['Грамотная речь', '1С: Предприятие 8', 'Консу...</td>\n    </tr>\n    <tr>\n      <th>9</th>\n      <td>Уборщик помещений</td>\n      <td>Нет опыта</td>\n      <td>Полный день</td>\n      <td>Полная занятость</td>\n      <td>Обязанности:  Уборка подъездов многоквартирных...</td>\n      <td>['Умение работать в команде']</td>\n    </tr>\n  </tbody>\n</table>\n</div>"
     },
     "execution_count": 73,
     "metadata": {},
     "output_type": "execute_result"
    }
   ]
  },
  {
   "cell_type": "markdown",
   "source": [
    "# Простейший EDA"
   ],
   "metadata": {
    "id": "8ElKdMvfgkE9"
   }
  },
  {
   "cell_type": "markdown",
   "source": [
    "Для начала посмотрим на распределение таргета в трейне. Видим выбросы совсем низкой зарплаты. **Посмотрите на описание вакансий с выбросами** -- это может помочь объяснить их объяснить"
   ],
   "metadata": {
    "id": "S-UO6UyEohwX"
   }
  },
  {
   "cell_type": "code",
   "source": [
    "sns.histplot(df.salary, bins=100);"
   ],
   "metadata": {
    "colab": {
     "base_uri": "https://localhost:8080/",
     "height": 514
    },
    "id": "21EXXteHVUdX",
    "outputId": "f48fd730-e90b-434a-ce16-8374bc0f0988"
   },
   "execution_count": 74,
   "outputs": [
    {
     "data": {
      "text/plain": "<Figure size 1200x800 with 1 Axes>",
      "image/png": "[encoded data removed]"
     },
     "metadata": {},
     "output_type": "display_data"
    }
   ]
  },
  {
   "cell_type": "markdown",
   "source": [
    "В логарифмированной шкале распределение больше похоже на нормальное. **Подумайте, возможно стоит как-нибудь обработать выбросы или их удалить**"
   ],
   "metadata": {
    "id": "WObM6pYNoxoS"
   }
  },
  {
   "cell_type": "code",
   "source": [
    "sns.histplot(np.log10(df.salary + 1), bins=100);"
   ],
   "metadata": {
    "colab": {
     "base_uri": "https://localhost:8080/",
     "height": 517
    },
    "id": "uG4cqsQeg5L1",
    "outputId": "ef4f4e6b-ea0a-409a-bbe3-ff5c4e3347d2"
   },
   "execution_count": 75,
   "outputs": [
    {
     "data": {
      "text/plain": "<Figure size 1200x800 with 1 Axes>",
      "image/png": "[encoded data removed]"
     },
     "metadata": {},
     "output_type": "display_data"
    }
   ]
  },
  {
   "cell_type": "code",
   "source": [
    "df.name.value_counts()"
   ],
   "metadata": {
    "colab": {
     "base_uri": "https://localhost:8080/"
    },
    "id": "HVBoJNilVNN4",
    "outputId": "70100e23-5c19-4ff0-9fa5-0498db77147c"
   },
   "execution_count": 76,
   "outputs": [
    {
     "data": {
      "text/plain": "Менеджер по продажам                                          208\nПродавец-консультант                                          180\nМенеджер по работе с клиентами                                111\nКладовщик                                                     111\nБухгалтер                                                     108\n                                                             ... \nУпаковщица/Упаковщик                                            1\nПомощник официанта,ранер                                        1\nМенеджер по продаже оборудования для общепита и торговли        1\nЭлектросварщик на полуавтомат (морской регистр, НАКС НГДО)      1\nСпециалист-эксперт отдела правового обеспечения                 1\nName: name, Length: 9915, dtype: int64"
     },
     "execution_count": 76,
     "metadata": {},
     "output_type": "execute_result"
    }
   ]
  },
  {
   "cell_type": "markdown",
   "source": [
    "По графику ниже, видим, что вакансий для опытных соискателей сравнительно немного. **Попробуйте визуализировать совместное распределение опыта работы и предлагаемой зп**"
   ],
   "metadata": {
    "id": "bz_Pw7D7pcDe"
   }
  },
  {
   "cell_type": "code",
   "source": [
    "sns.histplot(df.experience);"
   ],
   "metadata": {
    "colab": {
     "base_uri": "https://localhost:8080/",
     "height": 514
    },
    "id": "hawxy1VWVX8L",
    "outputId": "2d334707-2967-44e2-bb86-6dde8b8b942e"
   },
   "execution_count": 77,
   "outputs": [
    {
     "data": {
      "text/plain": "<Figure size 1200x800 with 1 Axes>",
      "image/png": "[encoded data removed]"
     },
     "metadata": {},
     "output_type": "display_data"
    }
   ]
  },
  {
   "cell_type": "markdown",
   "source": [
    "Вакансий с графиком занятостью, отличной от полной совсем не много. **Наверное стоит отдельно посмотреть, не отличается ли описание таких вакансий**."
   ],
   "metadata": {
    "id": "k-VgjJ91pqH7"
   }
  },
  {
   "cell_type": "code",
   "source": [
    "sns.histplot(df.schedule);"
   ],
   "metadata": {
    "colab": {
     "base_uri": "https://localhost:8080/",
     "height": 514
    },
    "id": "OD_7p65NV0TI",
    "outputId": "3c6ecfde-6e8b-4693-8b54-2e543b81e38d"
   },
   "execution_count": 78,
   "outputs": [
    {
     "data": {
      "text/plain": "<Figure size 1200x800 with 1 Axes>",
      "image/png": "[encoded data removed]"
     },
     "metadata": {},
     "output_type": "display_data"
    }
   ]
  },
  {
   "cell_type": "code",
   "source": [
    "sns.histplot(df.employment);"
   ],
   "metadata": {
    "colab": {
     "base_uri": "https://localhost:8080/",
     "height": 514
    },
    "id": "_ZWbrHLfV38e",
    "outputId": "00713904-7371-4c24-e28e-00c71657178f"
   },
   "execution_count": 79,
   "outputs": [
    {
     "data": {
      "text/plain": "<Figure size 1200x800 with 1 Axes>",
      "image/png": "[encoded data removed]"
     },
     "metadata": {},
     "output_type": "display_data"
    }
   ]
  },
  {
   "cell_type": "markdown",
   "source": [
    "Посмотрим, как часто различные требуемые навыки встречаются в поле `key_skills`. Логично предположить, что некоторые из них оказывают значимое влияние на предлагаемую зарплату. **Попробуйте проверить эту гипотезу**"
   ],
   "metadata": {
    "id": "HD2SSFwEqU2u"
   }
  },
  {
   "cell_type": "code",
   "source": [
    "from ast import literal_eval"
   ],
   "metadata": {
    "id": "T1gUmrboXAFI"
   },
   "execution_count": 80,
   "outputs": []
  },
  {
   "cell_type": "code",
   "execution_count": 81,
   "outputs": [
    {
     "data": {
      "text/plain": "Index(['name', 'experience', 'schedule', 'employment', 'description',\n       'key_skills', 'salary'],\n      dtype='object')"
     },
     "execution_count": 81,
     "metadata": {},
     "output_type": "execute_result"
    }
   ],
   "source": [
    "df.columns"
   ],
   "metadata": {
    "collapsed": false
   }
  },
  {
   "cell_type": "code",
   "execution_count": 82,
   "outputs": [
    {
     "data": {
      "text/plain": "{'Работа в команде': 2773,\n 'Пользователь ПК': 2638,\n 'Грамотная речь': 2226,\n 'Умение работать в команде': 1152,\n 'Активные продажи': 1066,\n 'Деловое общение': 851,\n 'Навыки продаж': 700,\n 'Телефонные переговоры': 649,\n 'Ведение переговоров': 630,\n 'Организаторские навыки': 588,\n 'Деловая переписка': 523,\n 'Клиентоориентированность': 515,\n 'Обучение и развитие': 494,\n 'Поиск и привлечение клиентов': 479,\n 'Грамотность': 462,\n 'Работа с большим объемом информации': 420,\n 'Прямые продажи': 402,\n 'Заключение договоров': 357,\n 'Холодные продажи': 352,\n 'Ориентация на результат': 349,\n 'AutoCAD': 344,\n 'Управление персоналом': 342,\n 'Консультирование': 340,\n '1С: Предприятие 8': 323,\n 'Обучение персонала': 322,\n 'Работа с людьми': 304,\n 'Водительское удостоверение категории B': 289,\n 'Навыки межличностного общения': 283,\n 'Деловая коммуникация': 282,\n 'Работа с кассой': 278,\n 'Знание устройства автомобиля': 275,\n 'Медицинская документация': 265,\n 'Умение работать в коллективе': 264,\n 'Английский язык': 262,\n 'Развитие продаж': 253,\n 'Документальное сопровождение': 246,\n 'B2B Продажи': 245,\n 'Контроль качества': 240,\n 'CRM': 227,\n 'Точность и внимательность к деталям': 218,\n 'Поиск информации в интернет': 218,\n 'Подбор персонала': 217,\n 'Ответственность': 212,\n 'Строительство': 212,\n 'оформление документации': 210,\n 'Работа с оргтехникой': 195,\n 'Материальная ответственность': 193,\n 'Управление продажами': 188,\n 'Работа с возражениями': 186,\n 'Мобильность': 185,\n 'Adobe Photoshop': 183,\n 'Консультативные продажи': 181,\n 'Контроль сроков годности': 181,\n 'Креативность': 180,\n 'Документооборот': 179,\n 'Общественное питание': 178,\n 'Электронная почта': 175,\n 'Ведение документации': 175,\n 'MS Outlook': 174,\n 'Складской Учет': 173,\n 'Инвентаризация': 173,\n '1С: Документооборот': 173,\n 'Консультирование клиентов': 172,\n 'Ведение отчетности': 172,\n 'Проведение презентаций': 170,\n 'Работа в условиях многозадачности': 168,\n 'Консультирование клиентов по телефону': 167,\n 'MS PowerPoint': 163,\n 'Первичная документация': 163,\n 'Техническое обслуживание': 161,\n 'Делопроизводство': 161,\n 'Медицинское оборудование': 159,\n '1С: Торговля': 158,\n 'Обслуживание покупателей': 156,\n 'Проведение инвентаризаций': 155,\n '1С: Склад': 154,\n 'Управление проектами': 152,\n 'Коммуникабельность': 151,\n 'Кассовые операции': 150,\n 'Розничная торговля': 147,\n 'Ремонтные работы': 145,\n 'Проектная документация': 142,\n 'Приемка груза': 141,\n 'Водительское удостоверение категории BC': 138,\n 'Многозадачность': 137,\n 'Мерчандайзинг': 135,\n 'Работа с базами данных': 131,\n 'входящие звонки': 131,\n 'Навыки переговоров': 127,\n 'Навыки составления отчетности': 127,\n '1C: Бухгалтерия': 125,\n 'Работа с дебиторской задолженностью': 123,\n 'Первичная бухгалтерская документация': 122,\n 'Выкладка товаров': 121,\n 'Internet': 120,\n 'Руководство коллективом': 120,\n 'Прием и распределение телефонных звонков': 120,\n 'Холодные звонки': 118,\n 'работа с текущей базой клиентов': 116,\n 'Планирование продаж': 116,\n 'Навыки презентации': 116,\n 'Кассовые документы': 112,\n 'Первичные документы': 112,\n 'Управление производством': 110,\n 'оформление заказов': 109,\n 'Стрессоустойчивость': 106,\n 'Работа с документами': 106,\n 'Бухгалтерская отчетность': 104,\n 'Управление производственным персоналом': 104,\n 'Управление отношениями с клиентами': 102,\n 'Закупка товаров и услуг': 100,\n '1С: Бухгалтерия': 98,\n 'Чтение чертежей': 97,\n 'Организация мероприятий': 96,\n 'Работа с клиентами': 95,\n 'Сварочные работы': 95,\n '1С: Торговля и склад': 93,\n 'Творческое мышление': 92,\n 'Обеспечение жизнедеятельности офиса': 90,\n 'Работа с поставщиками': 90,\n 'Ориентация на клиента': 89,\n 'Работа с ТМЦ': 88,\n 'Закупки': 88,\n 'MS Excel': 88,\n 'Ведение клиентской базы': 88,\n 'Учет товаров': 87,\n 'Монтаж оборудования': 86,\n 'Мотивация персонала': 85,\n 'исходящие звонки': 84,\n 'Ответственное хранение': 84,\n 'Складской документооборот': 82,\n 'Составление договоров': 82,\n 'Охрана труда и техника безопасности': 81,\n 'Сопровождение клиентов': 81,\n 'Планирование карьеры': 80,\n 'Способность обучать других': 80,\n 'Складская логистика': 78,\n 'Пополнение товарных запасов': 77,\n 'Кадровое делопроизводство': 76,\n 'Разработка проектной документации': 75,\n 'Аналитическое мышление': 75,\n 'MS Internet Explorer': 74,\n 'Деловая этика': 74,\n 'Прием посетителей': 74,\n 'Аналитика продаж': 74,\n 'Электронный документооборот': 74,\n 'Управление командой': 73,\n 'Расчет заработной платы': 73,\n 'Управленческая отчетность': 73,\n 'JavaScript': 72,\n 'Оценка потребностей клиентов': 72,\n 'Производство строительно-монтажных работ': 72,\n 'Git': 71,\n 'Умение планировать': 68,\n 'MS Office': 68,\n 'Turbo Pascal': 67,\n 'Транспортная логистика': 67,\n 'Навыки работы с первичной документацией': 67,\n 'Налоговая отчетность': 67,\n 'CorelDRAW': 67,\n 'Торговля': 66,\n 'B2C продажи': 66,\n 'Работа с жалобами клиентов': 66,\n 'HTML': 66,\n 'Умение принимать решения': 65,\n 'Инженерные системы': 64,\n '1С: Зарплата и управление персоналом': 64,\n 'SQL': 63,\n 'Слесарные работы': 62,\n 'Офисная техника': 62,\n '1С: Производство': 61,\n 'Интернет-реклама': 61,\n 'Вождение автомобилей представительского класса': 61,\n 'Исполнительность': 59,\n 'Управленческие навыки': 59,\n 'Настройка ПК': 59,\n 'Консультант плюс': 59,\n 'Подготовка коммерческих предложений': 58,\n 'Проведение промо акций': 56,\n 'Подготовка презентаций': 56,\n 'Договорная работа': 56,\n 'Ведение переписки': 56,\n 'PHP': 56,\n '1С: Розница': 55,\n 'Управление временем': 55,\n 'Организация встреч': 55,\n 'Google Chrome': 54,\n 'Мерчендайзинг': 53,\n 'Linux': 53,\n 'Бухгалтерский учет': 53,\n 'Компас-3D': 53,\n 'Работа с юридическими лицами': 53,\n 'MySQL': 52,\n 'Высокая скорость печати': 52,\n 'Продвижение бренда': 51,\n 'Современная розница': 51,\n 'Продажи': 51,\n 'Маркетинговый анализ': 51,\n 'Автомобильные грузоперевозки': 50,\n 'телефонные продажи': 50,\n 'исполнение поручений руководителя': 49,\n '1С: Управление персоналом': 49,\n 'Ответственность и пунктуальность': 49,\n 'Блочная выкладка товара': 49,\n 'CSS': 49,\n '1С-Битрикс': 49,\n '1С: Управление Торговлей': 48,\n 'Adobe Illustrator': 48,\n 'Традиционная розница': 47,\n 'Обучение': 47,\n 'Контроль дебиторской задолженности': 47,\n 'Навыки работы с возражениями': 47,\n 'Массовый подбор персонала': 47,\n 'Монтаж металлоконструкций': 46,\n 'Адаптация персонала': 46,\n 'MS Dos': 46,\n 'SMM': 46,\n 'Техническая эксплуатация': 45,\n 'Банк-клиент': 45,\n 'Опыт продаж': 45,\n 'Расстановка приоритетов': 44,\n 'Автомобильные перевозки': 43,\n 'Производственный контроль': 43,\n 'Администрирование': 43,\n 'Работа с компьютером': 42,\n 'Логистика': 42,\n 'Гибкость': 42,\n 'Контроль исполнения решений': 42,\n 'Настройка сетевых подключений': 42,\n 'Оперативный поиск информации в сети Интернет': 42,\n '3 группа по электробезопасности': 42,\n 'Финансовая отчетность': 41,\n 'MS Access': 41,\n 'Технический контроль производства': 41,\n 'Умение работать в условиях многозадачности': 41,\n 'Контроль отгрузок': 40,\n 'Высшее образование': 40,\n 'Учет остатков': 40,\n 'Преподаватель': 40,\n 'Административная поддержка руководителя': 40,\n 'Исполнение личных поручений руководителя': 40,\n 'Претензионная работа': 39,\n 'Проектирование': 39,\n 'Сметы': 39,\n 'Организационные навыки': 39,\n 'нормативно-техническая документация': 38,\n 'MS Paint': 38,\n 'Windows 7': 38,\n 'Гражданское право': 37,\n 'Разработка технических заданий': 37,\n 'Ремонт ПК': 37,\n 'Согласование договоров': 37,\n 'Внутренний контроль': 37,\n 'MS Word': 37,\n 'работа с физическими лицами': 37,\n 'Копирайтинг': 37,\n 'Работа с претензиями': 36,\n 'Монтаж инженерных систем': 36,\n 'Охрана объекта': 36,\n 'Жилая недвижимость': 36,\n 'ТМЦ': 36,\n 'Internet Marketing': 35,\n 'Прием и распределение звонков': 35,\n 'Сборка ПК': 35,\n 'R-Keeper': 35,\n 'Коммуникабельность, ответственность': 34,\n 'Учет ТМЦ': 34,\n 'Чтение электросхем': 33,\n 'Python': 33,\n 'Должностные инструкции': 33,\n 'Внимательность': 33,\n 'Настройка ПО': 33,\n 'Adobe Acrobat': 33,\n 'Урегулирование конфликтов': 33,\n 'Желание работать и зарабатывать': 33,\n 'Написание текстов': 33,\n 'Аналитические способности': 32,\n 'Планирование': 32,\n 'Проведение переговоров': 32,\n 'Наполнение контентом': 32,\n 'Дизайн': 32,\n 'Ведение групп в социальных сетях': 32,\n 'реализация товаров и услуг': 31,\n 'Информационные технологии': 31,\n 'Внутренняя документация': 31,\n 'ЕСКД': 30,\n 'Желание обучаться': 30,\n 'Бюджетирование': 30,\n 'Общая психология': 30,\n 'Сопровождение строительства': 30,\n 'Бумажный документооборот': 30,\n 'Основные средства': 30,\n '1С программирование': 30,\n 'Опытный пользователь ПК': 30,\n 'Оценка персонала': 29,\n 'Составление отчетности': 29,\n 'Учет материалов': 29,\n 'Android': 29,\n 'Кредитные договоры': 29,\n 'Акты сверок': 29,\n 'Производственное планирование': 29,\n 'Google Analytics': 29,\n 'Строительный контроль': 28,\n 'Уверенный пользователь ПК': 28,\n 'PostgreSQL': 28,\n 'ArchiCAD': 28,\n 'Водительское удостоверение категории BCE': 28,\n 'Сварка': 28,\n 'MS Project': 28,\n 'Мотивация': 28,\n 'jQuery': 28,\n 'Статистический анализ': 28,\n 'Планирование маркетинговых кампаний': 28,\n 'Прямой поиск': 28,\n '1С: Бухгалтерия и склад': 28,\n 'Внутренние коммуникации': 27,\n 'HTML5': 27,\n 'Разработка инструкций': 27,\n 'Авансовые отчеты': 27,\n 'Google Docs': 27,\n 'Расчет затрат': 27,\n 'Строительное делопроизводство': 27,\n 'Дружелюбность': 27,\n 'Участие в Тендерах': 26,\n 'Целеустремленность': 26,\n 'Системы видеонаблюдения': 26,\n 'MS Visio': 26,\n 'Поварское дело': 26,\n 'Пожарная безопасность': 26,\n 'Собеседование': 26,\n 'Планирование рабочего дня руководителя': 26,\n 'Визуальный мерчандайзинг': 26,\n 'Графический дизайн': 26,\n 'Знание 1С': 26,\n 'Продажа страховых продуктов': 26,\n 'Google AdWords': 26,\n 'ООП': 26,\n 'Социальные сети': 26,\n 'Маркетинговые исследования': 25,\n 'Анализ рынка': 25,\n 'Удаленная работа': 25,\n 'Проектно-конструкторская деятельность': 25,\n 'Арбитражные суды': 25,\n 'Тайм-менеджмент': 25,\n 'Работа в режиме многозадачности': 25,\n 'Логистика поставок': 25,\n 'Компас': 24,\n 'Java': 24,\n 'Выездное обслуживание': 24,\n 'Оценка кандидатов': 24,\n 'Товароведение': 24,\n 'Контекстная реклама': 24,\n 'ПК': 24,\n 'MS Publisher': 24,\n 'Корпоративные продажи': 24,\n 'Государственные закупки': 23,\n 'Финансовый анализ': 23,\n 'Корпоративная этика': 23,\n 'исходящая корреспонденция': 23,\n 'Поддержка работы офиса': 23,\n 'Организация деловых поездок': 23,\n 'MS SQL': 23,\n '3D Моделирование': 23,\n 'Инкассация': 23,\n 'SolidWorks': 23,\n 'Опрятность': 23,\n 'Гранд-смета': 23,\n 'Детская психология': 23,\n 'Подбор производственного персонала': 23,\n 'Организация рабочих мест': 23,\n 'Маркетинговые коммуникации': 23,\n 'Яндекс.Метрика': 23,\n 'Гарантийное обслуживание': 23,\n 'Экономический анализ': 22,\n 'Autodesk Revit': 22,\n 'Ведение активных клиентов': 22,\n '1C: Предприятие': 22,\n 'Внимательность, ответственность': 22,\n 'Корпоративная культура': 22,\n 'Дизайн интерьера': 22,\n 'Бизнес-анализ': 22,\n 'Работа с ПК': 22,\n 'Взаимодействие с контрольными органами': 21,\n 'Составление смет': 21,\n 'CSS3': 21,\n 'Организация учебного процесса': 21,\n 'Анализ данных': 21,\n 'Анализ продаж': 21,\n 'Входящая корреспонденция': 21,\n 'Яндекс.Директ': 21,\n 'Физическая выносливость': 21,\n 'Электротехнические работы': 20,\n 'Excel': 20,\n 'Тендеры': 20,\n 'Доброжелательность': 20,\n 'Юридическая поддержка': 20,\n 'Пунктуальность': 20,\n 'Техническая поддержка': 20,\n 'Базы данных': 20,\n 'Технология производства': 20,\n 'Техническая документация': 20,\n 'Atlassian Jira': 20,\n 'Рекрутмент': 20,\n 'Проведение опросов клиентов': 19,\n 'Суды общей юрисдикции': 19,\n 'Сбор и анализ информации': 19,\n 'HoReCa': 19,\n 'Кадровое планирование': 19,\n 'первичный документооборот': 19,\n 'Тренинги': 19,\n 'Терминалы Сбора Данных': 19,\n 'Финансовый контроль': 19,\n 'Работа на складе': 19,\n 'Локальные сети': 19,\n 'Диагностика': 19,\n 'Отчетность в ПФР': 19,\n 'Аккуратность': 19,\n 'Строительно-отделочные работы': 19,\n 'Фотография': 19,\n 'SEO': 19,\n 'Мониторинг рынка': 19,\n 'Экспедирование': 19,\n 'Коммуникативные навыки': 19,\n 'Social Media Marketing': 19,\n 'Организация движения и учета документов': 18,\n 'Стратегическое мышление': 18,\n 'Skype': 18,\n 'Сканер': 18,\n 'Работа с чертежами': 18,\n 'Комплектация': 18,\n 'Телефонное интервью': 18,\n 'Гражданское строительство': 18,\n 'Отчетность в ФСС': 18,\n 'Деловой этикет': 18,\n 'Чистоплотность': 18,\n 'Юридическое сопровождение': 18,\n 'Развитие ключевых клиентов': 18,\n 'TCP/IP': 18,\n 'Архивирование': 18,\n 'Грамотная устная и письменная речь': 18,\n 'Разработка маркетинговой стратегии': 18,\n 'Верстка': 18,\n 'Лечебная деятельность': 17,\n 'Продажи через дистрибьюторов': 17,\n 'Малярные работы': 17,\n 'Вежливость': 17,\n 'Знание компьютера': 17,\n 'Проектирование зданий и сооружений': 17,\n 'Технические системы и средства безопасности': 17,\n 'Деловая корреспонденция': 17,\n 'Системное мышление': 17,\n 'Mathcad': 17,\n 'Ведение архива': 17,\n 'Управление складскими запасами': 17,\n 'аккуратность': 17,\n 'Администрирование приема, перевода и увольнения сотрудников': 17,\n 'Проведение ревизий': 17,\n 'Спортивное питание': 16,\n 'Схемотехника электронного оборудования': 16,\n 'Ценообразование': 16,\n 'Solid Works': 16,\n '3ds Max': 16,\n 'Пуско-наладочные работы': 16,\n 'Статистическая отчетность': 16,\n 'Расчет НДС': 16,\n 'Оптимизация бизнес-процессов': 16,\n '1С: Управление Производственным Предприятием': 16,\n 'Станки ЧПУ': 16,\n 'Подготовка отчетов': 16,\n 'Составление исков': 16,\n 'Написание статей': 16,\n '1С: Зарплата и кадры': 16,\n 'Управление качеством': 16,\n 'Работоспособность': 16,\n 'пунктуальность': 15,\n 'Гражданское процессуальное право': 15,\n 'Электрические системы и слаботочные системы': 15,\n 'Аналитические исследования': 15,\n 'SAP': 15,\n 'Малоэтажное строительство': 15,\n 'Active Directory': 15,\n 'Уборка': 15,\n 'Работа с ключевыми клиентами': 15,\n 'C#': 15,\n 'amoCRM': 15,\n 'регистрация документации': 15,\n 'Лидерство': 15,\n 'Управление интернет-проектами': 15,\n 'Adobe InDesign': 15,\n 'Умение расставлять приоритеты': 15,\n 'Электромонтажные работы': 14,\n 'Навыки телефонных продаж': 14,\n 'Node.js': 14,\n 'Администрирование сетевого оборудования': 14,\n 'B2B маркетинг': 14,\n 'Табель учета рабочего времени': 14,\n '1C: Зарплата и кадры': 14,\n 'Бронирование гостиниц': 14,\n 'Протоколирование': 14,\n 'Ресторанный менеджмент': 14,\n 'Умение работать с людьми': 14,\n 'Таргетинг': 14,\n 'Агентские продажи': 14,\n 'Оптимизация логистических процессов': 14,\n 'Формирование бюджета': 14,\n 'Желание зарабатывать': 14,\n 'Взыскание задолженности': 14,\n 'ВЭД': 14,\n 'Недвижимость': 14,\n 'Индивидуальное обучение': 14,\n 'Docker': 14,\n 'Способность быстро обучаться': 14,\n 'Оформление больничных листов и отпусков': 14,\n 'Системы канализации и водоснабжения': 14,\n 'Гарант': 13,\n 'C++': 13,\n 'Умение общаться с людьми': 13,\n 'Приготовление продукции': 13,\n 'Выдача заказов': 13,\n 'Поддержание чистоты': 13,\n 'Карьерный рост': 13,\n 'Охрана труда': 13,\n 'Бронирование билетов': 13,\n 'разработка чертежей': 13,\n 'Российские стандарты бухгалтерского учета': 13,\n 'Реклама': 13,\n 'Знание города': 13,\n 'Расчеты с покупателями': 13,\n 'Контроль исправности оборудования': 13,\n 'Лабораторная работа': 13,\n 'Умение слушать': 13,\n 'Стабильность': 13,\n 'Графические редакторы': 13,\n 'Наружная реклама': 13,\n 'XML': 13,\n 'Кредиторская задолженность': 13,\n 'Ответственный подход к работе': 13,\n '1С: Предприятие': 13,\n 'SEO оптимизация': 13,\n 'Привлечение клиентов': 13,\n 'Опрятный внешний вид': 13,\n 'первичная обработка документации': 13,\n 'Контроль оформления документов': 13,\n 'Планирование закупок': 13,\n 'внимательность': 13,\n 'Bootstrap': 13,\n 'Тестирование': 13,\n 'Списание ТМЦ': 13,\n 'Немецкий язык': 13,\n 'Составление предложений о работе': 13,\n 'Трудоспособность': 13,\n '1С: Предприятие: Розница': 13,\n 'Обучаемость': 13,\n 'Банкротство': 12,\n 'Материальная отвественность': 12,\n 'Информационная безопасность': 12,\n 'Сосредоточенность': 12,\n 'Анализ конкурентной среды': 12,\n 'Работа на выставках': 12,\n 'Инициативность': 12,\n 'Деревообработка': 12,\n 'Эксплуатация': 12,\n 'Автоматизированное рабочее место (АРМ)': 12,\n 'Водительское удостоверение категории BCD': 12,\n 'Грузовой транспорт': 12,\n 'Финансовое планирование': 12,\n 'Управление затратами': 12,\n 'Cистемы управления базами данных': 12,\n 'Сельское хозяйство': 12,\n 'Способность к обучению и восприятию информации': 12,\n 'Закупка оргтехники и оборудования': 12,\n 'Административное управление': 12,\n 'Разработка концепции': 12,\n 'Ведение кассовой книги': 12,\n 'Видеомонтаж': 12,\n 'Штатное расписание': 12,\n 'Взаимодействие с государственными контролирующими органами': 12,\n 'Трудовой кодекс РФ': 12,\n 'Обработка изображений': 12,\n 'Аналитический склад ума': 12,\n 'Материально-техническое обеспечение': 12,\n '1С: Комплексная автоматизация': 12,\n 'Умение работать в режиме многозадачности': 12,\n 'Оприходование товара': 12,\n 'Знание иностранных языков': 12,\n 'Веб-аналитика': 12,\n 'входящая документация': 12,\n 'Физическая подготовка': 11,\n 'Проведение тендеров': 11,\n 'Знание MS Office': 11,\n 'Расчет себестоимости': 11,\n 'Кадровая политика': 11,\n 'Дорожное строительство': 11,\n 'Redis': 11,\n 'Психология': 11,\n 'Сборочное производство': 11,\n 'прохождение налоговых проверок': 11,\n 'Кладовщик': 11,\n 'Выносливость': 11,\n 'MS Movie Maker': 11,\n 'Движение денежных средств': 11,\n 'Вторичная недвижимость': 11,\n 'Первичная недвижимость': 11,\n 'Телемаркетинг': 11,\n 'Дистанционное обучение': 11,\n 'Умение работать с клиентами': 11,\n 'Гражданский кодекс РФ': 11,\n 'Организация хранения документации': 11,\n 'Администрирование серверов Windows': 11,\n 'Публичные выступления': 11,\n 'Дисциплинированность': 11,\n 'Социальная психология': 11,\n 'Анализ бизнес показателей': 11,\n 'Расчет зарплаты': 11,\n 'Контроль поставок': 11,\n 'Ajax': 11,\n 'Бизнес-планирование': 11,\n 'Групповое обучение': 11,\n 'Расчет налогов': 11,\n 'Коммуникабельность, стрессоустойчивость': 11,\n 'Консультирование сотрудников по вопросам трудового законодательства': 11,\n 'Формирование планов по подбору персонала': 10,\n 'React': 10,\n 'Взаимодействие с органами государственного контроля': 10,\n 'Системы охранно-тревожной сигнализации': 10,\n 'Windows Xp': 10,\n 'Оперативное планирование': 10,\n 'обучение сотрудников': 10,\n 'Проектный менеджмент': 10,\n 'Продвинутый пользователь ПК': 10,\n 'Управленческий учет': 10,\n 'Интернет маркетинг': 10,\n 'Фотомонтаж': 10,\n 'Symfony': 10,\n 'B2C маркетинг': 10,\n 'Навыки разрешения спорных ситуаций': 10,\n 'Автоматизация технологических процессов': 10,\n 'Autodesk 3ds Max': 10,\n 'Опыт судебных разбирательств': 10,\n 'Сопровождение сделок': 10,\n 'Медиапланирование': 10,\n 'Вождение трактора': 10,\n 'Продажи физическим лицам': 10,\n 'Стремление к профессиональному росту': 10,\n 'Организация презентаций': 10,\n 'Обновление конфигурации 1С': 10,\n 'Водительское удостоверение категории A': 10,\n 'Дебиторская задолженность': 10,\n 'Сборка мебели': 10,\n 'Передача документации на исполнение': 10,\n 'Проведение внутренних расследований': 10,\n 'Проведение опросов': 10,\n 'Проведение телефонных интервью': 10,\n 'Организация и планирование рабочего времени': 10,\n 'продажа недвижимости': 10,\n 'Развитие бренда': 10,\n 'Организация стажировок': 10,\n 'Аутсорсинг': 10,\n 'Nginx': 10,\n 'Навыки коммуникации': 10,\n 'Спортивные мероприятия': 10,\n 'Массовое производство': 10,\n 'Линейная выкладка товара': 10,\n '1C: Финансы': 9,\n 'Желание учиться и развиваться': 9,\n 'технологические карты': 9,\n 'Spring Framework': 9,\n 'Ответственность и исполнительность': 9,\n 'Фитнес': 9,\n 'Yii': 9,\n 'Microsoft Access': 9,\n 'Навыки делового общения': 9,\n 'Системы безопасности': 9,\n 'Водоснабжение и канализация': 9,\n 'Управление лояльностью потребителей': 9,\n 'обработка входящей корреспонденции': 9,\n 'Административно-хозяйственная деятельность': 9,\n 'Позитивный настрой': 9,\n 'Добросовестность': 9,\n 'Самостоятельное ведение кадрового документооборота': 9,\n 'Продажи запчастей для иностранных автомобилей': 9,\n 'Платежные поручения': 9,\n 'Продажи через интернет': 9,\n 'Автоматизация документооборота': 9,\n 'Общение с клиентами': 9,\n 'Управление бюджетом': 9,\n 'CMS Wordpress': 9,\n 'Взаимодействие с надзорными организациями': 9,\n 'Стропальщик': 9,\n 'Психология Личности': 9,\n 'SCAD': 9,\n 'Продвижение в социальных группах': 9,\n 'Трудовое законодательство РФ': 9,\n 'Умение вести переговоры': 9,\n 'вахта': 9,\n 'MongoDB': 9,\n 'Подбор сотрудников': 9,\n 'Бережливое производство': 9,\n 'Письменный перевод': 9,\n 'Вводный инструктаж по охране труда и технике безопасности': 9,\n 'Маркетинговое планирование': 9,\n 'Воинский учет': 9,\n 'Анализ себестоимости': 9,\n 'Анализ затрат': 9,\n 'Мониторинг цен': 9,\n 'Маникюр': 9,\n 'Гостиницы': 9,\n 'Знание техники продаж': 9,\n 'Химические методы анализа': 9,\n 'Штукатурные работы': 9,\n 'Управление секретариатом': 9,\n 'обучаемость': 9,\n 'Хорошая обучаемость': 9,\n 'ANSYS': 9,\n 'Технический надзор': 9,\n 'Ведение деловой переписки': 8,\n 'принимать решения и за их результаты отвечать самостоятельно': 8,\n 'Управление офисами компании': 8,\n 'Анализ текущих финансовых показателей': 8,\n 'PHP5': 8,\n 'Математический анализ': 8,\n 'Предпечатная подготовка': 8,\n 'Выбор подрядных организаций': 8,\n 'Pascal': 8,\n 'Организация работы приемной': 8,\n 'Техническая грамотность': 8,\n '1С: Предприятие: Бухгалтерский Учет': 8,\n 'Opera': 8,\n 'Управление рисками': 8,\n 'Битрикс24': 8,\n 'Web-дизайн': 8,\n 'Продажи юридическим лицам': 8,\n 'Электрика': 8,\n 'Поисковые системы': 8,\n 'UI': 8,\n 'Контроль отгрузки и доставки товара': 8,\n 'Предметная фотосъемка': 8,\n 'Microsoft Office': 8,\n 'Технологии производства блюд': 8,\n 'Участок \"Касса\"': 8,\n 'iOS': 8,\n 'Продажи корпоративным клиентам': 8,\n 'Юридический консалтинг': 8,\n 'Сверка взаиморасчетов с поставщиками товаров и услуг': 8,\n 'Helpdesk': 8,\n 'дисциплинированность': 8,\n 'Договоры поставки': 8,\n 'Взаимодействие с правоохранительными органами': 8,\n 'WEB аналитика': 8,\n 'Функциональное тестирование': 8,\n 'Трудовое право': 8,\n 'Подбор недвижимости по запросу клиента': 8,\n 'Бетонные работы': 8,\n 'Веб-программирование': 8,\n 'Разработка нового продукта': 8,\n 'Исходящая документация': 8,\n 'Налоговое законодательство': 8,\n 'Точность и внимательность': 8,\n 'Умение читать чертежи': 8,\n 'КИПиА': 8,\n 'Статистика': 8,\n 'Грузоперевозки': 8,\n 'Составление бизнес-плана': 8,\n 'грамотная русская речь (устная и письменная)': 8,\n 'Педикюр': 8,\n 'Общестроительные работы': 8,\n 'Региональные сети': 8,\n 'Административное право': 8,\n 'Adobe After Effect': 8,\n 'Работа в коллективе': 8,\n 'Портретная фотосъемка': 8,\n 'работа с VIP клиентами': 8,\n 'Мобильный мерчандайзинг': 8,\n 'Отчетность в государственные фонды': 8,\n 'Испанский язык': 8,\n 'Cоциальный маркетинг': 8,\n 'Тактичность': 8,\n 'Вахта': 8,\n 'Начисление ежегодных отпусков': 8,\n 'Внутренняя логистика': 8,\n 'Взаимодействие с разрешительными органами': 8,\n 'Знание законодательства': 8,\n 'Водительские права категории В': 7,\n 'Высокая энергичность': 7,\n 'REST': 7,\n 'Металлообработка': 7,\n 'Маркетинг услуг': 7,\n 'Выявление потребностей в обучении': 7,\n 'Капитальный ремонт': 7,\n 'менеджер': 7,\n 'Autodesk Inventor': 7,\n '3D Max': 7,\n 'Терпеливость': 7,\n 'База данных: Outlook': 7,\n 'Продажа дополнительных услуг и оборудования': 7,\n 'OpenOffice': 7,\n 'Налоговый учет': 7,\n 'FMCG Продажи': 7,\n 'Непрерывное производство': 7,\n 'Маркетинг': 7,\n 'Планирование рекламных кампаний': 7,\n 'Приходные и расходные кассовые ордера': 7,\n 'Работа с первичной документацией': 7,\n 'кадровый учет': 7,\n 'Техники продаж': 7,\n 'умение работать в команде': 7,\n 'Европейская кухня': 7,\n 'Стандарты гостеприимства': 7,\n '1С: Управление предприятием': 7,\n 'UX': 7,\n 'BPMN': 7,\n 'Восстановление кадрового документооборота': 7,\n 'Производство пусконаладочных работ': 7,\n 'Промышленная безопасность': 7,\n 'Обработка видео': 7,\n 'Женские стрижки': 7,\n 'Мужские стрижки': 7,\n 'Умение легко находить контакт с людьми': 7,\n 'Личный автомобиль': 7,\n 'планировать и оптимально организовать рабочий процесс': 7,\n 'Стоматология': 7,\n 'без опыта': 7,\n 'подработка': 7,\n 'Работа с существующей базой клиентов': 7,\n 'Работа с электроинструментом': 7,\n 'Исследования рынка труда': 7,\n 'Продвижение сайтов': 7,\n 'Высокая энергичность и инициативность': 7,\n 'Таможенное оформление': 7,\n 'Управление HR брендом': 7,\n 'Управление строительством': 7,\n 'Аттестация персонала': 7,\n 'Стратегический маркетинг': 7,\n 'Создание, развитие и ведение клиентской базы': 7,\n 'Написание рекламных статей': 7,\n 'Логистический менеджмент': 7,\n 'Продвижение объекта': 7,\n 'Геодезия': 7,\n 'Работа с локальными сетями': 7,\n 'Figma': 7,\n 'Kotlin': 7,\n 'Windows Os': 7,\n 'Администрирование сайтов': 7,\n 'Конкурентная аналитика': 7,\n 'Курьер': 7,\n 'Каменные работы': 7,\n 'API': 7,\n 'Готовность обучаться': 7,\n 'Опытный пользовать ПК, знание MS Office': 7,\n 'Разработка электросхем': 7,\n 'Заказ такси': 7,\n 'Kubernetes': 7,\n 'Спокойствие': 7,\n 'строительно-монтажные работы': 7,\n 'Работа с детьми': 7,\n 'Постановка задач разработчикам': 7,\n 'Поиск персонала в открытых источниках': 7,\n 'Оформление возврата продукции': 7,\n 'Педиатрия': 6,\n 'Поиск и подбор помещения': 6,\n 'Офисные программы': 6,\n 'Управление талантами': 6,\n 'Laravel': 6,\n 'Организация безопасной эксплуатации оборудования': 6,\n 'Внимательность к мелочам': 6,\n 'Прокладка кабелей': 6,\n 'Отчет о прибылях и убытках': 6,\n 'Контроль состояния оборудования': 6,\n 'Экономическая безопасность': 6,\n 'Страхование': 6,\n 'Управление складом': 6,\n 'Повременно-премиальная оплата труда': 6,\n 'MS SQL Server': 6,\n 'JSON API': 6,\n 'Грамотная письменная речь': 6,\n 'Продажа кредитных продуктов': 6,\n '1С: CRM ПРОФ': 6,\n 'MS CRM': 6,\n 'Дизайн интерфейсов': 6,\n 'Оценка недвижимости': 6,\n 'Элитная недвижимость': 6,\n 'Django Framework': 6,\n 'Составление семантического ядра': 6,\n 'UML': 6,\n 'Системный анализ': 6,\n 'Высокие коммуникативные навыки': 6,\n 'Автоматизация склада': 6,\n 'Государственные структуры': 6,\n 'Вентиляция и кондиционирование': 6,\n 'проведение интервью': 6,\n 'Выездные мероприятия': 6,\n 'Управление документооборотом': 6,\n 'Водитель': 6,\n 'Знания и умения по специальности': 6,\n 'Умение организовывать работу': 6,\n 'Регрессионное тестирование': 6,\n 'PR': 6,\n 'Отчетность': 6,\n 'Анализ финансовых показателей': 6,\n 'Корпоративное право': 6,\n 'Адаптация': 6,\n 'Барное ремесло': 6,\n 'Работа с документами временного хранения': 6,\n 'комплектовщик': 6,\n 'начинающий специалист': 6,\n 'Составление планов по подбору': 6,\n 'Ипотечное кредитование': 6,\n 'АСУ ТП': 6,\n 'Аутстаффинг': 6,\n 'Федеральные сети': 6,\n 'Проведение собеседований': 6,\n 'Выполнение технического надзора': 6,\n 'Tilda': 6,\n 'Производство рекламных материалов': 6,\n 'iiko': 6,\n 'Compass 3D': 6,\n 'разработка инструкций по охране труда': 6,\n 'Гостиничный менеджмент': 6,\n 'Договоры подряда': 6,\n 'Не конфликтность': 6,\n 'проведение переговоров с первыми лицами компании': 6,\n 'Управление сотрудниками в регионах': 6,\n 'Стационарный мерчандайзинг': 6,\n 'Энтузиазм': 6,\n 'Компьютер': 6,\n 'Управление цепочкой поставок': 6,\n 'Лидогенерация': 6,\n 'B2B Marketing': 6,\n 'СУБД': 6,\n 'Готовность к командировкам': 6,\n 'Косметология': 6,\n 'Оптимизация затрат': 6,\n 'DHCP': 6,\n 'Участие в профессиональных выставках': 6,\n 'Экологическая безопасность': 6,\n 'Энергетика': 6,\n 'Официальное трудоустройство': 6,\n 'Оформление трудовых книжек': 6,\n 'администратор': 6,\n 'кассир': 6,\n 'Business English': 6,\n 'План продвижения': 6,\n 'Scrum': 6,\n 'Графика': 6,\n 'Проведение праздников': 6,\n 'MVC': 6,\n 'СБиС': 6,\n 'системы вентиляции и кондиционирования': 6,\n 'Вождение дизельного погрузчика': 6,\n 'CorelDRAW Photo Draw': 6,\n 'Студийная фотосъемка': 6,\n 'Adobe Premier Pro': 6,\n 'Управление товарными запасами': 6,\n 'Less': 5,\n 'Технические средства информационной защиты': 5,\n 'подготовка документов для участия в тендерах': 5,\n 'Ruby': 5,\n 'SOAP': 5,\n 'Hibernate ORM': 5,\n 'Agile Project Management': 5,\n 'Angular': 5,\n 'Администрирование процесса обучения': 5,\n 'Ввод в эксплуатацию': 5,\n 'Mac Os': 5,\n 'Способность работать в режиме многозадачности': 5,\n 'Бизнес-консультирование': 5,\n 'Управление финансами': 5,\n 'Правовые системы': 5,\n 'Планирование и организация': 5,\n 'ERP-системы на базе 1С': 5,\n 'Обеспечение техники безопасности': 5,\n 'Лицензия охранника': 5,\n 'Слепая печать': 5,\n 'Рисунок': 5,\n 'Массаж': 5,\n 'Классический массаж': 5,\n 'Загородная недвижимость': 5,\n 'Участок \"Банк-Клиент\"': 5,\n 'Желание работать и развиваться': 5,\n 'Безопасность': 5,\n 'Android SDK': 5,\n 'Управление офисными водителями': 5,\n 'Расчеты с поставщиками': 5,\n 'Видеосъемка': 5,\n 'Sony Vegas': 5,\n 'Опыт работы с людьми': 5,\n 'водитель': 5,\n 'опыт работы': 5,\n 'Умение находить общий язык': 5,\n 'Проверка контрагентов': 5,\n 'Кадровая безопасность': 5,\n 'Окрашивание волос': 5,\n 'Маркетплейсы': 5,\n 'производство': 5,\n 'Диспетчер': 5,\n 'Zabbix': 5,\n 'Администрирование серверов Linux': 5,\n 'Оптимизация закупок': 5,\n 'чтение чертежей': 5,\n 'Командообразование': 5,\n ...}"
     },
     "execution_count": 82,
     "metadata": {},
     "output_type": "execute_result"
    }
   ],
   "source": [
    "experience_count = dict()\n",
    "\n",
    "for skill_list in df.key_skills:\n",
    "    list_of_skills = literal_eval(skill_list)\n",
    "    for skill in list_of_skills:\n",
    "        if skill not in experience_count:\n",
    "            experience_count[skill] = 1\n",
    "        else:\n",
    "            experience_count[skill] += 1\n",
    "\n",
    "experience_count = {k: v for k, v in sorted(experience_count.items(), key=lambda item: item[1], reverse=True)}\n",
    "experience_count"
   ],
   "metadata": {
    "collapsed": false
   }
  },
  {
   "cell_type": "code",
   "source": [
    "skills_count = dict()\n",
    "\n",
    "for skill_list in df.key_skills:\n",
    "    list_of_skills = literal_eval(skill_list)\n",
    "    for skill in list_of_skills:\n",
    "        if skill not in skills_count:\n",
    "            skills_count[skill] = 1\n",
    "        else:\n",
    "            skills_count[skill] += 1\n",
    "\n",
    "skills_count = {k: v for k, v in sorted(skills_count.items(), key=lambda item: item[1], reverse=True)}\n",
    "skills_count"
   ],
   "metadata": {
    "colab": {
     "base_uri": "https://localhost:8080/"
    },
    "id": "axftXAgzV92P",
    "outputId": "cf418456-9dee-41e9-8664-fdd2d6db4bf1"
   },
   "execution_count": 13,
   "outputs": [
    {
     "data": {
      "text/plain": "{'Работа в команде': 2773,\n 'Пользователь ПК': 2638,\n 'Грамотная речь': 2226,\n 'Умение работать в команде': 1152,\n 'Активные продажи': 1066,\n 'Деловое общение': 851,\n 'Навыки продаж': 700,\n 'Телефонные переговоры': 649,\n 'Ведение переговоров': 630,\n 'Организаторские навыки': 588,\n 'Деловая переписка': 523,\n 'Клиентоориентированность': 515,\n 'Обучение и развитие': 494,\n 'Поиск и привлечение клиентов': 479,\n 'Грамотность': 462,\n 'Работа с большим объемом информации': 420,\n 'Прямые продажи': 402,\n 'Заключение договоров': 357,\n 'Холодные продажи': 352,\n 'Ориентация на результат': 349,\n 'AutoCAD': 344,\n 'Управление персоналом': 342,\n 'Консультирование': 340,\n '1С: Предприятие 8': 323,\n 'Обучение персонала': 322,\n 'Работа с людьми': 304,\n 'Водительское удостоверение категории B': 289,\n 'Навыки межличностного общения': 283,\n 'Деловая коммуникация': 282,\n 'Работа с кассой': 278,\n 'Знание устройства автомобиля': 275,\n 'Медицинская документация': 265,\n 'Умение работать в коллективе': 264,\n 'Английский язык': 262,\n 'Развитие продаж': 253,\n 'Документальное сопровождение': 246,\n 'B2B Продажи': 245,\n 'Контроль качества': 240,\n 'CRM': 227,\n 'Точность и внимательность к деталям': 218,\n 'Поиск информации в интернет': 218,\n 'Подбор персонала': 217,\n 'Ответственность': 212,\n 'Строительство': 212,\n 'оформление документации': 210,\n 'Работа с оргтехникой': 195,\n 'Материальная ответственность': 193,\n 'Управление продажами': 188,\n 'Работа с возражениями': 186,\n 'Мобильность': 185,\n 'Adobe Photoshop': 183,\n 'Консультативные продажи': 181,\n 'Контроль сроков годности': 181,\n 'Креативность': 180,\n 'Документооборот': 179,\n 'Общественное питание': 178,\n 'Электронная почта': 175,\n 'Ведение документации': 175,\n 'MS Outlook': 174,\n 'Складской Учет': 173,\n 'Инвентаризация': 173,\n '1С: Документооборот': 173,\n 'Консультирование клиентов': 172,\n 'Ведение отчетности': 172,\n 'Проведение презентаций': 170,\n 'Работа в условиях многозадачности': 168,\n 'Консультирование клиентов по телефону': 167,\n 'MS PowerPoint': 163,\n 'Первичная документация': 163,\n 'Техническое обслуживание': 161,\n 'Делопроизводство': 161,\n 'Медицинское оборудование': 159,\n '1С: Торговля': 158,\n 'Обслуживание покупателей': 156,\n 'Проведение инвентаризаций': 155,\n '1С: Склад': 154,\n 'Управление проектами': 152,\n 'Коммуникабельность': 151,\n 'Кассовые операции': 150,\n 'Розничная торговля': 147,\n 'Ремонтные работы': 145,\n 'Проектная документация': 142,\n 'Приемка груза': 141,\n 'Водительское удостоверение категории BC': 138,\n 'Многозадачность': 137,\n 'Мерчандайзинг': 135,\n 'Работа с базами данных': 131,\n 'входящие звонки': 131,\n 'Навыки переговоров': 127,\n 'Навыки составления отчетности': 127,\n '1C: Бухгалтерия': 125,\n 'Работа с дебиторской задолженностью': 123,\n 'Первичная бухгалтерская документация': 122,\n 'Выкладка товаров': 121,\n 'Internet': 120,\n 'Руководство коллективом': 120,\n 'Прием и распределение телефонных звонков': 120,\n 'Холодные звонки': 118,\n 'работа с текущей базой клиентов': 116,\n 'Планирование продаж': 116,\n 'Навыки презентации': 116,\n 'Кассовые документы': 112,\n 'Первичные документы': 112,\n 'Управление производством': 110,\n 'оформление заказов': 109,\n 'Стрессоустойчивость': 106,\n 'Работа с документами': 106,\n 'Бухгалтерская отчетность': 104,\n 'Управление производственным персоналом': 104,\n 'Управление отношениями с клиентами': 102,\n 'Закупка товаров и услуг': 100,\n '1С: Бухгалтерия': 98,\n 'Чтение чертежей': 97,\n 'Организация мероприятий': 96,\n 'Работа с клиентами': 95,\n 'Сварочные работы': 95,\n '1С: Торговля и склад': 93,\n 'Творческое мышление': 92,\n 'Обеспечение жизнедеятельности офиса': 90,\n 'Работа с поставщиками': 90,\n 'Ориентация на клиента': 89,\n 'Работа с ТМЦ': 88,\n 'Закупки': 88,\n 'MS Excel': 88,\n 'Ведение клиентской базы': 88,\n 'Учет товаров': 87,\n 'Монтаж оборудования': 86,\n 'Мотивация персонала': 85,\n 'исходящие звонки': 84,\n 'Ответственное хранение': 84,\n 'Складской документооборот': 82,\n 'Составление договоров': 82,\n 'Охрана труда и техника безопасности': 81,\n 'Сопровождение клиентов': 81,\n 'Планирование карьеры': 80,\n 'Способность обучать других': 80,\n 'Складская логистика': 78,\n 'Пополнение товарных запасов': 77,\n 'Кадровое делопроизводство': 76,\n 'Разработка проектной документации': 75,\n 'Аналитическое мышление': 75,\n 'MS Internet Explorer': 74,\n 'Деловая этика': 74,\n 'Прием посетителей': 74,\n 'Аналитика продаж': 74,\n 'Электронный документооборот': 74,\n 'Управление командой': 73,\n 'Расчет заработной платы': 73,\n 'Управленческая отчетность': 73,\n 'JavaScript': 72,\n 'Оценка потребностей клиентов': 72,\n 'Производство строительно-монтажных работ': 72,\n 'Git': 71,\n 'Умение планировать': 68,\n 'MS Office': 68,\n 'Turbo Pascal': 67,\n 'Транспортная логистика': 67,\n 'Навыки работы с первичной документацией': 67,\n 'Налоговая отчетность': 67,\n 'CorelDRAW': 67,\n 'Торговля': 66,\n 'B2C продажи': 66,\n 'Работа с жалобами клиентов': 66,\n 'HTML': 66,\n 'Умение принимать решения': 65,\n 'Инженерные системы': 64,\n '1С: Зарплата и управление персоналом': 64,\n 'SQL': 63,\n 'Слесарные работы': 62,\n 'Офисная техника': 62,\n '1С: Производство': 61,\n 'Интернет-реклама': 61,\n 'Вождение автомобилей представительского класса': 61,\n 'Исполнительность': 59,\n 'Управленческие навыки': 59,\n 'Настройка ПК': 59,\n 'Консультант плюс': 59,\n 'Подготовка коммерческих предложений': 58,\n 'Проведение промо акций': 56,\n 'Подготовка презентаций': 56,\n 'Договорная работа': 56,\n 'Ведение переписки': 56,\n 'PHP': 56,\n '1С: Розница': 55,\n 'Управление временем': 55,\n 'Организация встреч': 55,\n 'Google Chrome': 54,\n 'Мерчендайзинг': 53,\n 'Linux': 53,\n 'Бухгалтерский учет': 53,\n 'Компас-3D': 53,\n 'Работа с юридическими лицами': 53,\n 'MySQL': 52,\n 'Высокая скорость печати': 52,\n 'Продвижение бренда': 51,\n 'Современная розница': 51,\n 'Продажи': 51,\n 'Маркетинговый анализ': 51,\n 'Автомобильные грузоперевозки': 50,\n 'телефонные продажи': 50,\n 'исполнение поручений руководителя': 49,\n '1С: Управление персоналом': 49,\n 'Ответственность и пунктуальность': 49,\n 'Блочная выкладка товара': 49,\n 'CSS': 49,\n '1С-Битрикс': 49,\n '1С: Управление Торговлей': 48,\n 'Adobe Illustrator': 48,\n 'Традиционная розница': 47,\n 'Обучение': 47,\n 'Контроль дебиторской задолженности': 47,\n 'Навыки работы с возражениями': 47,\n 'Массовый подбор персонала': 47,\n 'Монтаж металлоконструкций': 46,\n 'Адаптация персонала': 46,\n 'MS Dos': 46,\n 'SMM': 46,\n 'Техническая эксплуатация': 45,\n 'Банк-клиент': 45,\n 'Опыт продаж': 45,\n 'Расстановка приоритетов': 44,\n 'Автомобильные перевозки': 43,\n 'Производственный контроль': 43,\n 'Администрирование': 43,\n 'Работа с компьютером': 42,\n 'Логистика': 42,\n 'Гибкость': 42,\n 'Контроль исполнения решений': 42,\n 'Настройка сетевых подключений': 42,\n 'Оперативный поиск информации в сети Интернет': 42,\n '3 группа по электробезопасности': 42,\n 'Финансовая отчетность': 41,\n 'MS Access': 41,\n 'Технический контроль производства': 41,\n 'Умение работать в условиях многозадачности': 41,\n 'Контроль отгрузок': 40,\n 'Высшее образование': 40,\n 'Учет остатков': 40,\n 'Преподаватель': 40,\n 'Административная поддержка руководителя': 40,\n 'Исполнение личных поручений руководителя': 40,\n 'Претензионная работа': 39,\n 'Проектирование': 39,\n 'Сметы': 39,\n 'Организационные навыки': 39,\n 'нормативно-техническая документация': 38,\n 'MS Paint': 38,\n 'Windows 7': 38,\n 'Гражданское право': 37,\n 'Разработка технических заданий': 37,\n 'Ремонт ПК': 37,\n 'Согласование договоров': 37,\n 'Внутренний контроль': 37,\n 'MS Word': 37,\n 'работа с физическими лицами': 37,\n 'Копирайтинг': 37,\n 'Работа с претензиями': 36,\n 'Монтаж инженерных систем': 36,\n 'Охрана объекта': 36,\n 'Жилая недвижимость': 36,\n 'ТМЦ': 36,\n 'Internet Marketing': 35,\n 'Прием и распределение звонков': 35,\n 'Сборка ПК': 35,\n 'R-Keeper': 35,\n 'Коммуникабельность, ответственность': 34,\n 'Учет ТМЦ': 34,\n 'Чтение электросхем': 33,\n 'Python': 33,\n 'Должностные инструкции': 33,\n 'Внимательность': 33,\n 'Настройка ПО': 33,\n 'Adobe Acrobat': 33,\n 'Урегулирование конфликтов': 33,\n 'Желание работать и зарабатывать': 33,\n 'Написание текстов': 33,\n 'Аналитические способности': 32,\n 'Планирование': 32,\n 'Проведение переговоров': 32,\n 'Наполнение контентом': 32,\n 'Дизайн': 32,\n 'Ведение групп в социальных сетях': 32,\n 'реализация товаров и услуг': 31,\n 'Информационные технологии': 31,\n 'Внутренняя документация': 31,\n 'ЕСКД': 30,\n 'Желание обучаться': 30,\n 'Бюджетирование': 30,\n 'Общая психология': 30,\n 'Сопровождение строительства': 30,\n 'Бумажный документооборот': 30,\n 'Основные средства': 30,\n '1С программирование': 30,\n 'Опытный пользователь ПК': 30,\n 'Оценка персонала': 29,\n 'Составление отчетности': 29,\n 'Учет материалов': 29,\n 'Android': 29,\n 'Кредитные договоры': 29,\n 'Акты сверок': 29,\n 'Производственное планирование': 29,\n 'Google Analytics': 29,\n 'Строительный контроль': 28,\n 'Уверенный пользователь ПК': 28,\n 'PostgreSQL': 28,\n 'ArchiCAD': 28,\n 'Водительское удостоверение категории BCE': 28,\n 'Сварка': 28,\n 'MS Project': 28,\n 'Мотивация': 28,\n 'jQuery': 28,\n 'Статистический анализ': 28,\n 'Планирование маркетинговых кампаний': 28,\n 'Прямой поиск': 28,\n '1С: Бухгалтерия и склад': 28,\n 'Внутренние коммуникации': 27,\n 'HTML5': 27,\n 'Разработка инструкций': 27,\n 'Авансовые отчеты': 27,\n 'Google Docs': 27,\n 'Расчет затрат': 27,\n 'Строительное делопроизводство': 27,\n 'Дружелюбность': 27,\n 'Участие в Тендерах': 26,\n 'Целеустремленность': 26,\n 'Системы видеонаблюдения': 26,\n 'MS Visio': 26,\n 'Поварское дело': 26,\n 'Пожарная безопасность': 26,\n 'Собеседование': 26,\n 'Планирование рабочего дня руководителя': 26,\n 'Визуальный мерчандайзинг': 26,\n 'Графический дизайн': 26,\n 'Знание 1С': 26,\n 'Продажа страховых продуктов': 26,\n 'Google AdWords': 26,\n 'ООП': 26,\n 'Социальные сети': 26,\n 'Маркетинговые исследования': 25,\n 'Анализ рынка': 25,\n 'Удаленная работа': 25,\n 'Проектно-конструкторская деятельность': 25,\n 'Арбитражные суды': 25,\n 'Тайм-менеджмент': 25,\n 'Работа в режиме многозадачности': 25,\n 'Логистика поставок': 25,\n 'Компас': 24,\n 'Java': 24,\n 'Выездное обслуживание': 24,\n 'Оценка кандидатов': 24,\n 'Товароведение': 24,\n 'Контекстная реклама': 24,\n 'ПК': 24,\n 'MS Publisher': 24,\n 'Корпоративные продажи': 24,\n 'Государственные закупки': 23,\n 'Финансовый анализ': 23,\n 'Корпоративная этика': 23,\n 'исходящая корреспонденция': 23,\n 'Поддержка работы офиса': 23,\n 'Организация деловых поездок': 23,\n 'MS SQL': 23,\n '3D Моделирование': 23,\n 'Инкассация': 23,\n 'SolidWorks': 23,\n 'Опрятность': 23,\n 'Гранд-смета': 23,\n 'Детская психология': 23,\n 'Подбор производственного персонала': 23,\n 'Организация рабочих мест': 23,\n 'Маркетинговые коммуникации': 23,\n 'Яндекс.Метрика': 23,\n 'Гарантийное обслуживание': 23,\n 'Экономический анализ': 22,\n 'Autodesk Revit': 22,\n 'Ведение активных клиентов': 22,\n '1C: Предприятие': 22,\n 'Внимательность, ответственность': 22,\n 'Корпоративная культура': 22,\n 'Дизайн интерьера': 22,\n 'Бизнес-анализ': 22,\n 'Работа с ПК': 22,\n 'Взаимодействие с контрольными органами': 21,\n 'Составление смет': 21,\n 'CSS3': 21,\n 'Организация учебного процесса': 21,\n 'Анализ данных': 21,\n 'Анализ продаж': 21,\n 'Входящая корреспонденция': 21,\n 'Яндекс.Директ': 21,\n 'Физическая выносливость': 21,\n 'Электротехнические работы': 20,\n 'Excel': 20,\n 'Тендеры': 20,\n 'Доброжелательность': 20,\n 'Юридическая поддержка': 20,\n 'Пунктуальность': 20,\n 'Техническая поддержка': 20,\n 'Базы данных': 20,\n 'Технология производства': 20,\n 'Техническая документация': 20,\n 'Atlassian Jira': 20,\n 'Рекрутмент': 20,\n 'Проведение опросов клиентов': 19,\n 'Суды общей юрисдикции': 19,\n 'Сбор и анализ информации': 19,\n 'HoReCa': 19,\n 'Кадровое планирование': 19,\n 'первичный документооборот': 19,\n 'Тренинги': 19,\n 'Терминалы Сбора Данных': 19,\n 'Финансовый контроль': 19,\n 'Работа на складе': 19,\n 'Локальные сети': 19,\n 'Диагностика': 19,\n 'Отчетность в ПФР': 19,\n 'Аккуратность': 19,\n 'Строительно-отделочные работы': 19,\n 'Фотография': 19,\n 'SEO': 19,\n 'Мониторинг рынка': 19,\n 'Экспедирование': 19,\n 'Коммуникативные навыки': 19,\n 'Social Media Marketing': 19,\n 'Организация движения и учета документов': 18,\n 'Стратегическое мышление': 18,\n 'Skype': 18,\n 'Сканер': 18,\n 'Работа с чертежами': 18,\n 'Комплектация': 18,\n 'Телефонное интервью': 18,\n 'Гражданское строительство': 18,\n 'Отчетность в ФСС': 18,\n 'Деловой этикет': 18,\n 'Чистоплотность': 18,\n 'Юридическое сопровождение': 18,\n 'Развитие ключевых клиентов': 18,\n 'TCP/IP': 18,\n 'Архивирование': 18,\n 'Грамотная устная и письменная речь': 18,\n 'Разработка маркетинговой стратегии': 18,\n 'Верстка': 18,\n 'Лечебная деятельность': 17,\n 'Продажи через дистрибьюторов': 17,\n 'Малярные работы': 17,\n 'Вежливость': 17,\n 'Знание компьютера': 17,\n 'Проектирование зданий и сооружений': 17,\n 'Технические системы и средства безопасности': 17,\n 'Деловая корреспонденция': 17,\n 'Системное мышление': 17,\n 'Mathcad': 17,\n 'Ведение архива': 17,\n 'Управление складскими запасами': 17,\n 'аккуратность': 17,\n 'Администрирование приема, перевода и увольнения сотрудников': 17,\n 'Проведение ревизий': 17,\n 'Спортивное питание': 16,\n 'Схемотехника электронного оборудования': 16,\n 'Ценообразование': 16,\n 'Solid Works': 16,\n '3ds Max': 16,\n 'Пуско-наладочные работы': 16,\n 'Статистическая отчетность': 16,\n 'Расчет НДС': 16,\n 'Оптимизация бизнес-процессов': 16,\n '1С: Управление Производственным Предприятием': 16,\n 'Станки ЧПУ': 16,\n 'Подготовка отчетов': 16,\n 'Составление исков': 16,\n 'Написание статей': 16,\n '1С: Зарплата и кадры': 16,\n 'Управление качеством': 16,\n 'Работоспособность': 16,\n 'пунктуальность': 15,\n 'Гражданское процессуальное право': 15,\n 'Электрические системы и слаботочные системы': 15,\n 'Аналитические исследования': 15,\n 'SAP': 15,\n 'Малоэтажное строительство': 15,\n 'Active Directory': 15,\n 'Уборка': 15,\n 'Работа с ключевыми клиентами': 15,\n 'C#': 15,\n 'amoCRM': 15,\n 'регистрация документации': 15,\n 'Лидерство': 15,\n 'Управление интернет-проектами': 15,\n 'Adobe InDesign': 15,\n 'Умение расставлять приоритеты': 15,\n 'Электромонтажные работы': 14,\n 'Навыки телефонных продаж': 14,\n 'Node.js': 14,\n 'Администрирование сетевого оборудования': 14,\n 'B2B маркетинг': 14,\n 'Табель учета рабочего времени': 14,\n '1C: Зарплата и кадры': 14,\n 'Бронирование гостиниц': 14,\n 'Протоколирование': 14,\n 'Ресторанный менеджмент': 14,\n 'Умение работать с людьми': 14,\n 'Таргетинг': 14,\n 'Агентские продажи': 14,\n 'Оптимизация логистических процессов': 14,\n 'Формирование бюджета': 14,\n 'Желание зарабатывать': 14,\n 'Взыскание задолженности': 14,\n 'ВЭД': 14,\n 'Недвижимость': 14,\n 'Индивидуальное обучение': 14,\n 'Docker': 14,\n 'Способность быстро обучаться': 14,\n 'Оформление больничных листов и отпусков': 14,\n 'Системы канализации и водоснабжения': 14,\n 'Гарант': 13,\n 'C++': 13,\n 'Умение общаться с людьми': 13,\n 'Приготовление продукции': 13,\n 'Выдача заказов': 13,\n 'Поддержание чистоты': 13,\n 'Карьерный рост': 13,\n 'Охрана труда': 13,\n 'Бронирование билетов': 13,\n 'разработка чертежей': 13,\n 'Российские стандарты бухгалтерского учета': 13,\n 'Реклама': 13,\n 'Знание города': 13,\n 'Расчеты с покупателями': 13,\n 'Контроль исправности оборудования': 13,\n 'Лабораторная работа': 13,\n 'Умение слушать': 13,\n 'Стабильность': 13,\n 'Графические редакторы': 13,\n 'Наружная реклама': 13,\n 'XML': 13,\n 'Кредиторская задолженность': 13,\n 'Ответственный подход к работе': 13,\n '1С: Предприятие': 13,\n 'SEO оптимизация': 13,\n 'Привлечение клиентов': 13,\n 'Опрятный внешний вид': 13,\n 'первичная обработка документации': 13,\n 'Контроль оформления документов': 13,\n 'Планирование закупок': 13,\n 'внимательность': 13,\n 'Bootstrap': 13,\n 'Тестирование': 13,\n 'Списание ТМЦ': 13,\n 'Немецкий язык': 13,\n 'Составление предложений о работе': 13,\n 'Трудоспособность': 13,\n '1С: Предприятие: Розница': 13,\n 'Обучаемость': 13,\n 'Банкротство': 12,\n 'Материальная отвественность': 12,\n 'Информационная безопасность': 12,\n 'Сосредоточенность': 12,\n 'Анализ конкурентной среды': 12,\n 'Работа на выставках': 12,\n 'Инициативность': 12,\n 'Деревообработка': 12,\n 'Эксплуатация': 12,\n 'Автоматизированное рабочее место (АРМ)': 12,\n 'Водительское удостоверение категории BCD': 12,\n 'Грузовой транспорт': 12,\n 'Финансовое планирование': 12,\n 'Управление затратами': 12,\n 'Cистемы управления базами данных': 12,\n 'Сельское хозяйство': 12,\n 'Способность к обучению и восприятию информации': 12,\n 'Закупка оргтехники и оборудования': 12,\n 'Административное управление': 12,\n 'Разработка концепции': 12,\n 'Ведение кассовой книги': 12,\n 'Видеомонтаж': 12,\n 'Штатное расписание': 12,\n 'Взаимодействие с государственными контролирующими органами': 12,\n 'Трудовой кодекс РФ': 12,\n 'Обработка изображений': 12,\n 'Аналитический склад ума': 12,\n 'Материально-техническое обеспечение': 12,\n '1С: Комплексная автоматизация': 12,\n 'Умение работать в режиме многозадачности': 12,\n 'Оприходование товара': 12,\n 'Знание иностранных языков': 12,\n 'Веб-аналитика': 12,\n 'входящая документация': 12,\n 'Физическая подготовка': 11,\n 'Проведение тендеров': 11,\n 'Знание MS Office': 11,\n 'Расчет себестоимости': 11,\n 'Кадровая политика': 11,\n 'Дорожное строительство': 11,\n 'Redis': 11,\n 'Психология': 11,\n 'Сборочное производство': 11,\n 'прохождение налоговых проверок': 11,\n 'Кладовщик': 11,\n 'Выносливость': 11,\n 'MS Movie Maker': 11,\n 'Движение денежных средств': 11,\n 'Вторичная недвижимость': 11,\n 'Первичная недвижимость': 11,\n 'Телемаркетинг': 11,\n 'Дистанционное обучение': 11,\n 'Умение работать с клиентами': 11,\n 'Гражданский кодекс РФ': 11,\n 'Организация хранения документации': 11,\n 'Администрирование серверов Windows': 11,\n 'Публичные выступления': 11,\n 'Дисциплинированность': 11,\n 'Социальная психология': 11,\n 'Анализ бизнес показателей': 11,\n 'Расчет зарплаты': 11,\n 'Контроль поставок': 11,\n 'Ajax': 11,\n 'Бизнес-планирование': 11,\n 'Групповое обучение': 11,\n 'Расчет налогов': 11,\n 'Коммуникабельность, стрессоустойчивость': 11,\n 'Консультирование сотрудников по вопросам трудового законодательства': 11,\n 'Формирование планов по подбору персонала': 10,\n 'React': 10,\n 'Взаимодействие с органами государственного контроля': 10,\n 'Системы охранно-тревожной сигнализации': 10,\n 'Windows Xp': 10,\n 'Оперативное планирование': 10,\n 'обучение сотрудников': 10,\n 'Проектный менеджмент': 10,\n 'Продвинутый пользователь ПК': 10,\n 'Управленческий учет': 10,\n 'Интернет маркетинг': 10,\n 'Фотомонтаж': 10,\n 'Symfony': 10,\n 'B2C маркетинг': 10,\n 'Навыки разрешения спорных ситуаций': 10,\n 'Автоматизация технологических процессов': 10,\n 'Autodesk 3ds Max': 10,\n 'Опыт судебных разбирательств': 10,\n 'Сопровождение сделок': 10,\n 'Медиапланирование': 10,\n 'Вождение трактора': 10,\n 'Продажи физическим лицам': 10,\n 'Стремление к профессиональному росту': 10,\n 'Организация презентаций': 10,\n 'Обновление конфигурации 1С': 10,\n 'Водительское удостоверение категории A': 10,\n 'Дебиторская задолженность': 10,\n 'Сборка мебели': 10,\n 'Передача документации на исполнение': 10,\n 'Проведение внутренних расследований': 10,\n 'Проведение опросов': 10,\n 'Проведение телефонных интервью': 10,\n 'Организация и планирование рабочего времени': 10,\n 'продажа недвижимости': 10,\n 'Развитие бренда': 10,\n 'Организация стажировок': 10,\n 'Аутсорсинг': 10,\n 'Nginx': 10,\n 'Навыки коммуникации': 10,\n 'Спортивные мероприятия': 10,\n 'Массовое производство': 10,\n 'Линейная выкладка товара': 10,\n '1C: Финансы': 9,\n 'Желание учиться и развиваться': 9,\n 'технологические карты': 9,\n 'Spring Framework': 9,\n 'Ответственность и исполнительность': 9,\n 'Фитнес': 9,\n 'Yii': 9,\n 'Microsoft Access': 9,\n 'Навыки делового общения': 9,\n 'Системы безопасности': 9,\n 'Водоснабжение и канализация': 9,\n 'Управление лояльностью потребителей': 9,\n 'обработка входящей корреспонденции': 9,\n 'Административно-хозяйственная деятельность': 9,\n 'Позитивный настрой': 9,\n 'Добросовестность': 9,\n 'Самостоятельное ведение кадрового документооборота': 9,\n 'Продажи запчастей для иностранных автомобилей': 9,\n 'Платежные поручения': 9,\n 'Продажи через интернет': 9,\n 'Автоматизация документооборота': 9,\n 'Общение с клиентами': 9,\n 'Управление бюджетом': 9,\n 'CMS Wordpress': 9,\n 'Взаимодействие с надзорными организациями': 9,\n 'Стропальщик': 9,\n 'Психология Личности': 9,\n 'SCAD': 9,\n 'Продвижение в социальных группах': 9,\n 'Трудовое законодательство РФ': 9,\n 'Умение вести переговоры': 9,\n 'вахта': 9,\n 'MongoDB': 9,\n 'Подбор сотрудников': 9,\n 'Бережливое производство': 9,\n 'Письменный перевод': 9,\n 'Вводный инструктаж по охране труда и технике безопасности': 9,\n 'Маркетинговое планирование': 9,\n 'Воинский учет': 9,\n 'Анализ себестоимости': 9,\n 'Анализ затрат': 9,\n 'Мониторинг цен': 9,\n 'Маникюр': 9,\n 'Гостиницы': 9,\n 'Знание техники продаж': 9,\n 'Химические методы анализа': 9,\n 'Штукатурные работы': 9,\n 'Управление секретариатом': 9,\n 'обучаемость': 9,\n 'Хорошая обучаемость': 9,\n 'ANSYS': 9,\n 'Технический надзор': 9,\n 'Ведение деловой переписки': 8,\n 'принимать решения и за их результаты отвечать самостоятельно': 8,\n 'Управление офисами компании': 8,\n 'Анализ текущих финансовых показателей': 8,\n 'PHP5': 8,\n 'Математический анализ': 8,\n 'Предпечатная подготовка': 8,\n 'Выбор подрядных организаций': 8,\n 'Pascal': 8,\n 'Организация работы приемной': 8,\n 'Техническая грамотность': 8,\n '1С: Предприятие: Бухгалтерский Учет': 8,\n 'Opera': 8,\n 'Управление рисками': 8,\n 'Битрикс24': 8,\n 'Web-дизайн': 8,\n 'Продажи юридическим лицам': 8,\n 'Электрика': 8,\n 'Поисковые системы': 8,\n 'UI': 8,\n 'Контроль отгрузки и доставки товара': 8,\n 'Предметная фотосъемка': 8,\n 'Microsoft Office': 8,\n 'Технологии производства блюд': 8,\n 'Участок \"Касса\"': 8,\n 'iOS': 8,\n 'Продажи корпоративным клиентам': 8,\n 'Юридический консалтинг': 8,\n 'Сверка взаиморасчетов с поставщиками товаров и услуг': 8,\n 'Helpdesk': 8,\n 'дисциплинированность': 8,\n 'Договоры поставки': 8,\n 'Взаимодействие с правоохранительными органами': 8,\n 'WEB аналитика': 8,\n 'Функциональное тестирование': 8,\n 'Трудовое право': 8,\n 'Подбор недвижимости по запросу клиента': 8,\n 'Бетонные работы': 8,\n 'Веб-программирование': 8,\n 'Разработка нового продукта': 8,\n 'Исходящая документация': 8,\n 'Налоговое законодательство': 8,\n 'Точность и внимательность': 8,\n 'Умение читать чертежи': 8,\n 'КИПиА': 8,\n 'Статистика': 8,\n 'Грузоперевозки': 8,\n 'Составление бизнес-плана': 8,\n 'грамотная русская речь (устная и письменная)': 8,\n 'Педикюр': 8,\n 'Общестроительные работы': 8,\n 'Региональные сети': 8,\n 'Административное право': 8,\n 'Adobe After Effect': 8,\n 'Работа в коллективе': 8,\n 'Портретная фотосъемка': 8,\n 'работа с VIP клиентами': 8,\n 'Мобильный мерчандайзинг': 8,\n 'Отчетность в государственные фонды': 8,\n 'Испанский язык': 8,\n 'Cоциальный маркетинг': 8,\n 'Тактичность': 8,\n 'Вахта': 8,\n 'Начисление ежегодных отпусков': 8,\n 'Внутренняя логистика': 8,\n 'Взаимодействие с разрешительными органами': 8,\n 'Знание законодательства': 8,\n 'Водительские права категории В': 7,\n 'Высокая энергичность': 7,\n 'REST': 7,\n 'Металлообработка': 7,\n 'Маркетинг услуг': 7,\n 'Выявление потребностей в обучении': 7,\n 'Капитальный ремонт': 7,\n 'менеджер': 7,\n 'Autodesk Inventor': 7,\n '3D Max': 7,\n 'Терпеливость': 7,\n 'База данных: Outlook': 7,\n 'Продажа дополнительных услуг и оборудования': 7,\n 'OpenOffice': 7,\n 'Налоговый учет': 7,\n 'FMCG Продажи': 7,\n 'Непрерывное производство': 7,\n 'Маркетинг': 7,\n 'Планирование рекламных кампаний': 7,\n 'Приходные и расходные кассовые ордера': 7,\n 'Работа с первичной документацией': 7,\n 'кадровый учет': 7,\n 'Техники продаж': 7,\n 'умение работать в команде': 7,\n 'Европейская кухня': 7,\n 'Стандарты гостеприимства': 7,\n '1С: Управление предприятием': 7,\n 'UX': 7,\n 'BPMN': 7,\n 'Восстановление кадрового документооборота': 7,\n 'Производство пусконаладочных работ': 7,\n 'Промышленная безопасность': 7,\n 'Обработка видео': 7,\n 'Женские стрижки': 7,\n 'Мужские стрижки': 7,\n 'Умение легко находить контакт с людьми': 7,\n 'Личный автомобиль': 7,\n 'планировать и оптимально организовать рабочий процесс': 7,\n 'Стоматология': 7,\n 'без опыта': 7,\n 'подработка': 7,\n 'Работа с существующей базой клиентов': 7,\n 'Работа с электроинструментом': 7,\n 'Исследования рынка труда': 7,\n 'Продвижение сайтов': 7,\n 'Высокая энергичность и инициативность': 7,\n 'Таможенное оформление': 7,\n 'Управление HR брендом': 7,\n 'Управление строительством': 7,\n 'Аттестация персонала': 7,\n 'Стратегический маркетинг': 7,\n 'Создание, развитие и ведение клиентской базы': 7,\n 'Написание рекламных статей': 7,\n 'Логистический менеджмент': 7,\n 'Продвижение объекта': 7,\n 'Геодезия': 7,\n 'Работа с локальными сетями': 7,\n 'Figma': 7,\n 'Kotlin': 7,\n 'Windows Os': 7,\n 'Администрирование сайтов': 7,\n 'Конкурентная аналитика': 7,\n 'Курьер': 7,\n 'Каменные работы': 7,\n 'API': 7,\n 'Готовность обучаться': 7,\n 'Опытный пользовать ПК, знание MS Office': 7,\n 'Разработка электросхем': 7,\n 'Заказ такси': 7,\n 'Kubernetes': 7,\n 'Спокойствие': 7,\n 'строительно-монтажные работы': 7,\n 'Работа с детьми': 7,\n 'Постановка задач разработчикам': 7,\n 'Поиск персонала в открытых источниках': 7,\n 'Оформление возврата продукции': 7,\n 'Педиатрия': 6,\n 'Поиск и подбор помещения': 6,\n 'Офисные программы': 6,\n 'Управление талантами': 6,\n 'Laravel': 6,\n 'Организация безопасной эксплуатации оборудования': 6,\n 'Внимательность к мелочам': 6,\n 'Прокладка кабелей': 6,\n 'Отчет о прибылях и убытках': 6,\n 'Контроль состояния оборудования': 6,\n 'Экономическая безопасность': 6,\n 'Страхование': 6,\n 'Управление складом': 6,\n 'Повременно-премиальная оплата труда': 6,\n 'MS SQL Server': 6,\n 'JSON API': 6,\n 'Грамотная письменная речь': 6,\n 'Продажа кредитных продуктов': 6,\n '1С: CRM ПРОФ': 6,\n 'MS CRM': 6,\n 'Дизайн интерфейсов': 6,\n 'Оценка недвижимости': 6,\n 'Элитная недвижимость': 6,\n 'Django Framework': 6,\n 'Составление семантического ядра': 6,\n 'UML': 6,\n 'Системный анализ': 6,\n 'Высокие коммуникативные навыки': 6,\n 'Автоматизация склада': 6,\n 'Государственные структуры': 6,\n 'Вентиляция и кондиционирование': 6,\n 'проведение интервью': 6,\n 'Выездные мероприятия': 6,\n 'Управление документооборотом': 6,\n 'Водитель': 6,\n 'Знания и умения по специальности': 6,\n 'Умение организовывать работу': 6,\n 'Регрессионное тестирование': 6,\n 'PR': 6,\n 'Отчетность': 6,\n 'Анализ финансовых показателей': 6,\n 'Корпоративное право': 6,\n 'Адаптация': 6,\n 'Барное ремесло': 6,\n 'Работа с документами временного хранения': 6,\n 'комплектовщик': 6,\n 'начинающий специалист': 6,\n 'Составление планов по подбору': 6,\n 'Ипотечное кредитование': 6,\n 'АСУ ТП': 6,\n 'Аутстаффинг': 6,\n 'Федеральные сети': 6,\n 'Проведение собеседований': 6,\n 'Выполнение технического надзора': 6,\n 'Tilda': 6,\n 'Производство рекламных материалов': 6,\n 'iiko': 6,\n 'Compass 3D': 6,\n 'разработка инструкций по охране труда': 6,\n 'Гостиничный менеджмент': 6,\n 'Договоры подряда': 6,\n 'Не конфликтность': 6,\n 'проведение переговоров с первыми лицами компании': 6,\n 'Управление сотрудниками в регионах': 6,\n 'Стационарный мерчандайзинг': 6,\n 'Энтузиазм': 6,\n 'Компьютер': 6,\n 'Управление цепочкой поставок': 6,\n 'Лидогенерация': 6,\n 'B2B Marketing': 6,\n 'СУБД': 6,\n 'Готовность к командировкам': 6,\n 'Косметология': 6,\n 'Оптимизация затрат': 6,\n 'DHCP': 6,\n 'Участие в профессиональных выставках': 6,\n 'Экологическая безопасность': 6,\n 'Энергетика': 6,\n 'Официальное трудоустройство': 6,\n 'Оформление трудовых книжек': 6,\n 'администратор': 6,\n 'кассир': 6,\n 'Business English': 6,\n 'План продвижения': 6,\n 'Scrum': 6,\n 'Графика': 6,\n 'Проведение праздников': 6,\n 'MVC': 6,\n 'СБиС': 6,\n 'системы вентиляции и кондиционирования': 6,\n 'Вождение дизельного погрузчика': 6,\n 'CorelDRAW Photo Draw': 6,\n 'Студийная фотосъемка': 6,\n 'Adobe Premier Pro': 6,\n 'Управление товарными запасами': 6,\n 'Less': 5,\n 'Технические средства информационной защиты': 5,\n 'подготовка документов для участия в тендерах': 5,\n 'Ruby': 5,\n 'SOAP': 5,\n 'Hibernate ORM': 5,\n 'Agile Project Management': 5,\n 'Angular': 5,\n 'Администрирование процесса обучения': 5,\n 'Ввод в эксплуатацию': 5,\n 'Mac Os': 5,\n 'Способность работать в режиме многозадачности': 5,\n 'Бизнес-консультирование': 5,\n 'Управление финансами': 5,\n 'Правовые системы': 5,\n 'Планирование и организация': 5,\n 'ERP-системы на базе 1С': 5,\n 'Обеспечение техники безопасности': 5,\n 'Лицензия охранника': 5,\n 'Слепая печать': 5,\n 'Рисунок': 5,\n 'Массаж': 5,\n 'Классический массаж': 5,\n 'Загородная недвижимость': 5,\n 'Участок \"Банк-Клиент\"': 5,\n 'Желание работать и развиваться': 5,\n 'Безопасность': 5,\n 'Android SDK': 5,\n 'Управление офисными водителями': 5,\n 'Расчеты с поставщиками': 5,\n 'Видеосъемка': 5,\n 'Sony Vegas': 5,\n 'Опыт работы с людьми': 5,\n 'водитель': 5,\n 'опыт работы': 5,\n 'Умение находить общий язык': 5,\n 'Проверка контрагентов': 5,\n 'Кадровая безопасность': 5,\n 'Окрашивание волос': 5,\n 'Маркетплейсы': 5,\n 'производство': 5,\n 'Диспетчер': 5,\n 'Zabbix': 5,\n 'Администрирование серверов Linux': 5,\n 'Оптимизация закупок': 5,\n 'чтение чертежей': 5,\n 'Командообразование': 5,\n ...}"
     },
     "execution_count": 13,
     "metadata": {},
     "output_type": "execute_result"
    }
   ]
  },
  {
   "cell_type": "markdown",
   "source": [
    "**Визуализацию данных из тестового датасета мы предлагаем вам сделать самостоятельно**. Вполне может оказаться так, что они сильно отличаются от трейна."
   ],
   "metadata": {
    "id": "jQ9jBav6qufM"
   }
  },
  {
   "cell_type": "code",
   "source": [
    "stop_words = set(stopwords.words('russian'))\n",
    "morph = MorphAnalyzer()\n",
    "\n",
    "\n",
    "# функция для очистки описаний\n",
    "def clean_text(text):\n",
    "    text = re.sub(r'http\\S+', '', text)  # избавляемся от ссылок\n",
    "    text = re.sub('[^а-яёА-ЯЁ]', ' ', text)  # оставляем только кириллицу\n",
    "    text = word_tokenize(text.lower())  # приводим к нижнему регистру и токенизируем по словам\n",
    "    # приводим токены к нормальной форме, удаляем стоп-слова и короткие токены\n",
    "    text = [morph.normal_forms(token)[0] for token in text\n",
    "            if token not in stop_words and len(token) > 2]\n",
    "    text = \" \".join(text)  # возвращаем строку\n",
    "    return text"
   ],
   "metadata": {
    "id": "ur7BbxcDt_XX"
   },
   "execution_count": 71,
   "outputs": []
  },
  {
   "cell_type": "code",
   "source": [
    "# %%time\n",
    "# df_train_new['cleaned'] = df_train_new.text.apply(clean_text)\n",
    "# df_train_new"
   ],
   "metadata": {
    "colab": {
     "base_uri": "https://localhost:8080/",
     "height": 458
    },
    "id": "GX1BaWGBw2jb",
    "outputId": "ccd4e698-5171-4595-def6-5463f89f09f3"
   },
   "execution_count": 63,
   "outputs": []
  },
  {
   "cell_type": "code",
   "source": [
    "# df_test_new = pd.DataFrame()\n",
    "# df_test_new['text'] = df_test.name + ' ' + df_test.description\n",
    "# % time df_test_new['cleaned'] = df_test_new['text'].apply(clean_text)"
   ],
   "metadata": {
    "colab": {
     "base_uri": "https://localhost:8080/"
    },
    "id": "CDCgQ3w3idPX",
    "outputId": "f0ed7642-cc83-4ea1-ae9f-1535a9564214"
   },
   "execution_count": 64,
   "outputs": []
  },
  {
   "cell_type": "markdown",
   "source": [
    "# Word2Vec"
   ],
   "metadata": {
    "id": "cgmteNbekKqM"
   }
  },
  {
   "cell_type": "markdown",
   "source": [
    "Обучаемся на словах только из трейна. **Попробуйте взять окно пошире и//или изменить размер эмбеддинга.**"
   ],
   "metadata": {
    "id": "asv1OJk1rx2z"
   }
  },
  {
   "cell_type": "code",
   "source": [
    "%% time\n",
    "w2v_model = Word2Vec(sentences=list(df_train_new.cleaned.str.split()),\n",
    "                     size=100, window=5, workers=4, min_count=0)"
   ],
   "metadata": {
    "colab": {
     "base_uri": "https://localhost:8080/"
    },
    "id": "XsoDLncfx4SQ",
    "outputId": "e102231a-a4a4-44e0-8bd5-cba7e64cbcfb"
   },
   "execution_count": null,
   "outputs": [
    {
     "output_type": "stream",
     "name": "stdout",
     "text": [
      "CPU times: user 22 s, sys: 476 ms, total: 22.5 s\n",
      "Wall time: 15.5 s\n"
     ]
    }
   ]
  },
  {
   "cell_type": "markdown",
   "source": [
    "**Было бы полезно проверить, успешно ли обучился w2v на наших данных. Попробуйте провести соответствующие эксперименты**"
   ],
   "metadata": {
    "id": "ApE6Xpo8sGo-"
   }
  },
  {
   "cell_type": "code",
   "source": [
    "w2v_vectors = w2v_model.wv\n",
    "w2v_vectors['водитель']  # проверяем, что чему-то научились"
   ],
   "metadata": {
    "colab": {
     "base_uri": "https://localhost:8080/"
    },
    "id": "FT4jKPC8Cc8h",
    "outputId": "2bc9d76c-78fc-4b89-9ed2-7bd8512059bc"
   },
   "execution_count": null,
   "outputs": [
    {
     "output_type": "execute_result",
     "data": {
      "text/plain": [
       "array([ 1.3463036 ,  1.6279746 , -0.80819637, -1.5439433 ,  1.4619223 ,\n",
       "        0.44921255,  2.4221468 ,  0.74060154,  0.17121528,  0.8039874 ,\n",
       "        0.02786321, -0.58801395,  1.415979  , -0.07509669, -0.33492896,\n",
       "       -0.77970135, -0.9779893 ,  0.8131414 , -0.4147988 ,  3.094181  ,\n",
       "        0.7035648 , -2.472801  ,  2.1816976 , -0.16896407,  1.6971475 ,\n",
       "        2.811424  , -1.7292492 , -2.1423984 ,  2.2188766 ,  0.8584109 ,\n",
       "        1.6889597 , -1.0773292 ,  0.2143993 , -0.31753206,  1.3509597 ,\n",
       "        2.403309  , -0.0207357 , -0.4885437 , -0.6098075 , -2.5330298 ,\n",
       "       -0.9962291 ,  3.9755101 ,  0.11124831,  1.1813569 , -0.13804296,\n",
       "       -0.7435948 ,  0.74076515,  0.46329698, -0.3818832 , -1.6651418 ,\n",
       "       -1.3810644 ,  0.49921042, -2.6601317 , -1.8603057 ,  0.21544793,\n",
       "       -0.95246863, -0.2707167 , -1.6476122 ,  2.345113  , -1.0007364 ,\n",
       "       -4.067699  , -1.156719  ,  0.5899878 ,  0.6641911 ,  0.47004163,\n",
       "        0.13038036,  1.5730906 , -1.5758156 , -1.9423956 ,  1.1953306 ,\n",
       "        1.2930858 ,  0.6699792 ,  0.9534298 ,  1.0684055 ,  0.54457617,\n",
       "       -0.5515582 , -0.20589936,  0.11257148,  2.7764075 ,  1.6439735 ,\n",
       "        1.8650931 ,  0.6761991 ,  1.9204217 , -2.8511367 , -0.44963682,\n",
       "        0.03544216,  0.51479787, -1.0190576 , -0.4901369 ,  1.1384299 ,\n",
       "        1.6828811 , -1.6769141 , -1.1355901 ,  0.836622  ,  1.937655  ,\n",
       "       -0.743545  , -0.8506363 ,  1.3576446 , -0.5458778 , -2.6607187 ],\n",
       "      dtype=float32)"
      ]
     },
     "metadata": {},
     "execution_count": 53
    }
   ]
  },
  {
   "cell_type": "code",
   "source": [
    "doc_vectors_train = []\n",
    "row = 0\n",
    "\n",
    "for doc in tqdm(df_train_new.cleaned.str.split()):\n",
    "    res = np.zeros(100)\n",
    "    cnt = 0\n",
    "    for word in doc:\n",
    "        if w2v_vectors.__contains__(word):\n",
    "            res += w2v_model.wv[word]\n",
    "            cnt += 1\n",
    "    if cnt != 0:\n",
    "        res /= cnt\n",
    "    doc_vectors_train.append(res)\n",
    "\n",
    "doc_vectors_train = np.array(doc_vectors_train)"
   ],
   "metadata": {
    "colab": {
     "base_uri": "https://localhost:8080/"
    },
    "outputId": "37d1719a-19ae-4460-e992-9c5b8d092786",
    "id": "Z2a8x4NVKGY7"
   },
   "execution_count": null,
   "outputs": [
    {
     "output_type": "stream",
     "name": "stderr",
     "text": [
      "100%|██████████| 16629/16629 [00:06<00:00, 2494.96it/s]\n"
     ]
    }
   ]
  },
  {
   "cell_type": "code",
   "source": [
    "doc_vectors_test = []\n",
    "row = 0\n",
    "\n",
    "for doc in tqdm(df_test_new.cleaned.str.split()):\n",
    "    res = np.zeros(100)\n",
    "    cnt = 0\n",
    "    for word in doc:\n",
    "        if w2v_vectors.__contains__(word):\n",
    "            res += w2v_model.wv[word]\n",
    "            cnt += 1\n",
    "    if cnt != 0:\n",
    "        res /= cnt\n",
    "    doc_vectors_test.append(res)\n",
    "\n",
    "doc_vectors_test = np.array(doc_vectors_test)"
   ],
   "metadata": {
    "colab": {
     "base_uri": "https://localhost:8080/"
    },
    "outputId": "3e1d17cd-0bbc-48f7-a943-58f5fc39c131",
    "id": "MjvRKNDyKGZG"
   },
   "execution_count": null,
   "outputs": [
    {
     "output_type": "stream",
     "name": "stderr",
     "text": [
      "100%|██████████| 5543/5543 [00:01<00:00, 3112.36it/s]\n"
     ]
    }
   ]
  },
  {
   "cell_type": "code",
   "source": [
    "# lasso = Lasso(max_iter=10_000)\n",
    "# % time lasso.fit(doc_vectors_train, df_train.salary)\n",
    "# y_pred = lasso.predict(doc_vectors_test)"
   ],
   "metadata": {
    "colab": {
     "base_uri": "https://localhost:8080/"
    },
    "outputId": "45fb85a9-c2fb-44dc-b612-daaa664a6de9",
    "id": "O0HIybzSLg0o"
   },
   "execution_count": 69,
   "outputs": []
  },
  {
   "cell_type": "code",
   "source": [
    "# predictions = pd.DataFrame({'id': df_test.index,\n",
    "#                             'salary': y_pred})\n",
    "# predictions.to_csv('my_submission.csv', index=False)"
   ],
   "metadata": {
    "id": "L3jDMqg0Mc1J"
   },
   "execution_count": 70,
   "outputs": []
  },
  {
   "cell_type": "markdown",
   "source": [
    "## Прочие рекомендации\n",
    "\n",
    "* не игонрируйте этап разведочного анализа данных: чем подробнее и глубже вы его сделаете, тем более последовательно вы будете двигаться к лучшему вашему решению\n",
    "* вы можете попробовать какую-то другую токенизацию; возможно в бейзлайне мы не учли что-то важное\n",
    "* разумно попробовать учесть те признаки, что мы проигнорировали в базовом решении (хотя бы банальный OHE-encoding)\n",
    "* не обучать Word2Vec снова, а использовать предобученную и дообучать на текстах соревнования\n",
    "* для перехода к числовым представлениям слов можно попробовать и другие модели: GloVe, fastText, Doc2Vec\n",
    "* или даже расчехлить не слишком тяжеловесные трансформерные\n",
    "* сохраняйте промежуточные результаты: некоторые алгоритмы отрабатывают довольно долго, обидно будет потерять результаты вычислений; к тому же сохранённые модели (вместе с пайплайнами предобработки, если они отличаются) будет легче состекать"
   ],
   "metadata": {
    "id": "Ex0UgKrjte-Y"
   }
  },
  {
   "cell_type": "markdown",
   "source": [
    "# *******************************************************************************************************"
   ],
   "metadata": {
    "collapsed": false
   }
  },
  {
   "cell_type": "code",
   "execution_count": 11,
   "outputs": [
    {
     "data": {
      "text/plain": "16629"
     },
     "execution_count": 11,
     "metadata": {},
     "output_type": "execute_result"
    }
   ],
   "source": [
    "len(df['name'])"
   ],
   "metadata": {
    "collapsed": false
   }
  },
  {
   "cell_type": "code",
   "execution_count": 12,
   "outputs": [],
   "source": [
    "def get_info(df, column_name):\n",
    "    # Extract the values of the specified column into a list\n",
    "    column_data = list(df[column_name])\n",
    "    # Concatenate all text into a single string\n",
    "    corpus = ' '.join(column_data)\n",
    "    # Split the string into individual words\n",
    "    words = corpus.split()\n",
    "    # Count the occurrences of each word\n",
    "    word_counts = Counter(words)\n",
    "    # Return the most common 10 words and their counts\n",
    "    return word_counts.most_common(10)"
   ],
   "metadata": {
    "collapsed": false
   }
  },
  {
   "cell_type": "code",
   "execution_count": 13,
   "outputs": [
    {
     "data": {
      "text/plain": "Index(['name', 'experience', 'schedule', 'employment', 'description',\n       'key_skills', 'salary'],\n      dtype='object')"
     },
     "execution_count": 13,
     "metadata": {},
     "output_type": "execute_result"
    }
   ],
   "source": [
    "df.columns"
   ],
   "metadata": {
    "collapsed": false
   }
  },
  {
   "cell_type": "code",
   "execution_count": 14,
   "outputs": [
    {
     "data": {
      "text/plain": "[('по', 3110),\n ('Менеджер', 1659),\n ('в', 1004),\n ('продажам', 770),\n ('Специалист', 702),\n ('и', 635),\n ('на', 600),\n ('с', 586),\n ('отдела', 545),\n ('Продавец-консультант', 533)]"
     },
     "execution_count": 14,
     "metadata": {},
     "output_type": "execute_result"
    }
   ],
   "source": [
    "get_info(df, 'name')"
   ],
   "metadata": {
    "collapsed": false
   }
  },
  {
   "cell_type": "code",
   "execution_count": 15,
   "outputs": [
    {
     "data": {
      "text/plain": "[('лет', 9351),\n ('От', 9117),\n ('3', 9117),\n ('до', 9117),\n ('Нет', 7278),\n ('опыта', 7278),\n ('1', 6881),\n ('года', 6881),\n ('6', 2470),\n ('Более', 234)]"
     },
     "execution_count": 15,
     "metadata": {},
     "output_type": "execute_result"
    }
   ],
   "source": [
    "get_info(df, 'experience')"
   ],
   "metadata": {
    "collapsed": false
   }
  },
  {
   "cell_type": "code",
   "execution_count": 16,
   "outputs": [
    {
     "data": {
      "text/plain": "Index(['name', 'experience', 'schedule', 'employment', 'description',\n       'key_skills', 'salary'],\n      dtype='object')"
     },
     "execution_count": 16,
     "metadata": {},
     "output_type": "execute_result"
    }
   ],
   "source": [
    "df.columns"
   ],
   "metadata": {
    "collapsed": false
   }
  },
  {
   "cell_type": "code",
   "execution_count": 17,
   "outputs": [],
   "source": [
    "# train data\n",
    "# Переведём тексты в стандартный для Python формат: кодировку Unicode U.\n",
    "# Изменим кодировку методом astype():\n",
    "df['name'] = df['name'].values.astype('U')\n",
    "df['experience'] = df['experience'].values.astype('U')\n",
    "df['schedule'] = df['schedule'].values.astype('U')\n",
    "df['employment'] = df['employment'].values.astype('U')\n",
    "df['description'] = df['description'].values.astype('U')\n",
    "df['key_skills'] = df['key_skills'].values.astype('U')"
   ],
   "metadata": {
    "collapsed": false
   }
  },
  {
   "cell_type": "code",
   "execution_count": 84,
   "outputs": [],
   "source": [
    "# test data\n",
    "# Переведём тексты в стандартный для Python формат: кодировку Unicode U.\n",
    "# Изменим кодировку методом astype():\n",
    "df_test['name'] = df_test['name'].values.astype('U')\n",
    "df_test['experience'] = df_test['experience'].values.astype('U')\n",
    "df_test['schedule'] = df_test['schedule'].values.astype('U')\n",
    "df_test['employment'] = df_test['employment'].values.astype('U')\n",
    "df_test['description'] = df_test['description'].values.astype('U')\n",
    "df_test['key_skills'] = df_test['key_skills'].values.astype('U')"
   ],
   "metadata": {
    "collapsed": false
   }
  },
  {
   "cell_type": "markdown",
   "source": [
    "### Лемматизация"
   ],
   "metadata": {
    "collapsed": false
   }
  },
  {
   "cell_type": "code",
   "source": [
    "# def lemmatize(text):\n",
    "#     m = Mystem()\n",
    "#     lem = ''.join(m.lemmatize(text)).strip()\n",
    "#     lem_cleared = re.sub(r'[^\\w\\dа-яА-ЯёЁ]+', ' ', lem)\n",
    "#     return lem_cleared.lower()\n",
    "#\n",
    "#\n",
    "# # протестируем функцию лемматизации текста\n",
    "# print(\"Исходный текст:\", df['name'][0])\n",
    "# print(\"Лемматизированный текст:\", lemmatize(df['name'][0]))"
   ],
   "metadata": {
    "id": "RCqWjoEJth0m"
   },
   "execution_count": 85,
   "outputs": []
  },
  {
   "cell_type": "code",
   "execution_count": 86,
   "outputs": [],
   "source": [
    "stop_words = set(stopwords.words('russian'))\n",
    "morph = MorphAnalyzer()\n",
    "\n",
    "# функция для очистки описаний\n",
    "def clean_text(text):\n",
    "    text = re.sub(r'http\\S+', '', text)  # избавляемся от ссылок\n",
    "    text = re.sub('[^а-яёА-ЯЁ]', ' ', text)  # оставляем только кириллицу\n",
    "    text = word_tokenize(text.lower())  # приводим к нижнему регистру и токенизируем по словам\n",
    "    # приводим токены к нормальной форме, удаляем стоп-слова и короткие токены\n",
    "    text = [morph.normal_forms(token)[0] for token in text\n",
    "            if token not in stop_words and len(token) > 2]\n",
    "    text = \" \".join(text)  # возвращаем строку\n",
    "    return text"
   ],
   "metadata": {
    "collapsed": false
   }
  },
  {
   "cell_type": "code",
   "execution_count": 87,
   "outputs": [
    {
     "data": {
      "text/plain": "Index(['name', 'experience', 'schedule', 'employment', 'description',\n       'key_skills', 'salary'],\n      dtype='object')"
     },
     "execution_count": 87,
     "metadata": {},
     "output_type": "execute_result"
    }
   ],
   "source": [
    "df.columns"
   ],
   "metadata": {
    "collapsed": false
   }
  },
  {
   "cell_type": "code",
   "execution_count": 88,
   "outputs": [
    {
     "data": {
      "text/plain": "Index(['name', 'experience', 'schedule', 'employment', 'description',\n       'key_skills'],\n      dtype='object')"
     },
     "execution_count": 88,
     "metadata": {},
     "output_type": "execute_result"
    }
   ],
   "source": [
    "df_test.columns"
   ],
   "metadata": {
    "collapsed": false
   }
  },
  {
   "cell_type": "code",
   "execution_count": 89,
   "outputs": [
    {
     "name": "stdout",
     "output_type": "stream",
     "text": [
      "CPU times: total: 6.3 s\n",
      "Wall time: 9.14 s\n"
     ]
    }
   ],
   "source": [
    "%%time\n",
    "# lemmatizing\n",
    "df['name_lem'] = df.name.apply(clean_text)\n",
    "df_test['name_lem'] = df_test.name.apply(clean_text)"
   ],
   "metadata": {
    "collapsed": false
   }
  },
  {
   "cell_type": "code",
   "execution_count": 90,
   "outputs": [
    {
     "data": {
      "text/plain": "                                                name          experience  \\\n0                                Водитель-экспедитор       От 3 до 6 лет   \n1                Кладовщик-комплектовщик/оператор 1С  От 1 года до 3 лет   \n2  Продавец магазина \"Магнит\" (Кировский р-он, В....           Нет опыта   \n3                   Администратор магазина (ТЦ Spar)  От 1 года до 3 лет   \n4                          Мойщик посуды (кулинария)           Нет опыта   \n\n         schedule        employment  \\\n0     Полный день  Полная занятость   \n1     Полный день  Полная занятость   \n2  Сменный график  Полная занятость   \n3     Полный день  Полная занятость   \n4  Сменный график  Полная занятость   \n\n                                         description  \\\n0  Водитель-экспедитор категории В,С (а\\м ГАЗЕЛЬ ...   \n1  Обязанности:   Списывание материалов в произво...   \n2  В крупнейшую Федеральную сеть магазинов \"Магни...   \n3  Крупная федеральная сеть магазинов мужской и ж...   \n4  Обязанности:  Уборка производственных площадей...   \n\n                                          key_skills   salary  \\\n0                                                 []  42500.0   \n1  ['знание пк', 'работа в 1С', 'Работа в команде...  50000.0   \n2                                                 []  31500.0   \n3                                                 []  36700.0   \n4  ['Пользователь ПК', 'Грамотная речь', 'Работа ...  37000.0   \n\n                                name_lem  \n0                    водитель экспедитор  \n1       кладовщик комплектовщик оператор  \n2  продавец магазин магнит кировский уса  \n3                  администратор магазин  \n4                мойщик посуда кулинария  ",
      "text/html": "<div>\n<style scoped>\n    .dataframe tbody tr th:only-of-type {\n        vertical-align: middle;\n    }\n\n    .dataframe tbody tr th {\n        vertical-align: top;\n    }\n\n    .dataframe thead th {\n        text-align: right;\n    }\n</style>\n<table border=\"1\" class=\"dataframe\">\n  <thead>\n    <tr style=\"text-align: right;\">\n      <th></th>\n      <th>name</th>\n      <th>experience</th>\n      <th>schedule</th>\n      <th>employment</th>\n      <th>description</th>\n      <th>key_skills</th>\n      <th>salary</th>\n      <th>name_lem</th>\n    </tr>\n  </thead>\n  <tbody>\n    <tr>\n      <th>0</th>\n      <td>Водитель-экспедитор</td>\n      <td>От 3 до 6 лет</td>\n      <td>Полный день</td>\n      <td>Полная занятость</td>\n      <td>Водитель-экспедитор категории В,С (а\\м ГАЗЕЛЬ ...</td>\n      <td>[]</td>\n      <td>42500.0</td>\n      <td>водитель экспедитор</td>\n    </tr>\n    <tr>\n      <th>1</th>\n      <td>Кладовщик-комплектовщик/оператор 1С</td>\n      <td>От 1 года до 3 лет</td>\n      <td>Полный день</td>\n      <td>Полная занятость</td>\n      <td>Обязанности:   Списывание материалов в произво...</td>\n      <td>['знание пк', 'работа в 1С', 'Работа в команде...</td>\n      <td>50000.0</td>\n      <td>кладовщик комплектовщик оператор</td>\n    </tr>\n    <tr>\n      <th>2</th>\n      <td>Продавец магазина \"Магнит\" (Кировский р-он, В....</td>\n      <td>Нет опыта</td>\n      <td>Сменный график</td>\n      <td>Полная занятость</td>\n      <td>В крупнейшую Федеральную сеть магазинов \"Магни...</td>\n      <td>[]</td>\n      <td>31500.0</td>\n      <td>продавец магазин магнит кировский уса</td>\n    </tr>\n    <tr>\n      <th>3</th>\n      <td>Администратор магазина (ТЦ Spar)</td>\n      <td>От 1 года до 3 лет</td>\n      <td>Полный день</td>\n      <td>Полная занятость</td>\n      <td>Крупная федеральная сеть магазинов мужской и ж...</td>\n      <td>[]</td>\n      <td>36700.0</td>\n      <td>администратор магазин</td>\n    </tr>\n    <tr>\n      <th>4</th>\n      <td>Мойщик посуды (кулинария)</td>\n      <td>Нет опыта</td>\n      <td>Сменный график</td>\n      <td>Полная занятость</td>\n      <td>Обязанности:  Уборка производственных площадей...</td>\n      <td>['Пользователь ПК', 'Грамотная речь', 'Работа ...</td>\n      <td>37000.0</td>\n      <td>мойщик посуда кулинария</td>\n    </tr>\n  </tbody>\n</table>\n</div>"
     },
     "execution_count": 90,
     "metadata": {},
     "output_type": "execute_result"
    }
   ],
   "source": [
    "df.head()"
   ],
   "metadata": {
    "collapsed": false
   }
  },
  {
   "cell_type": "code",
   "execution_count": 91,
   "outputs": [
    {
     "name": "stdout",
     "output_type": "stream",
     "text": [
      "CPU times: total: 3.77 s\n",
      "Wall time: 4.89 s\n"
     ]
    }
   ],
   "source": [
    "%%time\n",
    "# lemmatizing\n",
    "df['experience_lem'] = df['experience'].apply(clean_text)\n",
    "df_test['experience_lem'] = df_test['experience'].apply(clean_text)"
   ],
   "metadata": {
    "collapsed": false
   }
  },
  {
   "cell_type": "code",
   "execution_count": 92,
   "outputs": [
    {
     "name": "stdout",
     "output_type": "stream",
     "text": [
      "CPU times: total: 5.48 s\n",
      "Wall time: 5.76 s\n"
     ]
    }
   ],
   "source": [
    "%%time\n",
    "# lemmatizing\n",
    "df['schedule_lem'] = df['schedule'].apply(clean_text)\n",
    "df_test['schedule_lem'] = df_test['schedule'].apply(clean_text)"
   ],
   "metadata": {
    "collapsed": false
   }
  },
  {
   "cell_type": "code",
   "execution_count": 93,
   "outputs": [
    {
     "name": "stdout",
     "output_type": "stream",
     "text": [
      "CPU times: total: 4.03 s\n",
      "Wall time: 4.26 s\n"
     ]
    }
   ],
   "source": [
    "%%time\n",
    "# lemmatizing\n",
    "df['employment_lem'] = df['employment'].apply(clean_text)\n",
    "df_test['employment_lem'] = df_test['employment'].apply(clean_text)"
   ],
   "metadata": {
    "collapsed": false
   }
  },
  {
   "cell_type": "code",
   "execution_count": 94,
   "outputs": [
    {
     "name": "stdout",
     "output_type": "stream",
     "text": [
      "CPU times: total: 3min 44s\n",
      "Wall time: 3min 56s\n"
     ]
    }
   ],
   "source": [
    "%%time\n",
    "# lemmatizing the longest!\n",
    "df['description_lem'] = df['description'].apply(clean_text)\n",
    "df_test['description_lem'] = df_test['description'].apply(clean_text)"
   ],
   "metadata": {
    "collapsed": false
   }
  },
  {
   "cell_type": "code",
   "execution_count": 95,
   "outputs": [
    {
     "name": "stdout",
     "output_type": "stream",
     "text": [
      "CPU times: total: 14.3 s\n",
      "Wall time: 14.7 s\n"
     ]
    }
   ],
   "source": [
    "%%time\n",
    "# lemmatizing\n",
    "df['key_skills_lem'] = df['key_skills'].apply(clean_text)\n",
    "df_test['key_skills_lem'] = df_test['key_skills'].apply(clean_text)"
   ],
   "metadata": {
    "collapsed": false
   }
  },
  {
   "cell_type": "code",
   "execution_count": 96,
   "outputs": [
    {
     "data": {
      "text/plain": "                                                name          experience  \\\n0                                Водитель-экспедитор       От 3 до 6 лет   \n1                Кладовщик-комплектовщик/оператор 1С  От 1 года до 3 лет   \n2  Продавец магазина \"Магнит\" (Кировский р-он, В....           Нет опыта   \n3                   Администратор магазина (ТЦ Spar)  От 1 года до 3 лет   \n4                          Мойщик посуды (кулинария)           Нет опыта   \n\n         schedule        employment  \\\n0     Полный день  Полная занятость   \n1     Полный день  Полная занятость   \n2  Сменный график  Полная занятость   \n3     Полный день  Полная занятость   \n4  Сменный график  Полная занятость   \n\n                                         description  \\\n0  Водитель-экспедитор категории В,С (а\\м ГАЗЕЛЬ ...   \n1  Обязанности:   Списывание материалов в произво...   \n2  В крупнейшую Федеральную сеть магазинов \"Магни...   \n3  Крупная федеральная сеть магазинов мужской и ж...   \n4  Обязанности:  Уборка производственных площадей...   \n\n                                          key_skills   salary  \\\n0                                                 []  42500.0   \n1  ['знание пк', 'работа в 1С', 'Работа в команде...  50000.0   \n2                                                 []  31500.0   \n3                                                 []  36700.0   \n4  ['Пользователь ПК', 'Грамотная речь', 'Работа ...  37000.0   \n\n                                name_lem experience_lem    schedule_lem  \\\n0                    водитель экспедитор            год     полный день   \n1       кладовщик комплектовщик оператор        год год     полный день   \n2  продавец магазин магнит кировский уса           опыт  сменный график   \n3                  администратор магазин        год год     полный день   \n4                мойщик посуда кулинария           опыт  сменный график   \n\n     employment_lem                                    description_lem  \\\n0  полный занятость  водитель экспедитор категория газель тент газе...   \n1  полный занятость  обязанность списывание материал производство п...   \n2  полный занятость  крупный федеральный сеть магазин магнит требов...   \n3  полный занятость  крупный федеральный сеть магазин мужской женск...   \n4  полный занятость  обязанность уборка производственный площадь ку...   \n\n                                      key_skills_lem  \n0                                                     \n1  знание работа работа команда складской учёт ск...  \n2                                                     \n3                                                     \n4  пользователь грамотный речь работа оргтехника ...  ",
      "text/html": "<div>\n<style scoped>\n    .dataframe tbody tr th:only-of-type {\n        vertical-align: middle;\n    }\n\n    .dataframe tbody tr th {\n        vertical-align: top;\n    }\n\n    .dataframe thead th {\n        text-align: right;\n    }\n</style>\n<table border=\"1\" class=\"dataframe\">\n  <thead>\n    <tr style=\"text-align: right;\">\n      <th></th>\n      <th>name</th>\n      <th>experience</th>\n      <th>schedule</th>\n      <th>employment</th>\n      <th>description</th>\n      <th>key_skills</th>\n      <th>salary</th>\n      <th>name_lem</th>\n      <th>experience_lem</th>\n      <th>schedule_lem</th>\n      <th>employment_lem</th>\n      <th>description_lem</th>\n      <th>key_skills_lem</th>\n    </tr>\n  </thead>\n  <tbody>\n    <tr>\n      <th>0</th>\n      <td>Водитель-экспедитор</td>\n      <td>От 3 до 6 лет</td>\n      <td>Полный день</td>\n      <td>Полная занятость</td>\n      <td>Водитель-экспедитор категории В,С (а\\м ГАЗЕЛЬ ...</td>\n      <td>[]</td>\n      <td>42500.0</td>\n      <td>водитель экспедитор</td>\n      <td>год</td>\n      <td>полный день</td>\n      <td>полный занятость</td>\n      <td>водитель экспедитор категория газель тент газе...</td>\n      <td></td>\n    </tr>\n    <tr>\n      <th>1</th>\n      <td>Кладовщик-комплектовщик/оператор 1С</td>\n      <td>От 1 года до 3 лет</td>\n      <td>Полный день</td>\n      <td>Полная занятость</td>\n      <td>Обязанности:   Списывание материалов в произво...</td>\n      <td>['знание пк', 'работа в 1С', 'Работа в команде...</td>\n      <td>50000.0</td>\n      <td>кладовщик комплектовщик оператор</td>\n      <td>год год</td>\n      <td>полный день</td>\n      <td>полный занятость</td>\n      <td>обязанность списывание материал производство п...</td>\n      <td>знание работа работа команда складской учёт ск...</td>\n    </tr>\n    <tr>\n      <th>2</th>\n      <td>Продавец магазина \"Магнит\" (Кировский р-он, В....</td>\n      <td>Нет опыта</td>\n      <td>Сменный график</td>\n      <td>Полная занятость</td>\n      <td>В крупнейшую Федеральную сеть магазинов \"Магни...</td>\n      <td>[]</td>\n      <td>31500.0</td>\n      <td>продавец магазин магнит кировский уса</td>\n      <td>опыт</td>\n      <td>сменный график</td>\n      <td>полный занятость</td>\n      <td>крупный федеральный сеть магазин магнит требов...</td>\n      <td></td>\n    </tr>\n    <tr>\n      <th>3</th>\n      <td>Администратор магазина (ТЦ Spar)</td>\n      <td>От 1 года до 3 лет</td>\n      <td>Полный день</td>\n      <td>Полная занятость</td>\n      <td>Крупная федеральная сеть магазинов мужской и ж...</td>\n      <td>[]</td>\n      <td>36700.0</td>\n      <td>администратор магазин</td>\n      <td>год год</td>\n      <td>полный день</td>\n      <td>полный занятость</td>\n      <td>крупный федеральный сеть магазин мужской женск...</td>\n      <td></td>\n    </tr>\n    <tr>\n      <th>4</th>\n      <td>Мойщик посуды (кулинария)</td>\n      <td>Нет опыта</td>\n      <td>Сменный график</td>\n      <td>Полная занятость</td>\n      <td>Обязанности:  Уборка производственных площадей...</td>\n      <td>['Пользователь ПК', 'Грамотная речь', 'Работа ...</td>\n      <td>37000.0</td>\n      <td>мойщик посуда кулинария</td>\n      <td>опыт</td>\n      <td>сменный график</td>\n      <td>полный занятость</td>\n      <td>обязанность уборка производственный площадь ку...</td>\n      <td>пользователь грамотный речь работа оргтехника ...</td>\n    </tr>\n  </tbody>\n</table>\n</div>"
     },
     "execution_count": 96,
     "metadata": {},
     "output_type": "execute_result"
    }
   ],
   "source": [
    "df.head()"
   ],
   "metadata": {
    "collapsed": false
   }
  },
  {
   "cell_type": "code",
   "execution_count": 97,
   "outputs": [
    {
     "data": {
      "text/plain": "Index(['name', 'experience', 'schedule', 'employment', 'description',\n       'key_skills', 'salary', 'name_lem', 'experience_lem', 'schedule_lem',\n       'employment_lem', 'description_lem', 'key_skills_lem'],\n      dtype='object')"
     },
     "execution_count": 97,
     "metadata": {},
     "output_type": "execute_result"
    }
   ],
   "source": [
    "df.columns"
   ],
   "metadata": {
    "collapsed": false
   }
  },
  {
   "cell_type": "code",
   "execution_count": 98,
   "outputs": [
    {
     "data": {
      "text/plain": "                                                 name          experience  \\\nid                                                                          \n0                                   Главный бухгалтер         Более 6 лет   \n1                         Ассистент врача-стоматолога  От 1 года до 3 лет   \n2                                Менеджер по продажам  От 1 года до 3 лет   \n3                                            Менеджер  От 1 года до 3 лет   \n4                               Администратор хостела           Нет опыта   \n5                             Полицейский (г. Москва)           Нет опыта   \n6                      Менеджер по работе с клиентами  От 1 года до 3 лет   \n7                                       Администратор           Нет опыта   \n8                                Кредитный специалист           Нет опыта   \n9                                   Уборщик помещений           Нет опыта   \n10                Эксклюзивный торговый представитель           Нет опыта   \n11  Ведущий инженер отдела технологического развит...  От 1 года до 3 лет   \n12                                        Инженер ПТО  От 1 года до 3 лет   \n13      Мастер отделочного и сантехнического участков       От 3 до 6 лет   \n14                Врач-педиатр участковый г.Лыткарино           Нет опыта   \n15                                         Автокурьер           Нет опыта   \n16                                   Уборщица/Уборщик           Нет опыта   \n17     Администратор магазина (Шахты, Советская, 244)  От 1 года до 3 лет   \n18                          Менеджер приемного отдела  От 1 года до 3 лет   \n19  Технический директор / заместитель по разработ...         Более 6 лет   \n20                                        Слесарь МСР  От 1 года до 3 лет   \n21                                             Хостес           Нет опыта   \n22         Продавец выходного дня на выкладку товаров           Нет опыта   \n23        Врач терапевт участковый (Отрадо-Кубанское)           Нет опыта   \n24  Заведующий дошкольно-школьным отделением - вра...       От 3 до 6 лет   \n25      Повар – универсал (холодного / горячего цеха)  От 1 года до 3 лет   \n26                                          Фармацевт           Нет опыта   \n27       Менеджер телефонных продаж (входящие звонки)  От 1 года до 3 лет   \n28                                      Врач-нефролог           Нет опыта   \n29  Заместитель директора магазина (г. Екатеринбур...  От 1 года до 3 лет   \n30                                         Архитектор  От 1 года до 3 лет   \n31                                  Подсобный рабочий           Нет опыта   \n32  Оператор по продаже страхования от несчастных ...           Нет опыта   \n33            Продавец-кассир (Гагарин, Гагарина, 48)           Нет опыта   \n34                              Врач-невролог ОЭНиКМП         Более 6 лет   \n35                                     Грузчик-карщик           Нет опыта   \n36  Продавец-консультант ТЦ Аутлет Fashion House (...  От 1 года до 3 лет   \n37                                 Водитель самосвала       От 3 до 6 лет   \n38                                Помощник бухгалтера  От 1 года до 3 лет   \n39  Администратор магазина (Сосновоборск, Кададинс...  От 1 года до 3 лет   \n40               Сварщик на полуавтоматическую сварку  От 1 года до 3 лет   \n41   Закройщица закройщик резиновых изделий и деталей           Нет опыта   \n42        Инженер производственно-технического отдела  От 1 года до 3 лет   \n43            Администратор/Координатор отдела продаж  От 1 года до 3 лет   \n44                  Ученик мастера по ремонту техники           Нет опыта   \n45  Электромонтер по ремонту и обслуживанию электр...  От 1 года до 3 лет   \n46                                   Курьер (Ванеева)           Нет опыта   \n47                   Рентгенолаборант (Академгородок)  От 1 года до 3 лет   \n48                                 Медицинская сестра           Нет опыта   \n49                                    Официант-бармен  От 1 года до 3 лет   \n\n            schedule           employment  \\\nid                                          \n0        Полный день     Полная занятость   \n1     Сменный график     Полная занятость   \n2        Полный день     Полная занятость   \n3        Полный день     Полная занятость   \n4     Сменный график     Полная занятость   \n5        Полный день     Полная занятость   \n6      Гибкий график     Полная занятость   \n7        Полный день     Полная занятость   \n8        Полный день     Полная занятость   \n9        Полный день     Полная занятость   \n10       Полный день     Полная занятость   \n11       Полный день     Полная занятость   \n12    Вахтовый метод     Полная занятость   \n13       Полный день     Полная занятость   \n14    Сменный график     Полная занятость   \n15       Полный день     Полная занятость   \n16     Гибкий график  Частичная занятость   \n17       Полный день     Полная занятость   \n18       Полный день     Полная занятость   \n19       Полный день     Полная занятость   \n20       Полный день     Полная занятость   \n21     Гибкий график  Частичная занятость   \n22    Сменный график  Частичная занятость   \n23       Полный день     Полная занятость   \n24       Полный день     Полная занятость   \n25       Полный день     Полная занятость   \n26       Полный день     Полная занятость   \n27       Полный день     Полная занятость   \n28       Полный день     Полная занятость   \n29       Полный день     Полная занятость   \n30       Полный день     Полная занятость   \n31    Вахтовый метод     Полная занятость   \n32  Удаленная работа     Полная занятость   \n33       Полный день     Полная занятость   \n34       Полный день     Полная занятость   \n35       Полный день     Полная занятость   \n36       Полный день     Полная занятость   \n37    Вахтовый метод     Полная занятость   \n38       Полный день     Полная занятость   \n39       Полный день     Полная занятость   \n40    Вахтовый метод     Полная занятость   \n41    Сменный график     Полная занятость   \n42    Вахтовый метод     Полная занятость   \n43       Полный день     Полная занятость   \n44     Гибкий график           Стажировка   \n45       Полный день     Полная занятость   \n46     Гибкий график  Частичная занятость   \n47    Сменный график     Полная занятость   \n48       Полный день     Полная занятость   \n49       Полный день     Полная занятость   \n\n                                          description  \\\nid                                                      \n0   Обязанности:Осуществление организации бухгалте...   \n1   Обязанности:  Ассистировать врачу стоматологу,...   \n2   Если ты:    хочешь построить карьеру в банковс...   \n3     Динамично развивающаяся на протяжении 17 лет...   \n4   ВОЗМОЖНА РАБОТА С ПРОЖИВАНИЕМ Обязанности:  Пр...   \n5   Обязанности:- обеспечение правопорядка при мас...   \n6   Обязанности:  Консультирование клиентов в студ...   \n7   Приглашаем администратора в стоматологическую ...   \n8   Обязанности: - консультирование клиентов по фи...   \n9   Обязанности:  Уборка подъездов многоквартирных...   \n10  Должностные обязанности:  реализация качествен...   \n11  АО «РЭС» занимает доминирующее положение в Нов...   \n12  Для работы на объекты на Ванкорском месторожде...   \n13  Обязанности:  контроль сроков и качества выпол...   \n14  Обязанности:  Оказание детскому населению меди...   \n15  Обязанности:  доставка продуктов питания от ск...   \n16  Обязанности  Уборка офисных помещений Влажная ...   \n17  Для каждого, кто хочет работать и зарабатывать...   \n18  В новый филиал фармацевтической компании в г. ...   \n19  В проект по разработке мобильного банка требуе...   \n20    Условия:  Полный соцпакет, 5-дневная рабочая...   \n21  Обязанности:  встретить гостя на входе, провод...   \n22  Обязанности:  Выкладка товаров в зале.Замена ц...   \n23  Работа на территории работодателя: с. Отрадо-К...   \n24  Обязанности:  Руководство работой врачей-педиа...   \n25  Уважаемые кандидаты!  Ресторан \"MEATLAND\" ищет...   \n26  Работа на территории работодателя: г Сочи, ул ...   \n27  Мы - крупная и активно развивающаяся омниканал...   \n28  Обязанности: При получении информации о заболе...   \n29  Обязанности:  Открытие/закрытие магазина; Конт...   \n30  Команда DeVision, обладая особыми компетенциям...   \n31  Обязанности:  Работы по благоустройству террит...   \n32  Тинькофф Страхование в поиске страховых агенто...   \n33  Для каждого, кто хочет работать и зарабатывать...   \n34  Обязанности:  Работа в отделе экспертизы нетру...   \n35  Мы ищем ответственного сотрудника на склад, ко...   \n36  Дружный коллектив нашего магазина приглашает а...   \n37  Обязанности:  Управление самосвалом, внутрикар...   \n38  Многопрофильный холдинг приглашает на работу а...   \n39  Обязанности:Организация работы магазинаКонтрол...   \n40  Обязанности:  Выполнение сварочных работ на те...   \n41  Наше предприятие стабильно работает на рынке и...   \n42  Требуемый опыт работы: 1–3 года Полная занятос...   \n43  Обязанности:  Приём и распределение входящих о...   \n44  Ученик мастера (Без опыта, с обучением) Мы пре...   \n45  Обязанности:  Обеспечивает исправное состояние...   \n46  Звони прямо сейчас и присоединяйся к успешной ...   \n47  \"Медсанчасть-168\" является одним из первых в Р...   \n48  Обязанности:  Проведение предрейсовых осмотров...   \n49  В кафе премиум сегмента при Фитнес - клубе тре...   \n\n                                           key_skills  \\\nid                                                      \n0   ['1С: Предприятие 8', '1C: Предприятие', 'Рабо...   \n1   ['Пользователь ПК', 'Работа в команде', 'Умени...   \n2                                                  []   \n3   ['Оценка потребностей клиентов', 'оформление д...   \n4                                                  []   \n5                                                  []   \n6   ['Заключение договоров', 'Навыки продаж', 'Кон...   \n7   ['Пользователь ПК', 'Работа с кассой', 'Грамот...   \n8   ['Грамотная речь', '1С: Предприятие 8', 'Консу...   \n9                       ['Умение работать в команде']   \n10                                                 []   \n11  ['Обучение и развитие', 'Энергетика', 'Докумен...   \n12                                                 []   \n13                                                 []   \n14                                                 []   \n15  ['Android', 'Водительское удостоверение катего...   \n16  ['Коммуникабельность', 'Ответственность', 'Упр...   \n17                                                 []   \n18  ['Складской Учет', 'Складской документооборот'...   \n19  ['Английский язык', 'Постановка задач разработ...   \n20                                                 []   \n21  ['Грамотная речь', 'R-Keeper', 'Общественное п...   \n22                               ['Выкладка товаров']   \n23                                                 []   \n24  ['Организация мероприятий', 'Навыки межличност...   \n25  ['Телефонные переговоры, прием и обработка зак...   \n26                                                 []   \n27  ['Клиентоориентированность', 'Активные продажи...   \n28  ['Пользователь ПК', 'Медицинская документация'...   \n29                                                 []   \n30  ['Управление проектами', 'Визуализация', 'Прое...   \n31  ['Желание работать и зарабатывать', 'Трудоспос...   \n32                                                 []   \n33                                                 []   \n34                                                 []   \n35                ['Приемка груза', 'Инвентаризация']   \n36  ['Активные продажи', 'Розничная торговля', 'На...   \n37        ['Водительское удостоверение категории BC']   \n38  ['Работа с большим объемом информации', 'Inter...   \n39                                                 []   \n40  ['Охрана труда и техника безопасности', 'Сваро...   \n41                                                 []   \n42  ['Строительство', 'Пользователь ПК', 'Деловая ...   \n43                 ['Документооборот', 'Грамотность']   \n44  ['Пользователь ПК', 'Обучение и развитие', 'Ум...   \n45  ['Техническое обслуживание', 'Ремонтные работы...   \n46            ['Работа в команде', 'Деловое общение']   \n47                                                 []   \n48                                    ['Грамотность']   \n49  ['Пользователь ПК', 'Обслуживание покупателей'...   \n\n                                             name_lem experience_lem  \\\nid                                                                     \n0                                   главный бухгалтер            год   \n1                           ассистент врач стоматолог        год год   \n2                                    менеджер продажа        год год   \n3                                            менеджер        год год   \n4                                администратор хостел           опыт   \n5                                  полицейский москва           опыт   \n6                              менеджер работа клиент        год год   \n7                                       администратор           опыт   \n8                                кредитный специалист           опыт   \n9                                   уборщик помещение           опыт   \n10                эксклюзивный торговый представитель           опыт   \n11  ведущий инженер отдел технологический развитие...        год год   \n12                                        инженер пто        год год   \n13           мастер отделочный сантехнический участок            год   \n14                  врач педиатр участковый лыткарино           опыт   \n15                                         автокурьер           опыт   \n16                                   уборщица уборщик           опыт   \n17              администратор магазин шахта советский        год год   \n18                            менеджер приёмный отдел        год год   \n19  технический директор заместитель разработка ба...            год   \n20                                      слесарить мср        год год   \n21                                             хостёс           опыт   \n22              продавец выходной день выкладка товар           опыт   \n23           врач терапевт участковый отрад кубанский           опыт   \n24  заведовать дошкольный школьный отделение врач ...            год   \n25               повар универсал холодное горячее цех        год год   \n26                                          фармацевт           опыт   \n27        менеджер телефонный продажа входящий звонок        год год   \n28                                      врач нефролог           опыт   \n29  заместитель директор магазин екатеринбург райо...        год год   \n30                                         архитектор        год год   \n31                                  подсобный рабочий           опыт   \n32     оператор продажа страхование несчастный случай           опыт   \n33                    продавец кассир гагарин гагарин           опыт   \n34                              врач невролог оэникмп            год   \n35                                     грузчик карщик           опыт   \n36  продавец консультант аутгод чёрный грязь зелен...        год год   \n37                                  водитель самосвал            год   \n38                                 помощник бухгалтер        год год   \n39     администратор магазин сосновоборск кададинской        год год   \n40                  сварщик полуавтоматический сварка        год год   \n41      закройщица закройщик резиновый изделие деталь           опыт   \n42         инженер производственный технический отдел        год год   \n43            администратор координатор отдел продажа        год год   \n44                       ученик мастер ремонт техника           опыт   \n45  электромонтёр ремонт обслуживание электрообору...        год год   \n46                                      курьер ванеев           опыт   \n47                     рентгенолаборант академгородок        год год   \n48                                 медицинский сестра           опыт   \n49                                    официант бармен        год год   \n\n        schedule_lem       employment_lem  \\\nid                                          \n0        полный день     полный занятость   \n1     сменный график     полный занятость   \n2        полный день     полный занятость   \n3        полный день     полный занятость   \n4     сменный график     полный занятость   \n5        полный день     полный занятость   \n6      гибкий график     полный занятость   \n7        полный день     полный занятость   \n8        полный день     полный занятость   \n9        полный день     полный занятость   \n10       полный день     полный занятость   \n11       полный день     полный занятость   \n12    вахтовый метод     полный занятость   \n13       полный день     полный занятость   \n14    сменный график     полный занятость   \n15       полный день     полный занятость   \n16     гибкий график  частичный занятость   \n17       полный день     полный занятость   \n18       полный день     полный занятость   \n19       полный день     полный занятость   \n20       полный день     полный занятость   \n21     гибкий график  частичный занятость   \n22    сменный график  частичный занятость   \n23       полный день     полный занятость   \n24       полный день     полный занятость   \n25       полный день     полный занятость   \n26       полный день     полный занятость   \n27       полный день     полный занятость   \n28       полный день     полный занятость   \n29       полный день     полный занятость   \n30       полный день     полный занятость   \n31    вахтовый метод     полный занятость   \n32  удалённый работа     полный занятость   \n33       полный день     полный занятость   \n34       полный день     полный занятость   \n35       полный день     полный занятость   \n36       полный день     полный занятость   \n37    вахтовый метод     полный занятость   \n38       полный день     полный занятость   \n39       полный день     полный занятость   \n40    вахтовый метод     полный занятость   \n41    сменный график     полный занятость   \n42    вахтовый метод     полный занятость   \n43       полный день     полный занятость   \n44     гибкий график           стажировка   \n45       полный день     полный занятость   \n46     гибкий график  частичный занятость   \n47    сменный график     полный занятость   \n48       полный день     полный занятость   \n49       полный день     полный занятость   \n\n                                      description_lem  \\\nid                                                      \n0   обязанность осуществление организация бухгалте...   \n1   обязанность ассистировать врач стоматолог подг...   \n2   хотеть построить карьера банковский сектор ори...   \n3   динамично развивающийся протяжение год компани...   \n4   возможный работа проживание обязанность приём ...   \n5   обязанность обеспечение правопорядок массовый ...   \n6   обязанность консультирование клиент студия сос...   \n7   приглашать администратор стоматологический кли...   \n8   обязанность консультирование клиент финансовый...   \n9   обязанность уборка подъезд многоквартирный жил...   \n10  должностной обязанность реализация качественны...   \n11  рэс занимать доминировать положение новосибирс...   \n12  работа объект ванкорский месторождение север к...   \n13  обязанность контроль срок качество выполнение ...   \n14  обязанность оказание детский население медицин...   \n15  обязанность доставка продукт питание склад опр...   \n16  обязанность уборка офисный помещение влажный у...   \n17  каждый хотеть работать зарабатывать каждый гот...   \n18  новый филиал фармацевтический компания нижний ...   \n19  проект разработка мобильный банк требоваться д...   \n20  условие полный соцпакет дневный рабочий неделя...   \n21  обязанность встретить гость вход проводить выб...   \n22  обязанность выкладка товар зал замена ценник п...   \n23  работа территория работодатель отрад кубанский...   \n24  обязанность руководство работа врач педиатр ме...   \n25  уважаемый кандидат ресторан искать повар униве...   \n26  работа территория работодатель сочи дагомысски...   \n27  крупный активно развивающийся омниканальный ко...   \n28  обязанность получение информация заболевание п...   \n29  обязанность открытие закрытие магазин контроль...   \n30  команда обладать особый компетенция недвижимос...   \n31  обязанность работа благоустройство территория ...   \n32  тинькофф страхование поиск страховой агент раб...   \n33  каждый хотеть работать зарабатывать каждый гот...   \n34  обязанность работа отдел экспертиза нетрудоспо...   \n35  искать ответственный сотрудник склад который ж...   \n36  дружный коллектив наш магазин приглашать актив...   \n37  обязанность управление самосвал внутрикарьерны...   \n38  многопрофильный холдинг приглашать работа амби...   \n39  обязанность организация работа магазинаконтрол...   \n40  обязанность выполнение сварочный работа технол...   \n41  наш предприятие стабильно работать рынок издел...   \n42  требовать опыт работа год полный занятость пол...   \n43  обязанность приём распределение входящий обращ...   \n44  ученик мастер опыт обучение предлагать бесплат...   \n45  обязанность обеспечивать исправный состояние э...   \n46  звонить прямо присоединяться успешный команда ...   \n47  медсанчасть являться один первый россия частны...   \n48  обязанность проведение предрейсовый осмотр ока...   \n49  кафе премиум сегмент фитнес клуб требоваться о...   \n\n                                       key_skills_lem  \nid                                                     \n0   предприятие предприятие работа документ длител...  \n1   пользователь работа команда умение работать ко...  \n2                                                      \n3   оценка потребность клиент оформление документа...  \n4                                                      \n5                                                      \n6   заключение договор навык продажа консультирова...  \n7   пользователь работа касса грамотный речь работ...  \n8   грамотный речь предприятие консультирование бу...  \n9                             умение работать команда  \n10                                                     \n11  обучение развитие энергетика документальный со...  \n12                                                     \n13                                                     \n14                                                     \n15  водительский удостоверение категория умение ра...  \n16  коммуникабельность ответственность управление ...  \n17                                                     \n18  складской учёт складской документооборот склад...  \n19  английский язык постановка задача разработчик ...  \n20                                                     \n21  грамотный речь общественный питание грамотност...  \n22                                     выкладка товар  \n23                                                     \n24  организация мероприятие навык межличностный об...  \n25  телефонный переговоры приём обработка заказ ра...  \n26                                                     \n27  клиентоориентированность активный продажа навы...  \n28  пользователь медицинский документация работа к...  \n29                                                     \n30  управление проект визуализация проектирование ...  \n31     желание работать зарабатывать трудоспособность  \n32                                                     \n33                                                     \n34                                                     \n35                        приёмка груз инвентаризация  \n36  активный продажа розничный торговля навык прод...  \n37               водительский удостоверение категория  \n38  работа больший объём информация работа докумен...  \n39                                                     \n40  охрана труд техника безопасность сварочный работа  \n41                                                     \n42  строительство пользователь деловой переписка р...  \n43                        документооборот грамотность  \n44  пользователь обучение развитие умение работать...  \n45  технический обслуживание ремонтный работа вним...  \n46                     работа команда деловой общение  \n47                                                     \n48                                        грамотность  \n49  пользователь обслуживание покупатель работа ка...  ",
      "text/html": "<div>\n<style scoped>\n    .dataframe tbody tr th:only-of-type {\n        vertical-align: middle;\n    }\n\n    .dataframe tbody tr th {\n        vertical-align: top;\n    }\n\n    .dataframe thead th {\n        text-align: right;\n    }\n</style>\n<table border=\"1\" class=\"dataframe\">\n  <thead>\n    <tr style=\"text-align: right;\">\n      <th></th>\n      <th>name</th>\n      <th>experience</th>\n      <th>schedule</th>\n      <th>employment</th>\n      <th>description</th>\n      <th>key_skills</th>\n      <th>name_lem</th>\n      <th>experience_lem</th>\n      <th>schedule_lem</th>\n      <th>employment_lem</th>\n      <th>description_lem</th>\n      <th>key_skills_lem</th>\n    </tr>\n    <tr>\n      <th>id</th>\n      <th></th>\n      <th></th>\n      <th></th>\n      <th></th>\n      <th></th>\n      <th></th>\n      <th></th>\n      <th></th>\n      <th></th>\n      <th></th>\n      <th></th>\n      <th></th>\n    </tr>\n  </thead>\n  <tbody>\n    <tr>\n      <th>0</th>\n      <td>Главный бухгалтер</td>\n      <td>Более 6 лет</td>\n      <td>Полный день</td>\n      <td>Полная занятость</td>\n      <td>Обязанности:Осуществление организации бухгалте...</td>\n      <td>['1С: Предприятие 8', '1C: Предприятие', 'Рабо...</td>\n      <td>главный бухгалтер</td>\n      <td>год</td>\n      <td>полный день</td>\n      <td>полный занятость</td>\n      <td>обязанность осуществление организация бухгалте...</td>\n      <td>предприятие предприятие работа документ длител...</td>\n    </tr>\n    <tr>\n      <th>1</th>\n      <td>Ассистент врача-стоматолога</td>\n      <td>От 1 года до 3 лет</td>\n      <td>Сменный график</td>\n      <td>Полная занятость</td>\n      <td>Обязанности:  Ассистировать врачу стоматологу,...</td>\n      <td>['Пользователь ПК', 'Работа в команде', 'Умени...</td>\n      <td>ассистент врач стоматолог</td>\n      <td>год год</td>\n      <td>сменный график</td>\n      <td>полный занятость</td>\n      <td>обязанность ассистировать врач стоматолог подг...</td>\n      <td>пользователь работа команда умение работать ко...</td>\n    </tr>\n    <tr>\n      <th>2</th>\n      <td>Менеджер по продажам</td>\n      <td>От 1 года до 3 лет</td>\n      <td>Полный день</td>\n      <td>Полная занятость</td>\n      <td>Если ты:    хочешь построить карьеру в банковс...</td>\n      <td>[]</td>\n      <td>менеджер продажа</td>\n      <td>год год</td>\n      <td>полный день</td>\n      <td>полный занятость</td>\n      <td>хотеть построить карьера банковский сектор ори...</td>\n      <td></td>\n    </tr>\n    <tr>\n      <th>3</th>\n      <td>Менеджер</td>\n      <td>От 1 года до 3 лет</td>\n      <td>Полный день</td>\n      <td>Полная занятость</td>\n      <td>Динамично развивающаяся на протяжении 17 лет...</td>\n      <td>['Оценка потребностей клиентов', 'оформление д...</td>\n      <td>менеджер</td>\n      <td>год год</td>\n      <td>полный день</td>\n      <td>полный занятость</td>\n      <td>динамично развивающийся протяжение год компани...</td>\n      <td>оценка потребность клиент оформление документа...</td>\n    </tr>\n    <tr>\n      <th>4</th>\n      <td>Администратор хостела</td>\n      <td>Нет опыта</td>\n      <td>Сменный график</td>\n      <td>Полная занятость</td>\n      <td>ВОЗМОЖНА РАБОТА С ПРОЖИВАНИЕМ Обязанности:  Пр...</td>\n      <td>[]</td>\n      <td>администратор хостел</td>\n      <td>опыт</td>\n      <td>сменный график</td>\n      <td>полный занятость</td>\n      <td>возможный работа проживание обязанность приём ...</td>\n      <td></td>\n    </tr>\n    <tr>\n      <th>5</th>\n      <td>Полицейский (г. Москва)</td>\n      <td>Нет опыта</td>\n      <td>Полный день</td>\n      <td>Полная занятость</td>\n      <td>Обязанности:- обеспечение правопорядка при мас...</td>\n      <td>[]</td>\n      <td>полицейский москва</td>\n      <td>опыт</td>\n      <td>полный день</td>\n      <td>полный занятость</td>\n      <td>обязанность обеспечение правопорядок массовый ...</td>\n      <td></td>\n    </tr>\n    <tr>\n      <th>6</th>\n      <td>Менеджер по работе с клиентами</td>\n      <td>От 1 года до 3 лет</td>\n      <td>Гибкий график</td>\n      <td>Полная занятость</td>\n      <td>Обязанности:  Консультирование клиентов в студ...</td>\n      <td>['Заключение договоров', 'Навыки продаж', 'Кон...</td>\n      <td>менеджер работа клиент</td>\n      <td>год год</td>\n      <td>гибкий график</td>\n      <td>полный занятость</td>\n      <td>обязанность консультирование клиент студия сос...</td>\n      <td>заключение договор навык продажа консультирова...</td>\n    </tr>\n    <tr>\n      <th>7</th>\n      <td>Администратор</td>\n      <td>Нет опыта</td>\n      <td>Полный день</td>\n      <td>Полная занятость</td>\n      <td>Приглашаем администратора в стоматологическую ...</td>\n      <td>['Пользователь ПК', 'Работа с кассой', 'Грамот...</td>\n      <td>администратор</td>\n      <td>опыт</td>\n      <td>полный день</td>\n      <td>полный занятость</td>\n      <td>приглашать администратор стоматологический кли...</td>\n      <td>пользователь работа касса грамотный речь работ...</td>\n    </tr>\n    <tr>\n      <th>8</th>\n      <td>Кредитный специалист</td>\n      <td>Нет опыта</td>\n      <td>Полный день</td>\n      <td>Полная занятость</td>\n      <td>Обязанности: - консультирование клиентов по фи...</td>\n      <td>['Грамотная речь', '1С: Предприятие 8', 'Консу...</td>\n      <td>кредитный специалист</td>\n      <td>опыт</td>\n      <td>полный день</td>\n      <td>полный занятость</td>\n      <td>обязанность консультирование клиент финансовый...</td>\n      <td>грамотный речь предприятие консультирование бу...</td>\n    </tr>\n    <tr>\n      <th>9</th>\n      <td>Уборщик помещений</td>\n      <td>Нет опыта</td>\n      <td>Полный день</td>\n      <td>Полная занятость</td>\n      <td>Обязанности:  Уборка подъездов многоквартирных...</td>\n      <td>['Умение работать в команде']</td>\n      <td>уборщик помещение</td>\n      <td>опыт</td>\n      <td>полный день</td>\n      <td>полный занятость</td>\n      <td>обязанность уборка подъезд многоквартирный жил...</td>\n      <td>умение работать команда</td>\n    </tr>\n    <tr>\n      <th>10</th>\n      <td>Эксклюзивный торговый представитель</td>\n      <td>Нет опыта</td>\n      <td>Полный день</td>\n      <td>Полная занятость</td>\n      <td>Должностные обязанности:  реализация качествен...</td>\n      <td>[]</td>\n      <td>эксклюзивный торговый представитель</td>\n      <td>опыт</td>\n      <td>полный день</td>\n      <td>полный занятость</td>\n      <td>должностной обязанность реализация качественны...</td>\n      <td></td>\n    </tr>\n    <tr>\n      <th>11</th>\n      <td>Ведущий инженер отдела технологического развит...</td>\n      <td>От 1 года до 3 лет</td>\n      <td>Полный день</td>\n      <td>Полная занятость</td>\n      <td>АО «РЭС» занимает доминирующее положение в Нов...</td>\n      <td>['Обучение и развитие', 'Энергетика', 'Докумен...</td>\n      <td>ведущий инженер отдел технологический развитие...</td>\n      <td>год год</td>\n      <td>полный день</td>\n      <td>полный занятость</td>\n      <td>рэс занимать доминировать положение новосибирс...</td>\n      <td>обучение развитие энергетика документальный со...</td>\n    </tr>\n    <tr>\n      <th>12</th>\n      <td>Инженер ПТО</td>\n      <td>От 1 года до 3 лет</td>\n      <td>Вахтовый метод</td>\n      <td>Полная занятость</td>\n      <td>Для работы на объекты на Ванкорском месторожде...</td>\n      <td>[]</td>\n      <td>инженер пто</td>\n      <td>год год</td>\n      <td>вахтовый метод</td>\n      <td>полный занятость</td>\n      <td>работа объект ванкорский месторождение север к...</td>\n      <td></td>\n    </tr>\n    <tr>\n      <th>13</th>\n      <td>Мастер отделочного и сантехнического участков</td>\n      <td>От 3 до 6 лет</td>\n      <td>Полный день</td>\n      <td>Полная занятость</td>\n      <td>Обязанности:  контроль сроков и качества выпол...</td>\n      <td>[]</td>\n      <td>мастер отделочный сантехнический участок</td>\n      <td>год</td>\n      <td>полный день</td>\n      <td>полный занятость</td>\n      <td>обязанность контроль срок качество выполнение ...</td>\n      <td></td>\n    </tr>\n    <tr>\n      <th>14</th>\n      <td>Врач-педиатр участковый г.Лыткарино</td>\n      <td>Нет опыта</td>\n      <td>Сменный график</td>\n      <td>Полная занятость</td>\n      <td>Обязанности:  Оказание детскому населению меди...</td>\n      <td>[]</td>\n      <td>врач педиатр участковый лыткарино</td>\n      <td>опыт</td>\n      <td>сменный график</td>\n      <td>полный занятость</td>\n      <td>обязанность оказание детский население медицин...</td>\n      <td></td>\n    </tr>\n    <tr>\n      <th>15</th>\n      <td>Автокурьер</td>\n      <td>Нет опыта</td>\n      <td>Полный день</td>\n      <td>Полная занятость</td>\n      <td>Обязанности:  доставка продуктов питания от ск...</td>\n      <td>['Android', 'Водительское удостоверение катего...</td>\n      <td>автокурьер</td>\n      <td>опыт</td>\n      <td>полный день</td>\n      <td>полный занятость</td>\n      <td>обязанность доставка продукт питание склад опр...</td>\n      <td>водительский удостоверение категория умение ра...</td>\n    </tr>\n    <tr>\n      <th>16</th>\n      <td>Уборщица/Уборщик</td>\n      <td>Нет опыта</td>\n      <td>Гибкий график</td>\n      <td>Частичная занятость</td>\n      <td>Обязанности  Уборка офисных помещений Влажная ...</td>\n      <td>['Коммуникабельность', 'Ответственность', 'Упр...</td>\n      <td>уборщица уборщик</td>\n      <td>опыт</td>\n      <td>гибкий график</td>\n      <td>частичный занятость</td>\n      <td>обязанность уборка офисный помещение влажный у...</td>\n      <td>коммуникабельность ответственность управление ...</td>\n    </tr>\n    <tr>\n      <th>17</th>\n      <td>Администратор магазина (Шахты, Советская, 244)</td>\n      <td>От 1 года до 3 лет</td>\n      <td>Полный день</td>\n      <td>Полная занятость</td>\n      <td>Для каждого, кто хочет работать и зарабатывать...</td>\n      <td>[]</td>\n      <td>администратор магазин шахта советский</td>\n      <td>год год</td>\n      <td>полный день</td>\n      <td>полный занятость</td>\n      <td>каждый хотеть работать зарабатывать каждый гот...</td>\n      <td></td>\n    </tr>\n    <tr>\n      <th>18</th>\n      <td>Менеджер приемного отдела</td>\n      <td>От 1 года до 3 лет</td>\n      <td>Полный день</td>\n      <td>Полная занятость</td>\n      <td>В новый филиал фармацевтической компании в г. ...</td>\n      <td>['Складской Учет', 'Складской документооборот'...</td>\n      <td>менеджер приёмный отдел</td>\n      <td>год год</td>\n      <td>полный день</td>\n      <td>полный занятость</td>\n      <td>новый филиал фармацевтический компания нижний ...</td>\n      <td>складской учёт складской документооборот склад...</td>\n    </tr>\n    <tr>\n      <th>19</th>\n      <td>Технический директор / заместитель по разработ...</td>\n      <td>Более 6 лет</td>\n      <td>Полный день</td>\n      <td>Полная занятость</td>\n      <td>В проект по разработке мобильного банка требуе...</td>\n      <td>['Английский язык', 'Постановка задач разработ...</td>\n      <td>технический директор заместитель разработка ба...</td>\n      <td>год</td>\n      <td>полный день</td>\n      <td>полный занятость</td>\n      <td>проект разработка мобильный банк требоваться д...</td>\n      <td>английский язык постановка задача разработчик ...</td>\n    </tr>\n    <tr>\n      <th>20</th>\n      <td>Слесарь МСР</td>\n      <td>От 1 года до 3 лет</td>\n      <td>Полный день</td>\n      <td>Полная занятость</td>\n      <td>Условия:  Полный соцпакет, 5-дневная рабочая...</td>\n      <td>[]</td>\n      <td>слесарить мср</td>\n      <td>год год</td>\n      <td>полный день</td>\n      <td>полный занятость</td>\n      <td>условие полный соцпакет дневный рабочий неделя...</td>\n      <td></td>\n    </tr>\n    <tr>\n      <th>21</th>\n      <td>Хостес</td>\n      <td>Нет опыта</td>\n      <td>Гибкий график</td>\n      <td>Частичная занятость</td>\n      <td>Обязанности:  встретить гостя на входе, провод...</td>\n      <td>['Грамотная речь', 'R-Keeper', 'Общественное п...</td>\n      <td>хостёс</td>\n      <td>опыт</td>\n      <td>гибкий график</td>\n      <td>частичный занятость</td>\n      <td>обязанность встретить гость вход проводить выб...</td>\n      <td>грамотный речь общественный питание грамотност...</td>\n    </tr>\n    <tr>\n      <th>22</th>\n      <td>Продавец выходного дня на выкладку товаров</td>\n      <td>Нет опыта</td>\n      <td>Сменный график</td>\n      <td>Частичная занятость</td>\n      <td>Обязанности:  Выкладка товаров в зале.Замена ц...</td>\n      <td>['Выкладка товаров']</td>\n      <td>продавец выходной день выкладка товар</td>\n      <td>опыт</td>\n      <td>сменный график</td>\n      <td>частичный занятость</td>\n      <td>обязанность выкладка товар зал замена ценник п...</td>\n      <td>выкладка товар</td>\n    </tr>\n    <tr>\n      <th>23</th>\n      <td>Врач терапевт участковый (Отрадо-Кубанское)</td>\n      <td>Нет опыта</td>\n      <td>Полный день</td>\n      <td>Полная занятость</td>\n      <td>Работа на территории работодателя: с. Отрадо-К...</td>\n      <td>[]</td>\n      <td>врач терапевт участковый отрад кубанский</td>\n      <td>опыт</td>\n      <td>полный день</td>\n      <td>полный занятость</td>\n      <td>работа территория работодатель отрад кубанский...</td>\n      <td></td>\n    </tr>\n    <tr>\n      <th>24</th>\n      <td>Заведующий дошкольно-школьным отделением - вра...</td>\n      <td>От 3 до 6 лет</td>\n      <td>Полный день</td>\n      <td>Полная занятость</td>\n      <td>Обязанности:  Руководство работой врачей-педиа...</td>\n      <td>['Организация мероприятий', 'Навыки межличност...</td>\n      <td>заведовать дошкольный школьный отделение врач ...</td>\n      <td>год</td>\n      <td>полный день</td>\n      <td>полный занятость</td>\n      <td>обязанность руководство работа врач педиатр ме...</td>\n      <td>организация мероприятие навык межличностный об...</td>\n    </tr>\n    <tr>\n      <th>25</th>\n      <td>Повар – универсал (холодного / горячего цеха)</td>\n      <td>От 1 года до 3 лет</td>\n      <td>Полный день</td>\n      <td>Полная занятость</td>\n      <td>Уважаемые кандидаты!  Ресторан \"MEATLAND\" ищет...</td>\n      <td>['Телефонные переговоры, прием и обработка зак...</td>\n      <td>повар универсал холодное горячее цех</td>\n      <td>год год</td>\n      <td>полный день</td>\n      <td>полный занятость</td>\n      <td>уважаемый кандидат ресторан искать повар униве...</td>\n      <td>телефонный переговоры приём обработка заказ ра...</td>\n    </tr>\n    <tr>\n      <th>26</th>\n      <td>Фармацевт</td>\n      <td>Нет опыта</td>\n      <td>Полный день</td>\n      <td>Полная занятость</td>\n      <td>Работа на территории работодателя: г Сочи, ул ...</td>\n      <td>[]</td>\n      <td>фармацевт</td>\n      <td>опыт</td>\n      <td>полный день</td>\n      <td>полный занятость</td>\n      <td>работа территория работодатель сочи дагомысски...</td>\n      <td></td>\n    </tr>\n    <tr>\n      <th>27</th>\n      <td>Менеджер телефонных продаж (входящие звонки)</td>\n      <td>От 1 года до 3 лет</td>\n      <td>Полный день</td>\n      <td>Полная занятость</td>\n      <td>Мы - крупная и активно развивающаяся омниканал...</td>\n      <td>['Клиентоориентированность', 'Активные продажи...</td>\n      <td>менеджер телефонный продажа входящий звонок</td>\n      <td>год год</td>\n      <td>полный день</td>\n      <td>полный занятость</td>\n      <td>крупный активно развивающийся омниканальный ко...</td>\n      <td>клиентоориентированность активный продажа навы...</td>\n    </tr>\n    <tr>\n      <th>28</th>\n      <td>Врач-нефролог</td>\n      <td>Нет опыта</td>\n      <td>Полный день</td>\n      <td>Полная занятость</td>\n      <td>Обязанности: При получении информации о заболе...</td>\n      <td>['Пользователь ПК', 'Медицинская документация'...</td>\n      <td>врач нефролог</td>\n      <td>опыт</td>\n      <td>полный день</td>\n      <td>полный занятость</td>\n      <td>обязанность получение информация заболевание п...</td>\n      <td>пользователь медицинский документация работа к...</td>\n    </tr>\n    <tr>\n      <th>29</th>\n      <td>Заместитель директора магазина (г. Екатеринбур...</td>\n      <td>От 1 года до 3 лет</td>\n      <td>Полный день</td>\n      <td>Полная занятость</td>\n      <td>Обязанности:  Открытие/закрытие магазина; Конт...</td>\n      <td>[]</td>\n      <td>заместитель директор магазин екатеринбург райо...</td>\n      <td>год год</td>\n      <td>полный день</td>\n      <td>полный занятость</td>\n      <td>обязанность открытие закрытие магазин контроль...</td>\n      <td></td>\n    </tr>\n    <tr>\n      <th>30</th>\n      <td>Архитектор</td>\n      <td>От 1 года до 3 лет</td>\n      <td>Полный день</td>\n      <td>Полная занятость</td>\n      <td>Команда DeVision, обладая особыми компетенциям...</td>\n      <td>['Управление проектами', 'Визуализация', 'Прое...</td>\n      <td>архитектор</td>\n      <td>год год</td>\n      <td>полный день</td>\n      <td>полный занятость</td>\n      <td>команда обладать особый компетенция недвижимос...</td>\n      <td>управление проект визуализация проектирование ...</td>\n    </tr>\n    <tr>\n      <th>31</th>\n      <td>Подсобный рабочий</td>\n      <td>Нет опыта</td>\n      <td>Вахтовый метод</td>\n      <td>Полная занятость</td>\n      <td>Обязанности:  Работы по благоустройству террит...</td>\n      <td>['Желание работать и зарабатывать', 'Трудоспос...</td>\n      <td>подсобный рабочий</td>\n      <td>опыт</td>\n      <td>вахтовый метод</td>\n      <td>полный занятость</td>\n      <td>обязанность работа благоустройство территория ...</td>\n      <td>желание работать зарабатывать трудоспособность</td>\n    </tr>\n    <tr>\n      <th>32</th>\n      <td>Оператор по продаже страхования от несчастных ...</td>\n      <td>Нет опыта</td>\n      <td>Удаленная работа</td>\n      <td>Полная занятость</td>\n      <td>Тинькофф Страхование в поиске страховых агенто...</td>\n      <td>[]</td>\n      <td>оператор продажа страхование несчастный случай</td>\n      <td>опыт</td>\n      <td>удалённый работа</td>\n      <td>полный занятость</td>\n      <td>тинькофф страхование поиск страховой агент раб...</td>\n      <td></td>\n    </tr>\n    <tr>\n      <th>33</th>\n      <td>Продавец-кассир (Гагарин, Гагарина, 48)</td>\n      <td>Нет опыта</td>\n      <td>Полный день</td>\n      <td>Полная занятость</td>\n      <td>Для каждого, кто хочет работать и зарабатывать...</td>\n      <td>[]</td>\n      <td>продавец кассир гагарин гагарин</td>\n      <td>опыт</td>\n      <td>полный день</td>\n      <td>полный занятость</td>\n      <td>каждый хотеть работать зарабатывать каждый гот...</td>\n      <td></td>\n    </tr>\n    <tr>\n      <th>34</th>\n      <td>Врач-невролог ОЭНиКМП</td>\n      <td>Более 6 лет</td>\n      <td>Полный день</td>\n      <td>Полная занятость</td>\n      <td>Обязанности:  Работа в отделе экспертизы нетру...</td>\n      <td>[]</td>\n      <td>врач невролог оэникмп</td>\n      <td>год</td>\n      <td>полный день</td>\n      <td>полный занятость</td>\n      <td>обязанность работа отдел экспертиза нетрудоспо...</td>\n      <td></td>\n    </tr>\n    <tr>\n      <th>35</th>\n      <td>Грузчик-карщик</td>\n      <td>Нет опыта</td>\n      <td>Полный день</td>\n      <td>Полная занятость</td>\n      <td>Мы ищем ответственного сотрудника на склад, ко...</td>\n      <td>['Приемка груза', 'Инвентаризация']</td>\n      <td>грузчик карщик</td>\n      <td>опыт</td>\n      <td>полный день</td>\n      <td>полный занятость</td>\n      <td>искать ответственный сотрудник склад который ж...</td>\n      <td>приёмка груз инвентаризация</td>\n    </tr>\n    <tr>\n      <th>36</th>\n      <td>Продавец-консультант ТЦ Аутлет Fashion House (...</td>\n      <td>От 1 года до 3 лет</td>\n      <td>Полный день</td>\n      <td>Полная занятость</td>\n      <td>Дружный коллектив нашего магазина приглашает а...</td>\n      <td>['Активные продажи', 'Розничная торговля', 'На...</td>\n      <td>продавец консультант аутгод чёрный грязь зелен...</td>\n      <td>год год</td>\n      <td>полный день</td>\n      <td>полный занятость</td>\n      <td>дружный коллектив наш магазин приглашать актив...</td>\n      <td>активный продажа розничный торговля навык прод...</td>\n    </tr>\n    <tr>\n      <th>37</th>\n      <td>Водитель самосвала</td>\n      <td>От 3 до 6 лет</td>\n      <td>Вахтовый метод</td>\n      <td>Полная занятость</td>\n      <td>Обязанности:  Управление самосвалом, внутрикар...</td>\n      <td>['Водительское удостоверение категории BC']</td>\n      <td>водитель самосвал</td>\n      <td>год</td>\n      <td>вахтовый метод</td>\n      <td>полный занятость</td>\n      <td>обязанность управление самосвал внутрикарьерны...</td>\n      <td>водительский удостоверение категория</td>\n    </tr>\n    <tr>\n      <th>38</th>\n      <td>Помощник бухгалтера</td>\n      <td>От 1 года до 3 лет</td>\n      <td>Полный день</td>\n      <td>Полная занятость</td>\n      <td>Многопрофильный холдинг приглашает на работу а...</td>\n      <td>['Работа с большим объемом информации', 'Inter...</td>\n      <td>помощник бухгалтер</td>\n      <td>год год</td>\n      <td>полный день</td>\n      <td>полный занятость</td>\n      <td>многопрофильный холдинг приглашать работа амби...</td>\n      <td>работа больший объём информация работа докумен...</td>\n    </tr>\n    <tr>\n      <th>39</th>\n      <td>Администратор магазина (Сосновоборск, Кададинс...</td>\n      <td>От 1 года до 3 лет</td>\n      <td>Полный день</td>\n      <td>Полная занятость</td>\n      <td>Обязанности:Организация работы магазинаКонтрол...</td>\n      <td>[]</td>\n      <td>администратор магазин сосновоборск кададинской</td>\n      <td>год год</td>\n      <td>полный день</td>\n      <td>полный занятость</td>\n      <td>обязанность организация работа магазинаконтрол...</td>\n      <td></td>\n    </tr>\n    <tr>\n      <th>40</th>\n      <td>Сварщик на полуавтоматическую сварку</td>\n      <td>От 1 года до 3 лет</td>\n      <td>Вахтовый метод</td>\n      <td>Полная занятость</td>\n      <td>Обязанности:  Выполнение сварочных работ на те...</td>\n      <td>['Охрана труда и техника безопасности', 'Сваро...</td>\n      <td>сварщик полуавтоматический сварка</td>\n      <td>год год</td>\n      <td>вахтовый метод</td>\n      <td>полный занятость</td>\n      <td>обязанность выполнение сварочный работа технол...</td>\n      <td>охрана труд техника безопасность сварочный работа</td>\n    </tr>\n    <tr>\n      <th>41</th>\n      <td>Закройщица закройщик резиновых изделий и деталей</td>\n      <td>Нет опыта</td>\n      <td>Сменный график</td>\n      <td>Полная занятость</td>\n      <td>Наше предприятие стабильно работает на рынке и...</td>\n      <td>[]</td>\n      <td>закройщица закройщик резиновый изделие деталь</td>\n      <td>опыт</td>\n      <td>сменный график</td>\n      <td>полный занятость</td>\n      <td>наш предприятие стабильно работать рынок издел...</td>\n      <td></td>\n    </tr>\n    <tr>\n      <th>42</th>\n      <td>Инженер производственно-технического отдела</td>\n      <td>От 1 года до 3 лет</td>\n      <td>Вахтовый метод</td>\n      <td>Полная занятость</td>\n      <td>Требуемый опыт работы: 1–3 года Полная занятос...</td>\n      <td>['Строительство', 'Пользователь ПК', 'Деловая ...</td>\n      <td>инженер производственный технический отдел</td>\n      <td>год год</td>\n      <td>вахтовый метод</td>\n      <td>полный занятость</td>\n      <td>требовать опыт работа год полный занятость пол...</td>\n      <td>строительство пользователь деловой переписка р...</td>\n    </tr>\n    <tr>\n      <th>43</th>\n      <td>Администратор/Координатор отдела продаж</td>\n      <td>От 1 года до 3 лет</td>\n      <td>Полный день</td>\n      <td>Полная занятость</td>\n      <td>Обязанности:  Приём и распределение входящих о...</td>\n      <td>['Документооборот', 'Грамотность']</td>\n      <td>администратор координатор отдел продажа</td>\n      <td>год год</td>\n      <td>полный день</td>\n      <td>полный занятость</td>\n      <td>обязанность приём распределение входящий обращ...</td>\n      <td>документооборот грамотность</td>\n    </tr>\n    <tr>\n      <th>44</th>\n      <td>Ученик мастера по ремонту техники</td>\n      <td>Нет опыта</td>\n      <td>Гибкий график</td>\n      <td>Стажировка</td>\n      <td>Ученик мастера (Без опыта, с обучением) Мы пре...</td>\n      <td>['Пользователь ПК', 'Обучение и развитие', 'Ум...</td>\n      <td>ученик мастер ремонт техника</td>\n      <td>опыт</td>\n      <td>гибкий график</td>\n      <td>стажировка</td>\n      <td>ученик мастер опыт обучение предлагать бесплат...</td>\n      <td>пользователь обучение развитие умение работать...</td>\n    </tr>\n    <tr>\n      <th>45</th>\n      <td>Электромонтер по ремонту и обслуживанию электр...</td>\n      <td>От 1 года до 3 лет</td>\n      <td>Полный день</td>\n      <td>Полная занятость</td>\n      <td>Обязанности:  Обеспечивает исправное состояние...</td>\n      <td>['Техническое обслуживание', 'Ремонтные работы...</td>\n      <td>электромонтёр ремонт обслуживание электрообору...</td>\n      <td>год год</td>\n      <td>полный день</td>\n      <td>полный занятость</td>\n      <td>обязанность обеспечивать исправный состояние э...</td>\n      <td>технический обслуживание ремонтный работа вним...</td>\n    </tr>\n    <tr>\n      <th>46</th>\n      <td>Курьер (Ванеева)</td>\n      <td>Нет опыта</td>\n      <td>Гибкий график</td>\n      <td>Частичная занятость</td>\n      <td>Звони прямо сейчас и присоединяйся к успешной ...</td>\n      <td>['Работа в команде', 'Деловое общение']</td>\n      <td>курьер ванеев</td>\n      <td>опыт</td>\n      <td>гибкий график</td>\n      <td>частичный занятость</td>\n      <td>звонить прямо присоединяться успешный команда ...</td>\n      <td>работа команда деловой общение</td>\n    </tr>\n    <tr>\n      <th>47</th>\n      <td>Рентгенолаборант (Академгородок)</td>\n      <td>От 1 года до 3 лет</td>\n      <td>Сменный график</td>\n      <td>Полная занятость</td>\n      <td>\"Медсанчасть-168\" является одним из первых в Р...</td>\n      <td>[]</td>\n      <td>рентгенолаборант академгородок</td>\n      <td>год год</td>\n      <td>сменный график</td>\n      <td>полный занятость</td>\n      <td>медсанчасть являться один первый россия частны...</td>\n      <td></td>\n    </tr>\n    <tr>\n      <th>48</th>\n      <td>Медицинская сестра</td>\n      <td>Нет опыта</td>\n      <td>Полный день</td>\n      <td>Полная занятость</td>\n      <td>Обязанности:  Проведение предрейсовых осмотров...</td>\n      <td>['Грамотность']</td>\n      <td>медицинский сестра</td>\n      <td>опыт</td>\n      <td>полный день</td>\n      <td>полный занятость</td>\n      <td>обязанность проведение предрейсовый осмотр ока...</td>\n      <td>грамотность</td>\n    </tr>\n    <tr>\n      <th>49</th>\n      <td>Официант-бармен</td>\n      <td>От 1 года до 3 лет</td>\n      <td>Полный день</td>\n      <td>Полная занятость</td>\n      <td>В кафе премиум сегмента при Фитнес - клубе тре...</td>\n      <td>['Пользователь ПК', 'Обслуживание покупателей'...</td>\n      <td>официант бармен</td>\n      <td>год год</td>\n      <td>полный день</td>\n      <td>полный занятость</td>\n      <td>кафе премиум сегмент фитнес клуб требоваться о...</td>\n      <td>пользователь обслуживание покупатель работа ка...</td>\n    </tr>\n  </tbody>\n</table>\n</div>"
     },
     "execution_count": 98,
     "metadata": {},
     "output_type": "execute_result"
    }
   ],
   "source": [
    "df_test.head(50)"
   ],
   "metadata": {
    "collapsed": false
   }
  },
  {
   "cell_type": "markdown",
   "source": [
    "Методология такая:\n",
    "- 1) категориальные признаки такие, как experience, schedule, employment can be converted into numerical data using Ordinal Encoder(), for example;\n",
    "- 2) text columns such as name, description and key_skills - should be concatenated into one column and processed as a text."
   ],
   "metadata": {
    "collapsed": false
   }
  },
  {
   "cell_type": "code",
   "execution_count": 33,
   "outputs": [],
   "source": [
    "train_new = df[['experience', 'schedule_lem', 'salary']]\n",
    "test_new = df_test[['experience', 'schedule_lem']]"
   ],
   "metadata": {
    "collapsed": false
   }
  },
  {
   "cell_type": "code",
   "execution_count": 34,
   "outputs": [
    {
     "data": {
      "text/plain": "           experience    schedule_lem   salary\n0       От 3 до 6 лет     полный день  42500.0\n1  От 1 года до 3 лет     полный день  50000.0\n2           Нет опыта  сменный график  31500.0\n3  От 1 года до 3 лет     полный день  36700.0\n4           Нет опыта  сменный график  37000.0",
      "text/html": "<div>\n<style scoped>\n    .dataframe tbody tr th:only-of-type {\n        vertical-align: middle;\n    }\n\n    .dataframe tbody tr th {\n        vertical-align: top;\n    }\n\n    .dataframe thead th {\n        text-align: right;\n    }\n</style>\n<table border=\"1\" class=\"dataframe\">\n  <thead>\n    <tr style=\"text-align: right;\">\n      <th></th>\n      <th>experience</th>\n      <th>schedule_lem</th>\n      <th>salary</th>\n    </tr>\n  </thead>\n  <tbody>\n    <tr>\n      <th>0</th>\n      <td>От 3 до 6 лет</td>\n      <td>полный день</td>\n      <td>42500.0</td>\n    </tr>\n    <tr>\n      <th>1</th>\n      <td>От 1 года до 3 лет</td>\n      <td>полный день</td>\n      <td>50000.0</td>\n    </tr>\n    <tr>\n      <th>2</th>\n      <td>Нет опыта</td>\n      <td>сменный график</td>\n      <td>31500.0</td>\n    </tr>\n    <tr>\n      <th>3</th>\n      <td>От 1 года до 3 лет</td>\n      <td>полный день</td>\n      <td>36700.0</td>\n    </tr>\n    <tr>\n      <th>4</th>\n      <td>Нет опыта</td>\n      <td>сменный график</td>\n      <td>37000.0</td>\n    </tr>\n  </tbody>\n</table>\n</div>"
     },
     "execution_count": 34,
     "metadata": {},
     "output_type": "execute_result"
    }
   ],
   "source": [
    "train_new.head()"
   ],
   "metadata": {
    "collapsed": false
   }
  },
  {
   "cell_type": "code",
   "execution_count": 35,
   "outputs": [
    {
     "data": {
      "text/plain": "            experience    schedule_lem\nid                                    \n0          Более 6 лет     полный день\n1   От 1 года до 3 лет  сменный график\n2   От 1 года до 3 лет     полный день\n3   От 1 года до 3 лет     полный день\n4            Нет опыта  сменный график",
      "text/html": "<div>\n<style scoped>\n    .dataframe tbody tr th:only-of-type {\n        vertical-align: middle;\n    }\n\n    .dataframe tbody tr th {\n        vertical-align: top;\n    }\n\n    .dataframe thead th {\n        text-align: right;\n    }\n</style>\n<table border=\"1\" class=\"dataframe\">\n  <thead>\n    <tr style=\"text-align: right;\">\n      <th></th>\n      <th>experience</th>\n      <th>schedule_lem</th>\n    </tr>\n    <tr>\n      <th>id</th>\n      <th></th>\n      <th></th>\n    </tr>\n  </thead>\n  <tbody>\n    <tr>\n      <th>0</th>\n      <td>Более 6 лет</td>\n      <td>полный день</td>\n    </tr>\n    <tr>\n      <th>1</th>\n      <td>От 1 года до 3 лет</td>\n      <td>сменный график</td>\n    </tr>\n    <tr>\n      <th>2</th>\n      <td>От 1 года до 3 лет</td>\n      <td>полный день</td>\n    </tr>\n    <tr>\n      <th>3</th>\n      <td>От 1 года до 3 лет</td>\n      <td>полный день</td>\n    </tr>\n    <tr>\n      <th>4</th>\n      <td>Нет опыта</td>\n      <td>сменный график</td>\n    </tr>\n  </tbody>\n</table>\n</div>"
     },
     "execution_count": 35,
     "metadata": {},
     "output_type": "execute_result"
    }
   ],
   "source": [
    "test_new.head()"
   ],
   "metadata": {
    "collapsed": false
   }
  },
  {
   "cell_type": "code",
   "execution_count": 36,
   "outputs": [],
   "source": [
    "# creating new columns\n",
    "train_text = pd.DataFrame()\n",
    "test_text = pd.DataFrame()\n",
    "\n",
    "train_text['text'] = df.name_lem + ' ' + df.description_lem + ' ' + df.key_skills_lem\n",
    "test_text['text'] = df_test.name_lem + ' ' + df_test.description_lem + ' ' + df_test.key_skills"
   ],
   "metadata": {
    "collapsed": false
   }
  },
  {
   "cell_type": "code",
   "execution_count": 37,
   "outputs": [
    {
     "data": {
      "text/plain": "           experience    schedule_lem   salary  \\\n0       От 3 до 6 лет     полный день  42500.0   \n1  От 1 года до 3 лет     полный день  50000.0   \n2           Нет опыта  сменный график  31500.0   \n3  От 1 года до 3 лет     полный день  36700.0   \n4           Нет опыта  сменный график  37000.0   \n\n                                                text  \n0  водитель экспедитор водитель экспедитор катего...  \n1  кладовщик комплектовщик оператор обязанность с...  \n2  продавец магазин магнит кировский уса крупный ...  \n3  администратор магазин крупный федеральный сеть...  \n4  мойщик посуда кулинария обязанность уборка про...  ",
      "text/html": "<div>\n<style scoped>\n    .dataframe tbody tr th:only-of-type {\n        vertical-align: middle;\n    }\n\n    .dataframe tbody tr th {\n        vertical-align: top;\n    }\n\n    .dataframe thead th {\n        text-align: right;\n    }\n</style>\n<table border=\"1\" class=\"dataframe\">\n  <thead>\n    <tr style=\"text-align: right;\">\n      <th></th>\n      <th>experience</th>\n      <th>schedule_lem</th>\n      <th>salary</th>\n      <th>text</th>\n    </tr>\n  </thead>\n  <tbody>\n    <tr>\n      <th>0</th>\n      <td>От 3 до 6 лет</td>\n      <td>полный день</td>\n      <td>42500.0</td>\n      <td>водитель экспедитор водитель экспедитор катего...</td>\n    </tr>\n    <tr>\n      <th>1</th>\n      <td>От 1 года до 3 лет</td>\n      <td>полный день</td>\n      <td>50000.0</td>\n      <td>кладовщик комплектовщик оператор обязанность с...</td>\n    </tr>\n    <tr>\n      <th>2</th>\n      <td>Нет опыта</td>\n      <td>сменный график</td>\n      <td>31500.0</td>\n      <td>продавец магазин магнит кировский уса крупный ...</td>\n    </tr>\n    <tr>\n      <th>3</th>\n      <td>От 1 года до 3 лет</td>\n      <td>полный день</td>\n      <td>36700.0</td>\n      <td>администратор магазин крупный федеральный сеть...</td>\n    </tr>\n    <tr>\n      <th>4</th>\n      <td>Нет опыта</td>\n      <td>сменный график</td>\n      <td>37000.0</td>\n      <td>мойщик посуда кулинария обязанность уборка про...</td>\n    </tr>\n  </tbody>\n</table>\n</div>"
     },
     "execution_count": 37,
     "metadata": {},
     "output_type": "execute_result"
    }
   ],
   "source": [
    "df_n = pd.concat([train_new, train_text], axis=1)\n",
    "df_n.head(5)"
   ],
   "metadata": {
    "collapsed": false
   }
  },
  {
   "cell_type": "code",
   "execution_count": 38,
   "outputs": [
    {
     "data": {
      "text/plain": "            experience    schedule_lem  \\\nid                                       \n0          Более 6 лет     полный день   \n1   От 1 года до 3 лет  сменный график   \n2   От 1 года до 3 лет     полный день   \n3   От 1 года до 3 лет     полный день   \n4            Нет опыта  сменный график   \n\n                                                 text  \nid                                                     \n0   главный бухгалтер обязанность осуществление ор...  \n1   ассистент врач стоматолог обязанность ассистир...  \n2   менеджер продажа хотеть построить карьера банк...  \n3   менеджер динамично развивающийся протяжение го...  \n4   администратор хостел возможный работа проживан...  ",
      "text/html": "<div>\n<style scoped>\n    .dataframe tbody tr th:only-of-type {\n        vertical-align: middle;\n    }\n\n    .dataframe tbody tr th {\n        vertical-align: top;\n    }\n\n    .dataframe thead th {\n        text-align: right;\n    }\n</style>\n<table border=\"1\" class=\"dataframe\">\n  <thead>\n    <tr style=\"text-align: right;\">\n      <th></th>\n      <th>experience</th>\n      <th>schedule_lem</th>\n      <th>text</th>\n    </tr>\n    <tr>\n      <th>id</th>\n      <th></th>\n      <th></th>\n      <th></th>\n    </tr>\n  </thead>\n  <tbody>\n    <tr>\n      <th>0</th>\n      <td>Более 6 лет</td>\n      <td>полный день</td>\n      <td>главный бухгалтер обязанность осуществление ор...</td>\n    </tr>\n    <tr>\n      <th>1</th>\n      <td>От 1 года до 3 лет</td>\n      <td>сменный график</td>\n      <td>ассистент врач стоматолог обязанность ассистир...</td>\n    </tr>\n    <tr>\n      <th>2</th>\n      <td>От 1 года до 3 лет</td>\n      <td>полный день</td>\n      <td>менеджер продажа хотеть построить карьера банк...</td>\n    </tr>\n    <tr>\n      <th>3</th>\n      <td>От 1 года до 3 лет</td>\n      <td>полный день</td>\n      <td>менеджер динамично развивающийся протяжение го...</td>\n    </tr>\n    <tr>\n      <th>4</th>\n      <td>Нет опыта</td>\n      <td>сменный график</td>\n      <td>администратор хостел возможный работа проживан...</td>\n    </tr>\n  </tbody>\n</table>\n</div>"
     },
     "execution_count": 38,
     "metadata": {},
     "output_type": "execute_result"
    }
   ],
   "source": [
    "test = pd.concat([test_new, test_text], axis=1)\n",
    "test.head(5)"
   ],
   "metadata": {
    "collapsed": false
   }
  },
  {
   "cell_type": "code",
   "execution_count": 39,
   "outputs": [
    {
     "data": {
      "text/plain": "array(['От 3 до 6 лет', 'От 1 года до 3 лет', 'Нет опыта', 'Более 6 лет'],\n      dtype=object)"
     },
     "execution_count": 39,
     "metadata": {},
     "output_type": "execute_result"
    }
   ],
   "source": [
    "df_n['experience'].unique()"
   ],
   "metadata": {
    "collapsed": false
   }
  },
  {
   "cell_type": "code",
   "execution_count": 40,
   "outputs": [
    {
     "data": {
      "text/plain": "array(['Более 6 лет', 'От 1 года до 3 лет', 'Нет опыта', 'От 3 до 6 лет'],\n      dtype=object)"
     },
     "execution_count": 40,
     "metadata": {},
     "output_type": "execute_result"
    }
   ],
   "source": [
    "test['experience'].unique()"
   ],
   "metadata": {
    "collapsed": false
   }
  },
  {
   "cell_type": "code",
   "execution_count": 41,
   "outputs": [],
   "source": [
    "# experience_map = {'От 3 до 6 лет': 0, 'От 1 года до 3 лет': 1, 'Нет опыта': 2, 'Более 6 лет': 3}\n",
    "#\n",
    "# df_n['experience'] = df_n['experience'].map(experience_map)\n",
    "# test['experience'] = test['experience'].map(experience_map)"
   ],
   "metadata": {
    "collapsed": false
   }
  },
  {
   "cell_type": "code",
   "execution_count": 42,
   "outputs": [
    {
     "data": {
      "text/plain": "array(['полный день', 'сменный график', 'гибкий график', 'вахтовый метод',\n       'удалённый работа'], dtype=object)"
     },
     "execution_count": 42,
     "metadata": {},
     "output_type": "execute_result"
    }
   ],
   "source": [
    "df_n.schedule_lem.unique()"
   ],
   "metadata": {
    "collapsed": false
   }
  },
  {
   "cell_type": "code",
   "execution_count": 43,
   "outputs": [],
   "source": [
    "# schedule_map = {'полный день': 0,\n",
    "#                 'сменный график': 1,\n",
    "#                 'гибкий график': 2,\n",
    "#                 'вахтовый метод': 3,\n",
    "#                 'удалённый работа': 4}\n",
    "#\n",
    "# df_n['schedule'] = df_n['schedule_lem'].map(schedule_map)\n",
    "# test['schedule'] = test['schedule_lem'].map(schedule_map)"
   ],
   "metadata": {
    "collapsed": false
   }
  },
  {
   "cell_type": "code",
   "execution_count": 44,
   "outputs": [
    {
     "data": {
      "text/plain": "           experience    schedule_lem   salary  \\\n0       От 3 до 6 лет     полный день  42500.0   \n1  От 1 года до 3 лет     полный день  50000.0   \n2           Нет опыта  сменный график  31500.0   \n3  От 1 года до 3 лет     полный день  36700.0   \n4           Нет опыта  сменный график  37000.0   \n\n                                                text  \n0  водитель экспедитор водитель экспедитор катего...  \n1  кладовщик комплектовщик оператор обязанность с...  \n2  продавец магазин магнит кировский уса крупный ...  \n3  администратор магазин крупный федеральный сеть...  \n4  мойщик посуда кулинария обязанность уборка про...  ",
      "text/html": "<div>\n<style scoped>\n    .dataframe tbody tr th:only-of-type {\n        vertical-align: middle;\n    }\n\n    .dataframe tbody tr th {\n        vertical-align: top;\n    }\n\n    .dataframe thead th {\n        text-align: right;\n    }\n</style>\n<table border=\"1\" class=\"dataframe\">\n  <thead>\n    <tr style=\"text-align: right;\">\n      <th></th>\n      <th>experience</th>\n      <th>schedule_lem</th>\n      <th>salary</th>\n      <th>text</th>\n    </tr>\n  </thead>\n  <tbody>\n    <tr>\n      <th>0</th>\n      <td>От 3 до 6 лет</td>\n      <td>полный день</td>\n      <td>42500.0</td>\n      <td>водитель экспедитор водитель экспедитор катего...</td>\n    </tr>\n    <tr>\n      <th>1</th>\n      <td>От 1 года до 3 лет</td>\n      <td>полный день</td>\n      <td>50000.0</td>\n      <td>кладовщик комплектовщик оператор обязанность с...</td>\n    </tr>\n    <tr>\n      <th>2</th>\n      <td>Нет опыта</td>\n      <td>сменный график</td>\n      <td>31500.0</td>\n      <td>продавец магазин магнит кировский уса крупный ...</td>\n    </tr>\n    <tr>\n      <th>3</th>\n      <td>От 1 года до 3 лет</td>\n      <td>полный день</td>\n      <td>36700.0</td>\n      <td>администратор магазин крупный федеральный сеть...</td>\n    </tr>\n    <tr>\n      <th>4</th>\n      <td>Нет опыта</td>\n      <td>сменный график</td>\n      <td>37000.0</td>\n      <td>мойщик посуда кулинария обязанность уборка про...</td>\n    </tr>\n  </tbody>\n</table>\n</div>"
     },
     "execution_count": 44,
     "metadata": {},
     "output_type": "execute_result"
    }
   ],
   "source": [
    "df_n.head()"
   ],
   "metadata": {
    "collapsed": false
   }
  },
  {
   "cell_type": "markdown",
   "source": [
    "## Применим другую логику обработки признаков: объединим лемматизированные колонки в одну и обработаем ее."
   ],
   "metadata": {
    "collapsed": false
   }
  },
  {
   "cell_type": "code",
   "execution_count": 113,
   "outputs": [],
   "source": [
    "df['text'] = df['name_lem'].apply(str) + ' ' + df['experience_lem'].apply(str) + ' ' + df['schedule_lem'].apply(str) + ' ' + df['employment_lem'].apply(str) + ' ' + df['description_lem'].apply(str) + ' ' + df['key_skills_lem'].apply(str)"
   ],
   "metadata": {
    "collapsed": false
   }
  },
  {
   "cell_type": "code",
   "execution_count": 114,
   "outputs": [
    {
     "data": {
      "text/plain": "                                                text   salary\n0  водитель экспедитор год полный день полный зан...  42500.0\n1  кладовщик комплектовщик оператор год год полны...  50000.0\n2  продавец магазин магнит кировский уса опыт сме...  31500.0\n3  администратор магазин год год полный день полн...  36700.0",
      "text/html": "<div>\n<style scoped>\n    .dataframe tbody tr th:only-of-type {\n        vertical-align: middle;\n    }\n\n    .dataframe tbody tr th {\n        vertical-align: top;\n    }\n\n    .dataframe thead th {\n        text-align: right;\n    }\n</style>\n<table border=\"1\" class=\"dataframe\">\n  <thead>\n    <tr style=\"text-align: right;\">\n      <th></th>\n      <th>text</th>\n      <th>salary</th>\n    </tr>\n  </thead>\n  <tbody>\n    <tr>\n      <th>0</th>\n      <td>водитель экспедитор год полный день полный зан...</td>\n      <td>42500.0</td>\n    </tr>\n    <tr>\n      <th>1</th>\n      <td>кладовщик комплектовщик оператор год год полны...</td>\n      <td>50000.0</td>\n    </tr>\n    <tr>\n      <th>2</th>\n      <td>продавец магазин магнит кировский уса опыт сме...</td>\n      <td>31500.0</td>\n    </tr>\n    <tr>\n      <th>3</th>\n      <td>администратор магазин год год полный день полн...</td>\n      <td>36700.0</td>\n    </tr>\n  </tbody>\n</table>\n</div>"
     },
     "execution_count": 114,
     "metadata": {},
     "output_type": "execute_result"
    }
   ],
   "source": [
    "df_train = df[['text', 'salary']]\n",
    "df_train.head(4)"
   ],
   "metadata": {
    "collapsed": false
   }
  },
  {
   "cell_type": "code",
   "execution_count": 117,
   "outputs": [
    {
     "data": {
      "text/plain": "                                                   text\nid                                                     \n0     главный бухгалтер год полный день полный занят...\n1     ассистент врач стоматолог год год сменный граф...\n2     менеджер продажа год год полный день полный за...\n3     менеджер год год полный день полный занятость ...\n4     администратор хостел опыт сменный график полны...\n...                                                 ...\n5538  специалист дистанционный контроль качество янд...\n5539  продавец консультант опыт полный день полный з...\n5540  фельдшер скорый медицинский помощь год сменный...\n5541  продавец консультант опыт полный день полный з...\n5542  торговый представитель колпино тосно кировск г...\n\n[5543 rows x 1 columns]",
      "text/html": "<div>\n<style scoped>\n    .dataframe tbody tr th:only-of-type {\n        vertical-align: middle;\n    }\n\n    .dataframe tbody tr th {\n        vertical-align: top;\n    }\n\n    .dataframe thead th {\n        text-align: right;\n    }\n</style>\n<table border=\"1\" class=\"dataframe\">\n  <thead>\n    <tr style=\"text-align: right;\">\n      <th></th>\n      <th>text</th>\n    </tr>\n    <tr>\n      <th>id</th>\n      <th></th>\n    </tr>\n  </thead>\n  <tbody>\n    <tr>\n      <th>0</th>\n      <td>главный бухгалтер год полный день полный занят...</td>\n    </tr>\n    <tr>\n      <th>1</th>\n      <td>ассистент врач стоматолог год год сменный граф...</td>\n    </tr>\n    <tr>\n      <th>2</th>\n      <td>менеджер продажа год год полный день полный за...</td>\n    </tr>\n    <tr>\n      <th>3</th>\n      <td>менеджер год год полный день полный занятость ...</td>\n    </tr>\n    <tr>\n      <th>4</th>\n      <td>администратор хостел опыт сменный график полны...</td>\n    </tr>\n    <tr>\n      <th>...</th>\n      <td>...</td>\n    </tr>\n    <tr>\n      <th>5538</th>\n      <td>специалист дистанционный контроль качество янд...</td>\n    </tr>\n    <tr>\n      <th>5539</th>\n      <td>продавец консультант опыт полный день полный з...</td>\n    </tr>\n    <tr>\n      <th>5540</th>\n      <td>фельдшер скорый медицинский помощь год сменный...</td>\n    </tr>\n    <tr>\n      <th>5541</th>\n      <td>продавец консультант опыт полный день полный з...</td>\n    </tr>\n    <tr>\n      <th>5542</th>\n      <td>торговый представитель колпино тосно кировск г...</td>\n    </tr>\n  </tbody>\n</table>\n<p>5543 rows × 1 columns</p>\n</div>"
     },
     "execution_count": 117,
     "metadata": {},
     "output_type": "execute_result"
    }
   ],
   "source": [
    "df_test"
   ],
   "metadata": {
    "collapsed": false
   }
  },
  {
   "cell_type": "code",
   "execution_count": 115,
   "outputs": [
    {
     "ename": "KeyError",
     "evalue": "'name_lem'",
     "output_type": "error",
     "traceback": [
      "\u001B[1;31m---------------------------------------------------------------------------\u001B[0m",
      "\u001B[1;31mKeyError\u001B[0m                                  Traceback (most recent call last)",
      "File \u001B[1;32m~\\AppData\\Local\\Programs\\Python\\Python39\\lib\\site-packages\\pandas\\core\\indexes\\base.py:3802\u001B[0m, in \u001B[0;36mIndex.get_loc\u001B[1;34m(self, key, method, tolerance)\u001B[0m\n\u001B[0;32m   3801\u001B[0m \u001B[38;5;28;01mtry\u001B[39;00m:\n\u001B[1;32m-> 3802\u001B[0m     \u001B[38;5;28;01mreturn\u001B[39;00m \u001B[38;5;28;43mself\u001B[39;49m\u001B[38;5;241;43m.\u001B[39;49m\u001B[43m_engine\u001B[49m\u001B[38;5;241;43m.\u001B[39;49m\u001B[43mget_loc\u001B[49m\u001B[43m(\u001B[49m\u001B[43mcasted_key\u001B[49m\u001B[43m)\u001B[49m\n\u001B[0;32m   3803\u001B[0m \u001B[38;5;28;01mexcept\u001B[39;00m \u001B[38;5;167;01mKeyError\u001B[39;00m \u001B[38;5;28;01mas\u001B[39;00m err:\n",
      "File \u001B[1;32m~\\AppData\\Local\\Programs\\Python\\Python39\\lib\\site-packages\\pandas\\_libs\\index.pyx:138\u001B[0m, in \u001B[0;36mpandas._libs.index.IndexEngine.get_loc\u001B[1;34m()\u001B[0m\n",
      "File \u001B[1;32m~\\AppData\\Local\\Programs\\Python\\Python39\\lib\\site-packages\\pandas\\_libs\\index.pyx:165\u001B[0m, in \u001B[0;36mpandas._libs.index.IndexEngine.get_loc\u001B[1;34m()\u001B[0m\n",
      "File \u001B[1;32mpandas\\_libs\\hashtable_class_helper.pxi:5745\u001B[0m, in \u001B[0;36mpandas._libs.hashtable.PyObjectHashTable.get_item\u001B[1;34m()\u001B[0m\n",
      "File \u001B[1;32mpandas\\_libs\\hashtable_class_helper.pxi:5753\u001B[0m, in \u001B[0;36mpandas._libs.hashtable.PyObjectHashTable.get_item\u001B[1;34m()\u001B[0m\n",
      "\u001B[1;31mKeyError\u001B[0m: 'name_lem'",
      "\nThe above exception was the direct cause of the following exception:\n",
      "\u001B[1;31mKeyError\u001B[0m                                  Traceback (most recent call last)",
      "Cell \u001B[1;32mIn[115], line 1\u001B[0m\n\u001B[1;32m----> 1\u001B[0m df_test[\u001B[38;5;124m'\u001B[39m\u001B[38;5;124mtext\u001B[39m\u001B[38;5;124m'\u001B[39m] \u001B[38;5;241m=\u001B[39m \u001B[43mdf_test\u001B[49m\u001B[43m[\u001B[49m\u001B[38;5;124;43m'\u001B[39;49m\u001B[38;5;124;43mname_lem\u001B[39;49m\u001B[38;5;124;43m'\u001B[39;49m\u001B[43m]\u001B[49m\u001B[38;5;241m.\u001B[39mapply(\u001B[38;5;28mstr\u001B[39m) \u001B[38;5;241m+\u001B[39m \u001B[38;5;124m'\u001B[39m\u001B[38;5;124m \u001B[39m\u001B[38;5;124m'\u001B[39m \u001B[38;5;241m+\u001B[39m df_test[\u001B[38;5;124m'\u001B[39m\u001B[38;5;124mexperience_lem\u001B[39m\u001B[38;5;124m'\u001B[39m]\u001B[38;5;241m.\u001B[39mapply(\u001B[38;5;28mstr\u001B[39m) \u001B[38;5;241m+\u001B[39m \u001B[38;5;124m'\u001B[39m\u001B[38;5;124m \u001B[39m\u001B[38;5;124m'\u001B[39m \u001B[38;5;241m+\u001B[39m df_test[\u001B[38;5;124m'\u001B[39m\u001B[38;5;124mschedule_lem\u001B[39m\u001B[38;5;124m'\u001B[39m]\u001B[38;5;241m.\u001B[39mapply(\u001B[38;5;28mstr\u001B[39m) \u001B[38;5;241m+\u001B[39m \u001B[38;5;124m'\u001B[39m\u001B[38;5;124m \u001B[39m\u001B[38;5;124m'\u001B[39m \u001B[38;5;241m+\u001B[39m df_test[\u001B[38;5;124m'\u001B[39m\u001B[38;5;124memployment_lem\u001B[39m\u001B[38;5;124m'\u001B[39m]\u001B[38;5;241m.\u001B[39mapply(\u001B[38;5;28mstr\u001B[39m) \u001B[38;5;241m+\u001B[39m \u001B[38;5;124m'\u001B[39m\u001B[38;5;124m \u001B[39m\u001B[38;5;124m'\u001B[39m \u001B[38;5;241m+\u001B[39m df_test[\u001B[38;5;124m'\u001B[39m\u001B[38;5;124mdescription_lem\u001B[39m\u001B[38;5;124m'\u001B[39m]\u001B[38;5;241m.\u001B[39mapply(\u001B[38;5;28mstr\u001B[39m) \u001B[38;5;241m+\u001B[39m \u001B[38;5;124m'\u001B[39m\u001B[38;5;124m \u001B[39m\u001B[38;5;124m'\u001B[39m \u001B[38;5;241m+\u001B[39m df_test[\u001B[38;5;124m'\u001B[39m\u001B[38;5;124mkey_skills_lem\u001B[39m\u001B[38;5;124m'\u001B[39m]\u001B[38;5;241m.\u001B[39mapply(\u001B[38;5;28mstr\u001B[39m)\n",
      "File \u001B[1;32m~\\AppData\\Local\\Programs\\Python\\Python39\\lib\\site-packages\\pandas\\core\\frame.py:3807\u001B[0m, in \u001B[0;36mDataFrame.__getitem__\u001B[1;34m(self, key)\u001B[0m\n\u001B[0;32m   3805\u001B[0m \u001B[38;5;28;01mif\u001B[39;00m \u001B[38;5;28mself\u001B[39m\u001B[38;5;241m.\u001B[39mcolumns\u001B[38;5;241m.\u001B[39mnlevels \u001B[38;5;241m>\u001B[39m \u001B[38;5;241m1\u001B[39m:\n\u001B[0;32m   3806\u001B[0m     \u001B[38;5;28;01mreturn\u001B[39;00m \u001B[38;5;28mself\u001B[39m\u001B[38;5;241m.\u001B[39m_getitem_multilevel(key)\n\u001B[1;32m-> 3807\u001B[0m indexer \u001B[38;5;241m=\u001B[39m \u001B[38;5;28;43mself\u001B[39;49m\u001B[38;5;241;43m.\u001B[39;49m\u001B[43mcolumns\u001B[49m\u001B[38;5;241;43m.\u001B[39;49m\u001B[43mget_loc\u001B[49m\u001B[43m(\u001B[49m\u001B[43mkey\u001B[49m\u001B[43m)\u001B[49m\n\u001B[0;32m   3808\u001B[0m \u001B[38;5;28;01mif\u001B[39;00m is_integer(indexer):\n\u001B[0;32m   3809\u001B[0m     indexer \u001B[38;5;241m=\u001B[39m [indexer]\n",
      "File \u001B[1;32m~\\AppData\\Local\\Programs\\Python\\Python39\\lib\\site-packages\\pandas\\core\\indexes\\base.py:3804\u001B[0m, in \u001B[0;36mIndex.get_loc\u001B[1;34m(self, key, method, tolerance)\u001B[0m\n\u001B[0;32m   3802\u001B[0m     \u001B[38;5;28;01mreturn\u001B[39;00m \u001B[38;5;28mself\u001B[39m\u001B[38;5;241m.\u001B[39m_engine\u001B[38;5;241m.\u001B[39mget_loc(casted_key)\n\u001B[0;32m   3803\u001B[0m \u001B[38;5;28;01mexcept\u001B[39;00m \u001B[38;5;167;01mKeyError\u001B[39;00m \u001B[38;5;28;01mas\u001B[39;00m err:\n\u001B[1;32m-> 3804\u001B[0m     \u001B[38;5;28;01mraise\u001B[39;00m \u001B[38;5;167;01mKeyError\u001B[39;00m(key) \u001B[38;5;28;01mfrom\u001B[39;00m \u001B[38;5;21;01merr\u001B[39;00m\n\u001B[0;32m   3805\u001B[0m \u001B[38;5;28;01mexcept\u001B[39;00m \u001B[38;5;167;01mTypeError\u001B[39;00m:\n\u001B[0;32m   3806\u001B[0m     \u001B[38;5;66;03m# If we have a listlike key, _check_indexing_error will raise\u001B[39;00m\n\u001B[0;32m   3807\u001B[0m     \u001B[38;5;66;03m#  InvalidIndexError. Otherwise we fall through and re-raise\u001B[39;00m\n\u001B[0;32m   3808\u001B[0m     \u001B[38;5;66;03m#  the TypeError.\u001B[39;00m\n\u001B[0;32m   3809\u001B[0m     \u001B[38;5;28mself\u001B[39m\u001B[38;5;241m.\u001B[39m_check_indexing_error(key)\n",
      "\u001B[1;31mKeyError\u001B[0m: 'name_lem'"
     ]
    }
   ],
   "source": [
    "df_test['text'] = df_test['name_lem'].apply(str) + ' ' + df_test['experience_lem'].apply(str) + ' ' + df_test['schedule_lem'].apply(str) + ' ' + df_test['employment_lem'].apply(str) + ' ' + df_test['description_lem'].apply(str) + ' ' + df_test['key_skills_lem'].apply(str)"
   ],
   "metadata": {
    "collapsed": false
   }
  },
  {
   "cell_type": "code",
   "execution_count": 116,
   "outputs": [
    {
     "data": {
      "text/plain": "                                                   text\nid                                                     \n0     главный бухгалтер год полный день полный занят...\n1     ассистент врач стоматолог год год сменный граф...\n2     менеджер продажа год год полный день полный за...\n3     менеджер год год полный день полный занятость ...\n4     администратор хостел опыт сменный график полны...\n...                                                 ...\n5538  специалист дистанционный контроль качество янд...\n5539  продавец консультант опыт полный день полный з...\n5540  фельдшер скорый медицинский помощь год сменный...\n5541  продавец консультант опыт полный день полный з...\n5542  торговый представитель колпино тосно кировск г...\n\n[5543 rows x 1 columns]",
      "text/html": "<div>\n<style scoped>\n    .dataframe tbody tr th:only-of-type {\n        vertical-align: middle;\n    }\n\n    .dataframe tbody tr th {\n        vertical-align: top;\n    }\n\n    .dataframe thead th {\n        text-align: right;\n    }\n</style>\n<table border=\"1\" class=\"dataframe\">\n  <thead>\n    <tr style=\"text-align: right;\">\n      <th></th>\n      <th>text</th>\n    </tr>\n    <tr>\n      <th>id</th>\n      <th></th>\n    </tr>\n  </thead>\n  <tbody>\n    <tr>\n      <th>0</th>\n      <td>главный бухгалтер год полный день полный занят...</td>\n    </tr>\n    <tr>\n      <th>1</th>\n      <td>ассистент врач стоматолог год год сменный граф...</td>\n    </tr>\n    <tr>\n      <th>2</th>\n      <td>менеджер продажа год год полный день полный за...</td>\n    </tr>\n    <tr>\n      <th>3</th>\n      <td>менеджер год год полный день полный занятость ...</td>\n    </tr>\n    <tr>\n      <th>4</th>\n      <td>администратор хостел опыт сменный график полны...</td>\n    </tr>\n    <tr>\n      <th>...</th>\n      <td>...</td>\n    </tr>\n    <tr>\n      <th>5538</th>\n      <td>специалист дистанционный контроль качество янд...</td>\n    </tr>\n    <tr>\n      <th>5539</th>\n      <td>продавец консультант опыт полный день полный з...</td>\n    </tr>\n    <tr>\n      <th>5540</th>\n      <td>фельдшер скорый медицинский помощь год сменный...</td>\n    </tr>\n    <tr>\n      <th>5541</th>\n      <td>продавец консультант опыт полный день полный з...</td>\n    </tr>\n    <tr>\n      <th>5542</th>\n      <td>торговый представитель колпино тосно кировск г...</td>\n    </tr>\n  </tbody>\n</table>\n<p>5543 rows × 1 columns</p>\n</div>"
     },
     "execution_count": 116,
     "metadata": {},
     "output_type": "execute_result"
    }
   ],
   "source": [
    "df_test = df_test[['text']]\n",
    "df_test"
   ],
   "metadata": {
    "collapsed": false
   }
  },
  {
   "cell_type": "code",
   "execution_count": 47,
   "outputs": [
    {
     "data": {
      "text/plain": "<pandas.io.formats.style.Styler at 0x1ee57b1c3a0>",
      "text/html": "<style type=\"text/css\">\n#T_36ae1_row0_col0, #T_36ae1_row1_col0, #T_36ae1_row2_col0, #T_36ae1_row3_col0 {\n  background-color: #3b4cc0;\n  color: #f1f1f1;\n}\n</style>\n<table id=\"T_36ae1\">\n  <thead>\n    <tr>\n      <th class=\"blank level0\" >&nbsp;</th>\n      <th id=\"T_36ae1_level0_col0\" class=\"col_heading level0 col0\" >0</th>\n    </tr>\n  </thead>\n  <tbody>\n    <tr>\n      <th id=\"T_36ae1_level0_row0\" class=\"row_heading level0 row0\" >experience</th>\n      <td id=\"T_36ae1_row0_col0\" class=\"data row0 col0\" >0.000000</td>\n    </tr>\n    <tr>\n      <th id=\"T_36ae1_level0_row1\" class=\"row_heading level0 row1\" >schedule_lem</th>\n      <td id=\"T_36ae1_row1_col0\" class=\"data row1 col0\" >0.000000</td>\n    </tr>\n    <tr>\n      <th id=\"T_36ae1_level0_row2\" class=\"row_heading level0 row2\" >salary</th>\n      <td id=\"T_36ae1_row2_col0\" class=\"data row2 col0\" >0.000000</td>\n    </tr>\n    <tr>\n      <th id=\"T_36ae1_level0_row3\" class=\"row_heading level0 row3\" >text</th>\n      <td id=\"T_36ae1_row3_col0\" class=\"data row3 col0\" >0.000000</td>\n    </tr>\n  </tbody>\n</table>\n"
     },
     "execution_count": 47,
     "metadata": {},
     "output_type": "execute_result"
    }
   ],
   "source": [
    "# missing values check\n",
    "pd.DataFrame(round(df_n.isna().mean() * 100, )).style.background_gradient('coolwarm')"
   ],
   "metadata": {
    "collapsed": false
   }
  },
  {
   "cell_type": "markdown",
   "source": [
    "### Изучим целевой признак ```'salary'```"
   ],
   "metadata": {
    "collapsed": false
   }
  },
  {
   "cell_type": "code",
   "execution_count": 48,
   "outputs": [
    {
     "data": {
      "text/plain": "0    42500.0\n1    50000.0\n2    31500.0\n3    36700.0\nName: salary, dtype: float64"
     },
     "execution_count": 48,
     "metadata": {},
     "output_type": "execute_result"
    }
   ],
   "source": [
    "df_n['salary'].head(4)"
   ],
   "metadata": {
    "collapsed": false
   }
  },
  {
   "cell_type": "code",
   "execution_count": 49,
   "outputs": [
    {
     "name": "stdout",
     "output_type": "stream",
     "text": [
      "<class 'pandas.core.series.Series'>\n",
      "RangeIndex: 16629 entries, 0 to 16628\n",
      "Series name: salary\n",
      "Non-Null Count  Dtype  \n",
      "--------------  -----  \n",
      "16629 non-null  float64\n",
      "dtypes: float64(1)\n",
      "memory usage: 130.0 KB\n"
     ]
    }
   ],
   "source": [
    "df_n['salary'].info()"
   ],
   "metadata": {
    "collapsed": false
   }
  },
  {
   "cell_type": "code",
   "execution_count": 50,
   "outputs": [
    {
     "data": {
      "text/plain": "<Figure size 300x700 with 1 Axes>",
      "image/png": "[encoded data removed]"
     },
     "metadata": {},
     "output_type": "display_data"
    }
   ],
   "source": [
    "df_n.boxplot(column='salary', figsize=(3, 7));\n",
    "plt.show();"
   ],
   "metadata": {
    "collapsed": false
   }
  },
  {
   "cell_type": "code",
   "execution_count": 107,
   "outputs": [
    {
     "data": {
      "text/plain": "<Figure size 1200x800 with 1 Axes>",
      "image/png": "[encoded data removed]"
     },
     "metadata": {},
     "output_type": "display_data"
    }
   ],
   "source": [
    "df_train['salary'].hist(bins=100);"
   ],
   "metadata": {
    "collapsed": false
   }
  },
  {
   "cell_type": "code",
   "execution_count": 106,
   "outputs": [
    {
     "data": {
      "text/plain": "count     15949.000000\nmean      52968.955859\nstd       29580.592249\nmin       18000.000000\n25%       32000.000000\n50%       45000.000000\n75%       65000.000000\nmax      200000.000000\nName: salary, dtype: float64"
     },
     "execution_count": 106,
     "metadata": {},
     "output_type": "execute_result"
    }
   ],
   "source": [
    "df_train['salary'].describe().T"
   ],
   "metadata": {
    "collapsed": false
   }
  },
  {
   "cell_type": "code",
   "execution_count": 118,
   "outputs": [
    {
     "data": {
      "text/plain": "                                                text   salary\n0  водитель экспедитор год полный день полный зан...  42500.0\n1  кладовщик комплектовщик оператор год год полны...  50000.0\n2  продавец магазин магнит кировский уса опыт сме...  31500.0\n3  администратор магазин год год полный день полн...  36700.0\n4  мойщик посуда кулинария опыт сменный график по...  37000.0",
      "text/html": "<div>\n<style scoped>\n    .dataframe tbody tr th:only-of-type {\n        vertical-align: middle;\n    }\n\n    .dataframe tbody tr th {\n        vertical-align: top;\n    }\n\n    .dataframe thead th {\n        text-align: right;\n    }\n</style>\n<table border=\"1\" class=\"dataframe\">\n  <thead>\n    <tr style=\"text-align: right;\">\n      <th></th>\n      <th>text</th>\n      <th>salary</th>\n    </tr>\n  </thead>\n  <tbody>\n    <tr>\n      <th>0</th>\n      <td>водитель экспедитор год полный день полный зан...</td>\n      <td>42500.0</td>\n    </tr>\n    <tr>\n      <th>1</th>\n      <td>кладовщик комплектовщик оператор год год полны...</td>\n      <td>50000.0</td>\n    </tr>\n    <tr>\n      <th>2</th>\n      <td>продавец магазин магнит кировский уса опыт сме...</td>\n      <td>31500.0</td>\n    </tr>\n    <tr>\n      <th>3</th>\n      <td>администратор магазин год год полный день полн...</td>\n      <td>36700.0</td>\n    </tr>\n    <tr>\n      <th>4</th>\n      <td>мойщик посуда кулинария опыт сменный график по...</td>\n      <td>37000.0</td>\n    </tr>\n  </tbody>\n</table>\n</div>"
     },
     "execution_count": 118,
     "metadata": {},
     "output_type": "execute_result"
    }
   ],
   "source": [
    "# Remove salary outliers\n",
    "df_cut = df_n[(df_n['salary'] >= 18000) & (df_n['salary'] <= 200000)]\n",
    "df_train = df_train[(df_n['salary'] >= 18000) & (df_train['salary'] <= 200000)]\n",
    "df_train.head()"
   ],
   "metadata": {
    "collapsed": false
   }
  },
  {
   "cell_type": "code",
   "execution_count": 119,
   "outputs": [
    {
     "data": {
      "text/plain": "count     15949.000000\nmean      52968.955859\nstd       29580.592249\nmin       18000.000000\n25%       32000.000000\n50%       45000.000000\n75%       65000.000000\nmax      200000.000000\nName: salary, dtype: float64"
     },
     "execution_count": 119,
     "metadata": {},
     "output_type": "execute_result"
    }
   ],
   "source": [
    "df_train['salary'].describe().T"
   ],
   "metadata": {
    "collapsed": false
   }
  },
  {
   "cell_type": "code",
   "execution_count": 120,
   "outputs": [
    {
     "data": {
      "text/plain": "<Figure size 1200x800 with 1 Axes>",
      "image/png": "[encoded data removed]"
     },
     "metadata": {},
     "output_type": "display_data"
    }
   ],
   "source": [
    "df_cut['salary'].hist(bins=20);"
   ],
   "metadata": {
    "collapsed": false
   }
  },
  {
   "cell_type": "markdown",
   "source": [
    "Среднее и медиана теперь более близки, выборка более нормально распределена. Целевой признак готов к обучению."
   ],
   "metadata": {
    "collapsed": false
   }
  },
  {
   "cell_type": "markdown",
   "source": [
    "### Dividing the data into train, test; extracting subsamples for supervised learning"
   ],
   "metadata": {
    "collapsed": false
   }
  },
  {
   "cell_type": "code",
   "execution_count": 121,
   "outputs": [],
   "source": [
    "# Preprocess the categorical features\n",
    "\"\"\"\n",
    "In this updated code, we create a copy of the df_cut DataFrame, assign the encoded values to that\n",
    "copy using .loc[row_indexer,col_indexer], and then overwrite df_cut with a copy of the modified copy.\n",
    "This should resolve the SettingWithCopyWarning that you encountered.\n",
    "\"\"\"\n",
    "# label_encoders = {}\n",
    "# for feature in cat_features:\n",
    "#     label_encoders[feature] = LabelEncoder()\n",
    "#     df_cut_copy = df_cut.copy()\n",
    "#     df_cut_copy.loc[:, feature] = label_encoders[feature].fit_transform(df_cut_copy[feature])\n",
    "#     df_cut = df_cut_copy.copy()\n",
    "\n",
    "# Preprocess the categorical features\n",
    "cat_features = ['experience', 'schedule_lem']\n",
    "for feature in cat_features:\n",
    "    df_cut[feature] = df_cut[feature].astype('category')"
   ],
   "metadata": {
    "collapsed": false
   }
  },
  {
   "cell_type": "markdown",
   "source": [
    "## Простые модели"
   ],
   "metadata": {
    "collapsed": false
   }
  },
  {
   "cell_type": "code",
   "execution_count": 123,
   "outputs": [],
   "source": [
    "# Vectorize the text data using BoW\n",
    "vec = CountVectorizer(ngram_range=(1, 1), token_pattern=r'\\b\\w+\\b')"
   ],
   "metadata": {
    "collapsed": false
   }
  },
  {
   "cell_type": "code",
   "execution_count": 125,
   "outputs": [
    {
     "data": {
      "text/plain": "<15949x29138 sparse matrix of type '<class 'numpy.int64'>'\n\twith 1398189 stored elements in Compressed Sparse Row format>"
     },
     "execution_count": 125,
     "metadata": {},
     "output_type": "execute_result"
    }
   ],
   "source": [
    "bow = vec.fit_transform(df_train['text'])\n",
    "bow"
   ],
   "metadata": {
    "collapsed": false
   }
  },
  {
   "cell_type": "code",
   "execution_count": 144,
   "outputs": [
    {
     "data": {
      "text/plain": "[('водитель', 3410),\n ('экспедитор', 28451),\n ('категория', 8921),\n ('газель', 4265),\n ('тент', 24729),\n ('цельнометаллический', 27487),\n ('газ', 4260),\n ('фургон', 27088),\n ('обязанность', 14881),\n ('развоз', 20116)]"
     },
     "execution_count": 144,
     "metadata": {},
     "output_type": "execute_result"
    }
   ],
   "source": [
    "list(vec.vocabulary_.items())[:10]"
   ],
   "metadata": {
    "collapsed": false
   }
  },
  {
   "cell_type": "code",
   "execution_count": 145,
   "outputs": [
    {
     "data": {
      "text/plain": "[('ааа', 0),\n ('аазс', 1),\n ('аакцент', 2),\n ('абаз', 3),\n ('абак', 4),\n ('абакан', 5),\n ('абаканвагонмаш', 6),\n ('абакина', 7),\n ('абас', 8),\n ('абатский', 9)]"
     },
     "execution_count": 145,
     "metadata": {},
     "output_type": "execute_result"
    }
   ],
   "source": [
    "sorted(list(vec.vocabulary_.items()), key=lambda x: x[0])[:10]"
   ],
   "metadata": {
    "collapsed": false
   }
  },
  {
   "cell_type": "code",
   "execution_count": 146,
   "outputs": [
    {
     "data": {
      "text/plain": "['водитель',\n 'экспедитор',\n 'категория',\n 'газель',\n 'тент',\n 'цельнометаллический',\n 'газ',\n 'фургон',\n 'обязанность',\n 'развоз']"
     },
     "execution_count": 146,
     "metadata": {},
     "output_type": "execute_result"
    }
   ],
   "source": [
    "list(vec.vocabulary_.keys())[:10]"
   ],
   "metadata": {
    "collapsed": false
   }
  },
  {
   "cell_type": "code",
   "execution_count": 147,
   "outputs": [
    {
     "data": {
      "text/plain": "29138"
     },
     "execution_count": 147,
     "metadata": {},
     "output_type": "execute_result"
    }
   ],
   "source": [
    "len(vec.vocabulary_.items())"
   ],
   "metadata": {
    "collapsed": false
   }
  },
  {
   "cell_type": "markdown",
   "source": [
    "### Попробуем обучить простейшую линейную регрессию."
   ],
   "metadata": {
    "collapsed": false
   }
  },
  {
   "cell_type": "code",
   "execution_count": 63,
   "outputs": [
    {
     "name": "stdout",
     "output_type": "stream",
     "text": [
      "Best Parameters:  {'reg__fit_intercept': True, 'reg__positive': False, 'vect__ngram_range': (2, 2)}\n",
      "Best Score:  728867942.3601189\n",
      "CPU times: total: 13.8 s\n",
      "Wall time: 7min 39s\n"
     ]
    }
   ],
   "source": [
    "%%time\n",
    "# Create a pipeline with CountVectorizer and LinearRegression\n",
    "pipe = Pipeline([\n",
    "    ('vect', CountVectorizer(token_pattern=r'\\b\\w+\\b', lowercase=False)),\n",
    "    ('reg', LinearRegression())\n",
    "])\n",
    "\n",
    "# Define the parameter grid for GridSearchCV\n",
    "param_grid = {\n",
    "    'vect__ngram_range': [(1,1), (1,2), (2,2)],\n",
    "    'reg__fit_intercept': [True, False],\n",
    "    'reg__positive': [True, False]\n",
    "}\n",
    "\n",
    "# Split the data into training and testing sets\n",
    "X_train, X_test, y_train, y_test = train_test_split(df_cut['text'], df_cut['salary'], test_size=0.2, random_state=5)\n",
    "\n",
    "# Perform grid search with cross-validation\n",
    "grid = GridSearchCV(pipe, param_grid, cv=5, n_jobs=-1, scoring='neg_mean_squared_error')\n",
    "grid.fit(X_train, y_train)\n",
    "\n",
    "# Print the best parameters and the corresponding MSE score\n",
    "print(\"Best Parameters: \", grid.best_params_)\n",
    "print(\"Best Score: \", -grid.best_score_)"
   ],
   "metadata": {
    "collapsed": false
   }
  },
  {
   "cell_type": "code",
   "execution_count": 64,
   "outputs": [
    {
     "name": "stdout",
     "output_type": "stream",
     "text": [
      "Правильность на обучающем наборе: -1708450.69\n",
      "Правильность на тестовом наборе: -649345421.13\n"
     ]
    }
   ],
   "source": [
    "print(\"Правильность на обучающем наборе (линейная регрессия): {:.2f}\".format(grid.score(X_train, y_train)))\n",
    "print(\"Правильность на тестовом наборе (линейная регрессия): {:.2f}\".format(grid.score(X_test, y_test)))"
   ],
   "metadata": {
    "collapsed": false
   }
  },
  {
   "cell_type": "code",
   "execution_count": 65,
   "outputs": [
    {
     "name": "stdout",
     "output_type": "stream",
     "text": [
      "MSE Linear Regression:  649345421.1275593\n"
     ]
    }
   ],
   "source": [
    "# Predict the salaries on the testing data using the best estimator\n",
    "y_pred = grid.best_estimator_.predict(X_test)\n",
    "\n",
    "# Evaluate the model's performance\n",
    "mse = mean_squared_error(y_test, y_pred)\n",
    "print(\"MSE Linear Regression: \", mse)"
   ],
   "metadata": {
    "collapsed": false
   }
  },
  {
   "cell_type": "markdown",
   "source": [
    "### Теперь обучим деревянный ансамбль Random Forest."
   ],
   "metadata": {
    "collapsed": false
   }
  },
  {
   "cell_type": "code",
   "execution_count": 69,
   "outputs": [
    {
     "name": "stdout",
     "output_type": "stream",
     "text": [
      "Best Parameters:  {'reg__fit_intercept': True, 'reg__positive': False, 'vect__ngram_range': (2, 2)}\n",
      "Best Score:  728867942.3601189\n",
      "CPU times: total: 12.4 s\n",
      "Wall time: 1min 54s\n"
     ]
    }
   ],
   "source": [
    "%%time\n",
    "# Create a pipeline with CountVectorizer and RandomForestRegressor\n",
    "pipe = Pipeline([\n",
    "    ('vect', CountVectorizer(token_pattern=r'\\b\\w+\\b', lowercase=False)),\n",
    "    ('rf', RandomForestRegressor(random_state=5))\n",
    "])\n",
    "\n",
    "# Define the parameter grid for GridSearchCV\n",
    "param_grid = {\n",
    "    'vect__ngram_range': [(1,1), (2,2)],\n",
    "    'rf__n_estimators': [5, 13, 20],\n",
    "    'rf__max_depth': [3, 5, 7]\n",
    "}\n",
    "\n",
    "# Split the data into training and testing sets\n",
    "X_train, X_test, y_train, y_test = train_test_split(df_cut['text'], df_cut['salary'], test_size=0.2, random_state=5)\n",
    "\n",
    "# Perform grid search with cross-validation\n",
    "grid_rf = GridSearchCV(pipe, param_grid, cv=3, n_jobs=-1, scoring='neg_mean_squared_error')\n",
    "grid_rf.fit(X_train, y_train)\n",
    "\n",
    "# Print the best parameters and the corresponding MSE score\n",
    "print(\"Best Parameters: \", grid.best_params_)\n",
    "print(\"Best Score: \", -grid.best_score_)"
   ],
   "metadata": {
    "collapsed": false
   }
  },
  {
   "cell_type": "code",
   "execution_count": 70,
   "outputs": [
    {
     "name": "stdout",
     "output_type": "stream",
     "text": [
      "Правильность на обучающем наборе (random forest): -557649351.99\n",
      "Правильность на тестовом наборе (random forest): -634192356.31\n"
     ]
    }
   ],
   "source": [
    "print(\"Правильность на обучающем наборе (random forest): {:.2f}\".format(grid_rf.score(X_train, y_train)))\n",
    "print(\"Правильность на тестовом наборе (random forest): {:.2f}\".format(grid_rf.score(X_test, y_test)))"
   ],
   "metadata": {
    "collapsed": false
   }
  },
  {
   "cell_type": "code",
   "execution_count": 71,
   "outputs": [
    {
     "name": "stdout",
     "output_type": "stream",
     "text": [
      "MSE Random Forest:  634192356.3117162\n"
     ]
    }
   ],
   "source": [
    "# Predict the salaries on the testing data using the best estimator\n",
    "y_pred = grid_rf.best_estimator_.predict(X_test)\n",
    "\n",
    "# Evaluate the model's performance\n",
    "mse = mean_squared_error(y_test, y_pred)\n",
    "print(\"MSE Random Forest: \", mse)"
   ],
   "metadata": {
    "collapsed": false
   }
  },
  {
   "cell_type": "markdown",
   "source": [
    "### CatBoost Regressor"
   ],
   "metadata": {
    "collapsed": false
   }
  },
  {
   "cell_type": "code",
   "execution_count": 105,
   "outputs": [
    {
     "name": "stdout",
     "output_type": "stream",
     "text": [
      "CPU times: total: 1h 33min 18s\n",
      "Wall time: 1h 21min 27s\n"
     ]
    },
    {
     "data": {
      "text/plain": "GridSearchCV(cv=3, error_score='raise',\n             estimator=Pipeline(steps=[('vec',\n                                        CountVectorizer(lowercase=False,\n                                                        token_pattern='\\\\b\\\\w+\\\\b')),\n                                       ('catboost',\n                                        <catboost.core.CatBoostRegressor object at 0x0000021326F82790>)]),\n             param_grid={'catboost__depth': [2, 4],\n                         'catboost__learning_rate': [0.1, 1],\n                         'vec__ngram_range': [(1, 2)]})",
      "text/html": "<style>#sk-container-id-2 {color: black;background-color: white;}#sk-container-id-2 pre{padding: 0;}#sk-container-id-2 div.sk-toggleable {background-color: white;}#sk-container-id-2 label.sk-toggleable__label {cursor: pointer;display: block;width: 100%;margin-bottom: 0;padding: 0.3em;box-sizing: border-box;text-align: center;}#sk-container-id-2 label.sk-toggleable__label-arrow:before {content: \"▸\";float: left;margin-right: 0.25em;color: #696969;}#sk-container-id-2 label.sk-toggleable__label-arrow:hover:before {color: black;}#sk-container-id-2 div.sk-estimator:hover label.sk-toggleable__label-arrow:before {color: black;}#sk-container-id-2 div.sk-toggleable__content {max-height: 0;max-width: 0;overflow: hidden;text-align: left;background-color: #f0f8ff;}#sk-container-id-2 div.sk-toggleable__content pre {margin: 0.2em;color: black;border-radius: 0.25em;background-color: #f0f8ff;}#sk-container-id-2 input.sk-toggleable__control:checked~div.sk-toggleable__content {max-height: 200px;max-width: 100%;overflow: auto;}#sk-container-id-2 input.sk-toggleable__control:checked~label.sk-toggleable__label-arrow:before {content: \"▾\";}#sk-container-id-2 div.sk-estimator input.sk-toggleable__control:checked~label.sk-toggleable__label {background-color: #d4ebff;}#sk-container-id-2 div.sk-label input.sk-toggleable__control:checked~label.sk-toggleable__label {background-color: #d4ebff;}#sk-container-id-2 input.sk-hidden--visually {border: 0;clip: rect(1px 1px 1px 1px);clip: rect(1px, 1px, 1px, 1px);height: 1px;margin: -1px;overflow: hidden;padding: 0;position: absolute;width: 1px;}#sk-container-id-2 div.sk-estimator {font-family: monospace;background-color: #f0f8ff;border: 1px dotted black;border-radius: 0.25em;box-sizing: border-box;margin-bottom: 0.5em;}#sk-container-id-2 div.sk-estimator:hover {background-color: #d4ebff;}#sk-container-id-2 div.sk-parallel-item::after {content: \"\";width: 100%;border-bottom: 1px solid gray;flex-grow: 1;}#sk-container-id-2 div.sk-label:hover label.sk-toggleable__label {background-color: #d4ebff;}#sk-container-id-2 div.sk-serial::before {content: \"\";position: absolute;border-left: 1px solid gray;box-sizing: border-box;top: 0;bottom: 0;left: 50%;z-index: 0;}#sk-container-id-2 div.sk-serial {display: flex;flex-direction: column;align-items: center;background-color: white;padding-right: 0.2em;padding-left: 0.2em;position: relative;}#sk-container-id-2 div.sk-item {position: relative;z-index: 1;}#sk-container-id-2 div.sk-parallel {display: flex;align-items: stretch;justify-content: center;background-color: white;position: relative;}#sk-container-id-2 div.sk-item::before, #sk-container-id-2 div.sk-parallel-item::before {content: \"\";position: absolute;border-left: 1px solid gray;box-sizing: border-box;top: 0;bottom: 0;left: 50%;z-index: -1;}#sk-container-id-2 div.sk-parallel-item {display: flex;flex-direction: column;z-index: 1;position: relative;background-color: white;}#sk-container-id-2 div.sk-parallel-item:first-child::after {align-self: flex-end;width: 50%;}#sk-container-id-2 div.sk-parallel-item:last-child::after {align-self: flex-start;width: 50%;}#sk-container-id-2 div.sk-parallel-item:only-child::after {width: 0;}#sk-container-id-2 div.sk-dashed-wrapped {border: 1px dashed gray;margin: 0 0.4em 0.5em 0.4em;box-sizing: border-box;padding-bottom: 0.4em;background-color: white;}#sk-container-id-2 div.sk-label label {font-family: monospace;font-weight: bold;display: inline-block;line-height: 1.2em;}#sk-container-id-2 div.sk-label-container {text-align: center;}#sk-container-id-2 div.sk-container {/* jupyter's `normalize.less` sets `[hidden] { display: none; }` but bootstrap.min.css set `[hidden] { display: none !important; }` so we also need the `!important` here to be able to override the default hidden behavior on the sphinx rendered scikit-learn.org. See: https://github.com/scikit-learn/scikit-learn/issues/21755 */display: inline-block !important;position: relative;}#sk-container-id-2 div.sk-text-repr-fallback {display: none;}</style><div id=\"sk-container-id-2\" class=\"sk-top-container\"><div class=\"sk-text-repr-fallback\"><pre>GridSearchCV(cv=3, error_score=&#x27;raise&#x27;,\n             estimator=Pipeline(steps=[(&#x27;vec&#x27;,\n                                        CountVectorizer(lowercase=False,\n                                                        token_pattern=&#x27;\\\\b\\\\w+\\\\b&#x27;)),\n                                       (&#x27;catboost&#x27;,\n                                        &lt;catboost.core.CatBoostRegressor object at 0x0000021326F82790&gt;)]),\n             param_grid={&#x27;catboost__depth&#x27;: [2, 4],\n                         &#x27;catboost__learning_rate&#x27;: [0.1, 1],\n                         &#x27;vec__ngram_range&#x27;: [(1, 2)]})</pre><b>In a Jupyter environment, please rerun this cell to show the HTML representation or trust the notebook. <br />On GitHub, the HTML representation is unable to render, please try loading this page with nbviewer.org.</b></div><div class=\"sk-container\" hidden><div class=\"sk-item sk-dashed-wrapped\"><div class=\"sk-label-container\"><div class=\"sk-label sk-toggleable\"><input class=\"sk-toggleable__control sk-hidden--visually\" id=\"sk-estimator-id-5\" type=\"checkbox\" ><label for=\"sk-estimator-id-5\" class=\"sk-toggleable__label sk-toggleable__label-arrow\">GridSearchCV</label><div class=\"sk-toggleable__content\"><pre>GridSearchCV(cv=3, error_score=&#x27;raise&#x27;,\n             estimator=Pipeline(steps=[(&#x27;vec&#x27;,\n                                        CountVectorizer(lowercase=False,\n                                                        token_pattern=&#x27;\\\\b\\\\w+\\\\b&#x27;)),\n                                       (&#x27;catboost&#x27;,\n                                        &lt;catboost.core.CatBoostRegressor object at 0x0000021326F82790&gt;)]),\n             param_grid={&#x27;catboost__depth&#x27;: [2, 4],\n                         &#x27;catboost__learning_rate&#x27;: [0.1, 1],\n                         &#x27;vec__ngram_range&#x27;: [(1, 2)]})</pre></div></div></div><div class=\"sk-parallel\"><div class=\"sk-parallel-item\"><div class=\"sk-item\"><div class=\"sk-label-container\"><div class=\"sk-label sk-toggleable\"><input class=\"sk-toggleable__control sk-hidden--visually\" id=\"sk-estimator-id-6\" type=\"checkbox\" ><label for=\"sk-estimator-id-6\" class=\"sk-toggleable__label sk-toggleable__label-arrow\">estimator: Pipeline</label><div class=\"sk-toggleable__content\"><pre>Pipeline(steps=[(&#x27;vec&#x27;,\n                 CountVectorizer(lowercase=False, token_pattern=&#x27;\\\\b\\\\w+\\\\b&#x27;)),\n                (&#x27;catboost&#x27;,\n                 &lt;catboost.core.CatBoostRegressor object at 0x0000021326F82790&gt;)])</pre></div></div></div><div class=\"sk-serial\"><div class=\"sk-item\"><div class=\"sk-serial\"><div class=\"sk-item\"><div class=\"sk-estimator sk-toggleable\"><input class=\"sk-toggleable__control sk-hidden--visually\" id=\"sk-estimator-id-7\" type=\"checkbox\" ><label for=\"sk-estimator-id-7\" class=\"sk-toggleable__label sk-toggleable__label-arrow\">CountVectorizer</label><div class=\"sk-toggleable__content\"><pre>CountVectorizer(lowercase=False, token_pattern=&#x27;\\\\b\\\\w+\\\\b&#x27;)</pre></div></div></div><div class=\"sk-item\"><div class=\"sk-estimator sk-toggleable\"><input class=\"sk-toggleable__control sk-hidden--visually\" id=\"sk-estimator-id-8\" type=\"checkbox\" ><label for=\"sk-estimator-id-8\" class=\"sk-toggleable__label sk-toggleable__label-arrow\">CatBoostRegressor</label><div class=\"sk-toggleable__content\"><pre>&lt;catboost.core.CatBoostRegressor object at 0x0000021326F82790&gt;</pre></div></div></div></div></div></div></div></div></div></div></div></div>"
     },
     "execution_count": 105,
     "metadata": {},
     "output_type": "execute_result"
    }
   ],
   "source": [
    "%%time\n",
    "# Replace any non-string or empty string values in the 'text' column with 'NA'\n",
    "df_cut['text'] = df_cut['text'].apply(lambda x: 'NA' if not isinstance(x, str) or len(x) == 0 else x)\n",
    "\n",
    "# Split the data into training and testing sets\n",
    "X_train, X_test, y_train, y_test = train_test_split(df_cut['text'],\n",
    "                                                    df_cut['salary'],\n",
    "                                                    test_size=0.2,\n",
    "                                                    random_state=5)\n",
    "\n",
    "# Define the pipeline for bag-of-words vectorization and CatBoostRegressor\n",
    "pipe = Pipeline([\n",
    "    ('vec', CountVectorizer(token_pattern=r'\\b\\w+\\b', lowercase=False)),\n",
    "    ('catboost', CatBoostRegressor(loss_function='RMSE', verbose=False))\n",
    "])\n",
    "\n",
    "# Define the hyperparameter grid to search over\n",
    "param_grid = {\n",
    "    'vec__ngram_range': [(1, 2)],\n",
    "    'catboost__learning_rate': [0.1, 1],\n",
    "    'catboost__depth': [2, 4]\n",
    "    # 'catboost__l2_leaf_reg': [2, 5]\n",
    "}\n",
    "\n",
    "# Perform grid search over the hyperparameters\n",
    "grid_catboost = GridSearchCV(pipe, param_grid=param_grid, cv=3, error_score='raise')\n",
    "grid_catboost.fit(X_train, y_train)\n",
    "# grid_results = grid_catboost.cv_results_\n",
    "# for params, mean_score in zip(grid_results['params'], grid_results['mean_test_score']):\n",
    "#     print(params, \" - Mean test score: \", mean_score)"
   ],
   "metadata": {
    "collapsed": false
   }
  },
  {
   "cell_type": "code",
   "execution_count": 106,
   "outputs": [
    {
     "name": "stdout",
     "output_type": "stream",
     "text": [
      "Best Hyperparameters CatBoost Regressor:  {'catboost__depth': 4, 'catboost__learning_rate': 0.1, 'vec__ngram_range': (1, 2)}\n",
      "MSE CatBoost Regressor:  477290210.42160654\n"
     ]
    }
   ],
   "source": [
    "# Print the best hyperparameters and the corresponding MSE score\n",
    "print(\"Best Hyperparameters CatBoost Regressor: \", grid_catboost.best_params_)\n",
    "y_pred = grid_catboost.predict(X_test)\n",
    "mse = mean_squared_error(y_test, y_pred)\n",
    "print(\"MSE CatBoost Regressor: \", mse)"
   ],
   "metadata": {
    "collapsed": false
   }
  },
  {
   "cell_type": "markdown",
   "source": [
    "### Gradient Boosting"
   ],
   "metadata": {
    "collapsed": false
   }
  },
  {
   "cell_type": "code",
   "execution_count": 110,
   "outputs": [],
   "source": [
    "from sklearn.ensemble import GradientBoostingRegressor\n",
    "from sklearn.preprocessing import MaxAbsScaler"
   ],
   "metadata": {
    "collapsed": false
   }
  },
  {
   "cell_type": "code",
   "execution_count": 113,
   "outputs": [
    {
     "name": "stdout",
     "output_type": "stream",
     "text": [
      "CPU times: total: 51min 57s\n",
      "Wall time: 1h 17min 18s\n"
     ]
    },
    {
     "data": {
      "text/plain": "GridSearchCV(cv=3, error_score='raise',\n             estimator=Pipeline(steps=[('vectorizer',\n                                        CountVectorizer(lowercase=False,\n                                                        token_pattern='\\\\b\\\\w+\\\\b')),\n                                       ('scaler', MaxAbsScaler()),\n                                       ('model', GradientBoostingRegressor())]),\n             param_grid={'model__learning_rate': [0.001, 0.1],\n                         'model__max_depth': [4, 6, 8],\n                         'vectorizer__ngram_range': [(1, 2)]})",
      "text/html": "<style>#sk-container-id-3 {color: black;background-color: white;}#sk-container-id-3 pre{padding: 0;}#sk-container-id-3 div.sk-toggleable {background-color: white;}#sk-container-id-3 label.sk-toggleable__label {cursor: pointer;display: block;width: 100%;margin-bottom: 0;padding: 0.3em;box-sizing: border-box;text-align: center;}#sk-container-id-3 label.sk-toggleable__label-arrow:before {content: \"▸\";float: left;margin-right: 0.25em;color: #696969;}#sk-container-id-3 label.sk-toggleable__label-arrow:hover:before {color: black;}#sk-container-id-3 div.sk-estimator:hover label.sk-toggleable__label-arrow:before {color: black;}#sk-container-id-3 div.sk-toggleable__content {max-height: 0;max-width: 0;overflow: hidden;text-align: left;background-color: #f0f8ff;}#sk-container-id-3 div.sk-toggleable__content pre {margin: 0.2em;color: black;border-radius: 0.25em;background-color: #f0f8ff;}#sk-container-id-3 input.sk-toggleable__control:checked~div.sk-toggleable__content {max-height: 200px;max-width: 100%;overflow: auto;}#sk-container-id-3 input.sk-toggleable__control:checked~label.sk-toggleable__label-arrow:before {content: \"▾\";}#sk-container-id-3 div.sk-estimator input.sk-toggleable__control:checked~label.sk-toggleable__label {background-color: #d4ebff;}#sk-container-id-3 div.sk-label input.sk-toggleable__control:checked~label.sk-toggleable__label {background-color: #d4ebff;}#sk-container-id-3 input.sk-hidden--visually {border: 0;clip: rect(1px 1px 1px 1px);clip: rect(1px, 1px, 1px, 1px);height: 1px;margin: -1px;overflow: hidden;padding: 0;position: absolute;width: 1px;}#sk-container-id-3 div.sk-estimator {font-family: monospace;background-color: #f0f8ff;border: 1px dotted black;border-radius: 0.25em;box-sizing: border-box;margin-bottom: 0.5em;}#sk-container-id-3 div.sk-estimator:hover {background-color: #d4ebff;}#sk-container-id-3 div.sk-parallel-item::after {content: \"\";width: 100%;border-bottom: 1px solid gray;flex-grow: 1;}#sk-container-id-3 div.sk-label:hover label.sk-toggleable__label {background-color: #d4ebff;}#sk-container-id-3 div.sk-serial::before {content: \"\";position: absolute;border-left: 1px solid gray;box-sizing: border-box;top: 0;bottom: 0;left: 50%;z-index: 0;}#sk-container-id-3 div.sk-serial {display: flex;flex-direction: column;align-items: center;background-color: white;padding-right: 0.2em;padding-left: 0.2em;position: relative;}#sk-container-id-3 div.sk-item {position: relative;z-index: 1;}#sk-container-id-3 div.sk-parallel {display: flex;align-items: stretch;justify-content: center;background-color: white;position: relative;}#sk-container-id-3 div.sk-item::before, #sk-container-id-3 div.sk-parallel-item::before {content: \"\";position: absolute;border-left: 1px solid gray;box-sizing: border-box;top: 0;bottom: 0;left: 50%;z-index: -1;}#sk-container-id-3 div.sk-parallel-item {display: flex;flex-direction: column;z-index: 1;position: relative;background-color: white;}#sk-container-id-3 div.sk-parallel-item:first-child::after {align-self: flex-end;width: 50%;}#sk-container-id-3 div.sk-parallel-item:last-child::after {align-self: flex-start;width: 50%;}#sk-container-id-3 div.sk-parallel-item:only-child::after {width: 0;}#sk-container-id-3 div.sk-dashed-wrapped {border: 1px dashed gray;margin: 0 0.4em 0.5em 0.4em;box-sizing: border-box;padding-bottom: 0.4em;background-color: white;}#sk-container-id-3 div.sk-label label {font-family: monospace;font-weight: bold;display: inline-block;line-height: 1.2em;}#sk-container-id-3 div.sk-label-container {text-align: center;}#sk-container-id-3 div.sk-container {/* jupyter's `normalize.less` sets `[hidden] { display: none; }` but bootstrap.min.css set `[hidden] { display: none !important; }` so we also need the `!important` here to be able to override the default hidden behavior on the sphinx rendered scikit-learn.org. See: https://github.com/scikit-learn/scikit-learn/issues/21755 */display: inline-block !important;position: relative;}#sk-container-id-3 div.sk-text-repr-fallback {display: none;}</style><div id=\"sk-container-id-3\" class=\"sk-top-container\"><div class=\"sk-text-repr-fallback\"><pre>GridSearchCV(cv=3, error_score=&#x27;raise&#x27;,\n             estimator=Pipeline(steps=[(&#x27;vectorizer&#x27;,\n                                        CountVectorizer(lowercase=False,\n                                                        token_pattern=&#x27;\\\\b\\\\w+\\\\b&#x27;)),\n                                       (&#x27;scaler&#x27;, MaxAbsScaler()),\n                                       (&#x27;model&#x27;, GradientBoostingRegressor())]),\n             param_grid={&#x27;model__learning_rate&#x27;: [0.001, 0.1],\n                         &#x27;model__max_depth&#x27;: [4, 6, 8],\n                         &#x27;vectorizer__ngram_range&#x27;: [(1, 2)]})</pre><b>In a Jupyter environment, please rerun this cell to show the HTML representation or trust the notebook. <br />On GitHub, the HTML representation is unable to render, please try loading this page with nbviewer.org.</b></div><div class=\"sk-container\" hidden><div class=\"sk-item sk-dashed-wrapped\"><div class=\"sk-label-container\"><div class=\"sk-label sk-toggleable\"><input class=\"sk-toggleable__control sk-hidden--visually\" id=\"sk-estimator-id-9\" type=\"checkbox\" ><label for=\"sk-estimator-id-9\" class=\"sk-toggleable__label sk-toggleable__label-arrow\">GridSearchCV</label><div class=\"sk-toggleable__content\"><pre>GridSearchCV(cv=3, error_score=&#x27;raise&#x27;,\n             estimator=Pipeline(steps=[(&#x27;vectorizer&#x27;,\n                                        CountVectorizer(lowercase=False,\n                                                        token_pattern=&#x27;\\\\b\\\\w+\\\\b&#x27;)),\n                                       (&#x27;scaler&#x27;, MaxAbsScaler()),\n                                       (&#x27;model&#x27;, GradientBoostingRegressor())]),\n             param_grid={&#x27;model__learning_rate&#x27;: [0.001, 0.1],\n                         &#x27;model__max_depth&#x27;: [4, 6, 8],\n                         &#x27;vectorizer__ngram_range&#x27;: [(1, 2)]})</pre></div></div></div><div class=\"sk-parallel\"><div class=\"sk-parallel-item\"><div class=\"sk-item\"><div class=\"sk-label-container\"><div class=\"sk-label sk-toggleable\"><input class=\"sk-toggleable__control sk-hidden--visually\" id=\"sk-estimator-id-10\" type=\"checkbox\" ><label for=\"sk-estimator-id-10\" class=\"sk-toggleable__label sk-toggleable__label-arrow\">estimator: Pipeline</label><div class=\"sk-toggleable__content\"><pre>Pipeline(steps=[(&#x27;vectorizer&#x27;,\n                 CountVectorizer(lowercase=False, token_pattern=&#x27;\\\\b\\\\w+\\\\b&#x27;)),\n                (&#x27;scaler&#x27;, MaxAbsScaler()),\n                (&#x27;model&#x27;, GradientBoostingRegressor())])</pre></div></div></div><div class=\"sk-serial\"><div class=\"sk-item\"><div class=\"sk-serial\"><div class=\"sk-item\"><div class=\"sk-estimator sk-toggleable\"><input class=\"sk-toggleable__control sk-hidden--visually\" id=\"sk-estimator-id-11\" type=\"checkbox\" ><label for=\"sk-estimator-id-11\" class=\"sk-toggleable__label sk-toggleable__label-arrow\">CountVectorizer</label><div class=\"sk-toggleable__content\"><pre>CountVectorizer(lowercase=False, token_pattern=&#x27;\\\\b\\\\w+\\\\b&#x27;)</pre></div></div></div><div class=\"sk-item\"><div class=\"sk-estimator sk-toggleable\"><input class=\"sk-toggleable__control sk-hidden--visually\" id=\"sk-estimator-id-12\" type=\"checkbox\" ><label for=\"sk-estimator-id-12\" class=\"sk-toggleable__label sk-toggleable__label-arrow\">MaxAbsScaler</label><div class=\"sk-toggleable__content\"><pre>MaxAbsScaler()</pre></div></div></div><div class=\"sk-item\"><div class=\"sk-estimator sk-toggleable\"><input class=\"sk-toggleable__control sk-hidden--visually\" id=\"sk-estimator-id-13\" type=\"checkbox\" ><label for=\"sk-estimator-id-13\" class=\"sk-toggleable__label sk-toggleable__label-arrow\">GradientBoostingRegressor</label><div class=\"sk-toggleable__content\"><pre>GradientBoostingRegressor()</pre></div></div></div></div></div></div></div></div></div></div></div></div>"
     },
     "execution_count": 113,
     "metadata": {},
     "output_type": "execute_result"
    }
   ],
   "source": [
    "%%time\n",
    "# Split the data into training and testing sets\n",
    "X_train, X_test, y_train, y_test = train_test_split(df_cut['text'], df_cut['salary'], test_size=0.2, random_state=5)\n",
    "\n",
    "# Split the data into training and testing sets\n",
    "X_train, X_test, y_train, y_test = train_test_split(df_cut['text'],\n",
    "                                                    df_cut['salary'],\n",
    "                                                    test_size=0.2,\n",
    "                                                    random_state=5)\n",
    "\n",
    "# Create a pipeline to preprocess text and apply GradientBoostingRegressor\n",
    "pipeline = Pipeline([\n",
    "    ('vectorizer', CountVectorizer(token_pattern=r'\\b\\w+\\b', lowercase=False)),\n",
    "    ('scaler', MaxAbsScaler()),\n",
    "    ('model', GradientBoostingRegressor())\n",
    "])\n",
    "\n",
    "# Define the hyperparameter grid to search over\n",
    "param_grid = {\n",
    "    'vectorizer__ngram_range': [(1, 2)],\n",
    "    'model__learning_rate': [0.001, 0.1],\n",
    "    'model__max_depth': [4, 6, 8],\n",
    "    # 'model__min_samples_leaf': [1, 3, 5]\n",
    "}\n",
    "\n",
    "# Perform grid search over the hyperparameters\n",
    "grid_search = GridSearchCV(pipeline, param_grid=param_grid, cv=3, error_score='raise')\n",
    "grid_search.fit(X_train, y_train)"
   ],
   "metadata": {
    "collapsed": false
   }
  },
  {
   "cell_type": "code",
   "execution_count": 114,
   "outputs": [
    {
     "name": "stdout",
     "output_type": "stream",
     "text": [
      "Mean Squared Error:  495273411.2721613\n"
     ]
    }
   ],
   "source": [
    "# Evaluate the best model on the testing data\n",
    "y_pred = grid_search.predict(X_test)\n",
    "mse = mean_squared_error(y_test, y_pred)\n",
    "print(\"Mean Squared Error: \", mse)"
   ],
   "metadata": {
    "collapsed": false
   }
  },
  {
   "cell_type": "markdown",
   "source": [
    "## CarBoost Regressor показывает наилучший результат, попробуем добавить признаков в модель."
   ],
   "metadata": {
    "collapsed": false
   }
  },
  {
   "cell_type": "code",
   "execution_count": 272,
   "outputs": [
    {
     "name": "stderr",
     "output_type": "stream",
     "text": [
      "  error: subprocess-exited-with-error\n",
      "  \n",
      "  python setup.py bdist_wheel did not run successfully.\n",
      "  exit code: 1\n",
      "  \n",
      "  [11 lines of output]\n",
      "  running bdist_wheel\n",
      "  running build\n",
      "  running build_py\n",
      "  creating build\n",
      "  creating build\\lib.win-amd64-cpython-39\n",
      "  creating build\\lib.win-amd64-cpython-39\\fasttext\n",
      "  copying fasttext\\model.py -> build\\lib.win-amd64-cpython-39\\fasttext\n",
      "  copying fasttext\\__init__.py -> build\\lib.win-amd64-cpython-39\\fasttext\n",
      "  running build_ext\n",
      "  building 'fasttext.fasttext' extension\n",
      "  error: Microsoft Visual C++ 14.0 or greater is required. Get it with \"Microsoft C++ Build Tools\": https://visualstudio.microsoft.com/visual-cpp-build-tools/\n",
      "  [end of output]\n",
      "  \n",
      "  note: This error originates from a subprocess, and is likely not a problem with pip.\n",
      "  ERROR: Failed building wheel for fasttext\n",
      "  error: subprocess-exited-with-error\n",
      "  \n",
      "  Running setup.py install for fasttext did not run successfully.\n",
      "  exit code: 1\n",
      "  \n",
      "  [13 lines of output]\n",
      "  running install\n",
      "  c:\\users\\home\\appdata\\local\\programs\\python\\python39\\lib\\site-packages\\setuptools\\command\\install.py:34: SetuptoolsDeprecationWarning: setup.py install is deprecated. Use build and pip and other standards-based tools.\n",
      "    warnings.warn(\n",
      "  running build\n",
      "  running build_py\n",
      "  creating build\n",
      "  creating build\\lib.win-amd64-cpython-39\n",
      "  creating build\\lib.win-amd64-cpython-39\\fasttext\n",
      "  copying fasttext\\model.py -> build\\lib.win-amd64-cpython-39\\fasttext\n",
      "  copying fasttext\\__init__.py -> build\\lib.win-amd64-cpython-39\\fasttext\n",
      "  running build_ext\n",
      "  building 'fasttext.fasttext' extension\n",
      "  error: Microsoft Visual C++ 14.0 or greater is required. Get it with \"Microsoft C++ Build Tools\": https://visualstudio.microsoft.com/visual-cpp-build-tools/\n",
      "  [end of output]\n",
      "  \n",
      "  note: This error originates from a subprocess, and is likely not a problem with pip.\n",
      "error: legacy-install-failure\n",
      "\n",
      "Encountered error while trying to install package.\n",
      "\n",
      "fasttext\n",
      "\n",
      "note: This is an issue with the package mentioned above, not pip.\n",
      "hint: See above for output from the failure.\n"
     ]
    }
   ],
   "source": [
    "!pip install fasttext==0.6.0 -qq"
   ],
   "metadata": {
    "collapsed": false
   }
  },
  {
   "cell_type": "code",
   "execution_count": 274,
   "outputs": [],
   "source": [
    "from sklearn.feature_extraction.text import TfidfVectorizer\n",
    "from gensim.models import word2vec\n",
    "from catboost import CatBoostRegressor"
   ],
   "metadata": {
    "collapsed": false
   }
  },
  {
   "cell_type": "code",
   "execution_count": 161,
   "outputs": [],
   "source": [
    "class Word2VecTransformer:\n",
    "    def __init__(self, model):\n",
    "        self.model = model\n",
    "        self.dim = model.vector_size\n",
    "\n",
    "    def fit(self, X, y=None):\n",
    "        return self\n",
    "\n",
    "    def transform(self, X):\n",
    "        return np.array([\n",
    "            np.mean([self.model[w] for w in words if w in self.model] or [np.zeros(self.dim)], axis=0)\n",
    "            for words in X\n",
    "        ])"
   ],
   "metadata": {
    "collapsed": false
   }
  },
  {
   "cell_type": "code",
   "execution_count": 188,
   "outputs": [
    {
     "data": {
      "text/plain": "[('гарант', 0.6878997087478638),\n ('базовый', 0.5640345215797424),\n ('ооп', 0.5528475046157837),\n ('фреймворк', 0.5451531410217285),\n ('хотя', 0.5389792323112488),\n ('приветствоваться', 0.5158228278160095),\n ('потребоваться', 0.513831615447998),\n ('версия', 0.5008562803268433),\n ('субд', 0.4961123466491699),\n ('преимущество', 0.4929790794849396)]"
     },
     "execution_count": 188,
     "metadata": {},
     "output_type": "execute_result"
    }
   ],
   "source": [
    "# Replace any non-string or empty string values in the 'text' column with 'NA'\n",
    "df_cut['text'] = df_cut['text'].apply(lambda x: 'NA' if not isinstance(x, str) or len(x) == 0 else x)\n",
    "\n",
    "# Tokenize the text\n",
    "tokenized_text = [text.split() for text in df_cut['text']]\n",
    "\n",
    "# Train the Word2Vec model\n",
    "w2v = word2vec.Word2Vec(tokenized_text, workers=4, vector_size=200, min_count=10, window=10, sample=1e-3)\n",
    "w2v.wv.most_similar(positive=['плюс'], topn=10)"
   ],
   "metadata": {
    "collapsed": false
   }
  },
  {
   "cell_type": "code",
   "execution_count": 313,
   "outputs": [],
   "source": [
    "\"\"\"\n",
    "1) The error occurs because the df_cut['w2v_embedding'].values is a 1D array while the other features\n",
    "(experience and schedule_lem) are 2D arrays. The reshape function is used to\n",
    "convert the 1D array to a 2D array with a single column.\n",
    "\n",
    "2) It seems that the error is caused by trying to convert a 2D array to float data type\n",
    "using astype(float). To fix the error, you can convert each column of the 2D array\n",
    "to float data type individually using the astype method of a pandas DataFrame.\n",
    "\"\"\"# Replace any non-string or empty string values in the 'text' column with 'NA'\n",
    "df_cut['text'] = df_cut['text'].apply(lambda x: 'NA' if not isinstance(x, str) or len(x) == 0 else x)\n",
    "\n",
    "# Tokenize the text\n",
    "tokenized_text = [text.split() for text in df_cut['text']]\n",
    "\n",
    "# Train the Word2Vec model\n",
    "w2v = word2vec.Word2Vec(tokenized_text, workers=4, vector_size=200, min_count=10, window=10, sample=1e-3)\n",
    "w2v.wv.most_similar(positive=['плюс'], topn=10)\n",
    "\n",
    "def get_tweet_embedding(lemmas, model=w2v.wv, embedding_size=200):\n",
    "\n",
    "    res = np.zeros(embedding_size)\n",
    "    cnt = 0\n",
    "    for word in lemmas.split():\n",
    "        if word in model:\n",
    "            res += np.array(model[word])\n",
    "            cnt += 1\n",
    "    if cnt:\n",
    "        res = res / cnt\n",
    "    return res\n",
    "\n",
    "df_cut['w2v_embedding'] = df_cut['text'].map(get_tweet_embedding)\n",
    "test['w2v_embedding'] = test['text'].map(get_tweet_embedding)\n",
    "\n",
    "# One-hot encode the categorical features\n",
    "experience = pd.get_dummies(df_cut['experience'], prefix='experience')\n",
    "schedule_lem = pd.get_dummies(df_cut['schedule_lem'], prefix='schedule_lem')\n",
    "\n",
    "# Concatenate the numerical and categorical features\n",
    "\n",
    "# Get the maximum length of the arrays in the 'w2v_embedding' column\n",
    "max_len = df_cut['w2v_embedding'].apply(lambda x: len(x)).max()\n",
    "\n",
    "# Pad the arrays with zeros to ensure that all arrays have the same length\n",
    "X_w2v = np.array([np.pad(x, (0, max_len - len(x)), mode='constant') for x in df_cut['w2v_embedding']])\n",
    "\n",
    "# Concatenate the numerical and categorical features\n",
    "X = np.concatenate([X_w2v, experience.values, schedule_lem.values], axis=1)\n",
    "\n",
    "# Split the data into training and testing sets\n",
    "X_train, X_test, y_train, y_test = train_test_split(X, df_cut['salary'].values, test_size=0.2, random_state=5)\n",
    "\n",
    "# вычисляем минимум и максимум\n",
    "scaler = MinMaxScaler().fit(X_train)\n",
    "\n",
    "# масштабируем обучающие данные\n",
    "X_train_scaled = scaler.fit_transform(X_train)\n",
    "\n",
    "# масштабируем тестовые данные и оцениваем качество на масштабированных данных\n",
    "X_test_scaled = scaler.transform(X_test)"
   ],
   "metadata": {
    "collapsed": false
   }
  },
  {
   "cell_type": "code",
   "execution_count": 229,
   "outputs": [
    {
     "name": "stdout",
     "output_type": "stream",
     "text": [
      "0:\tlearn: 28965.0332523\ttotal: 47.3ms\tremaining: 47.2s\n",
      "100:\tlearn: 19688.0779712\ttotal: 3.29s\tremaining: 29.3s\n",
      "200:\tlearn: 16712.6478086\ttotal: 6.56s\tremaining: 26.1s\n",
      "300:\tlearn: 14388.8301888\ttotal: 9.66s\tremaining: 22.4s\n",
      "400:\tlearn: 12500.4325045\ttotal: 12.8s\tremaining: 19.1s\n",
      "500:\tlearn: 11065.9126698\ttotal: 15.8s\tremaining: 15.8s\n",
      "600:\tlearn: 9782.8261482\ttotal: 18.9s\tremaining: 12.6s\n",
      "700:\tlearn: 8677.4927731\ttotal: 22.1s\tremaining: 9.42s\n",
      "800:\tlearn: 7740.0642647\ttotal: 25.4s\tremaining: 6.3s\n",
      "900:\tlearn: 6878.4108780\ttotal: 28.5s\tremaining: 3.13s\n",
      "999:\tlearn: 6199.0632102\ttotal: 31.5s\tremaining: 0us\n",
      "0:\tlearn: 29033.1626272\ttotal: 35.5ms\tremaining: 35.5s\n",
      "100:\tlearn: 19853.1003061\ttotal: 3.15s\tremaining: 28s\n",
      "200:\tlearn: 16638.9759433\ttotal: 6.22s\tremaining: 24.7s\n",
      "300:\tlearn: 14321.0811290\ttotal: 9.28s\tremaining: 21.6s\n",
      "400:\tlearn: 12556.9610439\ttotal: 12.4s\tremaining: 18.5s\n",
      "500:\tlearn: 11030.0437308\ttotal: 15.4s\tremaining: 15.4s\n",
      "600:\tlearn: 9736.7956316\ttotal: 18.5s\tremaining: 12.3s\n",
      "700:\tlearn: 8653.4888896\ttotal: 21.6s\tremaining: 9.22s\n",
      "800:\tlearn: 7720.5730621\ttotal: 24.7s\tremaining: 6.13s\n",
      "900:\tlearn: 6864.6283623\ttotal: 27.8s\tremaining: 3.05s\n",
      "999:\tlearn: 6121.8807508\ttotal: 30.8s\tremaining: 0us\n",
      "0:\tlearn: 28840.0426609\ttotal: 34.1ms\tremaining: 34.1s\n",
      "100:\tlearn: 19781.0325368\ttotal: 3.12s\tremaining: 27.7s\n",
      "200:\tlearn: 16727.1372159\ttotal: 6.17s\tremaining: 24.5s\n",
      "300:\tlearn: 14423.8142081\ttotal: 9.22s\tremaining: 21.4s\n",
      "400:\tlearn: 12590.8195278\ttotal: 12.3s\tremaining: 18.4s\n",
      "500:\tlearn: 11080.5568766\ttotal: 15.4s\tremaining: 15.3s\n",
      "600:\tlearn: 9844.0339231\ttotal: 18.4s\tremaining: 12.2s\n",
      "700:\tlearn: 8757.9041943\ttotal: 21.5s\tremaining: 9.17s\n",
      "800:\tlearn: 7810.2133665\ttotal: 24.6s\tremaining: 6.11s\n",
      "900:\tlearn: 6998.2596027\ttotal: 27.7s\tremaining: 3.04s\n",
      "999:\tlearn: 6272.1716489\ttotal: 30.8s\tremaining: 0us\n",
      "0:\tlearn: 28806.7632323\ttotal: 36.3ms\tremaining: 36.2s\n",
      "100:\tlearn: 19778.2793933\ttotal: 3.11s\tremaining: 27.7s\n",
      "200:\tlearn: 16537.8050257\ttotal: 6.17s\tremaining: 24.5s\n",
      "300:\tlearn: 14320.1438937\ttotal: 9.22s\tremaining: 21.4s\n",
      "400:\tlearn: 12525.5001395\ttotal: 12.3s\tremaining: 18.4s\n",
      "500:\tlearn: 11065.7766238\ttotal: 15.6s\tremaining: 15.5s\n",
      "600:\tlearn: 9813.8431968\ttotal: 18.6s\tremaining: 12.4s\n",
      "700:\tlearn: 8751.2319707\ttotal: 21.7s\tremaining: 9.26s\n",
      "800:\tlearn: 7800.2574781\ttotal: 24.8s\tremaining: 6.16s\n",
      "900:\tlearn: 7008.4843705\ttotal: 27.9s\tremaining: 3.06s\n",
      "999:\tlearn: 6294.5078214\ttotal: 30.9s\tremaining: 0us\n",
      "0:\tlearn: 29027.8172538\ttotal: 34.8ms\tremaining: 34.7s\n",
      "100:\tlearn: 19873.1965120\ttotal: 3.1s\tremaining: 27.6s\n",
      "200:\tlearn: 16714.5139088\ttotal: 6.15s\tremaining: 24.5s\n",
      "300:\tlearn: 14401.4228977\ttotal: 9.21s\tremaining: 21.4s\n",
      "400:\tlearn: 12567.9462402\ttotal: 12.3s\tremaining: 18.3s\n",
      "500:\tlearn: 11007.6816041\ttotal: 15.4s\tremaining: 15.3s\n",
      "600:\tlearn: 9691.8977553\ttotal: 18.5s\tremaining: 12.3s\n",
      "700:\tlearn: 8657.7897460\ttotal: 21.5s\tremaining: 9.18s\n",
      "800:\tlearn: 7716.6999623\ttotal: 24.6s\tremaining: 6.12s\n",
      "900:\tlearn: 6852.8610137\ttotal: 27.7s\tremaining: 3.04s\n",
      "999:\tlearn: 6163.4224787\ttotal: 30.8s\tremaining: 0us\n",
      "0:\tlearn: 25612.6964857\ttotal: 36ms\tremaining: 35.9s\n",
      "100:\tlearn: 8955.6141253\ttotal: 3.13s\tremaining: 27.8s\n",
      "200:\tlearn: 4314.4095922\ttotal: 6.2s\tremaining: 24.6s\n",
      "300:\tlearn: 2211.8139896\ttotal: 9.31s\tremaining: 21.6s\n",
      "400:\tlearn: 1307.8892303\ttotal: 12.4s\tremaining: 18.5s\n",
      "500:\tlearn: 922.6848564\ttotal: 15.5s\tremaining: 15.4s\n",
      "600:\tlearn: 750.3344659\ttotal: 18.6s\tremaining: 12.3s\n",
      "700:\tlearn: 694.1530903\ttotal: 21.7s\tremaining: 9.24s\n",
      "800:\tlearn: 674.4776018\ttotal: 24.8s\tremaining: 6.15s\n",
      "900:\tlearn: 668.3745148\ttotal: 27.8s\tremaining: 3.06s\n",
      "999:\tlearn: 666.3377952\ttotal: 30.9s\tremaining: 0us\n",
      "0:\tlearn: 25772.7404115\ttotal: 35.4ms\tremaining: 35.3s\n",
      "100:\tlearn: 8868.6907100\ttotal: 3.11s\tremaining: 27.7s\n",
      "200:\tlearn: 4107.7720321\ttotal: 6.18s\tremaining: 24.6s\n",
      "300:\tlearn: 2110.3731478\ttotal: 9.26s\tremaining: 21.5s\n",
      "400:\tlearn: 1244.9872264\ttotal: 12.3s\tremaining: 18.4s\n",
      "500:\tlearn: 898.8444367\ttotal: 15.4s\tremaining: 15.4s\n",
      "600:\tlearn: 755.1197539\ttotal: 18.5s\tremaining: 12.3s\n",
      "700:\tlearn: 703.6953840\ttotal: 21.6s\tremaining: 9.2s\n",
      "800:\tlearn: 686.7765949\ttotal: 24.7s\tremaining: 6.13s\n",
      "900:\tlearn: 680.6664335\ttotal: 27.7s\tremaining: 3.05s\n",
      "999:\tlearn: 678.5436753\ttotal: 30.8s\tremaining: 0us\n",
      "0:\tlearn: 25568.6449391\ttotal: 34.1ms\tremaining: 34.1s\n",
      "100:\tlearn: 8915.2270601\ttotal: 3.12s\tremaining: 27.8s\n",
      "200:\tlearn: 4135.5513138\ttotal: 6.2s\tremaining: 24.6s\n",
      "300:\tlearn: 2077.0070944\ttotal: 9.29s\tremaining: 21.6s\n",
      "400:\tlearn: 1196.0354490\ttotal: 12.4s\tremaining: 18.5s\n",
      "500:\tlearn: 849.7640882\ttotal: 15.5s\tremaining: 15.4s\n",
      "600:\tlearn: 715.4195884\ttotal: 18.5s\tremaining: 12.3s\n",
      "700:\tlearn: 671.9791961\ttotal: 21.6s\tremaining: 9.22s\n",
      "800:\tlearn: 657.7405872\ttotal: 24.7s\tremaining: 6.14s\n",
      "900:\tlearn: 653.1264247\ttotal: 27.8s\tremaining: 3.06s\n",
      "999:\tlearn: 651.6516722\ttotal: 30.9s\tremaining: 0us\n",
      "0:\tlearn: 25591.8492038\ttotal: 37ms\tremaining: 37s\n",
      "100:\tlearn: 9025.8056378\ttotal: 3.33s\tremaining: 29.6s\n",
      "200:\tlearn: 4209.3180188\ttotal: 6.42s\tremaining: 25.5s\n",
      "300:\tlearn: 2205.5542459\ttotal: 9.5s\tremaining: 22.1s\n",
      "400:\tlearn: 1345.7484501\ttotal: 12.6s\tremaining: 18.8s\n",
      "500:\tlearn: 982.6034285\ttotal: 15.7s\tremaining: 15.6s\n",
      "600:\tlearn: 850.9954768\ttotal: 18.8s\tremaining: 12.5s\n",
      "700:\tlearn: 806.4813053\ttotal: 21.9s\tremaining: 9.33s\n",
      "800:\tlearn: 791.6349753\ttotal: 25s\tremaining: 6.21s\n",
      "900:\tlearn: 786.8401298\ttotal: 28.1s\tremaining: 3.08s\n",
      "999:\tlearn: 785.2644276\ttotal: 31.1s\tremaining: 0us\n",
      "0:\tlearn: 25645.7800103\ttotal: 34.8ms\tremaining: 34.8s\n",
      "100:\tlearn: 9067.0746666\ttotal: 3.13s\tremaining: 27.9s\n",
      "200:\tlearn: 4142.3019021\ttotal: 6.2s\tremaining: 24.7s\n",
      "300:\tlearn: 2120.9521063\ttotal: 9.29s\tremaining: 21.6s\n",
      "400:\tlearn: 1196.0211679\ttotal: 12.4s\tremaining: 18.5s\n",
      "500:\tlearn: 786.6858263\ttotal: 15.4s\tremaining: 15.4s\n",
      "600:\tlearn: 614.2222698\ttotal: 18.5s\tremaining: 12.3s\n",
      "700:\tlearn: 550.4481942\ttotal: 21.6s\tremaining: 9.21s\n",
      "800:\tlearn: 526.6675131\ttotal: 24.7s\tremaining: 6.13s\n",
      "900:\tlearn: 517.7389922\ttotal: 27.8s\tremaining: 3.05s\n",
      "999:\tlearn: 514.6839909\ttotal: 30.8s\tremaining: 0us\n",
      "0:\tlearn: 28942.2946874\ttotal: 67.5ms\tremaining: 1m 7s\n",
      "100:\tlearn: 18697.5059026\ttotal: 5.76s\tremaining: 51.3s\n",
      "200:\tlearn: 14948.3496736\ttotal: 11.4s\tremaining: 45.4s\n",
      "300:\tlearn: 12265.8432957\ttotal: 17.2s\tremaining: 39.9s\n",
      "400:\tlearn: 10273.5686014\ttotal: 22.9s\tremaining: 34.1s\n",
      "500:\tlearn: 8668.9170566\ttotal: 28.6s\tremaining: 28.5s\n",
      "600:\tlearn: 7357.4529677\ttotal: 34.3s\tremaining: 22.7s\n",
      "700:\tlearn: 6256.2156459\ttotal: 40s\tremaining: 17s\n",
      "800:\tlearn: 5374.3251753\ttotal: 45.6s\tremaining: 11.3s\n",
      "900:\tlearn: 4593.4590726\ttotal: 51.3s\tremaining: 5.64s\n",
      "999:\tlearn: 4001.0843407\ttotal: 57s\tremaining: 0us\n",
      "0:\tlearn: 29002.8587666\ttotal: 63.5ms\tremaining: 1m 3s\n",
      "100:\tlearn: 18580.7191175\ttotal: 5.72s\tremaining: 51s\n",
      "200:\tlearn: 14872.2339554\ttotal: 11.4s\tremaining: 45.2s\n",
      "300:\tlearn: 12323.8849669\ttotal: 17s\tremaining: 39.5s\n",
      "400:\tlearn: 10357.1292730\ttotal: 22.7s\tremaining: 34s\n",
      "500:\tlearn: 8723.6934017\ttotal: 28.4s\tremaining: 28.3s\n",
      "600:\tlearn: 7435.7319809\ttotal: 34.1s\tremaining: 22.6s\n",
      "700:\tlearn: 6361.8365768\ttotal: 40s\tremaining: 17s\n",
      "800:\tlearn: 5407.2136181\ttotal: 45.7s\tremaining: 11.3s\n",
      "900:\tlearn: 4638.5162599\ttotal: 51.3s\tremaining: 5.64s\n",
      "999:\tlearn: 4040.0060662\ttotal: 57s\tremaining: 0us\n",
      "0:\tlearn: 28798.8068141\ttotal: 65.9ms\tremaining: 1m 5s\n",
      "100:\tlearn: 18632.6791202\ttotal: 5.74s\tremaining: 51.1s\n",
      "200:\tlearn: 15012.0933301\ttotal: 11.4s\tremaining: 45.3s\n",
      "300:\tlearn: 12389.8309769\ttotal: 17.1s\tremaining: 39.6s\n",
      "400:\tlearn: 10327.0019594\ttotal: 22.8s\tremaining: 34s\n",
      "500:\tlearn: 8638.6884566\ttotal: 28.4s\tremaining: 28.3s\n",
      "600:\tlearn: 7323.3762768\ttotal: 34.1s\tremaining: 22.7s\n",
      "700:\tlearn: 6265.0482811\ttotal: 39.8s\tremaining: 17s\n",
      "800:\tlearn: 5391.7093433\ttotal: 45.5s\tremaining: 11.3s\n",
      "900:\tlearn: 4677.9314358\ttotal: 51.2s\tremaining: 5.63s\n",
      "999:\tlearn: 4061.3828909\ttotal: 57.1s\tremaining: 0us\n",
      "0:\tlearn: 28785.7741393\ttotal: 67.2ms\tremaining: 1m 7s\n",
      "100:\tlearn: 18684.4076064\ttotal: 5.8s\tremaining: 51.7s\n",
      "200:\tlearn: 14938.2333171\ttotal: 11.5s\tremaining: 45.9s\n",
      "300:\tlearn: 12275.5184937\ttotal: 17.2s\tremaining: 39.9s\n",
      "400:\tlearn: 10229.5083542\ttotal: 22.9s\tremaining: 34.2s\n",
      "500:\tlearn: 8668.7060238\ttotal: 28.6s\tremaining: 28.4s\n",
      "600:\tlearn: 7383.2398363\ttotal: 34.3s\tremaining: 22.7s\n",
      "700:\tlearn: 6266.2531186\ttotal: 40s\tremaining: 17.1s\n",
      "800:\tlearn: 5370.7251137\ttotal: 45.7s\tremaining: 11.3s\n",
      "900:\tlearn: 4644.2744676\ttotal: 51.4s\tremaining: 5.64s\n",
      "999:\tlearn: 4025.9653112\ttotal: 57s\tremaining: 0us\n",
      "0:\tlearn: 29014.9383484\ttotal: 65.5ms\tremaining: 1m 5s\n",
      "100:\tlearn: 18625.6713900\ttotal: 5.83s\tremaining: 51.9s\n",
      "200:\tlearn: 14964.4191831\ttotal: 11.5s\tremaining: 45.7s\n",
      "300:\tlearn: 12390.7040868\ttotal: 17.2s\tremaining: 39.8s\n",
      "400:\tlearn: 10267.2488417\ttotal: 23s\tremaining: 34.4s\n",
      "500:\tlearn: 8660.1151294\ttotal: 28.7s\tremaining: 28.6s\n",
      "600:\tlearn: 7273.0374332\ttotal: 34.4s\tremaining: 22.9s\n",
      "700:\tlearn: 6182.3171518\ttotal: 40.1s\tremaining: 17.1s\n",
      "800:\tlearn: 5292.0896071\ttotal: 45.8s\tremaining: 11.4s\n",
      "900:\tlearn: 4545.6440578\ttotal: 51.5s\tremaining: 5.66s\n",
      "999:\tlearn: 3948.3317068\ttotal: 57.2s\tremaining: 0us\n",
      "0:\tlearn: 25414.8844070\ttotal: 63.9ms\tremaining: 1m 3s\n",
      "100:\tlearn: 6098.8620020\ttotal: 5.82s\tremaining: 51.8s\n",
      "200:\tlearn: 2241.9616018\ttotal: 11.5s\tremaining: 45.7s\n",
      "300:\tlearn: 1089.8038420\ttotal: 17.2s\tremaining: 40s\n",
      "400:\tlearn: 771.0616003\ttotal: 22.9s\tremaining: 34.2s\n",
      "500:\tlearn: 688.3758322\ttotal: 28.6s\tremaining: 28.5s\n",
      "600:\tlearn: 670.1948186\ttotal: 34.3s\tremaining: 22.8s\n",
      "700:\tlearn: 666.3178931\ttotal: 40s\tremaining: 17.1s\n",
      "800:\tlearn: 665.4759062\ttotal: 45.7s\tremaining: 11.4s\n",
      "900:\tlearn: 665.2781225\ttotal: 51.4s\tremaining: 5.65s\n",
      "999:\tlearn: 665.2353544\ttotal: 57s\tremaining: 0us\n",
      "0:\tlearn: 25539.8233618\ttotal: 66.3ms\tremaining: 1m 6s\n",
      "100:\tlearn: 6182.1096692\ttotal: 5.74s\tremaining: 51.1s\n",
      "200:\tlearn: 2240.1743857\ttotal: 11.5s\tremaining: 45.5s\n",
      "300:\tlearn: 1115.4109414\ttotal: 17.1s\tremaining: 39.8s\n",
      "400:\tlearn: 782.1173561\ttotal: 22.8s\tremaining: 34.1s\n",
      "500:\tlearn: 700.7253441\ttotal: 28.5s\tremaining: 28.3s\n",
      "600:\tlearn: 682.1846416\ttotal: 34.1s\tremaining: 22.6s\n",
      "700:\tlearn: 678.4437577\ttotal: 39.8s\tremaining: 17s\n",
      "800:\tlearn: 677.6362315\ttotal: 45.5s\tremaining: 11.3s\n",
      "900:\tlearn: 677.4403799\ttotal: 51.1s\tremaining: 5.62s\n",
      "999:\tlearn: 677.3958433\ttotal: 56.7s\tremaining: 0us\n",
      "0:\tlearn: 25260.4464110\ttotal: 65.3ms\tremaining: 1m 5s\n",
      "100:\tlearn: 6258.7781776\ttotal: 5.92s\tremaining: 52.7s\n",
      "200:\tlearn: 2196.4299016\ttotal: 11.8s\tremaining: 47.1s\n",
      "300:\tlearn: 1050.7893046\ttotal: 17.6s\tremaining: 40.9s\n",
      "400:\tlearn: 741.8888446\ttotal: 23.3s\tremaining: 34.9s\n",
      "500:\tlearn: 670.1576626\ttotal: 29s\tremaining: 28.9s\n",
      "600:\tlearn: 654.9380420\ttotal: 34.7s\tremaining: 23.1s\n",
      "700:\tlearn: 651.6898854\ttotal: 40.4s\tremaining: 17.2s\n",
      "800:\tlearn: 651.0148054\ttotal: 46.2s\tremaining: 11.5s\n",
      "900:\tlearn: 650.8691655\ttotal: 51.9s\tremaining: 5.7s\n",
      "999:\tlearn: 650.8316364\ttotal: 57.5s\tremaining: 0us\n",
      "0:\tlearn: 25403.7353311\ttotal: 66.2ms\tremaining: 1m 6s\n",
      "100:\tlearn: 6129.0107481\ttotal: 5.8s\tremaining: 51.6s\n",
      "200:\tlearn: 2232.5876993\ttotal: 11.5s\tremaining: 45.8s\n",
      "300:\tlearn: 1149.0835944\ttotal: 17.2s\tremaining: 40s\n",
      "400:\tlearn: 861.3833230\ttotal: 23.1s\tremaining: 34.5s\n",
      "500:\tlearn: 801.1546438\ttotal: 29s\tremaining: 28.9s\n",
      "600:\tlearn: 788.1293253\ttotal: 34.8s\tremaining: 23.1s\n",
      "700:\tlearn: 785.2329912\ttotal: 40.7s\tremaining: 17.4s\n",
      "800:\tlearn: 784.6262286\ttotal: 46.4s\tremaining: 11.5s\n",
      "900:\tlearn: 784.4825382\ttotal: 52.1s\tremaining: 5.73s\n",
      "999:\tlearn: 784.4516146\ttotal: 57.8s\tremaining: 0us\n",
      "0:\tlearn: 25508.5097255\ttotal: 63ms\tremaining: 1m 2s\n",
      "100:\tlearn: 6066.4732067\ttotal: 5.81s\tremaining: 51.7s\n",
      "200:\tlearn: 2202.6848649\ttotal: 11.6s\tremaining: 46.1s\n",
      "300:\tlearn: 1046.0054177\ttotal: 17.3s\tremaining: 40.2s\n",
      "400:\tlearn: 654.2139925\ttotal: 23s\tremaining: 34.4s\n",
      "500:\tlearn: 547.0155599\ttotal: 28.7s\tremaining: 28.6s\n",
      "600:\tlearn: 521.3724614\ttotal: 34.4s\tremaining: 22.8s\n",
      "700:\tlearn: 514.9379443\ttotal: 40.1s\tremaining: 17.1s\n",
      "800:\tlearn: 513.5042677\ttotal: 45.8s\tremaining: 11.4s\n",
      "900:\tlearn: 513.1815962\ttotal: 51.4s\tremaining: 5.65s\n",
      "999:\tlearn: 513.1030202\ttotal: 57.3s\tremaining: 0us\n",
      "0:\tlearn: 28927.1084244\ttotal: 37.3ms\tremaining: 37.3s\n",
      "100:\tlearn: 20218.7248532\ttotal: 3.21s\tremaining: 28.6s\n",
      "200:\tlearn: 17321.0151212\ttotal: 6.36s\tremaining: 25.3s\n",
      "300:\tlearn: 15316.6620128\ttotal: 9.5s\tremaining: 22.1s\n",
      "400:\tlearn: 13626.1694214\ttotal: 12.7s\tremaining: 18.9s\n",
      "500:\tlearn: 12238.4633086\ttotal: 15.8s\tremaining: 15.7s\n",
      "600:\tlearn: 11051.1750917\ttotal: 18.9s\tremaining: 12.6s\n",
      "700:\tlearn: 9999.7818486\ttotal: 22.1s\tremaining: 9.43s\n",
      "800:\tlearn: 9066.9363325\ttotal: 25.3s\tremaining: 6.28s\n",
      "900:\tlearn: 8245.3339674\ttotal: 28.4s\tremaining: 3.12s\n",
      "999:\tlearn: 7478.7817918\ttotal: 31.6s\tremaining: 0us\n",
      "CPU times: total: 54min 29s\n",
      "Wall time: 15min 25s\n"
     ]
    },
    {
     "data": {
      "text/plain": "GridSearchCV(cv=5,\n             estimator=<catboost.core.CatBoostRegressor object at 0x000001840780A730>,\n             param_grid={'depth': [7, 8], 'learning_rate': [0.1, 1]})",
      "text/html": "<style>#sk-container-id-4 {color: black;background-color: white;}#sk-container-id-4 pre{padding: 0;}#sk-container-id-4 div.sk-toggleable {background-color: white;}#sk-container-id-4 label.sk-toggleable__label {cursor: pointer;display: block;width: 100%;margin-bottom: 0;padding: 0.3em;box-sizing: border-box;text-align: center;}#sk-container-id-4 label.sk-toggleable__label-arrow:before {content: \"▸\";float: left;margin-right: 0.25em;color: #696969;}#sk-container-id-4 label.sk-toggleable__label-arrow:hover:before {color: black;}#sk-container-id-4 div.sk-estimator:hover label.sk-toggleable__label-arrow:before {color: black;}#sk-container-id-4 div.sk-toggleable__content {max-height: 0;max-width: 0;overflow: hidden;text-align: left;background-color: #f0f8ff;}#sk-container-id-4 div.sk-toggleable__content pre {margin: 0.2em;color: black;border-radius: 0.25em;background-color: #f0f8ff;}#sk-container-id-4 input.sk-toggleable__control:checked~div.sk-toggleable__content {max-height: 200px;max-width: 100%;overflow: auto;}#sk-container-id-4 input.sk-toggleable__control:checked~label.sk-toggleable__label-arrow:before {content: \"▾\";}#sk-container-id-4 div.sk-estimator input.sk-toggleable__control:checked~label.sk-toggleable__label {background-color: #d4ebff;}#sk-container-id-4 div.sk-label input.sk-toggleable__control:checked~label.sk-toggleable__label {background-color: #d4ebff;}#sk-container-id-4 input.sk-hidden--visually {border: 0;clip: rect(1px 1px 1px 1px);clip: rect(1px, 1px, 1px, 1px);height: 1px;margin: -1px;overflow: hidden;padding: 0;position: absolute;width: 1px;}#sk-container-id-4 div.sk-estimator {font-family: monospace;background-color: #f0f8ff;border: 1px dotted black;border-radius: 0.25em;box-sizing: border-box;margin-bottom: 0.5em;}#sk-container-id-4 div.sk-estimator:hover {background-color: #d4ebff;}#sk-container-id-4 div.sk-parallel-item::after {content: \"\";width: 100%;border-bottom: 1px solid gray;flex-grow: 1;}#sk-container-id-4 div.sk-label:hover label.sk-toggleable__label {background-color: #d4ebff;}#sk-container-id-4 div.sk-serial::before {content: \"\";position: absolute;border-left: 1px solid gray;box-sizing: border-box;top: 0;bottom: 0;left: 50%;z-index: 0;}#sk-container-id-4 div.sk-serial {display: flex;flex-direction: column;align-items: center;background-color: white;padding-right: 0.2em;padding-left: 0.2em;position: relative;}#sk-container-id-4 div.sk-item {position: relative;z-index: 1;}#sk-container-id-4 div.sk-parallel {display: flex;align-items: stretch;justify-content: center;background-color: white;position: relative;}#sk-container-id-4 div.sk-item::before, #sk-container-id-4 div.sk-parallel-item::before {content: \"\";position: absolute;border-left: 1px solid gray;box-sizing: border-box;top: 0;bottom: 0;left: 50%;z-index: -1;}#sk-container-id-4 div.sk-parallel-item {display: flex;flex-direction: column;z-index: 1;position: relative;background-color: white;}#sk-container-id-4 div.sk-parallel-item:first-child::after {align-self: flex-end;width: 50%;}#sk-container-id-4 div.sk-parallel-item:last-child::after {align-self: flex-start;width: 50%;}#sk-container-id-4 div.sk-parallel-item:only-child::after {width: 0;}#sk-container-id-4 div.sk-dashed-wrapped {border: 1px dashed gray;margin: 0 0.4em 0.5em 0.4em;box-sizing: border-box;padding-bottom: 0.4em;background-color: white;}#sk-container-id-4 div.sk-label label {font-family: monospace;font-weight: bold;display: inline-block;line-height: 1.2em;}#sk-container-id-4 div.sk-label-container {text-align: center;}#sk-container-id-4 div.sk-container {/* jupyter's `normalize.less` sets `[hidden] { display: none; }` but bootstrap.min.css set `[hidden] { display: none !important; }` so we also need the `!important` here to be able to override the default hidden behavior on the sphinx rendered scikit-learn.org. See: https://github.com/scikit-learn/scikit-learn/issues/21755 */display: inline-block !important;position: relative;}#sk-container-id-4 div.sk-text-repr-fallback {display: none;}</style><div id=\"sk-container-id-4\" class=\"sk-top-container\"><div class=\"sk-text-repr-fallback\"><pre>GridSearchCV(cv=5,\n             estimator=&lt;catboost.core.CatBoostRegressor object at 0x000001840780A730&gt;,\n             param_grid={&#x27;depth&#x27;: [7, 8], &#x27;learning_rate&#x27;: [0.1, 1]})</pre><b>In a Jupyter environment, please rerun this cell to show the HTML representation or trust the notebook. <br />On GitHub, the HTML representation is unable to render, please try loading this page with nbviewer.org.</b></div><div class=\"sk-container\" hidden><div class=\"sk-item sk-dashed-wrapped\"><div class=\"sk-label-container\"><div class=\"sk-label sk-toggleable\"><input class=\"sk-toggleable__control sk-hidden--visually\" id=\"sk-estimator-id-10\" type=\"checkbox\" ><label for=\"sk-estimator-id-10\" class=\"sk-toggleable__label sk-toggleable__label-arrow\">GridSearchCV</label><div class=\"sk-toggleable__content\"><pre>GridSearchCV(cv=5,\n             estimator=&lt;catboost.core.CatBoostRegressor object at 0x000001840780A730&gt;,\n             param_grid={&#x27;depth&#x27;: [7, 8], &#x27;learning_rate&#x27;: [0.1, 1]})</pre></div></div></div><div class=\"sk-parallel\"><div class=\"sk-parallel-item\"><div class=\"sk-item\"><div class=\"sk-label-container\"><div class=\"sk-label sk-toggleable\"><input class=\"sk-toggleable__control sk-hidden--visually\" id=\"sk-estimator-id-11\" type=\"checkbox\" ><label for=\"sk-estimator-id-11\" class=\"sk-toggleable__label sk-toggleable__label-arrow\">estimator: CatBoostRegressor</label><div class=\"sk-toggleable__content\"><pre>&lt;catboost.core.CatBoostRegressor object at 0x000001840780A730&gt;</pre></div></div></div><div class=\"sk-serial\"><div class=\"sk-item\"><div class=\"sk-estimator sk-toggleable\"><input class=\"sk-toggleable__control sk-hidden--visually\" id=\"sk-estimator-id-12\" type=\"checkbox\" ><label for=\"sk-estimator-id-12\" class=\"sk-toggleable__label sk-toggleable__label-arrow\">CatBoostRegressor</label><div class=\"sk-toggleable__content\"><pre>&lt;catboost.core.CatBoostRegressor object at 0x000001840780A730&gt;</pre></div></div></div></div></div></div></div></div></div></div>"
     },
     "execution_count": 229,
     "metadata": {},
     "output_type": "execute_result"
    }
   ],
   "source": [
    "%%time\n",
    "# Define the hyperparameter grid to search over\n",
    "param_grid = {\n",
    "    'depth': [7, 8],\n",
    "    'learning_rate': [0.1, 1],\n",
    "    # 'l2_leaf_reg': [1, 3, 5]\n",
    "}\n",
    "\n",
    "# Perform grid search over the hyperparameters\n",
    "catboost = CatBoostRegressor(loss_function='RMSE', verbose=100)\n",
    "grid_search = GridSearchCV(catboost, param_grid=param_grid, cv=5)\n",
    "grid_search.fit(X_train_scaled, y_train)"
   ],
   "metadata": {
    "collapsed": false
   }
  },
  {
   "cell_type": "code",
   "execution_count": 230,
   "outputs": [
    {
     "data": {
      "text/plain": "{'depth': 7, 'learning_rate': 0.1}"
     },
     "execution_count": 230,
     "metadata": {},
     "output_type": "execute_result"
    }
   ],
   "source": [
    " # наилучшие гиперпараметры, подобранные поиском по сетке\n",
    "grid_search.best_params_"
   ],
   "metadata": {
    "collapsed": false
   }
  },
  {
   "cell_type": "code",
   "execution_count": 231,
   "outputs": [
    {
     "name": "stdout",
     "output_type": "stream",
     "text": [
      "0:\tlearn: 28927.1084244\ttotal: 99.9ms\tremaining: 1m 39s\n",
      "100:\tlearn: 20218.7248532\ttotal: 3.87s\tremaining: 34.4s\n",
      "200:\tlearn: 17321.0151212\ttotal: 6.75s\tremaining: 26.8s\n",
      "300:\tlearn: 15316.6620128\ttotal: 9.62s\tremaining: 22.3s\n",
      "400:\tlearn: 13626.1694214\ttotal: 12.5s\tremaining: 18.7s\n",
      "500:\tlearn: 12238.4633086\ttotal: 15.4s\tremaining: 15.3s\n",
      "600:\tlearn: 11051.1750917\ttotal: 18.3s\tremaining: 12.1s\n",
      "700:\tlearn: 9999.7818486\ttotal: 21.2s\tremaining: 9.05s\n",
      "800:\tlearn: 9066.9363325\ttotal: 24.2s\tremaining: 6s\n",
      "900:\tlearn: 8245.3339674\ttotal: 27s\tremaining: 2.97s\n",
      "999:\tlearn: 7478.7817918\ttotal: 29.9s\tremaining: 0us\n",
      "CPU times: total: 1min 6s\n",
      "Wall time: 30.5 s\n"
     ]
    },
    {
     "data": {
      "text/plain": "<catboost.core.CatBoostRegressor at 0x1840780aa30>"
     },
     "execution_count": 231,
     "metadata": {},
     "output_type": "execute_result"
    }
   ],
   "source": [
    "%%time\n",
    "final_cat = CatBoostRegressor(depth=grid_search.best_params_['depth'],\n",
    "        # l2_leaf_reg=grid_search.best_params_['l2_leaf_reg'],\n",
    "        learning_rate=grid_search.best_params_['learning_rate'],\n",
    "        loss_function='RMSE',\n",
    "        verbose=100)\n",
    "\n",
    "final_cat.fit(X_train_scaled, y_train)"
   ],
   "metadata": {
    "collapsed": false
   }
  },
  {
   "cell_type": "code",
   "execution_count": 232,
   "outputs": [
    {
     "name": "stdout",
     "output_type": "stream",
     "text": [
      "Best Hyperparameters CatBoost Regressor:  {'learning_rate': 0.1, 'depth': 7, 'loss_function': 'RMSE', 'verbose': 100}\n",
      "MSE CatBoost Regressor:  1055476827.9843959\n"
     ]
    }
   ],
   "source": [
    "best_params = final_cat.get_params()\n",
    "print(\"Best Hyperparameters CatBoost Regressor: \", best_params)\n",
    "y_pred = final_cat.predict(X_test)\n",
    "mse = mean_squared_error(y_test, y_pred)\n",
    "print(\"MSE CatBoost Regressor: \", mse)"
   ],
   "metadata": {
    "collapsed": false
   }
  },
  {
   "cell_type": "code",
   "execution_count": 235,
   "outputs": [
    {
     "name": "stdout",
     "output_type": "stream",
     "text": [
      "R2 Score:  0.4518342978773303\n"
     ]
    }
   ],
   "source": [
    "y_pred = grid_search.predict(X_test_scaled)\n",
    "r2 = r2_score(y_test, y_pred)\n",
    "print(\"R2 Score: \", r2)"
   ],
   "metadata": {
    "collapsed": false
   }
  },
  {
   "cell_type": "markdown",
   "source": [
    "### Basic Neural Network\n",
    "\n",
    "Let's try some basic NN."
   ],
   "metadata": {
    "collapsed": false
   }
  },
  {
   "cell_type": "code",
   "execution_count": 314,
   "outputs": [
    {
     "name": "stdout",
     "output_type": "stream",
     "text": [
      "Epoch 1/100\n",
      "399/399 [==============================] - 1s 870us/step - loss: 3300231168.0000\n",
      "Epoch 2/100\n",
      "399/399 [==============================] - 0s 866us/step - loss: 1192893824.0000\n",
      "Epoch 3/100\n",
      "399/399 [==============================] - 0s 872us/step - loss: 870295296.0000\n",
      "Epoch 4/100\n",
      "399/399 [==============================] - 0s 874us/step - loss: 863912256.0000\n",
      "Epoch 5/100\n",
      "399/399 [==============================] - 0s 852us/step - loss: 856647936.0000\n",
      "Epoch 6/100\n",
      "399/399 [==============================] - 0s 883us/step - loss: 849236864.0000\n",
      "Epoch 7/100\n",
      "399/399 [==============================] - 0s 867us/step - loss: 841965376.0000\n",
      "Epoch 8/100\n",
      "399/399 [==============================] - 0s 882us/step - loss: 833777216.0000\n",
      "Epoch 9/100\n",
      "399/399 [==============================] - 0s 1ms/step - loss: 825595584.0000\n",
      "Epoch 10/100\n",
      "399/399 [==============================] - 0s 1ms/step - loss: 816706688.0000\n",
      "Epoch 11/100\n",
      "399/399 [==============================] - 0s 895us/step - loss: 807636672.0000\n",
      "Epoch 12/100\n",
      "399/399 [==============================] - 0s 878us/step - loss: 797869120.0000\n",
      "Epoch 13/100\n",
      "399/399 [==============================] - 0s 875us/step - loss: 787362880.0000\n",
      "Epoch 14/100\n",
      "399/399 [==============================] - 0s 909us/step - loss: 777131584.0000\n",
      "Epoch 15/100\n",
      "399/399 [==============================] - 0s 879us/step - loss: 764956800.0000\n",
      "Epoch 16/100\n",
      "399/399 [==============================] - 0s 876us/step - loss: 752905920.0000\n",
      "Epoch 17/100\n",
      "399/399 [==============================] - 0s 916us/step - loss: 739567808.0000\n",
      "Epoch 18/100\n",
      "399/399 [==============================] - 0s 913us/step - loss: 726498496.0000\n",
      "Epoch 19/100\n",
      "399/399 [==============================] - 0s 920us/step - loss: 712971584.0000\n",
      "Epoch 20/100\n",
      "399/399 [==============================] - 0s 929us/step - loss: 699408640.0000\n",
      "Epoch 21/100\n",
      "399/399 [==============================] - 0s 909us/step - loss: 686076544.0000\n",
      "Epoch 22/100\n",
      "399/399 [==============================] - 0s 951us/step - loss: 674125248.0000\n",
      "Epoch 23/100\n",
      "399/399 [==============================] - 0s 1ms/step - loss: 663136768.0000\n",
      "Epoch 24/100\n",
      "399/399 [==============================] - 0s 1ms/step - loss: 653524992.0000\n",
      "Epoch 25/100\n",
      "399/399 [==============================] - 0s 978us/step - loss: 645545024.0000\n",
      "Epoch 26/100\n",
      "399/399 [==============================] - 0s 992us/step - loss: 638748480.0000\n",
      "Epoch 27/100\n",
      "399/399 [==============================] - 0s 958us/step - loss: 632897024.0000\n",
      "Epoch 28/100\n",
      "399/399 [==============================] - 0s 988us/step - loss: 628525184.0000\n",
      "Epoch 29/100\n",
      "399/399 [==============================] - 0s 972us/step - loss: 624820224.0000\n",
      "Epoch 30/100\n",
      "399/399 [==============================] - 0s 962us/step - loss: 621932352.0000\n",
      "Epoch 31/100\n",
      "399/399 [==============================] - 0s 986us/step - loss: 619399360.0000\n",
      "Epoch 32/100\n",
      "399/399 [==============================] - 0s 986us/step - loss: 617057728.0000\n",
      "Epoch 33/100\n",
      "399/399 [==============================] - 0s 1ms/step - loss: 615278848.0000\n",
      "Epoch 34/100\n",
      "399/399 [==============================] - 0s 1ms/step - loss: 613414784.0000\n",
      "Epoch 35/100\n",
      "399/399 [==============================] - 0s 1ms/step - loss: 612050624.0000\n",
      "Epoch 36/100\n",
      "399/399 [==============================] - 0s 1ms/step - loss: 610368000.0000\n",
      "Epoch 37/100\n",
      "399/399 [==============================] - 0s 1ms/step - loss: 608992704.0000\n",
      "Epoch 38/100\n",
      "399/399 [==============================] - 0s 994us/step - loss: 608158400.0000\n",
      "Epoch 39/100\n",
      "399/399 [==============================] - 0s 1ms/step - loss: 606920384.0000\n",
      "Epoch 40/100\n",
      "399/399 [==============================] - 0s 1ms/step - loss: 605830400.0000\n",
      "Epoch 41/100\n",
      "399/399 [==============================] - 0s 1ms/step - loss: 604927552.0000\n",
      "Epoch 42/100\n",
      "399/399 [==============================] - 0s 1ms/step - loss: 603563008.0000\n",
      "Epoch 43/100\n",
      "399/399 [==============================] - 0s 1ms/step - loss: 603008640.0000\n",
      "Epoch 44/100\n",
      "399/399 [==============================] - 0s 983us/step - loss: 602138944.0000\n",
      "Epoch 45/100\n",
      "399/399 [==============================] - 0s 1000us/step - loss: 600823168.0000\n",
      "Epoch 46/100\n",
      "399/399 [==============================] - 0s 968us/step - loss: 600471168.0000\n",
      "Epoch 47/100\n",
      "399/399 [==============================] - 0s 970us/step - loss: 599390656.0000\n",
      "Epoch 48/100\n",
      "399/399 [==============================] - 0s 985us/step - loss: 598700160.0000\n",
      "Epoch 49/100\n",
      "399/399 [==============================] - 0s 996us/step - loss: 598618368.0000\n",
      "Epoch 50/100\n",
      "399/399 [==============================] - 0s 979us/step - loss: 597307776.0000\n",
      "Epoch 51/100\n",
      "399/399 [==============================] - 0s 951us/step - loss: 596407360.0000\n",
      "Epoch 52/100\n",
      "399/399 [==============================] - 0s 948us/step - loss: 596305856.0000\n",
      "Epoch 53/100\n",
      "399/399 [==============================] - 0s 907us/step - loss: 595424960.0000\n",
      "Epoch 54/100\n",
      "399/399 [==============================] - 0s 900us/step - loss: 594883008.0000\n",
      "Epoch 55/100\n",
      "399/399 [==============================] - 0s 898us/step - loss: 593819904.0000\n",
      "Epoch 56/100\n",
      "399/399 [==============================] - 0s 917us/step - loss: 593486976.0000\n",
      "Epoch 57/100\n",
      "399/399 [==============================] - 0s 883us/step - loss: 593175360.0000\n",
      "Epoch 58/100\n",
      "399/399 [==============================] - 0s 903us/step - loss: 592379840.0000\n",
      "Epoch 59/100\n",
      "399/399 [==============================] - 0s 882us/step - loss: 591930496.0000\n",
      "Epoch 60/100\n",
      "399/399 [==============================] - 0s 897us/step - loss: 591590656.0000\n",
      "Epoch 61/100\n",
      "399/399 [==============================] - 0s 891us/step - loss: 590960384.0000\n",
      "Epoch 62/100\n",
      "399/399 [==============================] - 0s 887us/step - loss: 590312832.0000\n",
      "Epoch 63/100\n",
      "399/399 [==============================] - 0s 918us/step - loss: 589857536.0000\n",
      "Epoch 64/100\n",
      "399/399 [==============================] - 0s 924us/step - loss: 589342592.0000\n",
      "Epoch 65/100\n",
      "399/399 [==============================] - 0s 914us/step - loss: 588692800.0000\n",
      "Epoch 66/100\n",
      "399/399 [==============================] - 0s 894us/step - loss: 588572416.0000\n",
      "Epoch 67/100\n",
      "399/399 [==============================] - 0s 899us/step - loss: 588093248.0000\n",
      "Epoch 68/100\n",
      "399/399 [==============================] - 0s 938us/step - loss: 587085632.0000\n",
      "Epoch 69/100\n",
      "399/399 [==============================] - 0s 911us/step - loss: 586909184.0000\n",
      "Epoch 70/100\n",
      "399/399 [==============================] - 0s 927us/step - loss: 586551168.0000\n",
      "Epoch 71/100\n",
      "399/399 [==============================] - 0s 911us/step - loss: 585663168.0000\n",
      "Epoch 72/100\n",
      "399/399 [==============================] - 0s 935us/step - loss: 585468480.0000\n",
      "Epoch 73/100\n",
      "399/399 [==============================] - 0s 952us/step - loss: 584871168.0000\n",
      "Epoch 74/100\n",
      "399/399 [==============================] - 0s 910us/step - loss: 584198272.0000\n",
      "Epoch 75/100\n",
      "399/399 [==============================] - 0s 911us/step - loss: 583922240.0000\n",
      "Epoch 76/100\n",
      "399/399 [==============================] - 0s 915us/step - loss: 583603456.0000\n",
      "Epoch 77/100\n",
      "399/399 [==============================] - 0s 908us/step - loss: 583690880.0000\n",
      "Epoch 78/100\n",
      "399/399 [==============================] - 0s 912us/step - loss: 583172480.0000\n",
      "Epoch 79/100\n",
      "399/399 [==============================] - 0s 916us/step - loss: 582194112.0000\n",
      "Epoch 80/100\n",
      "399/399 [==============================] - 0s 903us/step - loss: 582281728.0000\n",
      "Epoch 81/100\n",
      "399/399 [==============================] - 0s 898us/step - loss: 581969344.0000\n",
      "Epoch 82/100\n",
      "399/399 [==============================] - 0s 887us/step - loss: 581091712.0000\n",
      "Epoch 83/100\n",
      "399/399 [==============================] - 0s 899us/step - loss: 580842944.0000\n",
      "Epoch 84/100\n",
      "399/399 [==============================] - 0s 949us/step - loss: 580485504.0000\n",
      "Epoch 85/100\n",
      "399/399 [==============================] - 0s 892us/step - loss: 579856576.0000\n",
      "Epoch 86/100\n",
      "399/399 [==============================] - 0s 902us/step - loss: 579437952.0000\n",
      "Epoch 87/100\n",
      "399/399 [==============================] - 0s 930us/step - loss: 579235072.0000\n",
      "Epoch 88/100\n",
      "399/399 [==============================] - 0s 890us/step - loss: 578596096.0000\n",
      "Epoch 89/100\n",
      "399/399 [==============================] - 0s 913us/step - loss: 578287296.0000\n",
      "Epoch 90/100\n",
      "399/399 [==============================] - 0s 919us/step - loss: 578049664.0000\n",
      "Epoch 91/100\n",
      "399/399 [==============================] - 0s 924us/step - loss: 577919552.0000\n",
      "Epoch 92/100\n",
      "399/399 [==============================] - 0s 896us/step - loss: 577420224.0000\n",
      "Epoch 93/100\n",
      "399/399 [==============================] - 0s 935us/step - loss: 576829824.0000\n",
      "Epoch 94/100\n",
      "399/399 [==============================] - 0s 902us/step - loss: 576796544.0000\n",
      "Epoch 95/100\n",
      "399/399 [==============================] - 0s 946us/step - loss: 576519232.0000\n",
      "Epoch 96/100\n",
      "399/399 [==============================] - 0s 928us/step - loss: 576024064.0000\n",
      "Epoch 97/100\n",
      "399/399 [==============================] - 0s 899us/step - loss: 575788992.0000\n",
      "Epoch 98/100\n",
      "399/399 [==============================] - 0s 928us/step - loss: 575380864.0000\n",
      "Epoch 99/100\n",
      "399/399 [==============================] - 0s 906us/step - loss: 574800512.0000\n",
      "Epoch 100/100\n",
      "399/399 [==============================] - 0s 1ms/step - loss: 574796992.0000\n"
     ]
    },
    {
     "data": {
      "text/plain": "<keras.callbacks.History at 0x183c62114f0>"
     },
     "execution_count": 314,
     "metadata": {},
     "output_type": "execute_result"
    }
   ],
   "source": [
    "df_cut['text'] = df_cut['text'].apply(lambda x: 'NA' if not isinstance(x, str) or len(x) == 0 else x)\n",
    "\n",
    "# Tokenize the text\n",
    "tokenized_text = [text.split() for text in df_cut['text']]\n",
    "\n",
    "# Train the Word2Vec model\n",
    "w2v = word2vec.Word2Vec(tokenized_text, workers=4, vector_size=200, min_count=10, window=10, sample=1e-3)\n",
    "w2v.wv.most_similar(positive=['плюс'], topn=10)\n",
    "\n",
    "def get_tweet_embedding(lemmas, model=w2v.wv, embedding_size=200):\n",
    "\n",
    "    res = np.zeros(embedding_size)\n",
    "    cnt = 0\n",
    "    for word in lemmas.split():\n",
    "        if word in model:\n",
    "            res += np.array(model[word])\n",
    "            cnt += 1\n",
    "    if cnt:\n",
    "        res = res / cnt\n",
    "    return res\n",
    "\n",
    "df_cut['w2v_embedding'] = df_cut['text'].map(get_tweet_embedding)\n",
    "test['w2v_embedding'] = test['text'].map(get_tweet_embedding)\n",
    "\n",
    "# One-hot encode the categorical features\n",
    "experience = pd.get_dummies(df_cut['experience'], prefix='experience')\n",
    "schedule_lem = pd.get_dummies(df_cut['schedule_lem'], prefix='schedule_lem')\n",
    "\n",
    "# Concatenate the numerical and categorical features\n",
    "\n",
    "# Get the maximum length of the arrays in the 'w2v_embedding' column\n",
    "max_len = df_cut['w2v_embedding'].apply(lambda x: len(x)).max()\n",
    "\n",
    "# Pad the arrays with zeros to ensure that all arrays have the same length\n",
    "X_w2v = np.array([np.pad(x, (0, max_len - len(x)), mode='constant') for x in df_cut['w2v_embedding']])\n",
    "\n",
    "# Concatenate the numerical and categorical features\n",
    "X = np.concatenate([X_w2v, experience.values, schedule_lem.values], axis=1)\n",
    "\n",
    "# Split the data into training and testing sets\n",
    "X_train, X_test, y_train, y_test = train_test_split(X, df_cut['salary'].values, test_size=0.2, random_state=5)\n",
    "\n",
    "# вычисляем минимум и максимум\n",
    "scaler = MinMaxScaler().fit(X_train)\n",
    "\n",
    "# масштабируем обучающие данные\n",
    "X_train_scaled = scaler.fit_transform(X_train)\n",
    "\n",
    "# масштабируем тестовые данные и оцениваем качество на масштабированных данных\n",
    "X_test_scaled = scaler.transform(X_test)\n",
    "\n",
    "# Initialize the model\n",
    "model = Sequential()\n",
    "\n",
    "# Add the first hidden layer\n",
    "model.add(Dense(units=64, activation='relu', input_dim=X_train_scaled.shape[1]))\n",
    "\n",
    "# Add the second hidden layer\n",
    "model.add(Dense(units=32, activation='relu'))\n",
    "\n",
    "# Add the output layer\n",
    "model.add(Dense(units=1))\n",
    "\n",
    "# Compile the model\n",
    "model.compile(optimizer='adam', loss='mean_squared_error')\n",
    "\n",
    "# Train the model\n",
    "model.fit(X_train_scaled, y_train, epochs=100, batch_size=32)"
   ],
   "metadata": {
    "collapsed": false
   }
  },
  {
   "cell_type": "code",
   "execution_count": 315,
   "outputs": [
    {
     "name": "stdout",
     "output_type": "stream",
     "text": [
      "100/100 [==============================] - 0s 641us/step\n",
      "MSE: 2179205571.558225\n"
     ]
    }
   ],
   "source": [
    "# Make predictions using your model\n",
    "y_pred = model.predict(X_test)\n",
    "\n",
    "# Calculate the MSE between the actual target values and the predicted values\n",
    "mse = mean_squared_error(y_test, y_pred)\n",
    "\n",
    "# Print the MSE\n",
    "print(\"MSE:\", mse)"
   ],
   "metadata": {
    "collapsed": false
   }
  },
  {
   "cell_type": "markdown",
   "source": [
    "Преодработаем датасет ```df_new```, векторизую мешок слов."
   ],
   "metadata": {
    "collapsed": false
   }
  },
  {
   "cell_type": "code",
   "execution_count": 59,
   "outputs": [
    {
     "name": "stdout",
     "output_type": "stream",
     "text": [
      "Epoch 1/100\n",
      "399/399 [==============================] - 8s 19ms/step - loss: 3427220480.0000\n",
      "Epoch 2/100\n",
      "399/399 [==============================] - 7s 17ms/step - loss: 1718784768.0000\n",
      "Epoch 3/100\n",
      "399/399 [==============================] - 6s 16ms/step - loss: 1154588160.0000\n",
      "Epoch 4/100\n",
      "399/399 [==============================] - 7s 17ms/step - loss: 1027074880.0000\n",
      "Epoch 5/100\n",
      "399/399 [==============================] - 7s 16ms/step - loss: 924587264.0000\n",
      "Epoch 6/100\n",
      "399/399 [==============================] - 6s 16ms/step - loss: 836746688.0000\n",
      "Epoch 7/100\n",
      "399/399 [==============================] - 6s 16ms/step - loss: 762681280.0000\n",
      "Epoch 8/100\n",
      "399/399 [==============================] - 6s 16ms/step - loss: 701882432.0000\n",
      "Epoch 9/100\n",
      "399/399 [==============================] - 6s 16ms/step - loss: 651901760.0000\n",
      "Epoch 10/100\n",
      "399/399 [==============================] - 6s 16ms/step - loss: 611419136.0000\n",
      "Epoch 11/100\n",
      "399/399 [==============================] - 7s 16ms/step - loss: 577678464.0000\n",
      "Epoch 12/100\n",
      "399/399 [==============================] - 7s 17ms/step - loss: 549119680.0000\n",
      "Epoch 13/100\n",
      "399/399 [==============================] - 7s 16ms/step - loss: 524652512.0000\n",
      "Epoch 14/100\n",
      "399/399 [==============================] - 6s 16ms/step - loss: 502939264.0000\n",
      "Epoch 15/100\n",
      "399/399 [==============================] - 7s 16ms/step - loss: 483238016.0000\n",
      "Epoch 16/100\n",
      "399/399 [==============================] - 7s 17ms/step - loss: 465650240.0000\n",
      "Epoch 17/100\n",
      "399/399 [==============================] - 6s 16ms/step - loss: 449262016.0000\n",
      "Epoch 18/100\n",
      "399/399 [==============================] - 7s 16ms/step - loss: 434134528.0000\n",
      "Epoch 19/100\n",
      "399/399 [==============================] - 7s 17ms/step - loss: 419709664.0000\n",
      "Epoch 20/100\n",
      "399/399 [==============================] - 7s 17ms/step - loss: 406245728.0000\n",
      "Epoch 21/100\n",
      "399/399 [==============================] - 7s 17ms/step - loss: 393559744.0000\n",
      "Epoch 22/100\n",
      "399/399 [==============================] - 7s 17ms/step - loss: 381323296.0000\n",
      "Epoch 23/100\n",
      "399/399 [==============================] - 7s 17ms/step - loss: 369847232.0000\n",
      "Epoch 24/100\n",
      "399/399 [==============================] - 7s 17ms/step - loss: 358687648.0000\n",
      "Epoch 25/100\n",
      "399/399 [==============================] - 7s 17ms/step - loss: 348172800.0000\n",
      "Epoch 26/100\n",
      "399/399 [==============================] - 7s 17ms/step - loss: 337898496.0000\n",
      "Epoch 27/100\n",
      "399/399 [==============================] - 7s 17ms/step - loss: 327921120.0000\n",
      "Epoch 28/100\n",
      "399/399 [==============================] - 7s 18ms/step - loss: 318463584.0000\n",
      "Epoch 29/100\n",
      "399/399 [==============================] - 7s 18ms/step - loss: 308995200.0000\n",
      "Epoch 30/100\n",
      "399/399 [==============================] - 7s 17ms/step - loss: 300326304.0000\n",
      "Epoch 31/100\n",
      "399/399 [==============================] - 7s 18ms/step - loss: 291763648.0000\n",
      "Epoch 32/100\n",
      "399/399 [==============================] - 7s 18ms/step - loss: 283285120.0000\n",
      "Epoch 33/100\n",
      "399/399 [==============================] - 7s 18ms/step - loss: 275390368.0000\n",
      "Epoch 34/100\n",
      "399/399 [==============================] - 7s 18ms/step - loss: 267607584.0000\n",
      "Epoch 35/100\n",
      "399/399 [==============================] - 7s 18ms/step - loss: 260063104.0000\n",
      "Epoch 36/100\n",
      "399/399 [==============================] - 7s 18ms/step - loss: 252694672.0000\n",
      "Epoch 37/100\n",
      "399/399 [==============================] - 7s 17ms/step - loss: 245792000.0000\n",
      "Epoch 38/100\n",
      "399/399 [==============================] - 7s 17ms/step - loss: 238854816.0000\n",
      "Epoch 39/100\n",
      "399/399 [==============================] - 7s 17ms/step - loss: 232277216.0000\n",
      "Epoch 40/100\n",
      "399/399 [==============================] - 7s 17ms/step - loss: 225953808.0000\n",
      "Epoch 41/100\n",
      "399/399 [==============================] - 7s 16ms/step - loss: 219528784.0000\n",
      "Epoch 42/100\n",
      "399/399 [==============================] - 7s 17ms/step - loss: 213582336.0000\n",
      "Epoch 43/100\n",
      "399/399 [==============================] - 7s 16ms/step - loss: 207762880.0000\n",
      "Epoch 44/100\n",
      "399/399 [==============================] - 7s 17ms/step - loss: 202197840.0000\n",
      "Epoch 45/100\n",
      "399/399 [==============================] - 7s 19ms/step - loss: 196583632.0000\n",
      "Epoch 46/100\n",
      "399/399 [==============================] - 8s 19ms/step - loss: 191260608.0000\n",
      "Epoch 47/100\n",
      "399/399 [==============================] - 7s 17ms/step - loss: 186163376.0000\n",
      "Epoch 48/100\n",
      "399/399 [==============================] - 7s 17ms/step - loss: 181129920.0000\n",
      "Epoch 49/100\n",
      "399/399 [==============================] - 7s 17ms/step - loss: 176126480.0000\n",
      "Epoch 50/100\n",
      "399/399 [==============================] - 7s 17ms/step - loss: 171470656.0000\n",
      "Epoch 51/100\n",
      "399/399 [==============================] - 7s 17ms/step - loss: 166689360.0000\n",
      "Epoch 52/100\n",
      "399/399 [==============================] - 7s 16ms/step - loss: 162171584.0000\n",
      "Epoch 53/100\n",
      "399/399 [==============================] - 7s 17ms/step - loss: 157912352.0000\n",
      "Epoch 54/100\n",
      "399/399 [==============================] - 7s 16ms/step - loss: 153685264.0000\n",
      "Epoch 55/100\n",
      "399/399 [==============================] - 7s 17ms/step - loss: 149442976.0000\n",
      "Epoch 56/100\n",
      "399/399 [==============================] - 7s 17ms/step - loss: 145523248.0000\n",
      "Epoch 57/100\n",
      "399/399 [==============================] - 7s 16ms/step - loss: 141539344.0000\n",
      "Epoch 58/100\n",
      "399/399 [==============================] - 7s 17ms/step - loss: 137765696.0000\n",
      "Epoch 59/100\n",
      "399/399 [==============================] - 7s 17ms/step - loss: 134058024.0000\n",
      "Epoch 60/100\n",
      "399/399 [==============================] - 7s 17ms/step - loss: 130490704.0000\n",
      "Epoch 61/100\n",
      "399/399 [==============================] - 7s 17ms/step - loss: 127173688.0000\n",
      "Epoch 62/100\n",
      "399/399 [==============================] - 7s 17ms/step - loss: 123809672.0000\n",
      "Epoch 63/100\n",
      "399/399 [==============================] - 7s 17ms/step - loss: 120602072.0000\n",
      "Epoch 64/100\n",
      "399/399 [==============================] - 7s 17ms/step - loss: 117350760.0000\n",
      "Epoch 65/100\n",
      "399/399 [==============================] - 7s 17ms/step - loss: 114235088.0000\n",
      "Epoch 66/100\n",
      "399/399 [==============================] - 7s 17ms/step - loss: 111363328.0000\n",
      "Epoch 67/100\n",
      "399/399 [==============================] - 7s 17ms/step - loss: 108209184.0000\n",
      "Epoch 68/100\n",
      "399/399 [==============================] - 7s 17ms/step - loss: 105509512.0000\n",
      "Epoch 69/100\n",
      "399/399 [==============================] - 7s 17ms/step - loss: 102657864.0000\n",
      "Epoch 70/100\n",
      "399/399 [==============================] - 7s 17ms/step - loss: 100031576.0000\n",
      "Epoch 71/100\n",
      "399/399 [==============================] - 7s 17ms/step - loss: 97546320.0000\n",
      "Epoch 72/100\n",
      "399/399 [==============================] - 7s 17ms/step - loss: 95081280.0000\n",
      "Epoch 73/100\n",
      "399/399 [==============================] - 7s 18ms/step - loss: 92603192.0000\n",
      "Epoch 74/100\n",
      "399/399 [==============================] - 7s 17ms/step - loss: 90128912.0000\n",
      "Epoch 75/100\n",
      "399/399 [==============================] - 7s 17ms/step - loss: 88006816.0000\n",
      "Epoch 76/100\n",
      "399/399 [==============================] - 7s 17ms/step - loss: 85777296.0000\n",
      "Epoch 77/100\n",
      "399/399 [==============================] - 7s 17ms/step - loss: 83598912.0000\n",
      "Epoch 78/100\n",
      "399/399 [==============================] - 7s 17ms/step - loss: 81375000.0000\n",
      "Epoch 79/100\n",
      "399/399 [==============================] - 7s 16ms/step - loss: 79343752.0000\n",
      "Epoch 80/100\n",
      "399/399 [==============================] - 7s 17ms/step - loss: 77363672.0000\n",
      "Epoch 81/100\n",
      "399/399 [==============================] - 7s 18ms/step - loss: 75380216.0000\n",
      "Epoch 82/100\n",
      "399/399 [==============================] - 7s 17ms/step - loss: 73558768.0000\n",
      "Epoch 83/100\n",
      "399/399 [==============================] - 7s 18ms/step - loss: 71737128.0000\n",
      "Epoch 84/100\n",
      "399/399 [==============================] - 7s 17ms/step - loss: 69948560.0000\n",
      "Epoch 85/100\n",
      "399/399 [==============================] - 7s 17ms/step - loss: 68148184.0000\n",
      "Epoch 86/100\n",
      "399/399 [==============================] - 7s 17ms/step - loss: 66502080.0000\n",
      "Epoch 87/100\n",
      "399/399 [==============================] - 7s 19ms/step - loss: 64848176.0000\n",
      "Epoch 88/100\n",
      "399/399 [==============================] - 7s 17ms/step - loss: 63248620.0000\n",
      "Epoch 89/100\n",
      "399/399 [==============================] - 7s 18ms/step - loss: 61813504.0000\n",
      "Epoch 90/100\n",
      "399/399 [==============================] - 7s 18ms/step - loss: 60233340.0000\n",
      "Epoch 91/100\n",
      "399/399 [==============================] - 7s 19ms/step - loss: 58648896.0000\n",
      "Epoch 92/100\n",
      "399/399 [==============================] - 7s 17ms/step - loss: 57263780.0000\n",
      "Epoch 93/100\n",
      "399/399 [==============================] - 7s 17ms/step - loss: 55794656.0000\n",
      "Epoch 94/100\n",
      "399/399 [==============================] - 7s 16ms/step - loss: 54410768.0000\n",
      "Epoch 95/100\n",
      "399/399 [==============================] - 7s 17ms/step - loss: 53103752.0000\n",
      "Epoch 96/100\n",
      "399/399 [==============================] - 7s 17ms/step - loss: 51847296.0000\n",
      "Epoch 97/100\n",
      "399/399 [==============================] - 7s 17ms/step - loss: 50518324.0000\n",
      "Epoch 98/100\n",
      "399/399 [==============================] - 7s 17ms/step - loss: 49276576.0000\n",
      "Epoch 99/100\n",
      "399/399 [==============================] - 7s 17ms/step - loss: 48122872.0000\n",
      "Epoch 100/100\n",
      "399/399 [==============================] - 7s 16ms/step - loss: 46943260.0000\n"
     ]
    },
    {
     "data": {
      "text/plain": "<keras.callbacks.History at 0x1ee6d24d550>"
     },
     "execution_count": 59,
     "metadata": {},
     "output_type": "execute_result"
    }
   ],
   "source": [
    "df_new['salary'] = df_new['salary'].astype(float)\n",
    "\n",
    "# Tokenize the text\n",
    "tokenized_text = [text.split() for text in df_new['text']]\n",
    "\n",
    "# Create the bag of words representation\n",
    "vectorizer = CountVectorizer()\n",
    "bow_text = vectorizer.fit_transform(df_new['text'])\n",
    "\n",
    "# Split the data into training and testing sets\n",
    "X_train, X_test, y_train, y_test = train_test_split(bow_text.toarray(), df_new['salary'], test_size=0.2, random_state=5)\n",
    "\n",
    "# Initialize the model\n",
    "model_2 = Sequential()\n",
    "\n",
    "# Add the first hidden layer\n",
    "model_2.add(Dense(units=64, activation='relu', input_dim=X_train.shape[1]))\n",
    "\n",
    "# Add the second hidden layer\n",
    "model_2.add(Dense(units=32, activation='relu'))\n",
    "\n",
    "# Add the output layer\n",
    "model_2.add(Dense(units=1))\n",
    "\n",
    "# Compile the model\n",
    "model_2.compile(optimizer='adam', loss='mean_squared_error')\n",
    "\n",
    "# Train the model\n",
    "model_2.fit(X_train, y_train, epochs=100, batch_size=32)"
   ],
   "metadata": {
    "collapsed": false
   }
  },
  {
   "cell_type": "code",
   "execution_count": 60,
   "outputs": [
    {
     "name": "stdout",
     "output_type": "stream",
     "text": [
      "100/100 [==============================] - 0s 4ms/step\n",
      "MSE model_2: 688970910.1508247\n"
     ]
    }
   ],
   "source": [
    "# Make predictions using your model\n",
    "y_pred_2 = model_2.predict(X_test)\n",
    "\n",
    "# Calculate the MSE between the actual target values and the predicted values\n",
    "mse_2 = mean_squared_error(y_test, y_pred_2)\n",
    "\n",
    "# Print the MSE\n",
    "print(\"MSE model_2:\", mse_2)"
   ],
   "metadata": {
    "collapsed": false
   }
  },
  {
   "cell_type": "markdown",
   "source": [
    "### CNN"
   ],
   "metadata": {
    "collapsed": false
   }
  },
  {
   "cell_type": "code",
   "execution_count": 61,
   "outputs": [
    {
     "ename": "NameError",
     "evalue": "name 'X_train_scaled' is not defined",
     "output_type": "error",
     "traceback": [
      "\u001B[1;31m---------------------------------------------------------------------------\u001B[0m",
      "\u001B[1;31mNameError\u001B[0m                                 Traceback (most recent call last)",
      "Cell \u001B[1;32mIn[61], line 26\u001B[0m\n\u001B[0;32m     23\u001B[0m model_cnn\u001B[38;5;241m.\u001B[39mcompile(optimizer\u001B[38;5;241m=\u001B[39m\u001B[38;5;124m'\u001B[39m\u001B[38;5;124madam\u001B[39m\u001B[38;5;124m'\u001B[39m, loss\u001B[38;5;241m=\u001B[39m\u001B[38;5;124m'\u001B[39m\u001B[38;5;124mmean_squared_error\u001B[39m\u001B[38;5;124m'\u001B[39m)\n\u001B[0;32m     25\u001B[0m \u001B[38;5;66;03m# Train the model\u001B[39;00m\n\u001B[1;32m---> 26\u001B[0m model_cnn\u001B[38;5;241m.\u001B[39mfit(\u001B[43mX_train_scaled\u001B[49m, y_train, epochs\u001B[38;5;241m=\u001B[39m\u001B[38;5;241m100\u001B[39m, batch_size\u001B[38;5;241m=\u001B[39m\u001B[38;5;241m32\u001B[39m)\n",
      "\u001B[1;31mNameError\u001B[0m: name 'X_train_scaled' is not defined"
     ]
    }
   ],
   "source": [
    "import numpy as np\n",
    "import keras\n",
    "from keras.models import Sequential\n",
    "from keras.layers import Dense, Conv1D, Flatten, MaxPooling1D, Dropout\n",
    "\n",
    "# Initialize the model\n",
    "model_cnn = Sequential()\n",
    "model_cnn.add(Conv1D(filters=64, kernel_size=3, activation='relu', input_shape=(209, 1)))\n",
    "model_cnn.add(MaxPooling1D(pool_size=2))\n",
    "# Add a dropout layer with a rate of 0.5 to prevent overfitting\n",
    "model_cnn.add(Dropout(rate=0.5))\n",
    "# Flatten the output from the convolutional layer\n",
    "model_cnn.add(Flatten())\n",
    "# Add the first hidden layer with 64 units and 'relu' activation\n",
    "model_cnn.add(Dense(units=64, activation='relu'))\n",
    "# Add a dropout layer with a rate of 0.5 to prevent overfitting\n",
    "model_cnn.add(Dropout(rate=0.5))\n",
    "# Add the second hidden layer with 32 units and 'relu' activation\n",
    "model_cnn.add(Dense(units=32, activation='relu'))\n",
    "# Add the output layer with one unit\n",
    "model_cnn.add(Dense(units=1))\n",
    "# Compile the model\n",
    "model_cnn.compile(optimizer='adam', loss='mean_squared_error')\n",
    "\n",
    "# Train the model\n",
    "model_cnn.fit(X_train_scaled, y_train, epochs=100, batch_size=32)"
   ],
   "metadata": {
    "collapsed": false
   }
  },
  {
   "cell_type": "code",
   "execution_count": 300,
   "outputs": [
    {
     "name": "stdout",
     "output_type": "stream",
     "text": [
      "100/100 [==============================] - 0s 2ms/step - loss: 611609344.0000\n",
      "Test MSE: 611609344.0\n"
     ]
    }
   ],
   "source": [
    "# Evaluate the model on the test data\n",
    "test_loss = model_cnn.evaluate(X_test_scaled, y_test)\n",
    "\n",
    "# Print the MSE score\n",
    "print('Test MSE:', test_loss)"
   ],
   "metadata": {
    "collapsed": false
   }
  },
  {
   "cell_type": "code",
   "execution_count": 301,
   "outputs": [
    {
     "name": "stdout",
     "output_type": "stream",
     "text": [
      "100/100 [==============================] - 0s 2ms/step\n",
      "MSE CNN: 2203585643.316093\n"
     ]
    }
   ],
   "source": [
    "# Make predictions using your model\n",
    "y_pred = model_cnn.predict(X_test)\n",
    "\n",
    "# Calculate the MSE between the actual target values and the predicted values\n",
    "mse_cnn = mean_squared_error(y_test, y_pred)\n",
    "\n",
    "# Print the MSE\n",
    "print(\"MSE CNN:\", mse_cnn)"
   ],
   "metadata": {
    "collapsed": false
   }
  },
  {
   "cell_type": "markdown",
   "source": [
    "## Predictions on an actual test data"
   ],
   "metadata": {
    "collapsed": false
   }
  },
  {
   "cell_type": "code",
   "execution_count": 278,
   "outputs": [],
   "source": [
    "# Replace any non-string or empty string values in the 'text' column with 'NA'\n",
    "test['text'] = test['text'].apply(lambda x: 'NA' if not isinstance(x, str) or len(x) == 0 else x)\n",
    "\n",
    "# Tokenize the text\n",
    "tokenized_text = [text.split() for text in test['text']]\n",
    "\n",
    "# Train the Word2Vec model\n",
    "w2v = word2vec.Word2Vec(tokenized_text, workers=4, vector_size=200, min_count=10, window=10, sample=1e-3)\n",
    "w2v.wv.most_similar(positive=['плюс'], topn=10)\n",
    "\n",
    "# One-hot encode the categorical features\n",
    "experience = pd.get_dummies(test['experience'], prefix='experience')\n",
    "schedule_lem = pd.get_dummies(test['schedule_lem'], prefix='schedule_lem')\n",
    "\n",
    "# Concatenate the numerical and categorical features\n",
    "\n",
    "# Get the maximum length of the arrays in the 'w2v_embedding' column\n",
    "max_len = test['w2v_embedding'].apply(lambda x: len(x)).max()\n",
    "\n",
    "# Pad the arrays with zeros to ensure that all arrays have the same length\n",
    "X_w2v = np.array([np.pad(x, (0, max_len - len(x)), mode='constant') for x in test['w2v_embedding']])\n",
    "\n",
    "# Concatenate the numerical and categorical features\n",
    "X = np.concatenate([X_w2v, experience.values, schedule_lem.values], axis=1)\n",
    "\n",
    "# Scale the data\n",
    "scaler = MinMaxScaler().fit(X)\n",
    "X_scaled_actual_test = scaler.transform(X)"
   ],
   "metadata": {
    "collapsed": false
   }
  },
  {
   "cell_type": "markdown",
   "source": [
    "### CatBoostRegressor"
   ],
   "metadata": {
    "collapsed": false
   }
  },
  {
   "cell_type": "code",
   "execution_count": 279,
   "outputs": [
    {
     "data": {
      "text/plain": "array([68122.74198718, 73163.06011505, 84159.30725351, ...,\n       84587.82295136, 54594.32793042, 55422.48690524])"
     },
     "execution_count": 279,
     "metadata": {},
     "output_type": "execute_result"
    }
   ],
   "source": [
    "# Use the final CatBoost Regressor model to make predictions on the test data\n",
    "y_pred_cat = final_cat.predict(X_scaled_actual_test)\n",
    "y_pred_cat"
   ],
   "metadata": {
    "collapsed": false
   }
  },
  {
   "cell_type": "code",
   "execution_count": 280,
   "outputs": [
    {
     "data": {
      "text/plain": "            experience    schedule_lem  \\\nid                                       \n0          Более 6 лет     полный день   \n1   От 1 года до 3 лет  сменный график   \n2   От 1 года до 3 лет     полный день   \n3   От 1 года до 3 лет     полный день   \n4            Нет опыта  сменный график   \n\n                                                 text  \\\nid                                                      \n0   главный бухгалтер обязанность осуществление ор...   \n1   ассистент врач стоматолог обязанность ассистир...   \n2   менеджер продажа хотеть построить карьера банк...   \n3   менеджер динамично развивающийся протяжение го...   \n4   администратор хостел возможный работа проживан...   \n\n                                        w2v_embedding  \nid                                                     \n0   [-0.0017661690168703597, 0.3922715710179459, -...  \n1   [0.13890426800892092, 0.007075214404056766, -0...  \n2   [0.15837500702616744, 0.35205164239775605, 0.0...  \n3   [0.22894530093484283, 0.2416285795362955, -0.0...  \n4   [0.23800812328098278, 0.05948061611126648, -0....  ",
      "text/html": "<div>\n<style scoped>\n    .dataframe tbody tr th:only-of-type {\n        vertical-align: middle;\n    }\n\n    .dataframe tbody tr th {\n        vertical-align: top;\n    }\n\n    .dataframe thead th {\n        text-align: right;\n    }\n</style>\n<table border=\"1\" class=\"dataframe\">\n  <thead>\n    <tr style=\"text-align: right;\">\n      <th></th>\n      <th>experience</th>\n      <th>schedule_lem</th>\n      <th>text</th>\n      <th>w2v_embedding</th>\n    </tr>\n    <tr>\n      <th>id</th>\n      <th></th>\n      <th></th>\n      <th></th>\n      <th></th>\n    </tr>\n  </thead>\n  <tbody>\n    <tr>\n      <th>0</th>\n      <td>Более 6 лет</td>\n      <td>полный день</td>\n      <td>главный бухгалтер обязанность осуществление ор...</td>\n      <td>[-0.0017661690168703597, 0.3922715710179459, -...</td>\n    </tr>\n    <tr>\n      <th>1</th>\n      <td>От 1 года до 3 лет</td>\n      <td>сменный график</td>\n      <td>ассистент врач стоматолог обязанность ассистир...</td>\n      <td>[0.13890426800892092, 0.007075214404056766, -0...</td>\n    </tr>\n    <tr>\n      <th>2</th>\n      <td>От 1 года до 3 лет</td>\n      <td>полный день</td>\n      <td>менеджер продажа хотеть построить карьера банк...</td>\n      <td>[0.15837500702616744, 0.35205164239775605, 0.0...</td>\n    </tr>\n    <tr>\n      <th>3</th>\n      <td>От 1 года до 3 лет</td>\n      <td>полный день</td>\n      <td>менеджер динамично развивающийся протяжение го...</td>\n      <td>[0.22894530093484283, 0.2416285795362955, -0.0...</td>\n    </tr>\n    <tr>\n      <th>4</th>\n      <td>Нет опыта</td>\n      <td>сменный график</td>\n      <td>администратор хостел возможный работа проживан...</td>\n      <td>[0.23800812328098278, 0.05948061611126648, -0....</td>\n    </tr>\n  </tbody>\n</table>\n</div>"
     },
     "execution_count": 280,
     "metadata": {},
     "output_type": "execute_result"
    }
   ],
   "source": [
    "test.head()"
   ],
   "metadata": {
    "collapsed": false
   }
  },
  {
   "cell_type": "code",
   "execution_count": 281,
   "outputs": [
    {
     "data": {
      "text/plain": "                                                 text        salary\nid                                                                 \n0   главный бухгалтер обязанность осуществление ор...  68122.741987\n1   ассистент врач стоматолог обязанность ассистир...  73163.060115\n2   менеджер продажа хотеть построить карьера банк...  84159.307254\n3   менеджер динамично развивающийся протяжение го...  62588.957242\n4   администратор хостел возможный работа проживан...  58849.999808",
      "text/html": "<div>\n<style scoped>\n    .dataframe tbody tr th:only-of-type {\n        vertical-align: middle;\n    }\n\n    .dataframe tbody tr th {\n        vertical-align: top;\n    }\n\n    .dataframe thead th {\n        text-align: right;\n    }\n</style>\n<table border=\"1\" class=\"dataframe\">\n  <thead>\n    <tr style=\"text-align: right;\">\n      <th></th>\n      <th>text</th>\n      <th>salary</th>\n    </tr>\n    <tr>\n      <th>id</th>\n      <th></th>\n      <th></th>\n    </tr>\n  </thead>\n  <tbody>\n    <tr>\n      <th>0</th>\n      <td>главный бухгалтер обязанность осуществление ор...</td>\n      <td>68122.741987</td>\n    </tr>\n    <tr>\n      <th>1</th>\n      <td>ассистент врач стоматолог обязанность ассистир...</td>\n      <td>73163.060115</td>\n    </tr>\n    <tr>\n      <th>2</th>\n      <td>менеджер продажа хотеть построить карьера банк...</td>\n      <td>84159.307254</td>\n    </tr>\n    <tr>\n      <th>3</th>\n      <td>менеджер динамично развивающийся протяжение го...</td>\n      <td>62588.957242</td>\n    </tr>\n    <tr>\n      <th>4</th>\n      <td>администратор хостел возможный работа проживан...</td>\n      <td>58849.999808</td>\n    </tr>\n  </tbody>\n</table>\n</div>"
     },
     "execution_count": 281,
     "metadata": {},
     "output_type": "execute_result"
    }
   ],
   "source": [
    "acual_test_pred = test[['text']]\n",
    "acual_test_pred['salary'] = final_cat.predict(X_scaled_actual_test)\n",
    "acual_test_pred.head()"
   ],
   "metadata": {
    "collapsed": false
   }
  },
  {
   "cell_type": "code",
   "execution_count": 282,
   "outputs": [
    {
     "data": {
      "text/plain": "          salary\nid              \n0   68122.741987\n1   73163.060115\n2   84159.307254\n3   62588.957242",
      "text/html": "<div>\n<style scoped>\n    .dataframe tbody tr th:only-of-type {\n        vertical-align: middle;\n    }\n\n    .dataframe tbody tr th {\n        vertical-align: top;\n    }\n\n    .dataframe thead th {\n        text-align: right;\n    }\n</style>\n<table border=\"1\" class=\"dataframe\">\n  <thead>\n    <tr style=\"text-align: right;\">\n      <th></th>\n      <th>salary</th>\n    </tr>\n    <tr>\n      <th>id</th>\n      <th></th>\n    </tr>\n  </thead>\n  <tbody>\n    <tr>\n      <th>0</th>\n      <td>68122.741987</td>\n    </tr>\n    <tr>\n      <th>1</th>\n      <td>73163.060115</td>\n    </tr>\n    <tr>\n      <th>2</th>\n      <td>84159.307254</td>\n    </tr>\n    <tr>\n      <th>3</th>\n      <td>62588.957242</td>\n    </tr>\n  </tbody>\n</table>\n</div>"
     },
     "execution_count": 282,
     "metadata": {},
     "output_type": "execute_result"
    }
   ],
   "source": [
    "acual_test_pred_cat = acual_test_pred.drop(columns='text')\n",
    "acual_test_pred_cat.head(4)"
   ],
   "metadata": {
    "collapsed": false
   }
  },
  {
   "cell_type": "code",
   "execution_count": 283,
   "outputs": [
    {
     "data": {
      "text/plain": "    salary\nid        \n0    68122\n1    73163\n2    84159\n3    62588\n4    58849",
      "text/html": "<div>\n<style scoped>\n    .dataframe tbody tr th:only-of-type {\n        vertical-align: middle;\n    }\n\n    .dataframe tbody tr th {\n        vertical-align: top;\n    }\n\n    .dataframe thead th {\n        text-align: right;\n    }\n</style>\n<table border=\"1\" class=\"dataframe\">\n  <thead>\n    <tr style=\"text-align: right;\">\n      <th></th>\n      <th>salary</th>\n    </tr>\n    <tr>\n      <th>id</th>\n      <th></th>\n    </tr>\n  </thead>\n  <tbody>\n    <tr>\n      <th>0</th>\n      <td>68122</td>\n    </tr>\n    <tr>\n      <th>1</th>\n      <td>73163</td>\n    </tr>\n    <tr>\n      <th>2</th>\n      <td>84159</td>\n    </tr>\n    <tr>\n      <th>3</th>\n      <td>62588</td>\n    </tr>\n    <tr>\n      <th>4</th>\n      <td>58849</td>\n    </tr>\n  </tbody>\n</table>\n</div>"
     },
     "execution_count": 283,
     "metadata": {},
     "output_type": "execute_result"
    }
   ],
   "source": [
    "acual_test_pred_cat['salary'] = acual_test_pred_cat['salary'].astype(int)\n",
    "acual_test_pred_cat.head()"
   ],
   "metadata": {
    "collapsed": false
   }
  },
  {
   "cell_type": "code",
   "execution_count": 292,
   "outputs": [],
   "source": [
    "acual_test_pred_cat.to_csv('acual_test_pred_cat.csv')"
   ],
   "metadata": {
    "collapsed": false
   }
  },
  {
   "cell_type": "markdown",
   "source": [
    "### Basic Neural Network (without convolution)"
   ],
   "metadata": {
    "collapsed": false
   }
  },
  {
   "cell_type": "code",
   "execution_count": 286,
   "outputs": [
    {
     "name": "stdout",
     "output_type": "stream",
     "text": [
      "174/174 [==============================] - 0s 723us/step\n"
     ]
    },
    {
     "data": {
      "text/plain": "                                                 text        salary\nid                                                                 \n0   главный бухгалтер обязанность осуществление ор...  74551.125000\n1   ассистент врач стоматолог обязанность ассистир...  49668.117188\n2   менеджер продажа хотеть построить карьера банк...  59146.085938\n3   менеджер динамично развивающийся протяжение го...  55808.343750\n4   администратор хостел возможный работа проживан...  55585.847656",
      "text/html": "<div>\n<style scoped>\n    .dataframe tbody tr th:only-of-type {\n        vertical-align: middle;\n    }\n\n    .dataframe tbody tr th {\n        vertical-align: top;\n    }\n\n    .dataframe thead th {\n        text-align: right;\n    }\n</style>\n<table border=\"1\" class=\"dataframe\">\n  <thead>\n    <tr style=\"text-align: right;\">\n      <th></th>\n      <th>text</th>\n      <th>salary</th>\n    </tr>\n    <tr>\n      <th>id</th>\n      <th></th>\n      <th></th>\n    </tr>\n  </thead>\n  <tbody>\n    <tr>\n      <th>0</th>\n      <td>главный бухгалтер обязанность осуществление ор...</td>\n      <td>74551.125000</td>\n    </tr>\n    <tr>\n      <th>1</th>\n      <td>ассистент врач стоматолог обязанность ассистир...</td>\n      <td>49668.117188</td>\n    </tr>\n    <tr>\n      <th>2</th>\n      <td>менеджер продажа хотеть построить карьера банк...</td>\n      <td>59146.085938</td>\n    </tr>\n    <tr>\n      <th>3</th>\n      <td>менеджер динамично развивающийся протяжение го...</td>\n      <td>55808.343750</td>\n    </tr>\n    <tr>\n      <th>4</th>\n      <td>администратор хостел возможный работа проживан...</td>\n      <td>55585.847656</td>\n    </tr>\n  </tbody>\n</table>\n</div>"
     },
     "execution_count": 286,
     "metadata": {},
     "output_type": "execute_result"
    }
   ],
   "source": [
    "acual_test_pred_nn = test[['text']]\n",
    "acual_test_pred_nn['salary'] = model.predict(X_scaled_actual_test)\n",
    "acual_test_pred_nn.head()"
   ],
   "metadata": {
    "collapsed": false
   }
  },
  {
   "cell_type": "code",
   "execution_count": 287,
   "outputs": [
    {
     "data": {
      "text/plain": "          salary\nid              \n0   74551.125000\n1   49668.117188\n2   59146.085938\n3   55808.343750",
      "text/html": "<div>\n<style scoped>\n    .dataframe tbody tr th:only-of-type {\n        vertical-align: middle;\n    }\n\n    .dataframe tbody tr th {\n        vertical-align: top;\n    }\n\n    .dataframe thead th {\n        text-align: right;\n    }\n</style>\n<table border=\"1\" class=\"dataframe\">\n  <thead>\n    <tr style=\"text-align: right;\">\n      <th></th>\n      <th>salary</th>\n    </tr>\n    <tr>\n      <th>id</th>\n      <th></th>\n    </tr>\n  </thead>\n  <tbody>\n    <tr>\n      <th>0</th>\n      <td>74551.125000</td>\n    </tr>\n    <tr>\n      <th>1</th>\n      <td>49668.117188</td>\n    </tr>\n    <tr>\n      <th>2</th>\n      <td>59146.085938</td>\n    </tr>\n    <tr>\n      <th>3</th>\n      <td>55808.343750</td>\n    </tr>\n  </tbody>\n</table>\n</div>"
     },
     "execution_count": 287,
     "metadata": {},
     "output_type": "execute_result"
    }
   ],
   "source": [
    "acual_test_pred_nn = acual_test_pred_nn.drop(columns='text')\n",
    "acual_test_pred_nn.head(4)"
   ],
   "metadata": {
    "collapsed": false
   }
  },
  {
   "cell_type": "code",
   "execution_count": 288,
   "outputs": [
    {
     "data": {
      "text/plain": "    salary\nid        \n0    74551\n1    49668\n2    59146\n3    55808\n4    55585",
      "text/html": "<div>\n<style scoped>\n    .dataframe tbody tr th:only-of-type {\n        vertical-align: middle;\n    }\n\n    .dataframe tbody tr th {\n        vertical-align: top;\n    }\n\n    .dataframe thead th {\n        text-align: right;\n    }\n</style>\n<table border=\"1\" class=\"dataframe\">\n  <thead>\n    <tr style=\"text-align: right;\">\n      <th></th>\n      <th>salary</th>\n    </tr>\n    <tr>\n      <th>id</th>\n      <th></th>\n    </tr>\n  </thead>\n  <tbody>\n    <tr>\n      <th>0</th>\n      <td>74551</td>\n    </tr>\n    <tr>\n      <th>1</th>\n      <td>49668</td>\n    </tr>\n    <tr>\n      <th>2</th>\n      <td>59146</td>\n    </tr>\n    <tr>\n      <th>3</th>\n      <td>55808</td>\n    </tr>\n    <tr>\n      <th>4</th>\n      <td>55585</td>\n    </tr>\n  </tbody>\n</table>\n</div>"
     },
     "execution_count": 288,
     "metadata": {},
     "output_type": "execute_result"
    }
   ],
   "source": [
    "acual_test_pred_nn['salary'] = acual_test_pred_nn['salary'].astype(int)\n",
    "acual_test_pred_nn.head()"
   ],
   "metadata": {
    "collapsed": false
   }
  },
  {
   "cell_type": "code",
   "execution_count": 289,
   "outputs": [],
   "source": [
    "acual_test_pred_nn.to_csv('acual_test_pred_nn.csv')"
   ],
   "metadata": {
    "collapsed": false
   }
  },
  {
   "cell_type": "code",
   "execution_count": 290,
   "outputs": [
    {
     "data": {
      "text/plain": "(5543, 1)"
     },
     "execution_count": 290,
     "metadata": {},
     "output_type": "execute_result"
    }
   ],
   "source": [
    "acual_test_pred_nn.shape"
   ],
   "metadata": {
    "collapsed": false
   }
  },
  {
   "cell_type": "markdown",
   "source": [
    "### CNN"
   ],
   "metadata": {
    "collapsed": false
   }
  },
  {
   "cell_type": "code",
   "execution_count": 305,
   "outputs": [
    {
     "name": "stdout",
     "output_type": "stream",
     "text": [
      "174/174 [==============================] - 0s 2ms/step\n"
     ]
    }
   ],
   "source": [
    "actual_test_pred_cnn = test[['text']]\n",
    "actual_test_pred_cnn['salary'] = model_cnn.predict(X_scaled_actual_test)\n",
    "\n",
    "actual_test_pred_cnn = actual_test_pred_cnn.drop(columns='text')\n",
    "\n",
    "actual_test_pred_cnn['salary'] = actual_test_pred_cnn['salary'].astype(int)\n",
    "actual_test_pred_cnn.head()\n",
    "\n",
    "actual_test_pred_cnn.to_csv('actual_test_pred_cnn.csv')"
   ],
   "metadata": {
    "collapsed": false
   }
  },
  {
   "cell_type": "code",
   "execution_count": 126,
   "outputs": [
    {
     "data": {
      "text/plain": "                                                 text\nid                                                   \n0   главный бухгалтер год полный день полный занят...\n1   ассистент врач стоматолог год год сменный граф...\n2   менеджер продажа год год полный день полный за...\n3   менеджер год год полный день полный занятость ...\n4   администратор хостел опыт сменный график полны...",
      "text/html": "<div>\n<style scoped>\n    .dataframe tbody tr th:only-of-type {\n        vertical-align: middle;\n    }\n\n    .dataframe tbody tr th {\n        vertical-align: top;\n    }\n\n    .dataframe thead th {\n        text-align: right;\n    }\n</style>\n<table border=\"1\" class=\"dataframe\">\n  <thead>\n    <tr style=\"text-align: right;\">\n      <th></th>\n      <th>text</th>\n    </tr>\n    <tr>\n      <th>id</th>\n      <th></th>\n    </tr>\n  </thead>\n  <tbody>\n    <tr>\n      <th>0</th>\n      <td>главный бухгалтер год полный день полный занят...</td>\n    </tr>\n    <tr>\n      <th>1</th>\n      <td>ассистент врач стоматолог год год сменный граф...</td>\n    </tr>\n    <tr>\n      <th>2</th>\n      <td>менеджер продажа год год полный день полный за...</td>\n    </tr>\n    <tr>\n      <th>3</th>\n      <td>менеджер год год полный день полный занятость ...</td>\n    </tr>\n    <tr>\n      <th>4</th>\n      <td>администратор хостел опыт сменный график полны...</td>\n    </tr>\n  </tbody>\n</table>\n</div>"
     },
     "execution_count": 126,
     "metadata": {},
     "output_type": "execute_result"
    }
   ],
   "source": [
    "df_test.head()"
   ],
   "metadata": {
    "collapsed": false
   }
  },
  {
   "cell_type": "code",
   "execution_count": 127,
   "outputs": [],
   "source": [
    "# Tokenize the text\n",
    "tokenized_text = [text.split() for text in df_test['text'].values]\n",
    "# tokenized_tweets = [tweet.split() for tweet in train['lemmas'].values]\n",
    "\n",
    "%time\n",
    "w2v = word2vec.Word2Vec(tokenized_text, workers=4, vector_size=200, min_count=10, window=10, sample=1e-3)\n",
    "\n",
    "\n",
    "\n",
    "# Create the bag of words representation\n",
    "vectorizer = CountVectorizer()\n",
    "bow_text = vectorizer.fit_transform(df_test['text'])"
   ],
   "metadata": {
    "collapsed": false
   }
  },
  {
   "cell_type": "code",
   "execution_count": 130,
   "outputs": [
    {
     "ename": "InvalidArgumentError",
     "evalue": "{{function_node __wrapped__SerializeManySparse_device_/job:localhost/replica:0/task:0/device:CPU:0}} indices[1] = [0,1428] is out of order. Many sparse ops require sorted indices.\n    Use `tf.sparse.reorder` to create a correctly ordered copy.\n\n [Op:SerializeManySparse]",
     "output_type": "error",
     "traceback": [
      "\u001B[1;31m---------------------------------------------------------------------------\u001B[0m",
      "\u001B[1;31mInvalidArgumentError\u001B[0m                      Traceback (most recent call last)",
      "Cell \u001B[1;32mIn[130], line 2\u001B[0m\n\u001B[0;32m      1\u001B[0m pred_cnn_2 \u001B[38;5;241m=\u001B[39m test[[\u001B[38;5;124m'\u001B[39m\u001B[38;5;124mtext\u001B[39m\u001B[38;5;124m'\u001B[39m]]\n\u001B[1;32m----> 2\u001B[0m actual_test_pred_cnn[\u001B[38;5;124m'\u001B[39m\u001B[38;5;124msalary\u001B[39m\u001B[38;5;124m'\u001B[39m] \u001B[38;5;241m=\u001B[39m \u001B[43mmodel_2\u001B[49m\u001B[38;5;241;43m.\u001B[39;49m\u001B[43mpredict\u001B[49m\u001B[43m(\u001B[49m\u001B[43mbow_text\u001B[49m\u001B[43m)\u001B[49m\n\u001B[0;32m      4\u001B[0m actual_test_pred_cnn \u001B[38;5;241m=\u001B[39m actual_test_pred_cnn\u001B[38;5;241m.\u001B[39mdrop(columns\u001B[38;5;241m=\u001B[39m\u001B[38;5;124m'\u001B[39m\u001B[38;5;124mtext\u001B[39m\u001B[38;5;124m'\u001B[39m)\n\u001B[0;32m      6\u001B[0m \u001B[38;5;66;03m# actual_test_pred_cnn['salary'] = actual_test_pred_cnn['salary'].astype(int)\u001B[39;00m\n",
      "File \u001B[1;32m~\\AppData\\Local\\Programs\\Python\\Python39\\lib\\site-packages\\keras\\utils\\traceback_utils.py:70\u001B[0m, in \u001B[0;36mfilter_traceback.<locals>.error_handler\u001B[1;34m(*args, **kwargs)\u001B[0m\n\u001B[0;32m     67\u001B[0m     filtered_tb \u001B[38;5;241m=\u001B[39m _process_traceback_frames(e\u001B[38;5;241m.\u001B[39m__traceback__)\n\u001B[0;32m     68\u001B[0m     \u001B[38;5;66;03m# To get the full stack trace, call:\u001B[39;00m\n\u001B[0;32m     69\u001B[0m     \u001B[38;5;66;03m# `tf.debugging.disable_traceback_filtering()`\u001B[39;00m\n\u001B[1;32m---> 70\u001B[0m     \u001B[38;5;28;01mraise\u001B[39;00m e\u001B[38;5;241m.\u001B[39mwith_traceback(filtered_tb) \u001B[38;5;28;01mfrom\u001B[39;00m \u001B[38;5;28mNone\u001B[39m\n\u001B[0;32m     71\u001B[0m \u001B[38;5;28;01mfinally\u001B[39;00m:\n\u001B[0;32m     72\u001B[0m     \u001B[38;5;28;01mdel\u001B[39;00m filtered_tb\n",
      "File \u001B[1;32m~\\AppData\\Local\\Programs\\Python\\Python39\\lib\\site-packages\\tensorflow\\python\\framework\\ops.py:7215\u001B[0m, in \u001B[0;36mraise_from_not_ok_status\u001B[1;34m(e, name)\u001B[0m\n\u001B[0;32m   7213\u001B[0m \u001B[38;5;28;01mdef\u001B[39;00m \u001B[38;5;21mraise_from_not_ok_status\u001B[39m(e, name):\n\u001B[0;32m   7214\u001B[0m   e\u001B[38;5;241m.\u001B[39mmessage \u001B[38;5;241m+\u001B[39m\u001B[38;5;241m=\u001B[39m (\u001B[38;5;124m\"\u001B[39m\u001B[38;5;124m name: \u001B[39m\u001B[38;5;124m\"\u001B[39m \u001B[38;5;241m+\u001B[39m name \u001B[38;5;28;01mif\u001B[39;00m name \u001B[38;5;129;01mis\u001B[39;00m \u001B[38;5;129;01mnot\u001B[39;00m \u001B[38;5;28;01mNone\u001B[39;00m \u001B[38;5;28;01melse\u001B[39;00m \u001B[38;5;124m\"\u001B[39m\u001B[38;5;124m\"\u001B[39m)\n\u001B[1;32m-> 7215\u001B[0m   \u001B[38;5;28;01mraise\u001B[39;00m core\u001B[38;5;241m.\u001B[39m_status_to_exception(e) \u001B[38;5;28;01mfrom\u001B[39;00m \u001B[38;5;28mNone\u001B[39m\n",
      "\u001B[1;31mInvalidArgumentError\u001B[0m: {{function_node __wrapped__SerializeManySparse_device_/job:localhost/replica:0/task:0/device:CPU:0}} indices[1] = [0,1428] is out of order. Many sparse ops require sorted indices.\n    Use `tf.sparse.reorder` to create a correctly ordered copy.\n\n [Op:SerializeManySparse]"
     ]
    }
   ],
   "source": [
    "pred_cnn_2 = test[['text']]\n",
    "actual_test_pred_cnn['salary'] = model_2.predict(bow_text)\n",
    "\n",
    "actual_test_pred_cnn = actual_test_pred_cnn.drop(columns='text')\n",
    "\n",
    "# actual_test_pred_cnn['salary'] = actual_test_pred_cnn['salary'].astype(int)\n",
    "actual_test_pred_cnn.head()\n",
    "\n",
    "actual_test_pred_cnn.to_csv('actual_test_pred_cnn.csv')"
   ],
   "metadata": {
    "collapsed": false
   }
  },
  {
   "cell_type": "code",
   "execution_count": null,
   "outputs": [],
   "source": [],
   "metadata": {
    "collapsed": false
   }
  }
 ]
}
